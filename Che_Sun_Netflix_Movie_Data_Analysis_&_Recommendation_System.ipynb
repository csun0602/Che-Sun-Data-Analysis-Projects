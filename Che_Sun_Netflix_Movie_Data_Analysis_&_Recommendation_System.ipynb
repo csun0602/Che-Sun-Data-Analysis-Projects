{
  "nbformat": 4,
  "nbformat_minor": 0,
  "metadata": {
    "colab": {
      "provenance": [],
      "include_colab_link": true
    },
    "kernelspec": {
      "name": "python3",
      "display_name": "Python 3"
    }
  },
  "cells": [
    {
      "cell_type": "markdown",
      "metadata": {
        "id": "view-in-github",
        "colab_type": "text"
      },
      "source": [
        "<a href=\"https://colab.research.google.com/github/csun0602/Che-Sun-Data-analysis-Projects/blob/main/Che_Sun_Netflix_Movie_Data_Analysis_%26_Recommendation_System.ipynb\" target=\"_parent\"><img src=\"https://colab.research.google.com/assets/colab-badge.svg\" alt=\"Open In Colab\"/></a>"
      ]
    },
    {
      "cell_type": "markdown",
      "source": [
        "# **Spark Moive Recommendation**\n",
        "In this notebook, we will use an Alternating Least Squares (ALS) algorithm with Spark APIs to predict the ratings for the movies in [MovieLens small dataset](https://grouplens.org/datasets/movielens/latest/)"
      ],
      "metadata": {
        "id": "XLhJGSqQaxCX"
      }
    },
    {
      "cell_type": "markdown",
      "source": [
        "**Netflix Movie Data Analysis & Recommendation System**\n",
        "\n",
        "\n",
        "This project will build a recommendation system for big data. Netflix movie rating data are used to build the recommendation system by machine learning algorithm to system implementation. We will use Spark machine learning pipeline building and collaborative filtering model automatically tuning, and apply the built model on Netflix movie rating data."
      ],
      "metadata": {
        "id": "NJX05uxxdjRp"
      }
    },
    {
      "cell_type": "markdown",
      "metadata": {
        "id": "2RCdIYWBmfV_"
      },
      "source": [
        "### Setup and Data Loading"
      ]
    },
    {
      "cell_type": "code",
      "metadata": {
        "id": "qQO1U8LFmQ5C",
        "colab": {
          "base_uri": "https://localhost:8080/",
          "height": 68
        },
        "outputId": "4075dc33-6679-4cb3-a48f-5c14cf230618"
      },
      "source": [
        "# Spark setup\n",
        "!apt-get install openjdk-8-jdk-headless -qq > /dev/null\n",
        "!wget -q http://apache.mirrors.hoobly.com/spark/spark-2.4.6/spark-2.4.6-bin-hadoop2.7.tgz\n",
        "!tar xf spark-2.4.6-bin-hadoop2.7.tgz\n",
        "!pip install -q findspark\n",
        "!pip install py4j\n",
        "\n",
        "!export JAVA_HOME=$(/usr/lib/jvm/java-8-openjdk-amd64 -v 1.8)\n",
        "! echo $JAVA_HOME\n",
        "import os\n",
        "os.environ[\"JAVA_HOME\"] = \"/usr/lib/jvm/java-8-openjdk-amd64\"\n",
        "os.environ[\"SPARK_HOME\"] = \"/content/spark-2.4.6-bin-hadoop2.7\"\n",
        "import findspark\n",
        "findspark.init(\"spark-2.4.6-bin-hadoop2.7\")# SPARK_HOME\n",
        "\n",
        "from pyspark.sql import SparkSession\n",
        "spark = SparkSession.builder.master(\"local[*]\").getOrCreate()"
      ],
      "execution_count": null,
      "outputs": [
        {
          "output_type": "stream",
          "text": [
            "Requirement already satisfied: py4j in /usr/local/lib/python3.6/dist-packages (0.10.9)\n",
            "/bin/bash: /usr/lib/jvm/java-8-openjdk-amd64: Is a directory\n",
            "\n"
          ],
          "name": "stdout"
        }
      ]
    },
    {
      "cell_type": "code",
      "metadata": {
        "id": "shx8zUNFmejF",
        "colab": {
          "base_uri": "https://localhost:8080/",
          "height": 35
        },
        "outputId": "068c97ea-c6f5-47d5-9dcd-820c0c5bff44"
      },
      "source": [
        "spark.version"
      ],
      "execution_count": null,
      "outputs": [
        {
          "output_type": "execute_result",
          "data": {
            "application/vnd.google.colaboratory.intrinsic+json": {
              "type": "string"
            },
            "text/plain": [
              "'2.4.6'"
            ]
          },
          "metadata": {
            "tags": []
          },
          "execution_count": 2
        }
      ]
    },
    {
      "cell_type": "code",
      "metadata": {
        "id": "OxmEI3UmnM14",
        "colab": {
          "base_uri": "https://localhost:8080/",
          "height": 51
        },
        "outputId": "c7b415f3-4c8e-4975-a6c5-d6623ce3f375"
      },
      "source": [
        "# load packages\n",
        "import numpy as np\n",
        "import pandas as pd\n",
        "import seaborn as sns\n",
        "import matplotlib.pyplot as plt\n",
        "import math\n",
        "import os\n",
        "os.environ[\"PYSPARK_PYTHON\"] = \"python3\""
      ],
      "execution_count": null,
      "outputs": [
        {
          "output_type": "stream",
          "text": [
            "/usr/local/lib/python3.6/dist-packages/statsmodels/tools/_testing.py:19: FutureWarning: pandas.util.testing is deprecated. Use the functions in the public API at pandas.testing instead.\n",
            "  import pandas.util.testing as tm\n"
          ],
          "name": "stderr"
        }
      ]
    },
    {
      "cell_type": "code",
      "metadata": {
        "id": "qBDfzRnxndV3"
      },
      "source": [
        "from pyspark.sql import SparkSession\n",
        "spark = SparkSession \\\n",
        "    .builder \\\n",
        "    .appName(\"moive analysis\") \\\n",
        "    .config(\"spark.some.config.option\", \"some-value\") \\\n",
        "    .getOrCreate()\n",
        "spark.conf.set(\"spark.sql.broadcastTimeout\",  36000)"
      ],
      "execution_count": null,
      "outputs": []
    },
    {
      "cell_type": "code",
      "metadata": {
        "id": "34yZODKdq36f"
      },
      "source": [
        "# unzip the training data files to colab data cloud\n",
        "# !unzip ./drive/My\\ Drive/Colab\\ Notebooks/Movie\\ Rating/ml\\-latest.zip -d /content\n",
        "# location=\"/content/ml-latest/\"\n",
        "location=\"/content/drive/My Drive/Colab Notebooks/Movie Rating/ml-latest-small/\""
      ],
      "execution_count": null,
      "outputs": []
    },
    {
      "cell_type": "code",
      "metadata": {
        "id": "HMuxE4mpnfHJ"
      },
      "source": [
        "movies_df = spark.read.load(location+\"movies.csv\", format='csv', header = True)\n",
        "ratings_df = spark.read.load(location+\"ratings.csv\", format='csv', header = True)\n",
        "links_df = spark.read.load(location+\"links.csv\", format='csv', header = True)\n",
        "tags_df = spark.read.load(location+\"tags.csv\", format='csv', header = True)"
      ],
      "execution_count": null,
      "outputs": []
    },
    {
      "cell_type": "code",
      "metadata": {
        "id": "LgqE8CmRq3z1",
        "colab": {
          "base_uri": "https://localhost:8080/",
          "height": 204
        },
        "outputId": "8c1bb58d-154d-4ccc-be84-3b150423347d"
      },
      "source": [
        "movies_df.show(5)"
      ],
      "execution_count": null,
      "outputs": [
        {
          "output_type": "stream",
          "text": [
            "+-------+--------------------+--------------------+\n",
            "|movieId|               title|              genres|\n",
            "+-------+--------------------+--------------------+\n",
            "|      1|    Toy Story (1995)|Adventure|Animati...|\n",
            "|      2|      Jumanji (1995)|Adventure|Childre...|\n",
            "|      3|Grumpier Old Men ...|      Comedy|Romance|\n",
            "|      4|Waiting to Exhale...|Comedy|Drama|Romance|\n",
            "|      5|Father of the Bri...|              Comedy|\n",
            "+-------+--------------------+--------------------+\n",
            "only showing top 5 rows\n",
            "\n"
          ],
          "name": "stdout"
        }
      ]
    },
    {
      "cell_type": "code",
      "metadata": {
        "id": "KcvUfdl0q9Q6",
        "colab": {
          "base_uri": "https://localhost:8080/",
          "height": 204
        },
        "outputId": "aaa3f354-ac18-4c7b-e5f1-9025ece57032"
      },
      "source": [
        "ratings_df.show(5)"
      ],
      "execution_count": null,
      "outputs": [
        {
          "output_type": "stream",
          "text": [
            "+------+-------+------+---------+\n",
            "|userId|movieId|rating|timestamp|\n",
            "+------+-------+------+---------+\n",
            "|     1|      1|   4.0|964982703|\n",
            "|     1|      3|   4.0|964981247|\n",
            "|     1|      6|   4.0|964982224|\n",
            "|     1|     47|   5.0|964983815|\n",
            "|     1|     50|   5.0|964982931|\n",
            "+------+-------+------+---------+\n",
            "only showing top 5 rows\n",
            "\n"
          ],
          "name": "stdout"
        }
      ]
    },
    {
      "cell_type": "code",
      "metadata": {
        "id": "QTRAsJpvq-FC",
        "colab": {
          "base_uri": "https://localhost:8080/",
          "height": 204
        },
        "outputId": "10cdb716-780b-4ed4-fde2-19d1a1451656"
      },
      "source": [
        "links_df.show(5)"
      ],
      "execution_count": null,
      "outputs": [
        {
          "output_type": "stream",
          "text": [
            "+-------+-------+------+\n",
            "|movieId| imdbId|tmdbId|\n",
            "+-------+-------+------+\n",
            "|      1|0114709|   862|\n",
            "|      2|0113497|  8844|\n",
            "|      3|0113228| 15602|\n",
            "|      4|0114885| 31357|\n",
            "|      5|0113041| 11862|\n",
            "+-------+-------+------+\n",
            "only showing top 5 rows\n",
            "\n"
          ],
          "name": "stdout"
        }
      ]
    },
    {
      "cell_type": "code",
      "metadata": {
        "id": "BDLE0q-Rq_n3",
        "colab": {
          "base_uri": "https://localhost:8080/",
          "height": 204
        },
        "outputId": "3d69df16-fb32-41e0-acaf-33ea4383c855"
      },
      "source": [
        "tags_df.show(5)"
      ],
      "execution_count": null,
      "outputs": [
        {
          "output_type": "stream",
          "text": [
            "+------+-------+---------------+----------+\n",
            "|userId|movieId|            tag| timestamp|\n",
            "+------+-------+---------------+----------+\n",
            "|     2|  60756|          funny|1445714994|\n",
            "|     2|  60756|Highly quotable|1445714996|\n",
            "|     2|  60756|   will ferrell|1445714992|\n",
            "|     2|  89774|   Boxing story|1445715207|\n",
            "|     2|  89774|            MMA|1445715200|\n",
            "+------+-------+---------------+----------+\n",
            "only showing top 5 rows\n",
            "\n"
          ],
          "name": "stdout"
        }
      ]
    },
    {
      "cell_type": "code",
      "metadata": {
        "id": "QjNW73VlrDLF",
        "colab": {
          "base_uri": "https://localhost:8080/",
          "height": 68
        },
        "outputId": "a82079e6-4cb5-4f17-8508-1a52ce377cf5"
      },
      "source": [
        "tmp1 = ratings_df.groupBy(\"userID\").count().agg({'count':'min'}).toPandas()\n",
        "tmp2 = ratings_df.groupBy(\"movieId\").count().agg({'count':'min'}).toPandas()\n",
        "print('For the users that rated movies and the movies that were rated:')\n",
        "print('Minimum number of ratings per user is {}'.format(tmp1.iloc[0,0]))\n",
        "print('Minimum number of ratings per movie is {}'.format(tmp2.iloc[0,0]))"
      ],
      "execution_count": null,
      "outputs": [
        {
          "output_type": "stream",
          "text": [
            "For the users that rated movies and the movies that were rated:\n",
            "Minimum number of ratings per user is 20\n",
            "Minimum number of ratings per movie is 1\n"
          ],
          "name": "stdout"
        }
      ]
    },
    {
      "cell_type": "code",
      "metadata": {
        "id": "wichXcr8rIJL",
        "colab": {
          "base_uri": "https://localhost:8080/",
          "height": 34
        },
        "outputId": "2e94f8b0-c32d-41b3-ca58-a898383e9d82"
      },
      "source": [
        "tmp3 = ratings_df.groupBy(\"movieId\").count().where('count=1').count()\n",
        "tmp4 = ratings_df.select('movieId').distinct().count()\n",
        "print('{} out of {} movies are rated by only one user'.format(tmp3, tmp4))"
      ],
      "execution_count": null,
      "outputs": [
        {
          "output_type": "stream",
          "text": [
            "3446 out of 9724 movies are rated by only one user\n"
          ],
          "name": "stdout"
        }
      ]
    },
    {
      "cell_type": "markdown",
      "metadata": {
        "id": "Nh3FeDslq3Xq"
      },
      "source": [
        "### Part 1: Spark SQL and OLAP"
      ]
    },
    {
      "cell_type": "code",
      "metadata": {
        "id": "7bk4Fvq5rkBA"
      },
      "source": [
        "movies_df.registerTempTable(\"movies\")\n",
        "ratings_df.registerTempTable(\"ratings\")\n",
        "links_df.registerTempTable(\"links\")\n",
        "tags_df.registerTempTable(\"tags\")"
      ],
      "execution_count": null,
      "outputs": []
    },
    {
      "cell_type": "markdown",
      "metadata": {
        "id": "-9L4LXBOrpMU"
      },
      "source": [
        "#### Q1: The number of Users"
      ]
    },
    {
      "cell_type": "code",
      "metadata": {
        "id": "K2V6Ezbormz3",
        "colab": {
          "base_uri": "https://localhost:8080/",
          "height": 34
        },
        "outputId": "663e5e1c-608c-4c9d-9d3f-dffcd17a41ae"
      },
      "source": [
        "# all users should be computed by both ratings and tags\n",
        "# in case some users leave raings but no tag while some users leave tags but no rating\n",
        "nuser=spark.sql('SELECT COUNT(DISTINCT userId) ' +\\\n",
        "                'FROM (' +\\\n",
        "\t                'SELECT DISTINCT userId ' +\\\n",
        "\t                'FROM ratings ' +\\\n",
        "\t                'UNION ' +\\\n",
        "\t                'SELECT DISTINCT userId ' +\\\n",
        "\t                'FROM tags' +\\\n",
        "                ')').toPandas()\n",
        "print('Total number of users is ',nuser.iloc[0,0])"
      ],
      "execution_count": null,
      "outputs": [
        {
          "output_type": "stream",
          "text": [
            "Total number of users is  610\n"
          ],
          "name": "stdout"
        }
      ]
    },
    {
      "cell_type": "markdown",
      "metadata": {
        "id": "xhoPRhMcFPeM"
      },
      "source": [
        "#### Q2: The number of Movies"
      ]
    },
    {
      "cell_type": "code",
      "metadata": {
        "id": "slOA8wRWGFjh",
        "colab": {
          "base_uri": "https://localhost:8080/",
          "height": 34
        },
        "outputId": "09a9ff3a-655b-41a4-edbc-05b620ad37ae"
      },
      "source": [
        "# the table movie should have all the movie records\n",
        "nmovie=spark.sql('select count(distinct movieId) from movies').toPandas()\n",
        "print('Total number of movies is ',nmovie.iloc[0,0])"
      ],
      "execution_count": null,
      "outputs": [
        {
          "output_type": "stream",
          "text": [
            "Total number of movies is  9742\n"
          ],
          "name": "stdout"
        }
      ]
    },
    {
      "cell_type": "code",
      "metadata": {
        "id": "AA0ze6UKGR2X",
        "colab": {
          "base_uri": "https://localhost:8080/",
          "height": 34
        },
        "outputId": "6bc2cde0-9087-470f-abad-18ccbc8f1e76"
      },
      "source": [
        "# in case there are missing records in table movie\n",
        "nmovie=spark.sql('SELECT COUNT(DISTINCT movieId) ' +\\\n",
        "                 'FROM ( ' +\\\n",
        "                    'SELECT DISTINCT movieId ' +\\\n",
        "                    'FROM movies ' +\\\n",
        "                    'UNION ' +\\\n",
        "                    'SELECT DISTINCT movieId ' +\\\n",
        "                    'FROM ratings ' +\\\n",
        "                    'UNION ' +\\\n",
        "                    'SELECT DISTINCT movieId ' +\\\n",
        "                    'FROM links ' +\\\n",
        "                    'UNION ' +\\\n",
        "                    'SELECT DISTINCT movieId ' +\\\n",
        "                    'FROM tags' +\\\n",
        "                 ')').toPandas()\n",
        "print('Total number of movies is ',nmovie.iloc[0,0])"
      ],
      "execution_count": null,
      "outputs": [
        {
          "output_type": "stream",
          "text": [
            "Total number of movies is  9742\n"
          ],
          "name": "stdout"
        }
      ]
    },
    {
      "cell_type": "markdown",
      "metadata": {
        "id": "Qo_CtPMGHvR4"
      },
      "source": [
        "#### Q3: How many movies are rated by users? List movies not rated before"
      ]
    },
    {
      "cell_type": "code",
      "metadata": {
        "id": "yxpIWoStInms",
        "colab": {
          "base_uri": "https://localhost:8080/",
          "height": 34
        },
        "outputId": "ce25c371-447e-4f64-8a5c-b1f947d0820b"
      },
      "source": [
        "# number of movies rated\n",
        "nrated=spark.sql('SELECT COUNT(DISTINCT a.movieId) ' +\\\n",
        "                 'FROM movies a ' +\\\n",
        "                  'JOIN ratings b ON a.movieId = b.movieId').toPandas()\n",
        "print('Total number of movies that are rated by users is ',nrated.iloc[0,0])"
      ],
      "execution_count": null,
      "outputs": [
        {
          "output_type": "stream",
          "text": [
            "Total number of movies that are rated by users is  9724\n"
          ],
          "name": "stdout"
        }
      ]
    },
    {
      "cell_type": "code",
      "metadata": {
        "id": "pC36atVqJQ83",
        "colab": {
          "base_uri": "https://localhost:8080/",
          "height": 425
        },
        "outputId": "d37cac81-262b-40e9-df47-771157f2b7c6"
      },
      "source": [
        "# movies that have not been rated before: 50 movies as an example\n",
        "unrated_list=spark.sql('SELECT * ' +\\\n",
        "                       'FROM movies ' +\\\n",
        "                       'WHERE movieId NOT IN ( ' +\\\n",
        "                        'SELECT movieId ' +\\\n",
        "                        'FROM ratings ' +\\\n",
        "                       ') ' +\\\n",
        "                       'LIMIT 50')\n",
        "print('50 movies that have not been rated by users:')\n",
        "unrated_list.show()"
      ],
      "execution_count": null,
      "outputs": [
        {
          "output_type": "stream",
          "text": [
            "50 movies that have not been rated by users:\n",
            "+-------+--------------------+--------------------+\n",
            "|movieId|               title|              genres|\n",
            "+-------+--------------------+--------------------+\n",
            "|   1076|Innocents, The (1...|Drama|Horror|Thri...|\n",
            "|   2939|      Niagara (1953)|      Drama|Thriller|\n",
            "|   3338|For All Mankind (...|         Documentary|\n",
            "|   3456|Color of Paradise...|               Drama|\n",
            "|   4194|I Know Where I'm ...|   Drama|Romance|War|\n",
            "|   5721|  Chosen, The (1981)|               Drama|\n",
            "|   6668|Road Home, The (W...|       Drama|Romance|\n",
            "|   6849|      Scrooge (1970)|Drama|Fantasy|Mus...|\n",
            "|   7020|        Proof (1991)|Comedy|Drama|Romance|\n",
            "|   7792|Parallax View, Th...|            Thriller|\n",
            "|   8765|This Gun for Hire...|Crime|Film-Noir|T...|\n",
            "|  25855|Roaring Twenties,...|Crime|Drama|Thriller|\n",
            "|  26085|Mutiny on the Bou...|Adventure|Drama|R...|\n",
            "|  30892|In the Realms of ...|Animation|Documen...|\n",
            "|  32160|Twentieth Century...|              Comedy|\n",
            "|  32371|Call Northside 77...|Crime|Drama|Film-...|\n",
            "|  34482|Browning Version,...|               Drama|\n",
            "|  85565|  Chalet Girl (2011)|      Comedy|Romance|\n",
            "+-------+--------------------+--------------------+\n",
            "\n"
          ],
          "name": "stdout"
        }
      ]
    },
    {
      "cell_type": "code",
      "metadata": {
        "id": "KrQ9kPfsA-Ll",
        "colab": {
          "base_uri": "https://localhost:8080/",
          "height": 716
        },
        "outputId": "7d14f97e-79e5-4b77-e829-d49dbc1f979d"
      },
      "source": [
        "# bar chart to view top 50 number of ratings per movie\n",
        "rating_per_movie=spark.sql('SELECT title, SUM(rated) AS count ' +\\\n",
        "                           'FROM ( ' +\\\n",
        "                            'SELECT a.title ' +\\\n",
        "                              ', CASE  ' +\\\n",
        "                                  'WHEN rating IS NULL THEN 0 ' +\\\n",
        "                                  'ELSE 1 ' +\\\n",
        "                                'END AS rated ' +\\\n",
        "                            'FROM movies a ' +\\\n",
        "                              'LEFT JOIN ratings b ON a.movieId = b.movieId ' +\\\n",
        "                           ') ' +\\\n",
        "                           'GROUP BY 1 ' +\\\n",
        "                           'ORDER BY 2 DESC ' +\\\n",
        "                           'LIMIT 50')\n",
        "plt.figure(figsize=[16,12])\n",
        "plt.barh(y='title',width='count',data=rating_per_movie.toPandas())\n",
        "plt.title('Top-50 Rated Movies')\n",
        "plt.show()"
      ],
      "execution_count": null,
      "outputs": [
        {
          "output_type": "display_data",
          "data": {
            "image/png": "[encoded data removed]",
            "text/plain": [
              "<Figure size 1152x864 with 1 Axes>"
            ]
          },
          "metadata": {
            "tags": [],
            "needs_background": "light"
          }
        }
      ]
    },
    {
      "cell_type": "markdown",
      "metadata": {
        "id": "7ybMtjWRJ8d5"
      },
      "source": [
        "#### Q4: List Movie Genres"
      ]
    },
    {
      "cell_type": "code",
      "metadata": {
        "id": "J3VbKfVeKBBV",
        "colab": {
          "base_uri": "https://localhost:8080/",
          "height": 459
        },
        "outputId": "aee81e48-6c29-4b7b-a660-196c395bc32e"
      },
      "source": [
        "genres_list=spark.sql('select genres from movies').toPandas()\n",
        "spark.sql('select distinct genres from movies').show()"
      ],
      "execution_count": null,
      "outputs": [
        {
          "output_type": "stream",
          "text": [
            "+--------------------+\n",
            "|              genres|\n",
            "+--------------------+\n",
            "|Comedy|Horror|Thr...|\n",
            "|Adventure|Sci-Fi|...|\n",
            "|Action|Adventure|...|\n",
            "| Action|Drama|Horror|\n",
            "|Action|Animation|...|\n",
            "|Animation|Childre...|\n",
            "|Action|Adventure|...|\n",
            "|    Adventure|Sci-Fi|\n",
            "|Documentary|Music...|\n",
            "|Adventure|Childre...|\n",
            "| Adventure|Animation|\n",
            "| Musical|Romance|War|\n",
            "|Action|Adventure|...|\n",
            "|Adventure|Childre...|\n",
            "|Comedy|Crime|Horr...|\n",
            "|Crime|Drama|Fanta...|\n",
            "|Comedy|Mystery|Th...|\n",
            "|   Adventure|Fantasy|\n",
            "|Horror|Romance|Sc...|\n",
            "|Drama|Film-Noir|R...|\n",
            "+--------------------+\n",
            "only showing top 20 rows\n",
            "\n"
          ],
          "name": "stdout"
        }
      ]
    },
    {
      "cell_type": "code",
      "metadata": {
        "id": "60Kr6-TvOujg",
        "colab": {
          "base_uri": "https://localhost:8080/",
          "height": 442
        },
        "outputId": "bcd2bfbe-a49f-41f4-d804-e02d41c35564"
      },
      "source": [
        "# separate genres by SQL\n",
        "from pyspark.sql.functions import udf\n",
        "from pyspark.sql.types import ArrayType,StringType\n",
        "genre_sep=udf(lambda x: x.split('|'),ArrayType(StringType()))\n",
        "spark.udf.register('genre_sep',genre_sep)\n",
        "spark.sql('SELECT DISTINCT genres_list ' +\\\n",
        "          'FROM movies  ' +\\\n",
        "          'LATERAL VIEW EXPLODE(genre_sep(genres)) AS genres_list ' +\\\n",
        "          'ORDER BY 1').show()"
      ],
      "execution_count": null,
      "outputs": [
        {
          "output_type": "stream",
          "text": [
            "+------------------+\n",
            "|       genres_list|\n",
            "+------------------+\n",
            "|(no genres listed)|\n",
            "|            Action|\n",
            "|         Adventure|\n",
            "|         Animation|\n",
            "|          Children|\n",
            "|            Comedy|\n",
            "|             Crime|\n",
            "|       Documentary|\n",
            "|             Drama|\n",
            "|           Fantasy|\n",
            "|         Film-Noir|\n",
            "|            Horror|\n",
            "|              IMAX|\n",
            "|           Musical|\n",
            "|           Mystery|\n",
            "|           Romance|\n",
            "|            Sci-Fi|\n",
            "|          Thriller|\n",
            "|               War|\n",
            "|           Western|\n",
            "+------------------+\n",
            "\n"
          ],
          "name": "stdout"
        }
      ]
    },
    {
      "cell_type": "code",
      "metadata": {
        "id": "dBwOonl1McU0",
        "colab": {
          "base_uri": "https://localhost:8080/",
          "height": 374
        },
        "outputId": "bac9cd0f-f10e-4ea7-9445-4acb3513c177"
      },
      "source": [
        "# separate genres by one-hot encoding\n",
        "genres_list_onehot=genres_list['genres'].str.get_dummies(sep='|').astype(np.int64)\n",
        "print(pd.DataFrame(genres_list_onehot.columns,columns=['genres_list']))"
      ],
      "execution_count": null,
      "outputs": [
        {
          "output_type": "stream",
          "text": [
            "           genres_list\n",
            "0   (no genres listed)\n",
            "1               Action\n",
            "2            Adventure\n",
            "3            Animation\n",
            "4             Children\n",
            "5               Comedy\n",
            "6                Crime\n",
            "7          Documentary\n",
            "8                Drama\n",
            "9              Fantasy\n",
            "10           Film-Noir\n",
            "11              Horror\n",
            "12                IMAX\n",
            "13             Musical\n",
            "14             Mystery\n",
            "15             Romance\n",
            "16              Sci-Fi\n",
            "17            Thriller\n",
            "18                 War\n",
            "19             Western\n"
          ],
          "name": "stdout"
        }
      ]
    },
    {
      "cell_type": "code",
      "metadata": {
        "id": "8a-pM3qJMW-g",
        "colab": {
          "base_uri": "https://localhost:8080/",
          "height": 374
        },
        "outputId": "cb864280-a72b-4557-f97e-edc076726e98"
      },
      "source": [
        "# separate genres manually\n",
        "genres_list_set=set()\n",
        "for i in genres_list['genres']:\n",
        "  for j in i.split('|'):\n",
        "    genres_list_set.add(j)\n",
        "genres_list_set=sorted(list(genres_list_set))\n",
        "print(pd.DataFrame(genres_list_set,columns=['genres_list']))"
      ],
      "execution_count": null,
      "outputs": [
        {
          "output_type": "stream",
          "text": [
            "           genres_list\n",
            "0   (no genres listed)\n",
            "1               Action\n",
            "2            Adventure\n",
            "3            Animation\n",
            "4             Children\n",
            "5               Comedy\n",
            "6                Crime\n",
            "7          Documentary\n",
            "8                Drama\n",
            "9              Fantasy\n",
            "10           Film-Noir\n",
            "11              Horror\n",
            "12                IMAX\n",
            "13             Musical\n",
            "14             Mystery\n",
            "15             Romance\n",
            "16              Sci-Fi\n",
            "17            Thriller\n",
            "18                 War\n",
            "19             Western\n"
          ],
          "name": "stdout"
        }
      ]
    },
    {
      "cell_type": "markdown",
      "metadata": {
        "id": "kry1SgjKYiTW"
      },
      "source": [
        "#### Q5: Movie for Each Category"
      ]
    },
    {
      "cell_type": "code",
      "metadata": {
        "id": "1XO5pFGbaQf7",
        "colab": {
          "base_uri": "https://localhost:8080/",
          "height": 867
        },
        "outputId": "d0ddcfd6-9ec9-495a-8f9b-050bb374424c"
      },
      "source": [
        "# by sql\n",
        "movie_by_genre=spark.sql('SELECT title,category ' +\\\n",
        "                         'FROM movies ' +\\\n",
        "                         'LATERAL VIEW EXPLODE(genre_sep(genres)) AS category')\n",
        "movie_by_genre.createOrReplaceTempView('movie_by_genre')\n",
        "str_comb=lambda x: ','.join(sorted(x))\n",
        "spark.udf.register('str_comb',str_comb)\n",
        "spark.sql('SELECT category, COUNT(*) AS number ' +\\\n",
        "          'FROM movie_by_genre  ' +\\\n",
        "          'GROUP BY category  ' +\\\n",
        "          'ORDER BY 2 DESC').show()\n",
        "spark.sql('SELECT category, str_comb(collect_set(title)) AS list_of_movies ' +\\\n",
        "          'FROM movie_by_genre  ' +\\\n",
        "          'GROUP BY category  ' +\\\n",
        "          'ORDER BY 1').show()"
      ],
      "execution_count": null,
      "outputs": [
        {
          "output_type": "stream",
          "text": [
            "+------------------+------+\n",
            "|          category|number|\n",
            "+------------------+------+\n",
            "|             Drama|  4361|\n",
            "|            Comedy|  3756|\n",
            "|          Thriller|  1894|\n",
            "|            Action|  1828|\n",
            "|           Romance|  1596|\n",
            "|         Adventure|  1263|\n",
            "|             Crime|  1199|\n",
            "|            Sci-Fi|   980|\n",
            "|            Horror|   978|\n",
            "|           Fantasy|   779|\n",
            "|          Children|   664|\n",
            "|         Animation|   611|\n",
            "|           Mystery|   573|\n",
            "|       Documentary|   440|\n",
            "|               War|   382|\n",
            "|           Musical|   334|\n",
            "|           Western|   167|\n",
            "|              IMAX|   158|\n",
            "|         Film-Noir|    87|\n",
            "|(no genres listed)|    34|\n",
            "+------------------+------+\n",
            "\n",
            "+------------------+--------------------+\n",
            "|          category|      list_of_movies|\n",
            "+------------------+--------------------+\n",
            "|(no genres listed)|A Christmas Story...|\n",
            "|            Action|'71 (2014),'Hellb...|\n",
            "|         Adventure|'Hellboy': The Se...|\n",
            "|         Animation|101 Dalmatians (O...|\n",
            "|          Children|*batteries not in...|\n",
            "|            Comedy|'Hellboy': The Se...|\n",
            "|             Crime|00 Schneider - Ja...|\n",
            "|       Documentary|'Hellboy': The Se...|\n",
            "|             Drama|\"11'09\"\"01 - Sept...|\n",
            "|           Fantasy|'Hellboy': The Se...|\n",
            "|         Film-Noir|13 Tzameti (2005)...|\n",
            "|            Horror|'Salem's Lot (200...|\n",
            "|              IMAX|300 (2007),300: R...|\n",
            "|           Musical|'Round Midnight (...|\n",
            "|           Mystery|'Salem's Lot (200...|\n",
            "|           Romance|'Til There Was Yo...|\n",
            "|            Sci-Fi|*batteries not in...|\n",
            "|          Thriller|'71 (2014),'Salem...|\n",
            "|               War|'71 (2014),1900 (...|\n",
            "|           Western|3:10 to Yuma (195...|\n",
            "+------------------+--------------------+\n",
            "\n"
          ],
          "name": "stdout"
        }
      ]
    },
    {
      "cell_type": "code",
      "metadata": {
        "id": "xB7v0JCPJ47P",
        "colab": {
          "base_uri": "https://localhost:8080/",
          "height": 669
        },
        "outputId": "5d44d6b5-a9fe-49a8-860e-de3bd9a0554f"
      },
      "source": [
        "# by one hot encoding\n",
        "movies_df0=pd.concat([movies_df.select('movieId','title').toPandas(),genres_list_onehot],axis=1)\n",
        "cat_count=movies_df0.iloc[:,2:].sum().sort_values(ascending=False).reset_index()\n",
        "cat_count.columns=['category','number']\n",
        "cat_count"
      ],
      "execution_count": null,
      "outputs": [
        {
          "output_type": "execute_result",
          "data": {
            "text/html": [
              "<div>\n",
              "<style scoped>\n",
              "    .dataframe tbody tr th:only-of-type {\n",
              "        vertical-align: middle;\n",
              "    }\n",
              "\n",
              "    .dataframe tbody tr th {\n",
              "        vertical-align: top;\n",
              "    }\n",
              "\n",
              "    .dataframe thead th {\n",
              "        text-align: right;\n",
              "    }\n",
              "</style>\n",
              "<table border=\"1\" class=\"dataframe\">\n",
              "  <thead>\n",
              "    <tr style=\"text-align: right;\">\n",
              "      <th></th>\n",
              "      <th>category</th>\n",
              "      <th>number</th>\n",
              "    </tr>\n",
              "  </thead>\n",
              "  <tbody>\n",
              "    <tr>\n",
              "      <th>0</th>\n",
              "      <td>Drama</td>\n",
              "      <td>4361</td>\n",
              "    </tr>\n",
              "    <tr>\n",
              "      <th>1</th>\n",
              "      <td>Comedy</td>\n",
              "      <td>3756</td>\n",
              "    </tr>\n",
              "    <tr>\n",
              "      <th>2</th>\n",
              "      <td>Thriller</td>\n",
              "      <td>1894</td>\n",
              "    </tr>\n",
              "    <tr>\n",
              "      <th>3</th>\n",
              "      <td>Action</td>\n",
              "      <td>1828</td>\n",
              "    </tr>\n",
              "    <tr>\n",
              "      <th>4</th>\n",
              "      <td>Romance</td>\n",
              "      <td>1596</td>\n",
              "    </tr>\n",
              "    <tr>\n",
              "      <th>5</th>\n",
              "      <td>Adventure</td>\n",
              "      <td>1263</td>\n",
              "    </tr>\n",
              "    <tr>\n",
              "      <th>6</th>\n",
              "      <td>Crime</td>\n",
              "      <td>1199</td>\n",
              "    </tr>\n",
              "    <tr>\n",
              "      <th>7</th>\n",
              "      <td>Sci-Fi</td>\n",
              "      <td>980</td>\n",
              "    </tr>\n",
              "    <tr>\n",
              "      <th>8</th>\n",
              "      <td>Horror</td>\n",
              "      <td>978</td>\n",
              "    </tr>\n",
              "    <tr>\n",
              "      <th>9</th>\n",
              "      <td>Fantasy</td>\n",
              "      <td>779</td>\n",
              "    </tr>\n",
              "    <tr>\n",
              "      <th>10</th>\n",
              "      <td>Children</td>\n",
              "      <td>664</td>\n",
              "    </tr>\n",
              "    <tr>\n",
              "      <th>11</th>\n",
              "      <td>Animation</td>\n",
              "      <td>611</td>\n",
              "    </tr>\n",
              "    <tr>\n",
              "      <th>12</th>\n",
              "      <td>Mystery</td>\n",
              "      <td>573</td>\n",
              "    </tr>\n",
              "    <tr>\n",
              "      <th>13</th>\n",
              "      <td>Documentary</td>\n",
              "      <td>440</td>\n",
              "    </tr>\n",
              "    <tr>\n",
              "      <th>14</th>\n",
              "      <td>War</td>\n",
              "      <td>382</td>\n",
              "    </tr>\n",
              "    <tr>\n",
              "      <th>15</th>\n",
              "      <td>Musical</td>\n",
              "      <td>334</td>\n",
              "    </tr>\n",
              "    <tr>\n",
              "      <th>16</th>\n",
              "      <td>Western</td>\n",
              "      <td>167</td>\n",
              "    </tr>\n",
              "    <tr>\n",
              "      <th>17</th>\n",
              "      <td>IMAX</td>\n",
              "      <td>158</td>\n",
              "    </tr>\n",
              "    <tr>\n",
              "      <th>18</th>\n",
              "      <td>Film-Noir</td>\n",
              "      <td>87</td>\n",
              "    </tr>\n",
              "    <tr>\n",
              "      <th>19</th>\n",
              "      <td>(no genres listed)</td>\n",
              "      <td>34</td>\n",
              "    </tr>\n",
              "  </tbody>\n",
              "</table>\n",
              "</div>"
            ],
            "text/plain": [
              "              category  number\n",
              "0                Drama    4361\n",
              "1               Comedy    3756\n",
              "2             Thriller    1894\n",
              "3               Action    1828\n",
              "4              Romance    1596\n",
              "5            Adventure    1263\n",
              "6                Crime    1199\n",
              "7               Sci-Fi     980\n",
              "8               Horror     978\n",
              "9              Fantasy     779\n",
              "10            Children     664\n",
              "11           Animation     611\n",
              "12             Mystery     573\n",
              "13         Documentary     440\n",
              "14                 War     382\n",
              "15             Musical     334\n",
              "16             Western     167\n",
              "17                IMAX     158\n",
              "18           Film-Noir      87\n",
              "19  (no genres listed)      34"
            ]
          },
          "metadata": {
            "tags": []
          },
          "execution_count": 25
        }
      ]
    },
    {
      "cell_type": "code",
      "metadata": {
        "id": "E2ZPkeALSFml",
        "colab": {
          "base_uri": "https://localhost:8080/",
          "height": 669
        },
        "outputId": "0016858d-9d91-49ba-a208-9598f4a2b416"
      },
      "source": [
        "cat_list=pd.DataFrame(columns=['category','list_of_movies'])\n",
        "for i in range(2,movies_df0.shape[1]):\n",
        "  cat_list.loc[i-2]=[movies_df0.columns[i],\\\n",
        "                   ','.join(sorted(movies_df0.loc[movies_df0.iloc[:,i]==1]['title']))]\n",
        "cat_list"
      ],
      "execution_count": null,
      "outputs": [
        {
          "output_type": "execute_result",
          "data": {
            "text/html": [
              "<div>\n",
              "<style scoped>\n",
              "    .dataframe tbody tr th:only-of-type {\n",
              "        vertical-align: middle;\n",
              "    }\n",
              "\n",
              "    .dataframe tbody tr th {\n",
              "        vertical-align: top;\n",
              "    }\n",
              "\n",
              "    .dataframe thead th {\n",
              "        text-align: right;\n",
              "    }\n",
              "</style>\n",
              "<table border=\"1\" class=\"dataframe\">\n",
              "  <thead>\n",
              "    <tr style=\"text-align: right;\">\n",
              "      <th></th>\n",
              "      <th>category</th>\n",
              "      <th>list_of_movies</th>\n",
              "    </tr>\n",
              "  </thead>\n",
              "  <tbody>\n",
              "    <tr>\n",
              "      <th>0</th>\n",
              "      <td>(no genres listed)</td>\n",
              "      <td>A Christmas Story Live! (2017),A Cosmic Christ...</td>\n",
              "    </tr>\n",
              "    <tr>\n",
              "      <th>1</th>\n",
              "      <td>Action</td>\n",
              "      <td>'71 (2014),'Hellboy': The Seeds of Creation (2...</td>\n",
              "    </tr>\n",
              "    <tr>\n",
              "      <th>2</th>\n",
              "      <td>Adventure</td>\n",
              "      <td>'Hellboy': The Seeds of Creation (2004),10,000...</td>\n",
              "    </tr>\n",
              "    <tr>\n",
              "      <th>3</th>\n",
              "      <td>Animation</td>\n",
              "      <td>101 Dalmatians (One Hundred and One Dalmatians...</td>\n",
              "    </tr>\n",
              "    <tr>\n",
              "      <th>4</th>\n",
              "      <td>Children</td>\n",
              "      <td>*batteries not included (1987),101 Dalmatians ...</td>\n",
              "    </tr>\n",
              "    <tr>\n",
              "      <th>5</th>\n",
              "      <td>Comedy</td>\n",
              "      <td>'Hellboy': The Seeds of Creation (2004),'burbs...</td>\n",
              "    </tr>\n",
              "    <tr>\n",
              "      <th>6</th>\n",
              "      <td>Crime</td>\n",
              "      <td>00 Schneider - Jagd auf Nihil Baxter (1994),10...</td>\n",
              "    </tr>\n",
              "    <tr>\n",
              "      <th>7</th>\n",
              "      <td>Documentary</td>\n",
              "      <td>'Hellboy': The Seeds of Creation (2004),11th H...</td>\n",
              "    </tr>\n",
              "    <tr>\n",
              "      <th>8</th>\n",
              "      <td>Drama</td>\n",
              "      <td>\"11'09\"\"01 - September 11 (2002)\",'71 (2014),'...</td>\n",
              "    </tr>\n",
              "    <tr>\n",
              "      <th>9</th>\n",
              "      <td>Fantasy</td>\n",
              "      <td>'Hellboy': The Seeds of Creation (2004),*batte...</td>\n",
              "    </tr>\n",
              "    <tr>\n",
              "      <th>10</th>\n",
              "      <td>Film-Noir</td>\n",
              "      <td>13 Tzameti (2005),2 Days in the Valley (1996),...</td>\n",
              "    </tr>\n",
              "    <tr>\n",
              "      <th>11</th>\n",
              "      <td>Horror</td>\n",
              "      <td>'Salem's Lot (2004),13 Ghosts (1960),13 Sins (...</td>\n",
              "    </tr>\n",
              "    <tr>\n",
              "      <th>12</th>\n",
              "      <td>IMAX</td>\n",
              "      <td>300 (2007),300: Rise of an Empire (2014),Adven...</td>\n",
              "    </tr>\n",
              "    <tr>\n",
              "      <th>13</th>\n",
              "      <td>Musical</td>\n",
              "      <td>'Round Midnight (1986),1776 (1972),20,000 Days...</td>\n",
              "    </tr>\n",
              "    <tr>\n",
              "      <th>14</th>\n",
              "      <td>Mystery</td>\n",
              "      <td>'Salem's Lot (2004),11:14 (2003),21 Grams (200...</td>\n",
              "    </tr>\n",
              "    <tr>\n",
              "      <th>15</th>\n",
              "      <td>Romance</td>\n",
              "      <td>'Til There Was You (1997),'Tis the Season for ...</td>\n",
              "    </tr>\n",
              "    <tr>\n",
              "      <th>16</th>\n",
              "      <td>Sci-Fi</td>\n",
              "      <td>*batteries not included (1987),10th Victim, Th...</td>\n",
              "    </tr>\n",
              "    <tr>\n",
              "      <th>17</th>\n",
              "      <td>Thriller</td>\n",
              "      <td>'71 (2014),'Salem's Lot (2004),...And Justice ...</td>\n",
              "    </tr>\n",
              "    <tr>\n",
              "      <th>18</th>\n",
              "      <td>War</td>\n",
              "      <td>'71 (2014),1900 (Novecento) (1976),1941 (1979)...</td>\n",
              "    </tr>\n",
              "    <tr>\n",
              "      <th>19</th>\n",
              "      <td>Western</td>\n",
              "      <td>3:10 to Yuma (1957),3:10 to Yuma (2007),7 Face...</td>\n",
              "    </tr>\n",
              "  </tbody>\n",
              "</table>\n",
              "</div>"
            ],
            "text/plain": [
              "              category                                     list_of_movies\n",
              "0   (no genres listed)  A Christmas Story Live! (2017),A Cosmic Christ...\n",
              "1               Action  '71 (2014),'Hellboy': The Seeds of Creation (2...\n",
              "2            Adventure  'Hellboy': The Seeds of Creation (2004),10,000...\n",
              "3            Animation  101 Dalmatians (One Hundred and One Dalmatians...\n",
              "4             Children  *batteries not included (1987),101 Dalmatians ...\n",
              "5               Comedy  'Hellboy': The Seeds of Creation (2004),'burbs...\n",
              "6                Crime  00 Schneider - Jagd auf Nihil Baxter (1994),10...\n",
              "7          Documentary  'Hellboy': The Seeds of Creation (2004),11th H...\n",
              "8                Drama  \"11'09\"\"01 - September 11 (2002)\",'71 (2014),'...\n",
              "9              Fantasy  'Hellboy': The Seeds of Creation (2004),*batte...\n",
              "10           Film-Noir  13 Tzameti (2005),2 Days in the Valley (1996),...\n",
              "11              Horror  'Salem's Lot (2004),13 Ghosts (1960),13 Sins (...\n",
              "12                IMAX  300 (2007),300: Rise of an Empire (2014),Adven...\n",
              "13             Musical  'Round Midnight (1986),1776 (1972),20,000 Days...\n",
              "14             Mystery  'Salem's Lot (2004),11:14 (2003),21 Grams (200...\n",
              "15             Romance  'Til There Was You (1997),'Tis the Season for ...\n",
              "16              Sci-Fi  *batteries not included (1987),10th Victim, Th...\n",
              "17            Thriller  '71 (2014),'Salem's Lot (2004),...And Justice ...\n",
              "18                 War  '71 (2014),1900 (Novecento) (1976),1941 (1979)...\n",
              "19             Western  3:10 to Yuma (1957),3:10 to Yuma (2007),7 Face..."
            ]
          },
          "metadata": {
            "tags": []
          },
          "execution_count": 26
        }
      ]
    },
    {
      "cell_type": "code",
      "metadata": {
        "id": "3YPAnEa-HSn-",
        "colab": {
          "base_uri": "https://localhost:8080/",
          "height": 499
        },
        "outputId": "fb03b8f4-9d0c-41b7-afeb-94621993dcff"
      },
      "source": [
        "# bar chart\n",
        "plt.figure(figsize=[16,8])\n",
        "plt.barh(y='category',width='number',data=cat_count)\n",
        "plt.title('Movie Categories')\n",
        "plt.show()"
      ],
      "execution_count": null,
      "outputs": [
        {
          "output_type": "display_data",
          "data": {
            "image/png": "[encoded data removed]",
            "text/plain": [
              "<Figure size 1152x576 with 1 Axes>"
            ]
          },
          "metadata": {
            "tags": [],
            "needs_background": "light"
          }
        }
      ]
    },
    {
      "cell_type": "markdown",
      "metadata": {
        "id": "UqC7Zrj_9cmX"
      },
      "source": [
        "### Part2: Spark ALS based approach for training model\n",
        "We will use an Spark ML to predict the ratings, so let's reload \"ratings.csv\" using sc.textFile and then convert it to the form of (user, item, rating) tuples."
      ]
    },
    {
      "cell_type": "markdown",
      "metadata": {
        "id": "gU-P81pBRMeD"
      },
      "source": [
        "#### Data Preprocessing"
      ]
    },
    {
      "cell_type": "code",
      "metadata": {
        "id": "khsu5Y9s9mjI",
        "colab": {
          "base_uri": "https://localhost:8080/",
          "height": 459
        },
        "outputId": "eb3364d5-502b-42a6-ff13-e3fa15adfab9"
      },
      "source": [
        "ratings_df.show()"
      ],
      "execution_count": null,
      "outputs": [
        {
          "output_type": "stream",
          "text": [
            "+------+-------+------+---------+\n",
            "|userId|movieId|rating|timestamp|\n",
            "+------+-------+------+---------+\n",
            "|     1|      1|   4.0|964982703|\n",
            "|     1|      3|   4.0|964981247|\n",
            "|     1|      6|   4.0|964982224|\n",
            "|     1|     47|   5.0|964983815|\n",
            "|     1|     50|   5.0|964982931|\n",
            "|     1|     70|   3.0|964982400|\n",
            "|     1|    101|   5.0|964980868|\n",
            "|     1|    110|   4.0|964982176|\n",
            "|     1|    151|   5.0|964984041|\n",
            "|     1|    157|   5.0|964984100|\n",
            "|     1|    163|   5.0|964983650|\n",
            "|     1|    216|   5.0|964981208|\n",
            "|     1|    223|   3.0|964980985|\n",
            "|     1|    231|   5.0|964981179|\n",
            "|     1|    235|   4.0|964980908|\n",
            "|     1|    260|   5.0|964981680|\n",
            "|     1|    296|   3.0|964982967|\n",
            "|     1|    316|   3.0|964982310|\n",
            "|     1|    333|   5.0|964981179|\n",
            "|     1|    349|   4.0|964982563|\n",
            "+------+-------+------+---------+\n",
            "only showing top 20 rows\n",
            "\n"
          ],
          "name": "stdout"
        }
      ]
    },
    {
      "cell_type": "code",
      "metadata": {
        "id": "DjJDX3uc929y"
      },
      "source": [
        "movie_ratings=ratings_df.drop('timestamp')"
      ],
      "execution_count": null,
      "outputs": []
    },
    {
      "cell_type": "code",
      "metadata": {
        "id": "a83-Nvy-96CV"
      },
      "source": [
        "# Data type convert\n",
        "from pyspark.sql.types import IntegerType, FloatType\n",
        "movie_ratings = movie_ratings.withColumn(\"userId\", movie_ratings[\"userId\"].cast(IntegerType()))\n",
        "movie_ratings = movie_ratings.withColumn(\"movieId\", movie_ratings[\"movieId\"].cast(IntegerType()))\n",
        "movie_ratings = movie_ratings.withColumn(\"rating\", movie_ratings[\"rating\"].cast(FloatType()))"
      ],
      "execution_count": null,
      "outputs": []
    },
    {
      "cell_type": "code",
      "metadata": {
        "id": "xF7hUOae9_R_",
        "colab": {
          "base_uri": "https://localhost:8080/",
          "height": 459
        },
        "outputId": "2e0d4a3d-1ef1-4813-f46d-949368987117"
      },
      "source": [
        "movie_ratings.show()"
      ],
      "execution_count": null,
      "outputs": [
        {
          "output_type": "stream",
          "text": [
            "+------+-------+------+\n",
            "|userId|movieId|rating|\n",
            "+------+-------+------+\n",
            "|     1|      1|   4.0|\n",
            "|     1|      3|   4.0|\n",
            "|     1|      6|   4.0|\n",
            "|     1|     47|   5.0|\n",
            "|     1|     50|   5.0|\n",
            "|     1|     70|   3.0|\n",
            "|     1|    101|   5.0|\n",
            "|     1|    110|   4.0|\n",
            "|     1|    151|   5.0|\n",
            "|     1|    157|   5.0|\n",
            "|     1|    163|   5.0|\n",
            "|     1|    216|   5.0|\n",
            "|     1|    223|   3.0|\n",
            "|     1|    231|   5.0|\n",
            "|     1|    235|   4.0|\n",
            "|     1|    260|   5.0|\n",
            "|     1|    296|   3.0|\n",
            "|     1|    316|   3.0|\n",
            "|     1|    333|   5.0|\n",
            "|     1|    349|   4.0|\n",
            "+------+-------+------+\n",
            "only showing top 20 rows\n",
            "\n"
          ],
          "name": "stdout"
        }
      ]
    },
    {
      "cell_type": "code",
      "metadata": {
        "id": "goYrd1seH0-N",
        "colab": {
          "base_uri": "https://localhost:8080/",
          "height": 390
        },
        "outputId": "182c5a2b-2215-42bf-a723-83f4696176ed"
      },
      "source": [
        "# bar chart of ratings\n",
        "rating_count=movie_ratings.select('rating').groupBy('rating').count().toPandas()\n",
        "plt.figure(figsize=[12,6])\n",
        "plt.bar(x='rating',height='count',data=rating_count,width=0.5)\n",
        "plt.title('Ratings Distribution')\n",
        "plt.xticks(np.arange(0.5,5.5,0.5))\n",
        "plt.show()"
      ],
      "execution_count": null,
      "outputs": [
        {
          "output_type": "display_data",
          "data": {
            "image/png": "[encoded data removed]",
            "text/plain": [
              "<Figure size 864x432 with 1 Axes>"
            ]
          },
          "metadata": {
            "tags": [],
            "needs_background": "light"
          }
        }
      ]
    },
    {
      "cell_type": "markdown",
      "metadata": {
        "id": "VJs8_srU-Hd-"
      },
      "source": [
        "#### ALS Model Selection and Evaluation\n",
        "With the ALS model, we can use a grid search to find the optimal hyperparameters."
      ]
    },
    {
      "cell_type": "code",
      "metadata": {
        "id": "BloTJ8xC-HJ5"
      },
      "source": [
        "# import package\n",
        "from pyspark.ml.evaluation import RegressionEvaluator\n",
        "from pyspark.ml.recommendation import ALS\n",
        "from pyspark.ml.tuning import CrossValidator,ParamGridBuilder"
      ],
      "execution_count": null,
      "outputs": []
    },
    {
      "cell_type": "code",
      "metadata": {
        "id": "3UKk8GCx-wIU"
      },
      "source": [
        "# Create test and train set\n",
        "(training,test) = movie_ratings.randomSplit([0.8,0.2])"
      ],
      "execution_count": null,
      "outputs": []
    },
    {
      "cell_type": "code",
      "metadata": {
        "id": "5_qgRTrn-0yu"
      },
      "source": [
        "# Create ALS model\n",
        "model_als = ALS(userCol=\"userId\", itemCol=\"movieId\", ratingCol=\"rating\", coldStartStrategy=\"drop\", seed=12345)"
      ],
      "execution_count": null,
      "outputs": []
    },
    {
      "cell_type": "code",
      "metadata": {
        "id": "wEL9Hn0bQcqc"
      },
      "source": [
        "# Define evaluator as RMSE\n",
        "evaluator = RegressionEvaluator(metricName=\"rmse\", labelCol=\"rating\", predictionCol=\"prediction\")"
      ],
      "execution_count": null,
      "outputs": []
    },
    {
      "cell_type": "code",
      "metadata": {
        "id": "rJCXOBwLNB71"
      },
      "source": [
        "# Tune model using ParamGridBuilder\n",
        "params = ParamGridBuilder()\\\n",
        "            .addGrid(model_als.maxIter, [3, 5, 10])\\\n",
        "            .addGrid(model_als.regParam, [0.1, 0.01, 0.001])\\\n",
        "            .addGrid(model_als.rank, [5, 10, 15, 20, 25])\\\n",
        "            .addGrid(model_als.alpha, [0.1, 0.01, 0.001])\\\n",
        "            .build()\n",
        "\n",
        "# Build Cross validation\n",
        "cv_creator=CrossValidator(estimator=model_als,estimatorParamMaps=params,evaluator=evaluator,numFolds=4,seed=12345)\n",
        "\n",
        "#Fit ALS model to training data\n",
        "cv_model=cv_creator.fit(training)"
      ],
      "execution_count": null,
      "outputs": []
    },
    {
      "cell_type": "code",
      "metadata": {
        "id": "6jvFzAuxNIA8",
        "colab": {
          "base_uri": "https://localhost:8080/",
          "height": 102
        },
        "outputId": "1a6235b1-e8c0-40f3-d769-aee5c94228ce"
      },
      "source": [
        "best_model=cv_model.bestModel\n",
        "best_params=cv_model.getEstimatorParamMaps()[np.argmin(cv_model.avgMetrics)]\n",
        "print('Best ALS model parameters by CV:')\n",
        "for i,j in best_params.items():\n",
        "  print('-> '+i.name+': '+str(j))"
      ],
      "execution_count": null,
      "outputs": [
        {
          "output_type": "stream",
          "text": [
            "Best ALS model parameters by CV:\n",
            "-> maxIter: 10\n",
            "-> regParam: 0.1\n",
            "-> rank: 5\n",
            "-> alpha: 0.1\n"
          ],
          "name": "stdout"
        }
      ]
    },
    {
      "cell_type": "code",
      "metadata": {
        "id": "am8blMM2PX2K",
        "colab": {
          "base_uri": "https://localhost:8080/",
          "height": 34
        },
        "outputId": "a41eea8e-bdde-4e39-b873-adaabb4b32af"
      },
      "source": [
        "#Extract best model from the tuning exercise using ParamGridBuilder\n",
        "prediction_train=cv_model.transform(training)\n",
        "rmse_train = evaluator.evaluate(prediction_train)\n",
        "print(\"Root-mean-square error for training data is \" + str(rmse_train))"
      ],
      "execution_count": null,
      "outputs": [
        {
          "output_type": "stream",
          "text": [
            "Root-mean-square error for training data is 0.6413349309194337\n"
          ],
          "name": "stdout"
        }
      ]
    },
    {
      "cell_type": "markdown",
      "metadata": {
        "id": "gasWRulVRYm_"
      },
      "source": [
        "#### Model testing\n",
        "And finally, make a prediction and check the testing error."
      ]
    },
    {
      "cell_type": "code",
      "metadata": {
        "id": "HKJik6wZRhLF",
        "colab": {
          "base_uri": "https://localhost:8080/",
          "height": 34
        },
        "outputId": "2b74c150-71cc-44cf-eee3-2b13f83753e2"
      },
      "source": [
        "#Generate predictions and evaluate using RMSE\n",
        "prediction_test = best_model.transform(test)\n",
        "rmse_test = evaluator.evaluate(prediction_test)\n",
        "print(\"Root-mean-square error for testing data is \" + str(rmse_test))"
      ],
      "execution_count": null,
      "outputs": [
        {
          "output_type": "stream",
          "text": [
            "Root-mean-square error for testing data is 0.8840108088036324\n"
          ],
          "name": "stdout"
        }
      ]
    },
    {
      "cell_type": "code",
      "metadata": {
        "id": "v53cuS8xyvU4",
        "colab": {
          "base_uri": "https://localhost:8080/",
          "height": 459
        },
        "outputId": "d2eaa862-b502-4742-cab5-14bd6e72ecfd"
      },
      "source": [
        "prediction_test.show()"
      ],
      "execution_count": null,
      "outputs": [
        {
          "output_type": "stream",
          "text": [
            "+------+-------+------+----------+\n",
            "|userId|movieId|rating|prediction|\n",
            "+------+-------+------+----------+\n",
            "|   372|    471|   3.0| 3.2278666|\n",
            "|   182|    471|   4.5| 3.7144341|\n",
            "|   474|    471|   3.0| 3.7856388|\n",
            "|   500|    471|   1.0| 2.8237948|\n",
            "|   176|    471|   5.0| 3.7838287|\n",
            "|   171|    471|   3.0| 4.3478956|\n",
            "|   287|    471|   4.5| 2.5647352|\n",
            "|   541|    471|   3.0| 3.8739734|\n",
            "|   132|   1088|   4.0| 2.8536036|\n",
            "|   474|   1088|   3.5| 3.3035452|\n",
            "|   554|   1088|   5.0|  4.590239|\n",
            "|   387|   1088|   1.5|  2.761524|\n",
            "|   381|   1088|   3.5| 3.7248476|\n",
            "|   583|   1088|   3.5| 3.3533254|\n",
            "|    10|   1088|   3.0|  3.128701|\n",
            "|    42|   1088|   3.0| 3.4244099|\n",
            "|   104|   1088|   3.0| 3.6357198|\n",
            "|   268|   1238|   5.0|  3.410654|\n",
            "|   425|   1342|   3.5| 1.9000343|\n",
            "|   387|   1342|   3.0| 2.6661174|\n",
            "+------+-------+------+----------+\n",
            "only showing top 20 rows\n",
            "\n"
          ],
          "name": "stdout"
        }
      ]
    },
    {
      "cell_type": "markdown",
      "metadata": {
        "id": "khFsQQ6cifnH"
      },
      "source": [
        "#### Model apply and see the performance"
      ]
    },
    {
      "cell_type": "code",
      "metadata": {
        "id": "aWivzzmKRSgt",
        "colab": {
          "base_uri": "https://localhost:8080/",
          "height": 34
        },
        "outputId": "26d5fff4-a7b7-4550-d18e-cb7d7f7bd0f4"
      },
      "source": [
        "alldata=best_model.transform(movie_ratings)\n",
        "rmse = evaluator.evaluate(alldata)\n",
        "print (\"RMSE = \"+str(rmse))"
      ],
      "execution_count": null,
      "outputs": [
        {
          "output_type": "stream",
          "text": [
            "RMSE = 0.6948416336187491\n"
          ],
          "name": "stdout"
        }
      ]
    },
    {
      "cell_type": "code",
      "metadata": {
        "id": "AhWhHGF_jCfh"
      },
      "source": [
        "alldata.registerTempTable(\"alldata\")"
      ],
      "execution_count": null,
      "outputs": []
    },
    {
      "cell_type": "code",
      "metadata": {
        "id": "gi1GpkmzjFBt",
        "colab": {
          "base_uri": "https://localhost:8080/",
          "height": 459
        },
        "outputId": "f766ab4d-0498-4a10-cb05-3c1a801bf451"
      },
      "source": [
        "spark.sql(\"select * from alldata\").show()"
      ],
      "execution_count": null,
      "outputs": [
        {
          "output_type": "stream",
          "text": [
            "+------+-------+------+----------+\n",
            "|userId|movieId|rating|prediction|\n",
            "+------+-------+------+----------+\n",
            "|   191|    148|   5.0|  4.931147|\n",
            "|   133|    471|   4.0| 3.1237504|\n",
            "|   597|    471|   2.0|   3.67073|\n",
            "|   385|    471|   4.0|  3.196448|\n",
            "|   436|    471|   3.0| 3.5980487|\n",
            "|   602|    471|   4.0| 3.7751944|\n",
            "|    91|    471|   1.0|  3.118206|\n",
            "|   409|    471|   3.0|  3.588822|\n",
            "|   372|    471|   3.0| 3.2278666|\n",
            "|   599|    471|   2.5| 2.8903582|\n",
            "|   603|    471|   4.0| 3.2133949|\n",
            "|   182|    471|   4.5| 3.7144341|\n",
            "|   218|    471|   4.0| 3.3264654|\n",
            "|   474|    471|   3.0| 3.7856388|\n",
            "|   500|    471|   1.0| 2.8237948|\n",
            "|    57|    471|   3.0| 3.5345447|\n",
            "|   462|    471|   2.5| 3.0256515|\n",
            "|   387|    471|   3.0|  3.269706|\n",
            "|   610|    471|   4.0|  3.826982|\n",
            "|   217|    471|   2.0| 3.0273292|\n",
            "+------+-------+------+----------+\n",
            "only showing top 20 rows\n",
            "\n"
          ],
          "name": "stdout"
        }
      ]
    },
    {
      "cell_type": "code",
      "metadata": {
        "id": "oSFjZwcujRlN",
        "colab": {
          "base_uri": "https://localhost:8080/",
          "height": 459
        },
        "outputId": "04cbedd1-a17d-4497-f521-23ce2929855a"
      },
      "source": [
        "spark.sql('SELECT * ' +\\\n",
        "          'FROM movies ' +\\\n",
        "\t          'JOIN alldata ON movies.movieId = alldata.movieId').show()"
      ],
      "execution_count": null,
      "outputs": [
        {
          "output_type": "stream",
          "text": [
            "+-------+--------------------+------+------+-------+------+----------+\n",
            "|movieId|               title|genres|userId|movieId|rating|prediction|\n",
            "+-------+--------------------+------+------+-------+------+----------+\n",
            "|    148|Awfully Big Adven...| Drama|   191|    148|   5.0|  4.931147|\n",
            "|    471|Hudsucker Proxy, ...|Comedy|   133|    471|   4.0| 3.1237504|\n",
            "|    471|Hudsucker Proxy, ...|Comedy|   597|    471|   2.0|   3.67073|\n",
            "|    471|Hudsucker Proxy, ...|Comedy|   385|    471|   4.0|  3.196448|\n",
            "|    471|Hudsucker Proxy, ...|Comedy|   436|    471|   3.0| 3.5980487|\n",
            "|    471|Hudsucker Proxy, ...|Comedy|   602|    471|   4.0| 3.7751944|\n",
            "|    471|Hudsucker Proxy, ...|Comedy|    91|    471|   1.0|  3.118206|\n",
            "|    471|Hudsucker Proxy, ...|Comedy|   409|    471|   3.0|  3.588822|\n",
            "|    471|Hudsucker Proxy, ...|Comedy|   372|    471|   3.0| 3.2278666|\n",
            "|    471|Hudsucker Proxy, ...|Comedy|   599|    471|   2.5| 2.8903582|\n",
            "|    471|Hudsucker Proxy, ...|Comedy|   603|    471|   4.0| 3.2133949|\n",
            "|    471|Hudsucker Proxy, ...|Comedy|   182|    471|   4.5| 3.7144341|\n",
            "|    471|Hudsucker Proxy, ...|Comedy|   218|    471|   4.0| 3.3264654|\n",
            "|    471|Hudsucker Proxy, ...|Comedy|   474|    471|   3.0| 3.7856388|\n",
            "|    471|Hudsucker Proxy, ...|Comedy|   500|    471|   1.0| 2.8237948|\n",
            "|    471|Hudsucker Proxy, ...|Comedy|    57|    471|   3.0| 3.5345447|\n",
            "|    471|Hudsucker Proxy, ...|Comedy|   462|    471|   2.5| 3.0256515|\n",
            "|    471|Hudsucker Proxy, ...|Comedy|   387|    471|   3.0|  3.269706|\n",
            "|    471|Hudsucker Proxy, ...|Comedy|   610|    471|   4.0|  3.826982|\n",
            "|    471|Hudsucker Proxy, ...|Comedy|   217|    471|   2.0| 3.0273292|\n",
            "+-------+--------------------+------+------+-------+------+----------+\n",
            "only showing top 20 rows\n",
            "\n"
          ],
          "name": "stdout"
        }
      ]
    },
    {
      "cell_type": "markdown",
      "metadata": {
        "id": "hV8SaQjGlvJx"
      },
      "source": [
        "### Recommend moive to users with id: 575, 232.\n",
        "you can choose some users to recommend the moives"
      ]
    },
    {
      "cell_type": "code",
      "metadata": {
        "id": "ulmLWYkll8sy"
      },
      "source": [
        "# define a function to package the recommendation\n",
        "def topKRecommend(k,id,model):\n",
        "  '''\n",
        "  k: the number of movies to recommend\n",
        "  id: the id of the user to give recommendations\n",
        "  model: the trained model for recommendation\n",
        "  '''\n",
        "  # the table for all top10 recommendations\n",
        "  all_recommd=model.recommendForAllUsers(k)\n",
        "  user_recommd=all_recommd.where(all_recommd.userId==id).toPandas()\n",
        "  if user_recommd.shape[0]==0:\n",
        "    print('No user with id '+str(id)+' is found in the data.')\n",
        "    return None\n",
        "  user_recommd=user_recommd.iloc[0,1]\n",
        "  user_recommd=pd.DataFrame(user_recommd,columns=['movieId','predicted_ratings'])\n",
        "  temp=None\n",
        "  for i in user_recommd['movieId']:\n",
        "    if not temp:\n",
        "      temp=movies_df.where(movies_df.movieId==str(i))\n",
        "    else:\n",
        "      temp=temp.union(movies_df.where(movies_df.movieId==str(i)))\n",
        "  out=pd.concat([temp.toPandas(),user_recommd['predicted_ratings']],axis=1)\n",
        "  out.index=range(1,k+1)\n",
        "  return out"
      ],
      "execution_count": null,
      "outputs": []
    },
    {
      "cell_type": "code",
      "metadata": {
        "id": "t_xlkWgk2YHZ",
        "colab": {
          "base_uri": "https://localhost:8080/",
          "height": 359
        },
        "outputId": "442025ce-5833-485c-ad42-c16c33d0dbda"
      },
      "source": [
        "# top 10 for user 575\n",
        "topKRecommend(10,575,best_model)"
      ],
      "execution_count": null,
      "outputs": [
        {
          "output_type": "execute_result",
          "data": {
            "text/html": [
              "<div>\n",
              "<style scoped>\n",
              "    .dataframe tbody tr th:only-of-type {\n",
              "        vertical-align: middle;\n",
              "    }\n",
              "\n",
              "    .dataframe tbody tr th {\n",
              "        vertical-align: top;\n",
              "    }\n",
              "\n",
              "    .dataframe thead th {\n",
              "        text-align: right;\n",
              "    }\n",
              "</style>\n",
              "<table border=\"1\" class=\"dataframe\">\n",
              "  <thead>\n",
              "    <tr style=\"text-align: right;\">\n",
              "      <th></th>\n",
              "      <th>movieId</th>\n",
              "      <th>title</th>\n",
              "      <th>genres</th>\n",
              "      <th>predicted_ratings</th>\n",
              "    </tr>\n",
              "  </thead>\n",
              "  <tbody>\n",
              "    <tr>\n",
              "      <th>1</th>\n",
              "      <td>87234</td>\n",
              "      <td>Submarine (2010)</td>\n",
              "      <td>Comedy|Drama|Romance</td>\n",
              "      <td>5.363260</td>\n",
              "    </tr>\n",
              "    <tr>\n",
              "      <th>2</th>\n",
              "      <td>96004</td>\n",
              "      <td>Dragon Ball Z: The History of Trunks (Doragon ...</td>\n",
              "      <td>Action|Adventure|Animation</td>\n",
              "      <td>5.329022</td>\n",
              "    </tr>\n",
              "    <tr>\n",
              "      <th>3</th>\n",
              "      <td>3379</td>\n",
              "      <td>On the Beach (1959)</td>\n",
              "      <td>Drama</td>\n",
              "      <td>5.329022</td>\n",
              "    </tr>\n",
              "    <tr>\n",
              "      <th>4</th>\n",
              "      <td>6818</td>\n",
              "      <td>Come and See (Idi i smotri) (1985)</td>\n",
              "      <td>Drama|War</td>\n",
              "      <td>5.222176</td>\n",
              "    </tr>\n",
              "    <tr>\n",
              "      <th>5</th>\n",
              "      <td>60943</td>\n",
              "      <td>Frozen River (2008)</td>\n",
              "      <td>Drama</td>\n",
              "      <td>5.209704</td>\n",
              "    </tr>\n",
              "    <tr>\n",
              "      <th>6</th>\n",
              "      <td>59018</td>\n",
              "      <td>Visitor, The (2007)</td>\n",
              "      <td>Drama|Romance</td>\n",
              "      <td>5.209704</td>\n",
              "    </tr>\n",
              "    <tr>\n",
              "      <th>7</th>\n",
              "      <td>69524</td>\n",
              "      <td>Raiders of the Lost Ark: The Adaptation (1989)</td>\n",
              "      <td>Action|Adventure|Thriller</td>\n",
              "      <td>5.185848</td>\n",
              "    </tr>\n",
              "    <tr>\n",
              "      <th>8</th>\n",
              "      <td>3022</td>\n",
              "      <td>General, The (1926)</td>\n",
              "      <td>Comedy|War</td>\n",
              "      <td>5.179244</td>\n",
              "    </tr>\n",
              "    <tr>\n",
              "      <th>9</th>\n",
              "      <td>1232</td>\n",
              "      <td>Stalker (1979)</td>\n",
              "      <td>Drama|Mystery|Sci-Fi</td>\n",
              "      <td>5.169555</td>\n",
              "    </tr>\n",
              "    <tr>\n",
              "      <th>10</th>\n",
              "      <td>27611</td>\n",
              "      <td>Battlestar Galactica (2003)</td>\n",
              "      <td>Drama|Sci-Fi|War</td>\n",
              "      <td>5.154844</td>\n",
              "    </tr>\n",
              "  </tbody>\n",
              "</table>\n",
              "</div>"
            ],
            "text/plain": [
              "   movieId  ... predicted_ratings\n",
              "1    87234  ...          5.363260\n",
              "2    96004  ...          5.329022\n",
              "3     3379  ...          5.329022\n",
              "4     6818  ...          5.222176\n",
              "5    60943  ...          5.209704\n",
              "6    59018  ...          5.209704\n",
              "7    69524  ...          5.185848\n",
              "8     3022  ...          5.179244\n",
              "9     1232  ...          5.169555\n",
              "10   27611  ...          5.154844\n",
              "\n",
              "[10 rows x 4 columns]"
            ]
          },
          "metadata": {
            "tags": []
          },
          "execution_count": 47
        }
      ]
    },
    {
      "cell_type": "code",
      "metadata": {
        "id": "HJZvO6OF26td",
        "colab": {
          "base_uri": "https://localhost:8080/",
          "height": 514
        },
        "outputId": "f5687548-f0b5-4162-f6cc-354df98983fd"
      },
      "source": [
        "# top 15 for user 232\n",
        "topKRecommend(15,232,best_model)"
      ],
      "execution_count": null,
      "outputs": [
        {
          "output_type": "execute_result",
          "data": {
            "text/html": [
              "<div>\n",
              "<style scoped>\n",
              "    .dataframe tbody tr th:only-of-type {\n",
              "        vertical-align: middle;\n",
              "    }\n",
              "\n",
              "    .dataframe tbody tr th {\n",
              "        vertical-align: top;\n",
              "    }\n",
              "\n",
              "    .dataframe thead th {\n",
              "        text-align: right;\n",
              "    }\n",
              "</style>\n",
              "<table border=\"1\" class=\"dataframe\">\n",
              "  <thead>\n",
              "    <tr style=\"text-align: right;\">\n",
              "      <th></th>\n",
              "      <th>movieId</th>\n",
              "      <th>title</th>\n",
              "      <th>genres</th>\n",
              "      <th>predicted_ratings</th>\n",
              "    </tr>\n",
              "  </thead>\n",
              "  <tbody>\n",
              "    <tr>\n",
              "      <th>1</th>\n",
              "      <td>87234</td>\n",
              "      <td>Submarine (2010)</td>\n",
              "      <td>Comedy|Drama|Romance</td>\n",
              "      <td>5.519401</td>\n",
              "    </tr>\n",
              "    <tr>\n",
              "      <th>2</th>\n",
              "      <td>5607</td>\n",
              "      <td>Son of the Bride (Hijo de la novia, El) (2001)</td>\n",
              "      <td>Comedy|Drama</td>\n",
              "      <td>4.893378</td>\n",
              "    </tr>\n",
              "    <tr>\n",
              "      <th>3</th>\n",
              "      <td>25906</td>\n",
              "      <td>Mr. Skeffington (1944)</td>\n",
              "      <td>Drama|Romance</td>\n",
              "      <td>4.833454</td>\n",
              "    </tr>\n",
              "    <tr>\n",
              "      <th>4</th>\n",
              "      <td>93008</td>\n",
              "      <td>Very Potter Sequel, A (2010)</td>\n",
              "      <td>Comedy|Musical</td>\n",
              "      <td>4.833454</td>\n",
              "    </tr>\n",
              "    <tr>\n",
              "      <th>5</th>\n",
              "      <td>77846</td>\n",
              "      <td>12 Angry Men (1997)</td>\n",
              "      <td>Crime|Drama</td>\n",
              "      <td>4.833454</td>\n",
              "    </tr>\n",
              "    <tr>\n",
              "      <th>6</th>\n",
              "      <td>7071</td>\n",
              "      <td>Woman Under the Influence, A (1974)</td>\n",
              "      <td>Drama</td>\n",
              "      <td>4.747414</td>\n",
              "    </tr>\n",
              "    <tr>\n",
              "      <th>7</th>\n",
              "      <td>138966</td>\n",
              "      <td>Nasu: Summer in Andalusia (2003)</td>\n",
              "      <td>Animation</td>\n",
              "      <td>4.747414</td>\n",
              "    </tr>\n",
              "    <tr>\n",
              "      <th>8</th>\n",
              "      <td>184245</td>\n",
              "      <td>De platte jungle (1978)</td>\n",
              "      <td>Documentary</td>\n",
              "      <td>4.747414</td>\n",
              "    </tr>\n",
              "    <tr>\n",
              "      <th>9</th>\n",
              "      <td>26928</td>\n",
              "      <td>Summer's Tale, A (Conte d'été) (1996)</td>\n",
              "      <td>Comedy|Drama|Romance</td>\n",
              "      <td>4.747414</td>\n",
              "    </tr>\n",
              "    <tr>\n",
              "      <th>10</th>\n",
              "      <td>84273</td>\n",
              "      <td>Zeitgeist: Moving Forward (2011)</td>\n",
              "      <td>Documentary</td>\n",
              "      <td>4.747414</td>\n",
              "    </tr>\n",
              "    <tr>\n",
              "      <th>11</th>\n",
              "      <td>117531</td>\n",
              "      <td>Watermark (2014)</td>\n",
              "      <td>Documentary</td>\n",
              "      <td>4.747414</td>\n",
              "    </tr>\n",
              "    <tr>\n",
              "      <th>12</th>\n",
              "      <td>86237</td>\n",
              "      <td>Connections (1978)</td>\n",
              "      <td>Documentary</td>\n",
              "      <td>4.747414</td>\n",
              "    </tr>\n",
              "    <tr>\n",
              "      <th>13</th>\n",
              "      <td>96004</td>\n",
              "      <td>Dragon Ball Z: The History of Trunks (Doragon ...</td>\n",
              "      <td>Action|Adventure|Animation</td>\n",
              "      <td>4.700140</td>\n",
              "    </tr>\n",
              "    <tr>\n",
              "      <th>14</th>\n",
              "      <td>3379</td>\n",
              "      <td>On the Beach (1959)</td>\n",
              "      <td>Drama</td>\n",
              "      <td>4.700140</td>\n",
              "    </tr>\n",
              "    <tr>\n",
              "      <th>15</th>\n",
              "      <td>171495</td>\n",
              "      <td>Cosmos</td>\n",
              "      <td>(no genres listed)</td>\n",
              "      <td>4.644339</td>\n",
              "    </tr>\n",
              "  </tbody>\n",
              "</table>\n",
              "</div>"
            ],
            "text/plain": [
              "   movieId  ... predicted_ratings\n",
              "1    87234  ...          5.519401\n",
              "2     5607  ...          4.893378\n",
              "3    25906  ...          4.833454\n",
              "4    93008  ...          4.833454\n",
              "5    77846  ...          4.833454\n",
              "6     7071  ...          4.747414\n",
              "7   138966  ...          4.747414\n",
              "8   184245  ...          4.747414\n",
              "9    26928  ...          4.747414\n",
              "10   84273  ...          4.747414\n",
              "11  117531  ...          4.747414\n",
              "12   86237  ...          4.747414\n",
              "13   96004  ...          4.700140\n",
              "14    3379  ...          4.700140\n",
              "15  171495  ...          4.644339\n",
              "\n",
              "[15 rows x 4 columns]"
            ]
          },
          "metadata": {
            "tags": []
          },
          "execution_count": 48
        }
      ]
    },
    {
      "cell_type": "code",
      "metadata": {
        "id": "SYWmeVf03Y56",
        "colab": {
          "base_uri": "https://localhost:8080/",
          "height": 204
        },
        "outputId": "eff33a16-ffa7-4c8d-d9c9-86bfcb06c61c"
      },
      "source": [
        "# top 5 for user 1\n",
        "topKRecommend(5,1,best_model)"
      ],
      "execution_count": null,
      "outputs": [
        {
          "output_type": "execute_result",
          "data": {
            "text/html": [
              "<div>\n",
              "<style scoped>\n",
              "    .dataframe tbody tr th:only-of-type {\n",
              "        vertical-align: middle;\n",
              "    }\n",
              "\n",
              "    .dataframe tbody tr th {\n",
              "        vertical-align: top;\n",
              "    }\n",
              "\n",
              "    .dataframe thead th {\n",
              "        text-align: right;\n",
              "    }\n",
              "</style>\n",
              "<table border=\"1\" class=\"dataframe\">\n",
              "  <thead>\n",
              "    <tr style=\"text-align: right;\">\n",
              "      <th></th>\n",
              "      <th>movieId</th>\n",
              "      <th>title</th>\n",
              "      <th>genres</th>\n",
              "      <th>predicted_ratings</th>\n",
              "    </tr>\n",
              "  </thead>\n",
              "  <tbody>\n",
              "    <tr>\n",
              "      <th>1</th>\n",
              "      <td>87234</td>\n",
              "      <td>Submarine (2010)</td>\n",
              "      <td>Comedy|Drama|Romance</td>\n",
              "      <td>6.406131</td>\n",
              "    </tr>\n",
              "    <tr>\n",
              "      <th>2</th>\n",
              "      <td>96004</td>\n",
              "      <td>Dragon Ball Z: The History of Trunks (Doragon ...</td>\n",
              "      <td>Action|Adventure|Animation</td>\n",
              "      <td>6.253650</td>\n",
              "    </tr>\n",
              "    <tr>\n",
              "      <th>3</th>\n",
              "      <td>3379</td>\n",
              "      <td>On the Beach (1959)</td>\n",
              "      <td>Drama</td>\n",
              "      <td>6.253650</td>\n",
              "    </tr>\n",
              "    <tr>\n",
              "      <th>4</th>\n",
              "      <td>5607</td>\n",
              "      <td>Son of the Bride (Hijo de la novia, El) (2001)</td>\n",
              "      <td>Comedy|Drama</td>\n",
              "      <td>6.081218</td>\n",
              "    </tr>\n",
              "    <tr>\n",
              "      <th>5</th>\n",
              "      <td>69524</td>\n",
              "      <td>Raiders of the Lost Ark: The Adaptation (1989)</td>\n",
              "      <td>Action|Adventure|Thriller</td>\n",
              "      <td>5.979123</td>\n",
              "    </tr>\n",
              "  </tbody>\n",
              "</table>\n",
              "</div>"
            ],
            "text/plain": [
              "  movieId  ... predicted_ratings\n",
              "1   87234  ...          6.406131\n",
              "2   96004  ...          6.253650\n",
              "3    3379  ...          6.253650\n",
              "4    5607  ...          6.081218\n",
              "5   69524  ...          5.979123\n",
              "\n",
              "[5 rows x 4 columns]"
            ]
          },
          "metadata": {
            "tags": []
          },
          "execution_count": 49
        }
      ]
    },
    {
      "cell_type": "markdown",
      "metadata": {
        "id": "OPkv9KRp4JI0"
      },
      "source": [
        "### Find the similar moives for moive with id: 463, 471\n",
        "You can find the similar moives based on the ALS results"
      ]
    },
    {
      "cell_type": "code",
      "metadata": {
        "id": "U9CAzRDf4NRS",
        "colab": {
          "base_uri": "https://localhost:8080/",
          "height": 544
        },
        "outputId": "3c8c6dcc-9920-4829-c3ab-01010e267b2d"
      },
      "source": [
        "# access the movie factor matrix\n",
        "movie_factors=best_model.itemFactors\n",
        "movie_factors.printSchema()\n",
        "comd=[\"movie_factors.selectExpr('id as movieId',\"]\n",
        "for i in range(best_model.rank):\n",
        "  if i<best_model.rank-1:\n",
        "    comd.append(\"'features[\"+str(i)+\"] as feature\"+str(i)+\"',\")\n",
        "  else:\n",
        "    comd.append(\"'features[\"+str(i)+\"] as feature\"+str(i)+\"'\")\n",
        "comd.append(')')\n",
        "movie_factors=eval(''.join(comd))\n",
        "movie_factors.createOrReplaceTempView('movie_factors')\n",
        "movie_factors.show()"
      ],
      "execution_count": null,
      "outputs": [
        {
          "output_type": "stream",
          "text": [
            "root\n",
            " |-- id: integer (nullable = false)\n",
            " |-- features: array (nullable = true)\n",
            " |    |-- element: float (containsNull = false)\n",
            "\n",
            "+-------+------------+-----------+------------+-----------+------------+\n",
            "|movieId|    feature0|   feature1|    feature2|   feature3|    feature4|\n",
            "+-------+------------+-----------+------------+-----------+------------+\n",
            "|     10|  0.73430854| 0.34665388|  -0.4754449| -1.7185824| -0.19925913|\n",
            "|     20|   1.1877204|  -0.814182| -0.64112663|-0.97034216| -0.14531042|\n",
            "|     30|   1.0854285| 0.19992247|  -0.9369189|-0.49996373|   1.5783162|\n",
            "|     40|-0.041639097|  1.1786628| -0.13801299| -1.6928382|  0.29482466|\n",
            "|     50|   1.3242272| 0.11620303| -0.74948174| -1.7951143|  0.33930174|\n",
            "|     60|   0.1380839|-0.33747497| -0.19962206| -1.8852065| 0.006399505|\n",
            "|     70|    1.039271|-0.11352531| -0.81217563| -1.4581811| -0.50512093|\n",
            "|     80|    1.266465|  0.2800456| -0.66434234|  -1.138831|   0.8855084|\n",
            "|    100|  0.15695767|  0.2157823| -0.26024452| -1.5447004|   0.4002204|\n",
            "|    110|   1.1883087|0.013251208| -0.46600288| -1.8742603| -0.06356797|\n",
            "|    140|   0.5710726|-0.30411667|  -0.5782407|   -1.72099|-0.047036316|\n",
            "|    150|   1.0607504|  0.3134831|-0.107851185| -1.8546865|-0.094632365|\n",
            "|    160|  0.12305486| 0.17594913|   -0.145291| -1.6422988|  -0.4300498|\n",
            "|    170|   0.4850242| 0.09436387|  -1.0172057| -1.5931349| -0.19097485|\n",
            "|    180|   1.7119496| 0.26815423| -0.53455824| -1.1653651|-0.116784394|\n",
            "|    190|   1.1667798|  0.6963348|-0.011980752| -0.9920155|   1.4991015|\n",
            "|    210|  0.42487583| 0.15822276| -0.20017466| -1.7336214|-0.041505534|\n",
            "|    220|  0.45861217| -0.3168357| -0.24141467| -1.3888212|  0.04710182|\n",
            "|    230|   0.3490733| 0.18882112|  -0.4325839| -1.8406686|  0.45250168|\n",
            "|    240|    0.682296|-0.14676505|  0.41788653| -1.1371137|  -0.5179715|\n",
            "+-------+------------+-----------+------------+-----------+------------+\n",
            "only showing top 20 rows\n",
            "\n"
          ],
          "name": "stdout"
        }
      ]
    },
    {
      "cell_type": "code",
      "metadata": {
        "id": "sswxYWRQ8fg_"
      },
      "source": [
        "# method 1: Euclidean distance based similarity\n",
        "# the smaller the euclidean distance between the factors, the similar the movies\n",
        "# this similarity considers the actual strength,\n",
        "# e.g. movie 1 with factor [1,2,3] and movie 2 with factor [2,4,6] are considered not similar enough\n",
        "def dist_similar(k,mid):\n",
        "  '''\n",
        "  k: number of similar movies to find\n",
        "  mid: id of the movie to find similarities\n",
        "  '''\n",
        "  movie_info=spark.sql('select * from movie_factors where movieId='+str(mid)).toPandas()\n",
        "  if movie_info.shape[0]<=0:\n",
        "    print('No movie with id '+str(mid)+' is found in the data.')\n",
        "    return None, None\n",
        "  temp=['select movieId,']\n",
        "  for i in range(best_model.rank):\n",
        "    val=movie_info.iloc[0,i+1]\n",
        "    if val>0:\n",
        "      comd='feature'+str(i)+'-'+str(val)\n",
        "    else:\n",
        "      comd='feature'+str(i)+'+'+str(-val)\n",
        "    if i<best_model.rank-1:\n",
        "      temp.append('('+comd+')*('+comd+') as sd'+str(i)+',')\n",
        "    else:\n",
        "      temp.append('('+comd+')*('+comd+') as sd'+str(i))\n",
        "  temp.append('from movie_factors where movieId!='+str(mid))\n",
        "  ssd=spark.sql(' '.join(temp))\n",
        "  ssd=ssd.selectExpr('movieId','sd0+sd1+sd2+sd2+sd4 as ssd').orderBy('ssd').limit(k).toPandas()\n",
        "  out=None\n",
        "  for i in ssd['movieId']:\n",
        "    if not out:\n",
        "      out=movies_df.where(movies_df.movieId==str(i))\n",
        "    else:\n",
        "      out=out.union(movies_df.where(movies_df.movieId==str(i)))\n",
        "  out=out.toPandas()\n",
        "  out.index=range(1,k+1)\n",
        "  return out, ssd"
      ],
      "execution_count": null,
      "outputs": []
    },
    {
      "cell_type": "code",
      "metadata": {
        "id": "jKxbz-y7HaYS"
      },
      "source": [
        "# method 2: cosine similarity\n",
        "# the larger the cosine value, the smaller the two feature vectors' angle, the similar the movies\n",
        "# this similarity considers the direction only,\n",
        "# e.g. movie 1 with factor [1,2,3] and movie 2 with factor [2,4,6] are considered the same\n",
        "def cos_similar(k,mid):\n",
        "  '''\n",
        "  k: number of similar movies to find\n",
        "  mid: id of the movie to find similarities\n",
        "  '''\n",
        "  movie_info=spark.sql('select * from movie_factors where movieId='+str(mid)).toPandas()\n",
        "  if movie_info.shape[0]<=0:\n",
        "    print('No movie with id '+str(mid)+' is found in the data.')\n",
        "    return None, None\n",
        "  norm_m=sum(movie_info.iloc[0,1:].values**2)**0.5\n",
        "  temp=['select movieId,']\n",
        "  norm_str=['sqrt(']\n",
        "  for i in range(best_model.rank):\n",
        "    comd='feature'+str(i)+'*'+str(movie_info.iloc[0,i+1])\n",
        "    temp.append(comd+' as inner'+str(i)+',')\n",
        "    if i<best_model.rank-1:\n",
        "      norm_str.append('feature'+str(i)+'*feature'+str(i)+'+')\n",
        "    else:\n",
        "      norm_str.append('feature'+str(i)+'*feature'+str(i))\n",
        "  norm_str.append(') as norm')\n",
        "  temp.append(''.join(norm_str))\n",
        "  temp.append(' from movie_factors where movieId!='+str(mid))\n",
        "  inner=spark.sql(' '.join(temp))\n",
        "  inner=inner.selectExpr('movieId',\\\n",
        "                         '(inner0+inner1+inner2+inner3+inner4)/norm/'+str(norm_m)+' as innerP').\\\n",
        "                         orderBy('innerP',ascending=False).limit(k).toPandas()\n",
        "  out=None\n",
        "  for i in inner['movieId']:\n",
        "    if not out:\n",
        "      out=movies_df.where(movies_df.movieId==str(i))\n",
        "    else:\n",
        "      out=out.union(movies_df.where(movies_df.movieId==str(i)))\n",
        "  out=out.toPandas()\n",
        "  out.index=range(1,k+1)\n",
        "  return out, inner"
      ],
      "execution_count": null,
      "outputs": []
    },
    {
      "cell_type": "code",
      "metadata": {
        "id": "102Z8xKpF8wd",
        "colab": {
          "base_uri": "https://localhost:8080/",
          "height": 34
        },
        "outputId": "f1b1feb1-887f-4d0f-d6d2-aebf15357d47"
      },
      "source": [
        "# movie id 463, method 1, top 10 similar\n",
        "out11,ssd1=dist_similar(10,463)"
      ],
      "execution_count": null,
      "outputs": [
        {
          "output_type": "stream",
          "text": [
            "No movie with id 463 is found in the data.\n"
          ],
          "name": "stdout"
        }
      ]
    },
    {
      "cell_type": "code",
      "metadata": {
        "id": "8rHnS0OLn2Ia",
        "colab": {
          "base_uri": "https://localhost:8080/",
          "height": 34
        },
        "outputId": "38ac9eb2-43a2-4819-ee04-10d952e32ee3"
      },
      "source": [
        "# movie id 463, method 2, top 10 similar\n",
        "out12,inner1=cos_similar(10,463)"
      ],
      "execution_count": null,
      "outputs": [
        {
          "output_type": "stream",
          "text": [
            "No movie with id 463 is found in the data.\n"
          ],
          "name": "stdout"
        }
      ]
    },
    {
      "cell_type": "code",
      "metadata": {
        "id": "i-5jAarYnJ0x",
        "colab": {
          "base_uri": "https://localhost:8080/",
          "height": 359
        },
        "outputId": "8e65ee3f-9014-43d4-f759-e032440c1ace"
      },
      "source": [
        "# movie id 471, method 1, top 10 similar\n",
        "out21,ssd2=dist_similar(10,471)\n",
        "out21"
      ],
      "execution_count": null,
      "outputs": [
        {
          "output_type": "execute_result",
          "data": {
            "text/html": [
              "<div>\n",
              "<style scoped>\n",
              "    .dataframe tbody tr th:only-of-type {\n",
              "        vertical-align: middle;\n",
              "    }\n",
              "\n",
              "    .dataframe tbody tr th {\n",
              "        vertical-align: top;\n",
              "    }\n",
              "\n",
              "    .dataframe thead th {\n",
              "        text-align: right;\n",
              "    }\n",
              "</style>\n",
              "<table border=\"1\" class=\"dataframe\">\n",
              "  <thead>\n",
              "    <tr style=\"text-align: right;\">\n",
              "      <th></th>\n",
              "      <th>movieId</th>\n",
              "      <th>title</th>\n",
              "      <th>genres</th>\n",
              "    </tr>\n",
              "  </thead>\n",
              "  <tbody>\n",
              "    <tr>\n",
              "      <th>1</th>\n",
              "      <td>5505</td>\n",
              "      <td>Good Girl, The (2002)</td>\n",
              "      <td>Comedy|Drama</td>\n",
              "    </tr>\n",
              "    <tr>\n",
              "      <th>2</th>\n",
              "      <td>1647</td>\n",
              "      <td>Playing God (1997)</td>\n",
              "      <td>Crime|Drama|Thriller</td>\n",
              "    </tr>\n",
              "    <tr>\n",
              "      <th>3</th>\n",
              "      <td>2043</td>\n",
              "      <td>Darby O'Gill and the Little People (1959)</td>\n",
              "      <td>Adventure|Children|Fantasy</td>\n",
              "    </tr>\n",
              "    <tr>\n",
              "      <th>4</th>\n",
              "      <td>911</td>\n",
              "      <td>Charade (1963)</td>\n",
              "      <td>Comedy|Crime|Mystery|Romance|Thriller</td>\n",
              "    </tr>\n",
              "    <tr>\n",
              "      <th>5</th>\n",
              "      <td>4361</td>\n",
              "      <td>Tootsie (1982)</td>\n",
              "      <td>Comedy|Romance</td>\n",
              "    </tr>\n",
              "    <tr>\n",
              "      <th>6</th>\n",
              "      <td>2660</td>\n",
              "      <td>Thing from Another World, The (1951)</td>\n",
              "      <td>Horror|Sci-Fi</td>\n",
              "    </tr>\n",
              "    <tr>\n",
              "      <th>7</th>\n",
              "      <td>7766</td>\n",
              "      <td>Throne of Blood (Kumonosu jô) (1957)</td>\n",
              "      <td>Action|Drama|Thriller|War</td>\n",
              "    </tr>\n",
              "    <tr>\n",
              "      <th>8</th>\n",
              "      <td>249</td>\n",
              "      <td>Immortal Beloved (1994)</td>\n",
              "      <td>Drama|Romance</td>\n",
              "    </tr>\n",
              "    <tr>\n",
              "      <th>9</th>\n",
              "      <td>134214</td>\n",
              "      <td>Youth (2015)</td>\n",
              "      <td>Drama</td>\n",
              "    </tr>\n",
              "    <tr>\n",
              "      <th>10</th>\n",
              "      <td>30898</td>\n",
              "      <td>Upside of Anger, The (2005)</td>\n",
              "      <td>Comedy|Drama|Romance</td>\n",
              "    </tr>\n",
              "  </tbody>\n",
              "</table>\n",
              "</div>"
            ],
            "text/plain": [
              "   movieId  ...                                 genres\n",
              "1     5505  ...                           Comedy|Drama\n",
              "2     1647  ...                   Crime|Drama|Thriller\n",
              "3     2043  ...             Adventure|Children|Fantasy\n",
              "4      911  ...  Comedy|Crime|Mystery|Romance|Thriller\n",
              "5     4361  ...                         Comedy|Romance\n",
              "6     2660  ...                          Horror|Sci-Fi\n",
              "7     7766  ...              Action|Drama|Thriller|War\n",
              "8      249  ...                          Drama|Romance\n",
              "9   134214  ...                                  Drama\n",
              "10   30898  ...                   Comedy|Drama|Romance\n",
              "\n",
              "[10 rows x 3 columns]"
            ]
          },
          "metadata": {
            "tags": []
          },
          "execution_count": 55
        }
      ]
    },
    {
      "cell_type": "code",
      "metadata": {
        "id": "1zZijV2NoR2E",
        "colab": {
          "base_uri": "https://localhost:8080/",
          "height": 359
        },
        "outputId": "ba1e09bd-18f7-428d-a827-608c6d210222"
      },
      "source": [
        "# movie id 471, method 2, top 10 similar\n",
        "out22,inner2=cos_similar(10,471)\n",
        "out22"
      ],
      "execution_count": null,
      "outputs": [
        {
          "output_type": "execute_result",
          "data": {
            "text/html": [
              "<div>\n",
              "<style scoped>\n",
              "    .dataframe tbody tr th:only-of-type {\n",
              "        vertical-align: middle;\n",
              "    }\n",
              "\n",
              "    .dataframe tbody tr th {\n",
              "        vertical-align: top;\n",
              "    }\n",
              "\n",
              "    .dataframe thead th {\n",
              "        text-align: right;\n",
              "    }\n",
              "</style>\n",
              "<table border=\"1\" class=\"dataframe\">\n",
              "  <thead>\n",
              "    <tr style=\"text-align: right;\">\n",
              "      <th></th>\n",
              "      <th>movieId</th>\n",
              "      <th>title</th>\n",
              "      <th>genres</th>\n",
              "    </tr>\n",
              "  </thead>\n",
              "  <tbody>\n",
              "    <tr>\n",
              "      <th>1</th>\n",
              "      <td>911</td>\n",
              "      <td>Charade (1963)</td>\n",
              "      <td>Comedy|Crime|Mystery|Romance|Thriller</td>\n",
              "    </tr>\n",
              "    <tr>\n",
              "      <th>2</th>\n",
              "      <td>4361</td>\n",
              "      <td>Tootsie (1982)</td>\n",
              "      <td>Comedy|Romance</td>\n",
              "    </tr>\n",
              "    <tr>\n",
              "      <th>3</th>\n",
              "      <td>249</td>\n",
              "      <td>Immortal Beloved (1994)</td>\n",
              "      <td>Drama|Romance</td>\n",
              "    </tr>\n",
              "    <tr>\n",
              "      <th>4</th>\n",
              "      <td>7766</td>\n",
              "      <td>Throne of Blood (Kumonosu jô) (1957)</td>\n",
              "      <td>Action|Drama|Thriller|War</td>\n",
              "    </tr>\n",
              "    <tr>\n",
              "      <th>5</th>\n",
              "      <td>69951</td>\n",
              "      <td>Imaginarium of Doctor Parnassus, The (2009)</td>\n",
              "      <td>Drama|Fantasy</td>\n",
              "    </tr>\n",
              "    <tr>\n",
              "      <th>6</th>\n",
              "      <td>134214</td>\n",
              "      <td>Youth (2015)</td>\n",
              "      <td>Drama</td>\n",
              "    </tr>\n",
              "    <tr>\n",
              "      <th>7</th>\n",
              "      <td>6461</td>\n",
              "      <td>Unforgiven, The (1960)</td>\n",
              "      <td>Drama|Western</td>\n",
              "    </tr>\n",
              "    <tr>\n",
              "      <th>8</th>\n",
              "      <td>5505</td>\n",
              "      <td>Good Girl, The (2002)</td>\n",
              "      <td>Comedy|Drama</td>\n",
              "    </tr>\n",
              "    <tr>\n",
              "      <th>9</th>\n",
              "      <td>44709</td>\n",
              "      <td>Akeelah and the Bee (2006)</td>\n",
              "      <td>Drama</td>\n",
              "    </tr>\n",
              "    <tr>\n",
              "      <th>10</th>\n",
              "      <td>40583</td>\n",
              "      <td>Syriana (2005)</td>\n",
              "      <td>Drama|Thriller</td>\n",
              "    </tr>\n",
              "  </tbody>\n",
              "</table>\n",
              "</div>"
            ],
            "text/plain": [
              "   movieId  ...                                 genres\n",
              "1      911  ...  Comedy|Crime|Mystery|Romance|Thriller\n",
              "2     4361  ...                         Comedy|Romance\n",
              "3      249  ...                          Drama|Romance\n",
              "4     7766  ...              Action|Drama|Thriller|War\n",
              "5    69951  ...                          Drama|Fantasy\n",
              "6   134214  ...                                  Drama\n",
              "7     6461  ...                          Drama|Western\n",
              "8     5505  ...                           Comedy|Drama\n",
              "9    44709  ...                                  Drama\n",
              "10   40583  ...                         Drama|Thriller\n",
              "\n",
              "[10 rows x 3 columns]"
            ]
          },
          "metadata": {
            "tags": []
          },
          "execution_count": 56
        }
      ]
    },
    {
      "cell_type": "code",
      "metadata": {
        "id": "8RE7jDVzoiBi",
        "colab": {
          "base_uri": "https://localhost:8080/",
          "height": 204
        },
        "outputId": "f45e0002-1163-485c-a222-9df7fc2cf50b"
      },
      "source": [
        "# movie id 10, method 1, top 5 similar\n",
        "out31,ssd3=dist_similar(5,10)\n",
        "out31"
      ],
      "execution_count": null,
      "outputs": [
        {
          "output_type": "execute_result",
          "data": {
            "text/html": [
              "<div>\n",
              "<style scoped>\n",
              "    .dataframe tbody tr th:only-of-type {\n",
              "        vertical-align: middle;\n",
              "    }\n",
              "\n",
              "    .dataframe tbody tr th {\n",
              "        vertical-align: top;\n",
              "    }\n",
              "\n",
              "    .dataframe thead th {\n",
              "        text-align: right;\n",
              "    }\n",
              "</style>\n",
              "<table border=\"1\" class=\"dataframe\">\n",
              "  <thead>\n",
              "    <tr style=\"text-align: right;\">\n",
              "      <th></th>\n",
              "      <th>movieId</th>\n",
              "      <th>title</th>\n",
              "      <th>genres</th>\n",
              "    </tr>\n",
              "  </thead>\n",
              "  <tbody>\n",
              "    <tr>\n",
              "      <th>1</th>\n",
              "      <td>5219</td>\n",
              "      <td>Resident Evil (2002)</td>\n",
              "      <td>Action|Horror|Sci-Fi|Thriller</td>\n",
              "    </tr>\n",
              "    <tr>\n",
              "      <th>2</th>\n",
              "      <td>4174</td>\n",
              "      <td>Avalon (1990)</td>\n",
              "      <td>Drama</td>\n",
              "    </tr>\n",
              "    <tr>\n",
              "      <th>3</th>\n",
              "      <td>2774</td>\n",
              "      <td>Better Than Chocolate (1999)</td>\n",
              "      <td>Comedy|Romance</td>\n",
              "    </tr>\n",
              "    <tr>\n",
              "      <th>4</th>\n",
              "      <td>6769</td>\n",
              "      <td>Mambo Italiano (2003)</td>\n",
              "      <td>Comedy</td>\n",
              "    </tr>\n",
              "    <tr>\n",
              "      <th>5</th>\n",
              "      <td>34321</td>\n",
              "      <td>Bad News Bears (2005)</td>\n",
              "      <td>Children|Comedy</td>\n",
              "    </tr>\n",
              "  </tbody>\n",
              "</table>\n",
              "</div>"
            ],
            "text/plain": [
              "  movieId                         title                         genres\n",
              "1    5219          Resident Evil (2002)  Action|Horror|Sci-Fi|Thriller\n",
              "2    4174                 Avalon (1990)                          Drama\n",
              "3    2774  Better Than Chocolate (1999)                 Comedy|Romance\n",
              "4    6769         Mambo Italiano (2003)                         Comedy\n",
              "5   34321         Bad News Bears (2005)                Children|Comedy"
            ]
          },
          "metadata": {
            "tags": []
          },
          "execution_count": 57
        }
      ]
    },
    {
      "cell_type": "code",
      "metadata": {
        "id": "pHzp46ziopER",
        "colab": {
          "base_uri": "https://localhost:8080/",
          "height": 204
        },
        "outputId": "a9538c35-2035-448d-adfe-ad1b4c181161"
      },
      "source": [
        "# movie id 10, method 2, top 5 similar\n",
        "out42,inner3=cos_similar(5,10)\n",
        "out42"
      ],
      "execution_count": null,
      "outputs": [
        {
          "output_type": "execute_result",
          "data": {
            "text/html": [
              "<div>\n",
              "<style scoped>\n",
              "    .dataframe tbody tr th:only-of-type {\n",
              "        vertical-align: middle;\n",
              "    }\n",
              "\n",
              "    .dataframe tbody tr th {\n",
              "        vertical-align: top;\n",
              "    }\n",
              "\n",
              "    .dataframe thead th {\n",
              "        text-align: right;\n",
              "    }\n",
              "</style>\n",
              "<table border=\"1\" class=\"dataframe\">\n",
              "  <thead>\n",
              "    <tr style=\"text-align: right;\">\n",
              "      <th></th>\n",
              "      <th>movieId</th>\n",
              "      <th>title</th>\n",
              "      <th>genres</th>\n",
              "    </tr>\n",
              "  </thead>\n",
              "  <tbody>\n",
              "    <tr>\n",
              "      <th>1</th>\n",
              "      <td>4886</td>\n",
              "      <td>Monsters, Inc. (2001)</td>\n",
              "      <td>Adventure|Animation|Children|Comedy|Fantasy</td>\n",
              "    </tr>\n",
              "    <tr>\n",
              "      <th>2</th>\n",
              "      <td>112175</td>\n",
              "      <td>How to Train Your Dragon 2 (2014)</td>\n",
              "      <td>Action|Adventure|Animation</td>\n",
              "    </tr>\n",
              "    <tr>\n",
              "      <th>3</th>\n",
              "      <td>2115</td>\n",
              "      <td>Indiana Jones and the Temple of Doom (1984)</td>\n",
              "      <td>Action|Adventure|Fantasy</td>\n",
              "    </tr>\n",
              "    <tr>\n",
              "      <th>4</th>\n",
              "      <td>1495</td>\n",
              "      <td>Turbo: A Power Rangers Movie (1997)</td>\n",
              "      <td>Action|Adventure|Children</td>\n",
              "    </tr>\n",
              "    <tr>\n",
              "      <th>5</th>\n",
              "      <td>2491</td>\n",
              "      <td>Simply Irresistible (1999)</td>\n",
              "      <td>Comedy|Romance</td>\n",
              "    </tr>\n",
              "  </tbody>\n",
              "</table>\n",
              "</div>"
            ],
            "text/plain": [
              "  movieId  ...                                       genres\n",
              "1    4886  ...  Adventure|Animation|Children|Comedy|Fantasy\n",
              "2  112175  ...                   Action|Adventure|Animation\n",
              "3    2115  ...                     Action|Adventure|Fantasy\n",
              "4    1495  ...                    Action|Adventure|Children\n",
              "5    2491  ...                               Comedy|Romance\n",
              "\n",
              "[5 rows x 3 columns]"
            ]
          },
          "metadata": {
            "tags": []
          },
          "execution_count": 58
        }
      ]
    },
    {
      "cell_type": "markdown",
      "metadata": {
        "id": "2x_4hPS8o05n"
      },
      "source": [
        "### Overall Summary\n"
      ]
    },
    {
      "cell_type": "markdown",
      "metadata": {
        "id": "FFhXN7fp8GD9"
      },
      "source": [
        "#### Motivation:\n",
        "\n"
      ]
    },
    {
      "cell_type": "markdown",
      "metadata": {
        "id": "U5kVt46X8VIl"
      },
      "source": [
        "As a website to watch movies, we will make more money if more customers are able to find their favorite films through our services, so a good recommendation system will be the key to our success. Based on this idea, I tried myself to build a simple recommendation system using the data from GroupLens (https://grouplens.org/datasets/movielens/latest/) to understand how a recommendation system is constructed. In this way, I will be prepared when I become a data scientist for a movie service company in the future."
      ]
    },
    {
      "cell_type": "markdown",
      "metadata": {
        "id": "qWrz8vD0ARGN"
      },
      "source": [
        "#### Steps:"
      ]
    },
    {
      "cell_type": "markdown",
      "metadata": {
        "id": "f3IwUaZb8Ji1"
      },
      "source": [
        "**Step 1.** Data exploration (EDA): obtain the general information about the data, including the total number of users, total number of movies and the list of unrated movies .etc; OLAP analysis to find the genres, all movie categories and number of movies in each category.\n",
        "\n",
        "**Step 2.** Data preprocessing: keep only the userId, movieId and rating columns; change the data type from string to numeric; separate the data to 80% training and 20% testing.\n",
        "\n",
        "**Step 3.** Model building: fit the alternative least square (ALS) model on the training data; select the hyper-parameters through grid search and 4-fold cross validation; evaluate the tuned model on testing data.\n",
        "\n",
        "**Step 4.**Model application: apply the model on the whole rating data to see the performance; use the model to make recommendations to users with given userIds; use one of the model output: item factor to find similar movies for movies with given movieIds.\n",
        "\n"
      ]
    },
    {
      "cell_type": "markdown",
      "metadata": {
        "id": "sTCA2V82AunZ"
      },
      "source": [
        "#### Output and conclusion:"
      ]
    },
    {
      "cell_type": "markdown",
      "metadata": {
        "id": "aYBW8KniKHRr"
      },
      "source": [
        " - The best model for ALS has the parameters to be: maxIter=10, regParam=0.1, rank=5, alpha=0.1. The rooted mean squared error (RMSE) on the testing data is 0.88 and on the whole dataset is 0.69."
      ]
    },
    {
      "cell_type": "markdown",
      "metadata": {
        "id": "NUxvzcDqLCGw"
      },
      "source": [
        " - As mentioned in the steps, the ALS model is not only able to provide recommendations, but also able to mine latent information, which is the latent variable in matrix factorization. This latent information is helpful that it can help us gain some deeper insight. In this project, this information was used to measure the difference between any two movies so that we are able to find similar movies .  "
      ]
    }
  ]
}