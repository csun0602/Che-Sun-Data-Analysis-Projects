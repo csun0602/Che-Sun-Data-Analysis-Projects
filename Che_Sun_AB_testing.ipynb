{
  "nbformat": 4,
  "nbformat_minor": 0,
  "metadata": {
    "colab": {
      "provenance": [],
      "authorship_tag": "ABX9TyOPQeFxefEzMiPjyMR+oXa3",
      "include_colab_link": true
    },
    "kernelspec": {
      "name": "python3",
      "display_name": "Python 3"
    },
    "language_info": {
      "name": "python"
    }
  },
  "cells": [
    {
      "cell_type": "markdown",
      "metadata": {
        "id": "view-in-github",
        "colab_type": "text"
      },
      "source": [
        "<a href=\"https://colab.research.google.com/github/csun0602/Che-Sun-Data-analysis-Projects/blob/main/Che_Sun_AB_testing.ipynb\" target=\"_parent\"><img src=\"https://colab.research.google.com/assets/colab-badge.svg\" alt=\"Open In Colab\"/></a>"
      ]
    },
    {
      "cell_type": "markdown",
      "source": [
        "## **In this project, I will have a practice on AB test**"
      ],
      "metadata": {
        "id": "ar2Z0jWliuog"
      }
    },
    {
      "cell_type": "markdown",
      "source": [
        "Generate 100000 dice rolling results"
      ],
      "metadata": {
        "id": "ZAwSdx_zi3_Y"
      }
    },
    {
      "cell_type": "code",
      "execution_count": null,
      "metadata": {
        "colab": {
          "base_uri": "https://localhost:8080/"
        },
        "id": "wY_ow-noiorh",
        "outputId": "70f45b16-9c0a-4816-c30c-b0146244b933"
      },
      "outputs": [
        {
          "output_type": "stream",
          "name": "stdout",
          "text": [
            "3.50295\n",
            "1.7081426455363735\n"
          ]
        }
      ],
      "source": [
        "import numpy as np\n",
        "random_data = np.random.randint(1, 7, 100000)\n",
        "print(random_data.mean())\n",
        "print(random_data.std())"
      ]
    },
    {
      "cell_type": "code",
      "source": [
        "print(random_data[0:100])"
      ],
      "metadata": {
        "colab": {
          "base_uri": "https://localhost:8080/"
        },
        "id": "ZWnR2G9Wi_Z-",
        "outputId": "ac3dcd8b-bd6c-4c3d-bb30-fe1ea56e99dd"
      },
      "execution_count": null,
      "outputs": [
        {
          "output_type": "stream",
          "name": "stdout",
          "text": [
            "[6 1 6 6 5 2 6 5 4 3 3 3 3 4 5 3 1 3 3 4 1 6 4 4 2 4 2 4 4 2 1 3 4 3 5 5 2\n",
            " 4 1 3 5 2 6 5 3 1 5 2 1 3 4 1 5 3 6 2 4 5 4 3 5 2 3 3 3 6 3 4 1 4 2 2 3 5\n",
            " 5 5 5 5 4 4 5 5 4 3 5 6 3 2 2 5 5 3 3 6 3 4 5 6 6 6]\n"
          ]
        }
      ]
    },
    {
      "cell_type": "code",
      "source": [
        "sample1 = []\n",
        "for i in range(0, 10):\n",
        "    sample1.append(random_data[int(np.random.random() * len(random_data))])\n",
        "\n",
        "print(sample1)"
      ],
      "metadata": {
        "colab": {
          "base_uri": "https://localhost:8080/"
        },
        "id": "aLrWfRMEjArw",
        "outputId": "63ffae06-f561-4f67-dad8-e6cd5d0b0243"
      },
      "execution_count": null,
      "outputs": [
        {
          "output_type": "stream",
          "name": "stdout",
          "text": [
            "[3, 2, 5, 4, 2, 5, 1, 3, 5, 4]\n"
          ]
        }
      ]
    },
    {
      "cell_type": "code",
      "source": [
        "import matplotlib.pyplot as plt\n",
        "plt.rcParams.update({'figure.figsize':(7,5), 'figure.dpi':100})\n",
        "\n",
        "plt.hist(random_data)\n",
        "plt.gca().set(title='Frequency Histogram', ylabel='Frequency');"
      ],
      "metadata": {
        "colab": {
          "base_uri": "https://localhost:8080/",
          "height": 468
        },
        "id": "5STjXcYmjHud",
        "outputId": "9947833a-559a-45f4-acaf-b0a618cc746c"
      },
      "execution_count": null,
      "outputs": [
        {
          "output_type": "display_data",
          "data": {
            "text/plain": [
              "<Figure size 700x500 with 1 Axes>"
            ],
            "image/png": "[encoded data removed]"
          },
          "metadata": {}
        }
      ]
    },
    {
      "cell_type": "code",
      "source": [
        "# Get the sample mean\n",
        "np.mean(sample1)"
      ],
      "metadata": {
        "id": "KkCZuKw8jMEN"
      },
      "execution_count": null,
      "outputs": []
    },
    {
      "cell_type": "code",
      "source": [
        "# Get the standard deviation\n",
        "np.std(sample1)"
      ],
      "metadata": {
        "colab": {
          "base_uri": "https://localhost:8080/"
        },
        "id": "jywS0iHdjZ_T",
        "outputId": "3de06208-12f5-42c8-e7a2-6aed7e04871c"
      },
      "execution_count": null,
      "outputs": [
        {
          "output_type": "execute_result",
          "data": {
            "text/plain": [
              "1.3564659966250538"
            ]
          },
          "metadata": {},
          "execution_count": 6
        }
      ]
    },
    {
      "cell_type": "markdown",
      "source": [
        "**CLT Central Limit Theorem**"
      ],
      "metadata": {
        "id": "8XppcNb-ji9y"
      }
    },
    {
      "cell_type": "code",
      "source": [
        "samples = []\n",
        "samples_mean = []\n",
        "samples_std = []\n",
        "\n",
        "for i in range(0, 1000):\n",
        "    sample = []\n",
        "    for j in range(0, 50):\n",
        "        sample.append(random_data[int(np.random.random() * len(random_data))])\n",
        "    sample_np = np.array(sample)\n",
        "    samples_mean.append(sample_np.mean())\n",
        "    samples_std.append(sample_np.std())\n",
        "    samples.append(sample_np)\n",
        "\n",
        "samples_mean_np = np.array(samples_mean)\n",
        "samples_std_np = np.array(samples_std)\n",
        "\n",
        "print(samples_mean_np)"
      ],
      "metadata": {
        "colab": {
          "base_uri": "https://localhost:8080/"
        },
        "id": "4lZRPGmWjhAo",
        "outputId": "33c45552-94eb-4f03-a3d3-a0adb306e715"
      },
      "execution_count": null,
      "outputs": [
        {
          "output_type": "stream",
          "name": "stdout",
          "text": [
            "[3.32 3.52 3.6  3.82 3.16 3.44 3.4  3.6  3.24 3.4  3.4  3.58 3.44 3.48\n",
            " 3.42 3.02 3.72 3.32 3.52 3.4  2.88 3.44 3.64 3.42 3.34 3.26 3.52 3.24\n",
            " 3.62 3.24 4.2  3.32 3.24 3.54 3.48 3.54 3.64 3.38 3.32 3.58 2.92 3.42\n",
            " 3.28 3.64 3.3  3.98 3.68 3.18 3.82 3.5  3.34 3.64 3.28 3.16 3.62 3.42\n",
            " 3.92 3.32 3.88 3.38 3.36 3.7  3.48 3.96 3.62 3.34 3.38 3.92 3.04 3.64\n",
            " 3.82 3.32 3.76 3.04 3.58 3.3  3.22 3.44 3.42 3.32 3.56 3.5  3.78 3.36\n",
            " 3.1  3.54 3.58 3.78 3.32 3.44 3.42 3.26 3.38 3.66 3.02 3.88 3.38 3.48\n",
            " 3.7  3.6  3.56 3.92 3.48 3.74 3.7  3.52 3.48 3.74 3.6  3.08 3.1  3.56\n",
            " 3.46 3.68 3.84 3.64 3.26 3.54 3.74 3.4  3.64 3.68 3.46 3.16 3.52 3.4\n",
            " 3.38 3.02 3.88 3.24 3.56 4.   3.74 3.5  3.68 3.12 3.24 3.2  3.26 3.68\n",
            " 3.36 3.34 3.8  3.5  3.42 3.36 3.24 3.52 3.4  3.66 3.66 3.18 3.64 3.46\n",
            " 4.02 3.26 3.5  3.38 2.88 3.86 3.38 3.64 3.48 3.14 3.54 3.58 4.04 3.1\n",
            " 3.54 3.42 3.3  3.72 3.66 3.44 3.34 3.86 3.62 3.8  3.78 3.72 3.66 3.74\n",
            " 3.48 3.68 3.12 4.06 3.72 3.68 3.46 4.16 3.26 3.26 2.64 3.18 3.44 3.68\n",
            " 3.7  3.96 3.72 3.86 3.3  3.32 3.66 3.22 3.92 2.94 3.66 3.66 3.1  3.12\n",
            " 3.66 3.26 3.52 3.34 3.34 3.74 3.68 3.34 3.66 3.22 3.32 3.6  3.78 3.86\n",
            " 3.74 3.52 3.96 3.12 3.84 3.62 3.64 3.28 3.24 3.72 3.1  3.48 3.52 3.26\n",
            " 3.24 4.   3.34 3.58 3.66 3.64 3.48 3.26 3.34 3.38 3.44 3.58 3.5  3.46\n",
            " 3.06 3.6  3.52 3.3  3.48 3.32 3.56 3.52 3.62 3.68 3.4  3.8  3.66 3.62\n",
            " 3.46 3.96 3.46 3.52 2.82 3.34 3.48 3.84 3.42 3.52 3.28 3.34 3.22 3.46\n",
            " 3.62 3.54 3.52 3.66 3.68 3.8  3.2  3.4  3.28 3.42 3.6  3.22 3.96 3.44\n",
            " 3.8  3.68 3.42 3.42 3.84 3.58 3.32 3.66 3.58 3.72 3.76 3.38 3.5  3.38\n",
            " 3.46 3.92 3.3  3.76 3.74 3.68 3.58 3.48 3.56 3.6  3.32 3.76 3.42 3.14\n",
            " 3.78 3.56 3.68 3.74 3.52 3.36 3.12 3.4  3.3  3.34 3.82 3.16 3.7  3.48\n",
            " 3.56 3.78 3.7  3.58 3.56 3.32 3.1  3.5  3.36 3.26 3.62 3.44 3.7  3.24\n",
            " 3.64 3.46 3.24 3.7  3.6  3.7  3.62 3.28 3.36 3.72 3.62 3.2  3.32 3.56\n",
            " 3.42 3.56 3.44 3.58 4.04 3.94 3.66 3.92 3.44 3.42 3.62 3.42 3.56 3.5\n",
            " 3.78 3.54 3.36 3.74 3.4  3.16 3.68 3.8  3.5  3.5  3.72 3.24 3.7  3.36\n",
            " 3.44 3.58 3.52 3.86 3.58 3.54 3.44 3.68 3.48 3.52 3.36 3.34 3.42 3.9\n",
            " 3.52 3.4  3.04 3.14 3.48 3.5  3.42 3.54 3.46 3.44 3.48 3.94 3.3  3.4\n",
            " 3.02 3.54 3.96 3.24 3.98 3.36 3.84 3.42 3.58 3.52 3.26 3.28 3.84 3.38\n",
            " 3.48 3.54 3.32 3.5  3.34 3.82 3.46 3.48 3.12 3.06 3.64 3.42 3.68 3.62\n",
            " 3.04 3.7  3.16 3.18 3.8  3.12 3.64 3.58 3.86 3.46 3.5  3.64 3.78 3.46\n",
            " 3.4  3.86 3.12 3.64 3.52 3.26 3.28 3.18 3.42 3.24 3.4  3.7  3.78 3.46\n",
            " 3.82 3.42 3.26 3.68 3.58 3.44 3.24 3.02 3.38 3.34 3.62 3.88 3.58 3.42\n",
            " 3.8  3.24 3.4  3.72 3.92 3.24 4.04 3.34 3.88 3.42 3.36 3.54 3.78 3.82\n",
            " 3.2  3.58 3.8  3.46 3.34 3.36 3.32 3.4  3.36 3.52 3.52 3.54 3.28 3.3\n",
            " 3.24 3.62 3.32 3.74 3.54 3.6  2.92 3.72 3.36 3.44 3.54 3.04 3.78 3.72\n",
            " 3.24 3.58 3.28 3.56 3.78 3.6  3.76 3.28 3.42 3.46 3.66 3.64 3.64 3.64\n",
            " 3.44 3.44 3.36 3.24 3.54 3.62 3.6  3.66 3.72 3.62 4.06 3.6  3.84 3.66\n",
            " 3.74 3.36 3.36 3.32 3.82 3.46 3.56 3.82 3.56 3.28 3.64 3.82 3.42 3.24\n",
            " 3.5  3.18 3.74 3.44 3.5  3.24 3.5  3.66 3.02 3.4  3.54 3.54 3.76 3.68\n",
            " 3.8  3.6  3.06 3.32 3.42 3.24 3.36 3.26 3.22 3.36 3.58 3.66 3.26 3.3\n",
            " 3.4  3.72 3.8  3.56 3.42 3.04 3.76 3.24 3.16 3.46 3.46 3.14 3.66 3.6\n",
            " 3.34 3.22 3.18 3.86 3.58 2.92 3.28 3.22 3.36 3.1  3.6  3.58 3.92 3.76\n",
            " 3.22 3.24 3.46 3.08 3.44 3.24 3.58 3.48 3.34 3.66 3.32 3.78 2.88 3.52\n",
            " 3.92 3.3  3.2  3.4  3.52 3.42 3.42 4.   3.28 3.52 3.66 3.52 3.44 3.36\n",
            " 3.58 3.52 3.56 3.38 3.36 3.64 3.6  3.54 3.2  3.64 3.5  3.58 3.9  3.44\n",
            " 3.2  3.62 3.26 3.64 3.46 3.64 3.92 3.14 3.58 3.26 3.38 3.24 3.14 3.68\n",
            " 3.72 3.66 3.3  2.88 2.98 4.02 3.78 3.3  3.54 3.46 3.46 3.1  3.36 3.36\n",
            " 3.26 3.16 3.46 3.08 3.8  3.28 3.74 3.7  3.44 3.46 3.68 3.26 3.2  3.68\n",
            " 3.54 3.6  3.64 3.46 3.48 3.18 3.34 3.84 3.58 3.78 3.78 3.34 3.36 3.54\n",
            " 3.9  3.38 3.48 3.4  3.7  3.44 3.88 3.38 3.88 3.52 4.04 3.76 3.64 3.3\n",
            " 3.6  3.4  3.38 3.24 3.32 3.46 3.76 3.64 3.56 3.88 3.6  3.44 3.48 3.68\n",
            " 3.7  3.24 3.7  3.5  3.32 3.28 3.16 3.88 3.38 3.2  3.66 3.18 4.02 3.64\n",
            " 3.36 3.1  3.28 3.16 3.42 3.4  3.18 3.92 3.62 3.48 3.8  3.44 3.34 3.08\n",
            " 3.52 3.66 3.76 3.98 3.32 3.74 3.6  3.2  4.08 3.64 3.26 4.06 3.66 3.32\n",
            " 3.72 3.44 3.66 3.14 4.06 3.52 3.66 2.98 3.78 3.82 3.98 3.4  3.4  3.52\n",
            " 3.06 3.38 3.54 3.44 3.92 3.8  3.32 3.52 2.92 3.78 3.52 3.46 3.44 3.6\n",
            " 3.28 3.66 3.54 3.66 3.38 3.34 3.86 3.92 3.4  3.64 3.96 3.4  3.52 3.58\n",
            " 3.38 4.04 3.88 3.36 3.42 3.86 3.42 3.56 3.76 3.12 3.16 3.98 3.72 3.54\n",
            " 3.6  3.68 3.02 3.04 3.94 3.64 3.46 3.5  3.82 3.38 3.5  3.28 3.28 3.34\n",
            " 3.52 3.7  3.64 3.28 3.7  3.3  3.64 3.14 3.3  3.98 3.82 3.6  3.32 3.58\n",
            " 3.8  3.26 3.54 3.7  3.46 3.64 3.42 3.8  3.08 3.74 3.3  3.36 3.48 3.4\n",
            " 3.72 3.38 3.98 3.92 3.7  3.68 3.02 3.32 3.26 3.54 3.46 3.64 3.46 3.56\n",
            " 3.26 3.82 3.62 3.68 3.94 3.14 2.96 3.62 3.54 3.66 3.42 3.6  3.64 3.4\n",
            " 3.6  3.58 3.52 3.5  3.04 2.74 3.3  3.6  3.4  3.56 3.5  3.48 2.98 3.46\n",
            " 3.32 3.84 3.98 3.48 3.44 3.96 3.7  3.7  3.56 3.18 3.42 3.48 3.48 3.42\n",
            " 4.02 3.34 3.72 3.64 3.6  3.36 3.44 3.58 3.36 3.52 3.06 3.12 3.96 3.38\n",
            " 3.2  3.36 3.44 3.4  3.34 3.5  3.48 3.48 3.46 3.48 3.5  3.74 3.44 3.32\n",
            " 3.22 3.62 3.7  3.3  3.64 3.24 3.66 3.32 3.62 3.44 4.14 3.06 3.68 3.52\n",
            " 3.54 4.02 2.98 3.22 3.76 3.8 ]\n"
          ]
        }
      ]
    },
    {
      "cell_type": "code",
      "source": [
        "samples_mean_mean = samples_mean_np.mean()\n",
        "print(samples_mean_mean)\n",
        "samples_mean_std = samples_mean_np.std()\n",
        "print(samples_mean_std)"
      ],
      "metadata": {
        "colab": {
          "base_uri": "https://localhost:8080/"
        },
        "id": "3Qlu9DsljotA",
        "outputId": "9601c247-ed70-4411-fd39-29ddcf8537a3"
      },
      "execution_count": null,
      "outputs": [
        {
          "output_type": "stream",
          "name": "stdout",
          "text": [
            "3.5002400000000002\n",
            "0.24098618715602765\n"
          ]
        }
      ]
    },
    {
      "cell_type": "code",
      "source": [
        "import matplotlib.pyplot as plt\n",
        "%matplotlib inline\n",
        "plt.rcParams.update({'figure.figsize':(7,5), 'figure.dpi':100})\n",
        "\n",
        "# Plot Histogram on x\n",
        "#x = np.random.normal(size = 1000)\n",
        "plt.hist(samples_mean_np, bins=20)\n",
        "plt.gca().set(title='Frequency Histogram', ylabel='Frequency')"
      ],
      "metadata": {
        "colab": {
          "base_uri": "https://localhost:8080/",
          "height": 486
        },
        "id": "oAwarH7sjuGA",
        "outputId": "d5486eee-2d1c-439b-c8d5-0638460fc083"
      },
      "execution_count": null,
      "outputs": [
        {
          "output_type": "execute_result",
          "data": {
            "text/plain": [
              "[Text(0.5, 1.0, 'Frequency Histogram'), Text(0, 0.5, 'Frequency')]"
            ]
          },
          "metadata": {},
          "execution_count": 9
        },
        {
          "output_type": "display_data",
          "data": {
            "text/plain": [
              "<Figure size 700x500 with 1 Axes>"
            ],
            "image/png": "[encoded data removed]"
          },
          "metadata": {}
        }
      ]
    },
    {
      "cell_type": "markdown",
      "source": [
        "**AB Testing**"
      ],
      "metadata": {
        "id": "V8t95sf5j0Qu"
      }
    },
    {
      "cell_type": "code",
      "source": [
        "from scipy.stats import norm\n",
        "#norm.cdf(-24), print the CDF of -0.632 in the standard normal distribution\n",
        "norm.cdf(-0.632)"
      ],
      "metadata": {
        "colab": {
          "base_uri": "https://localhost:8080/"
        },
        "id": "liYHKVSCjyHN",
        "outputId": "be58bb95-2e66-4ab3-9771-ee1f924a420d"
      },
      "execution_count": null,
      "outputs": [
        {
          "output_type": "execute_result",
          "data": {
            "text/plain": [
              "0.2636934386118963"
            ]
          },
          "metadata": {},
          "execution_count": 10
        }
      ]
    },
    {
      "cell_type": "code",
      "source": [
        "# print the CDF of -2 in the standard normal distribution\n",
        "from scipy.stats import norm\n",
        "norm.cdf(-2)"
      ],
      "metadata": {
        "colab": {
          "base_uri": "https://localhost:8080/"
        },
        "id": "ZDLHiCdHkK8B",
        "outputId": "88bee331-0e46-4f3c-a166-20113124ee32"
      },
      "execution_count": null,
      "outputs": [
        {
          "output_type": "execute_result",
          "data": {
            "text/plain": [
              "0.022750131948179195"
            ]
          },
          "metadata": {},
          "execution_count": 11
        }
      ]
    },
    {
      "cell_type": "code",
      "source": [
        "# This code is correctly calculating the two-tailed p-value for a t-test with the given parameters.\n",
        "from scipy.stats import t\n",
        "alpha = 0.05\n",
        "t_stat = 2\n",
        "df = 200\n",
        "p = (1-t.cdf(abs(t_stat),df))*2\n",
        "print(\"p value:\", p)"
      ],
      "metadata": {
        "colab": {
          "base_uri": "https://localhost:8080/"
        },
        "id": "p40rtBhmkTEv",
        "outputId": "b6dee6d6-d6a8-4389-9522-4d4ac64ef088"
      },
      "execution_count": null,
      "outputs": [
        {
          "output_type": "stream",
          "name": "stdout",
          "text": [
            "p value: 0.04685318618707113\n"
          ]
        }
      ]
    },
    {
      "cell_type": "code",
      "source": [
        "norm.cdf(-1.18)"
      ],
      "metadata": {
        "colab": {
          "base_uri": "https://localhost:8080/"
        },
        "id": "A3ds3Aifkmgm",
        "outputId": "63a11200-3f41-497d-f3c2-12ceefb15d6a"
      },
      "execution_count": null,
      "outputs": [
        {
          "output_type": "execute_result",
          "data": {
            "text/plain": [
              "0.11900010745520073"
            ]
          },
          "metadata": {},
          "execution_count": 14
        }
      ]
    },
    {
      "cell_type": "code",
      "source": [
        "norm.cdf(-3.6)"
      ],
      "metadata": {
        "colab": {
          "base_uri": "https://localhost:8080/"
        },
        "id": "oHntLY1Wkn4P",
        "outputId": "1d797530-7e46-4b15-d133-764139b97fa5"
      },
      "execution_count": null,
      "outputs": [
        {
          "output_type": "execute_result",
          "data": {
            "text/plain": [
              "0.00015910859015753364"
            ]
          },
          "metadata": {},
          "execution_count": 15
        }
      ]
    },
    {
      "cell_type": "code",
      "source": [
        "# A:\n",
        "import math\n",
        "import numpy as np\n",
        "from numpy.random import randn\n",
        "from statsmodels.stats.weightstats import ztest\n",
        "\n",
        "# Randomly generate 50 sessions, which length mean is 102\n",
        "\n",
        "mean_Session_length = 102\n",
        "sd_Session_length = 15/math.sqrt(50)\n",
        "alpha =0.051\n",
        "\n",
        "Nathan_Default_mean =100\n",
        "data = sd_Session_length*randn(50)+mean_Session_length\n",
        "print(data)\n",
        "\n",
        "# print mean and sd\n",
        "print('mean=%.2f stdv=%.2f' % (np.mean(data), np.std(data)))\n",
        "\n",
        "# now we perform the test.\n",
        "\n",
        "ztest_Score, p_value= ztest(data,value = Nathan_Default_mean, alternative='larger')\n",
        "\n",
        "print(\"ztest_Score =\", ztest_Score)\n",
        "print(\"p_value =\", p_value)\n",
        "alpha = 0.05\n",
        "if p_value > alpha:\n",
        "\tprint('Cant reject null hypothesis - Lets assume they are the same.')\n",
        "else:\n",
        "\tprint('Reject the null hypothesis that the means are equal.  - They are different')"
      ],
      "metadata": {
        "colab": {
          "base_uri": "https://localhost:8080/"
        },
        "id": "WLdwt-xmkqeA",
        "outputId": "4c2d17a8-7d9d-4aac-f352-c5b464dfab52"
      },
      "execution_count": null,
      "outputs": [
        {
          "output_type": "stream",
          "name": "stdout",
          "text": [
            "[100.69717062  99.20616008 102.26539953 100.05764059 103.26715622\n",
            "  97.15810264 100.05351851 101.34338939  99.99092136 102.77771804\n",
            " 101.47429395 104.4267835  101.20191909 100.93755363 102.74530565\n",
            " 105.6555784  104.52052361 106.19029296 102.19243464 105.45081028\n",
            "  99.50402549 105.81461524 103.49528309 102.70610888 102.49453961\n",
            " 104.4179641  101.58835338  99.69928606 102.66617536 103.48001774\n",
            " 102.97049791  98.51926298 100.81178413  99.69073669 103.74781425\n",
            "  98.40737024 104.25860782 104.13008114 105.25918307 102.15871843\n",
            " 105.92474198 104.54915095 102.03235486 100.93209929 103.90293843\n",
            " 101.82437382 103.38626201 104.13645065 104.07165731 101.85225046]\n",
            "mean=102.40 stdv=2.14\n",
            "ztest_Score = 7.867260900847017\n",
            "p_value = 1.812450841376012e-15\n",
            "Reject the null hypothesis that the means are equal.  - They are different\n"
          ]
        }
      ]
    },
    {
      "cell_type": "code",
      "source": [
        "# B:\n",
        "import numpy as np\n",
        "from scipy.stats import ttest_1samp, wilcoxon, ttest_ind, mannwhitneyu\n",
        "# Randomly generate 50 sessions, which length mean is 101\n",
        "mean_Session_length = 101\n",
        "sd_Session_length = 15/math.sqrt(50)\n",
        "\n",
        "data = sd_Session_length*randn(50)+mean_Session_length\n",
        "print(data)\n",
        "alpha = 0.05\n",
        "\n",
        "Nathan_Default_mean =100\n",
        "# one sample t-test\n",
        "# null hypothesis: expected value = Nathan_Default_mean\n",
        "t_statistic, p_value = ttest_1samp(data, Nathan_Default_mean)\n",
        "\n",
        "print(\"one-sample t-test, p value=\", p_value)\n",
        "if p_value > alpha:\n",
        "\tprint('Cant reject null hypothesis that the means are equal.')\n",
        "else:\n",
        "\tprint('Reject the null hypothesis that the means are equal. - They are different')"
      ],
      "metadata": {
        "colab": {
          "base_uri": "https://localhost:8080/"
        },
        "id": "FiQAmUF0k_w1",
        "outputId": "2d718b74-4cb5-46df-a892-10f1eb24d4e4"
      },
      "execution_count": null,
      "outputs": [
        {
          "output_type": "stream",
          "name": "stdout",
          "text": [
            "[103.1965527   99.5347821  100.08142142 103.42573291  98.58951941\n",
            " 102.74254704 101.61702825  99.76998223 102.15993966 101.87000857\n",
            " 100.53101211 101.69385842 101.52970299  97.67234954 103.34007017\n",
            " 102.25838969 102.27730436 100.27394088  98.38983661 102.21098984\n",
            " 104.5066715  101.31818975  98.7393286  103.64661463  97.1084242\n",
            "  99.47023613 101.99675296 101.32764631  98.88037757 101.01314757\n",
            " 100.76504418 103.39573894 101.79993345 105.21687318 101.0910566\n",
            " 103.63672568  99.24311954 101.28075    100.98413703  99.40300885\n",
            " 102.93273163 102.90017278  98.46213574 103.33384766  97.08538129\n",
            " 102.93919917  98.74414926 101.69473613 103.87932901 101.97598869]\n",
            "one-sample t-test, p value= 5.1478363280113596e-05\n",
            "Reject the null hypothesis that the means are equal. - They are different\n"
          ]
        }
      ]
    },
    {
      "cell_type": "code",
      "source": [
        "# AB test\n",
        "\n",
        "group1 = 5 * randn(100) + 2\n",
        "#group1 = 5 * randn(100) +2.8\n",
        "group2 = 5 * randn(100)\n",
        "print(group1)\n",
        "print(\"***********************************\")\n",
        "print(group2)\n",
        "print(\"***********************************\")\n",
        "t_statistic, p_value = ttest_ind(group1, group2)\n",
        "alpha = 0.05\n",
        "# p_value < 0.05 => alternative hypothesis:\n",
        "# they don't have the same mean at the 5% significance level\n",
        "print(\"two-sample t-test p value\", p_value)\n",
        "if p_value > alpha:\n",
        "\tprint('Cant Reject null hypothesis that the means are equal.')\n",
        "else:\n",
        "\tprint('Reject the null hypothesis that the means are equal. - They are different')"
      ],
      "metadata": {
        "colab": {
          "base_uri": "https://localhost:8080/"
        },
        "id": "aebOMwEvlR1z",
        "outputId": "e940ef14-c0b4-41c3-d1a0-3573f54e0828"
      },
      "execution_count": null,
      "outputs": [
        {
          "output_type": "stream",
          "name": "stdout",
          "text": [
            "[  1.11079338  -4.85500925  -6.71884117   5.55433068   0.5464265\n",
            "  -3.23338003   4.51313118   3.18195326  -1.52673111  -7.95513926\n",
            "   0.19166681   2.74544951   4.25994188  -1.89055031   5.33294534\n",
            "   3.63993548  11.96325796   0.27307968  -0.60724696  -6.11800024\n",
            "   2.14010854  -3.75188035  -0.73372572   5.52324416   1.68076263\n",
            "   2.40295751   8.21128095   1.27050964  -2.46975804   2.41731554\n",
            "   0.02413247  -1.18317424  -0.12227068   8.11484106   3.28260998\n",
            "   0.58738547   4.05599838   4.45509346   0.80714325 -12.06945645\n",
            "   6.91182117   2.27892777  -2.46587293  -1.38110469   1.40679004\n",
            "  -3.79378555  -1.85898019   5.56701207   2.38295457   5.63368478\n",
            "  -3.64046555   0.96842268   7.30991826  -7.70671121  -3.1381608\n",
            "   0.07851225   2.1210843   -5.15523918   1.30276999  -3.07043222\n",
            "  10.82712052   3.95444261  -4.58532887  -0.31570326   7.72994794\n",
            "   1.44151831   3.81845142  -3.89971679 -10.77292554   1.31198217\n",
            "  -5.7207938    9.28165      6.76635434   6.83181637   4.07482867\n",
            "   4.77423957   1.52489771   3.96617758   4.68364126  -0.61057123\n",
            "  -1.03027057  -2.79010585   9.95513078   1.27338137  -3.75026568\n",
            "   0.76950823   1.95998262  -2.25014128  -1.56867717   9.87852748\n",
            "   1.26282021  -1.14277873  -2.96476306  -3.93571905   2.56316248\n",
            "   5.00191398   5.9136746   -0.92157708  -1.92055743   7.55388937]\n",
            "***********************************\n",
            "[-1.05679212e+00  2.71812646e-01 -8.65491097e-01  4.45255251e+00\n",
            "  4.72530392e+00  5.75320058e+00 -1.37779998e+00  2.53207641e+00\n",
            "  2.40041520e+00  2.16932684e+00  4.20878464e+00 -1.92960957e+00\n",
            " -2.76930386e+00 -8.70454892e-01  1.77334163e+00  7.92752026e-01\n",
            "  2.72797675e+00 -2.93826894e+00 -1.22538028e-02 -7.65060694e+00\n",
            " -1.09154139e+00  1.35679259e+01  4.65581270e+00 -2.22724405e+00\n",
            " -2.38120640e+00 -7.27038566e+00  4.81656854e+00 -1.94153725e+00\n",
            " -1.51754595e+00 -6.85450601e+00  4.51608027e+00 -1.60231933e+00\n",
            "  3.62665640e+00  2.42414161e+00 -8.87667338e+00 -2.13458076e+00\n",
            "  6.46999669e+00  3.25472802e+00  9.48822494e-01  5.08986963e+00\n",
            " -2.51611898e+00 -3.92462904e+00  6.07217322e+00  3.08619079e+00\n",
            "  1.99021744e+00 -3.46059328e+00  1.60110451e+00 -2.08159739e+00\n",
            " -7.04778161e+00 -5.40148932e+00 -2.46167269e+00  4.44340988e+00\n",
            " -6.51318231e+00 -9.72192328e+00  2.20959467e+00  1.17993291e+00\n",
            "  3.13515620e+00  1.22190051e+01 -4.56176478e+00 -1.04203025e+01\n",
            " -2.18117725e+00 -4.50028978e-01 -1.47537983e-01 -2.00439086e+00\n",
            "  1.65829978e+00  5.13333696e-01 -3.40375419e+00 -5.63280764e+00\n",
            " -9.26956975e+00  6.00357866e+00  1.09473766e+00 -4.05854573e+00\n",
            "  3.01351447e+00  4.77167349e+00  1.24045661e+00  2.37289619e+00\n",
            " -9.85199669e-01  3.33132827e+00 -6.35253177e+00 -3.26007162e-01\n",
            " -1.87664838e-02  1.78137389e+00  4.20429081e+00  2.91422020e+00\n",
            "  3.16867495e+00 -3.90839202e-01 -3.21895299e+00 -2.47228926e+00\n",
            " -4.29146316e+00 -2.65949373e+00 -1.04172038e+01  4.73679533e-01\n",
            "  2.62203635e+00 -3.07249523e+00  1.44103170e+00 -9.55928239e-01\n",
            "  7.40863943e+00 -3.88094245e-01  4.96384261e+00  6.52418951e-01]\n",
            "***********************************\n",
            "two-sample t-test p value 0.07923431081036555\n",
            "Cant Reject null hypothesis that the means are equal.\n"
          ]
        }
      ]
    },
    {
      "cell_type": "code",
      "source": [
        "#Another t test example:\n",
        "\n",
        "from math import sqrt\n",
        "from numpy.random import seed\n",
        "from numpy.random import randn\n",
        "from numpy import mean\n",
        "from scipy.stats import t\n",
        "from scipy.stats import sem\n",
        "\n",
        "\n",
        "# seed the random number generator\n",
        "seed(1)\n",
        "# generate two independent samples\n",
        "data1 = 5 * randn(100) + 54\n",
        "data2 = 5 * randn(100) + 50\n",
        "# calculate the t test\n",
        "df = len(data1) + len(data2) - 2\n",
        "alpha = 0.05\n",
        "\n",
        "mean1, mean2 = mean(data1), mean(data2)\n",
        "\n",
        "se1, se2 = sem(data1), sem(data2)\n",
        "\n",
        "sed = sqrt(se1**2.0 + se2**2.0)\n",
        "\n",
        "t_stat = (mean1 - mean2) / sed\n",
        "\n",
        "df = len(data1) + len(data2) - 2\n",
        "\t# calculate the critical value\n",
        "p = (1.0 - t.cdf(abs(t_stat), df)) * 2.0\n",
        "\n",
        "print('t=%.3f, df=%d,  p=%.3f' % (t_stat, df,  p))\n",
        "\n",
        "# interpret via p-value\n",
        "if p > alpha:\n",
        "\tprint('Cant reject null hypothesis that the means are equal.')\n",
        "else:\n",
        "\tprint('Reject the null hypothesis that the means are equal.')"
      ],
      "metadata": {
        "colab": {
          "base_uri": "https://localhost:8080/"
        },
        "id": "WL2bVHyEmIby",
        "outputId": "e76eb264-8969-4e5a-b647-75d889f0ceef"
      },
      "execution_count": null,
      "outputs": [
        {
          "output_type": "stream",
          "name": "stdout",
          "text": [
            "t=5.479, df=198,  p=0.000\n",
            "Reject the null hypothesis that the means are equal.\n"
          ]
        }
      ]
    },
    {
      "cell_type": "code",
      "source": [
        "from statsmodels.stats.power import zt_ind_solve_power\n",
        "from statsmodels.stats.proportion import proportion_effectsize as es\n",
        "\n",
        "#zt_ind_solve_power(effect_size=es(prop1=0.1, prop2=0.12), alpha=0.05, power=0.8, alternative=\"two-sided\")\n",
        "zt_ind_solve_power(effect_size=es(prop1=0.1, prop2=0.12), alpha=0.05, power=0.8, alternative=\"smaller\")"
      ],
      "metadata": {
        "colab": {
          "base_uri": "https://localhost:8080/"
        },
        "id": "wUdeSKWWmKqJ",
        "outputId": "9770beae-c470-4be1-be25-ec378e739f45"
      },
      "execution_count": null,
      "outputs": [
        {
          "output_type": "execute_result",
          "data": {
            "text/plain": [
              "3020.515856462414"
            ]
          },
          "metadata": {},
          "execution_count": 26
        }
      ]
    },
    {
      "cell_type": "code",
      "source": [
        "# chi-squared test with similar proportions\n",
        "from scipy.stats import chi2_contingency\n",
        "from scipy.stats import chi2\n",
        "# contingency table\n",
        "#table = [\t[90, 165],[84,  307]]\n",
        "table = [\t[90, 165, 34],[84,  307, 65]]\n",
        "print(table)\n",
        "U, p, dof, expected = chi2_contingency(table, correction=False)\n",
        "print(U)\n",
        "print(p)\n",
        "print('dof=%d' % dof)\n",
        "print(expected)\n",
        "\n",
        "\n",
        "# interpret p-value\n",
        "alpha = 0.05\n",
        "print('significance=%.3f, p=%.3f' % (alpha, p))\n",
        "if p <= alpha:\n",
        "\tprint('Dependent (reject H0)')\n",
        "else:\n",
        "\tprint('Independent (fail to# reject H0)')"
      ],
      "metadata": {
        "colab": {
          "base_uri": "https://localhost:8080/"
        },
        "id": "AubeerBBmRJq",
        "outputId": "3a222978-9a09-4810-bbd4-f1c60b2296c5"
      },
      "execution_count": null,
      "outputs": [
        {
          "output_type": "stream",
          "name": "stdout",
          "text": [
            "[[90, 165, 34], [84, 307, 65]]\n",
            "16.003556618937814\n",
            "0.00033486660165148337\n",
            "dof=2\n",
            "[[ 67.49798658 183.09798658  38.40402685]\n",
            " [106.50201342 288.90201342  60.59597315]]\n",
            "significance=0.050, p=0.000\n",
            "Dependent (reject H0)\n"
          ]
        }
      ]
    }
  ]
}