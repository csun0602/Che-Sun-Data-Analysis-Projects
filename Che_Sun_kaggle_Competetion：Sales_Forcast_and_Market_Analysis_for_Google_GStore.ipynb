{
  "nbformat": 4,
  "nbformat_minor": 0,
  "metadata": {
    "colab": {
      "provenance": [],
      "include_colab_link": true
    },
    "kernelspec": {
      "name": "python3",
      "display_name": "Python 3"
    }
  },
  "cells": [
    {
      "cell_type": "markdown",
      "metadata": {
        "id": "view-in-github",
        "colab_type": "text"
      },
      "source": [
        "<a href=\"https://colab.research.google.com/github/csun0602/Che-Sun-Data-analysis-Projects/blob/main/Che_Sun_kaggle_Competetion%EF%BC%9ASales_Forcast_and_Market_Analysis_for_Google_GStore.ipynb\" target=\"_parent\"><img src=\"https://colab.research.google.com/assets/colab-badge.svg\" alt=\"Open In Colab\"/></a>"
      ]
    },
    {
      "cell_type": "markdown",
      "source": [
        "\n",
        "## Kaggle competetion: Sales Forcast and Market Analysis for Google GStore"
      ],
      "metadata": {
        "id": "TtZbEtHQQ-MX"
      }
    },
    {
      "cell_type": "markdown",
      "source": [
        "**In this kaggle competition,we are challenged to analyze a Google Merchandise Store (also known as GStore) customer dataset to predict revenue per customer. I will use LGBM, PyTorch DeepModel to implement my algorithm.**\n",
        "\n",
        "Google Analytics Customer Revenue Prediction\n",
        "\n",
        "https://www.kaggle.com/c/ga-customer-revenue-prediction/overview"
      ],
      "metadata": {
        "id": "ZIkmYyAYQJJo"
      }
    },
    {
      "cell_type": "markdown",
      "source": [
        "The 80/20 rule has proven true for many businesses-only a small percentage of customers produce most of the revenue. As such, marketing teams are challenged to make appropriate investments in promotional strategies.\n",
        "\n",
        "GStore\n",
        "\n",
        "RStudio, the developer of free and open tools for R and enterprise-ready products for teams to scale and share work, has partnered with Google Cloud and Kaggle to demonstrate the business impact that thorough data analysis can have.\n",
        "\n",
        "In this competition, you're challenged to analyze a Google Merchandise Store (also known as GStore, where Google swag is sold) customer dataset to predict revenue per customer. Hopefully, the outcome will be more actionable operational changes and a better use of marketing budgets for those companies who choose to use data analysis on top of GA data."
      ],
      "metadata": {
        "id": "mkUE9PDdQPR-"
      }
    },
    {
      "cell_type": "markdown",
      "source": [
        "Data Fields|description\n",
        "---|---\n",
        "fullVisitorId|A unique identifier for each user of the Google Merchandise Store.\n",
        "channelGrouping | The channel via which the user came to the Store.\n",
        "date | The date on which the user visited the Store.\n",
        "device | The specifications for the device used to access the Store.\n",
        "geoNetwork | This section contains information about the geography of the user.\n",
        "socialEngagementType | Engagement type, either \"Socially Engaged\" or \"Not Socially Engaged\".\n",
        "totals | This section contains aggregate values across the session.\n",
        "trafficSource | This section contains information about the Traffic Source from which the session originated.\n",
        "visitId | An identifier for this session. This is part of the value usually stored as the _utmb cookie. This is only unique to the user. For a completely unique ID, you should use a combination of fullVisitorId and visitId.\n",
        "visitNumber | The session number for this user. If this is the first session, then this is set to 1.\n",
        "visitStartTime | The timestamp (expressed as POSIX time).\n",
        "hits | This row and nested fields are populated for any and all types of hits. Provides a record of all page visits.\n",
        "customDimensions | This section contains any user-level or session-level custom dimensions that are set for a session. This is a repeated field and has an entry for each dimension that is set.\n",
        "totals |This set of columns mostly includes high-level aggregate data."
      ],
      "metadata": {
        "id": "ruw6Ngw0Q4aQ"
      }
    },
    {
      "cell_type": "markdown",
      "source": [
        "### **LGB model** : https://www.kaggle.com/code/limpidsun/simple-exploration-baseline-ga-customer-revenue"
      ],
      "metadata": {
        "id": "X8l78GbRXfmG"
      }
    },
    {
      "cell_type": "markdown",
      "source": [
        "## **Deep model:**"
      ],
      "metadata": {
        "id": "YpTpAi2iXxz6"
      }
    },
    {
      "cell_type": "code",
      "metadata": {
        "id": "6QkKSYVIBkJH",
        "colab": {
          "base_uri": "https://localhost:8080/",
          "height": 222
        },
        "outputId": "5f383622-b257-4f16-94b8-a093f21794b2"
      },
      "source": [
        "# import google drive into colab：\n",
        "!apt-get install -y -qq software-properties-common python-software-properties module-init-tools\n",
        "!add-apt-repository -y ppa:alessandro-strada/ppa 2>&1 > /dev/null\n",
        "!apt-get update -qq 2>&1 > /dev/null\n",
        "!apt-get -y install -qq google-drive-ocamlfuse fuse\n",
        "from google.colab import auth\n",
        "auth.authenticate_user()\n",
        "from oauth2client.client import GoogleCredentials\n",
        "creds = GoogleCredentials.get_application_default()\n",
        "import getpass\n",
        "!google-drive-ocamlfuse -headless -id={creds.client_id} -secret={creds.client_secret} < /dev/null 2>&1 | grep URL\n",
        "vcode = getpass.getpass()\n",
        "!echo {vcode} | google-drive-ocamlfuse -headless -id={creds.client_id} -secret={creds.client_secret}"
      ],
      "execution_count": null,
      "outputs": [
        {
          "output_type": "stream",
          "text": [
            "E: Package 'python-software-properties' has no installation candidate\n",
            "Selecting previously unselected package google-drive-ocamlfuse.\n",
            "(Reading database ... 144429 files and directories currently installed.)\n",
            "Preparing to unpack .../google-drive-ocamlfuse_0.7.21-0ubuntu1~ubuntu18.04.1_amd64.deb ...\n",
            "Unpacking google-drive-ocamlfuse (0.7.21-0ubuntu1~ubuntu18.04.1) ...\n",
            "Setting up google-drive-ocamlfuse (0.7.21-0ubuntu1~ubuntu18.04.1) ...\n",
            "Processing triggers for man-db (2.8.3-2ubuntu0.1) ...\n",
            "Please, open the following URL in a web browser: https://accounts.google.com/o/oauth2/auth?client_id=32555940559.apps.googleusercontent.com&redirect_uri=urn%3Aietf%3Awg%3Aoauth%3A2.0%3Aoob&scope=https%3A%2F%2Fwww.googleapis.com%2Fauth%2Fdrive&response_type=code&access_type=offline&approval_prompt=force\n",
            "··········\n",
            "Please, open the following URL in a web browser: https://accounts.google.com/o/oauth2/auth?client_id=32555940559.apps.googleusercontent.com&redirect_uri=urn%3Aietf%3Awg%3Aoauth%3A2.0%3Aoob&scope=https%3A%2F%2Fwww.googleapis.com%2Fauth%2Fdrive&response_type=code&access_type=offline&approval_prompt=force\n",
            "Please enter the verification code: Access token retrieved correctly.\n"
          ],
          "name": "stdout"
        }
      ]
    },
    {
      "cell_type": "code",
      "metadata": {
        "id": "CR97wKINB0wY",
        "colab": {
          "base_uri": "https://localhost:8080/",
          "height": 34
        },
        "outputId": "dc9b3218-9901-4307-fb39-6706be062052"
      },
      "source": [
        "# Specify the root directory of Google Drive, named drive\n",
        "!mkdir -p drive\n",
        "!google-drive-ocamlfuse drive\n",
        "!ls"
      ],
      "execution_count": null,
      "outputs": [
        {
          "output_type": "stream",
          "text": [
            "adc.json  drive  sample_data\n"
          ],
          "name": "stdout"
        }
      ]
    },
    {
      "cell_type": "code",
      "metadata": {
        "id": "1j-3_5kqHmCw",
        "colab": {
          "base_uri": "https://localhost:8080/",
          "height": 84
        },
        "outputId": "49a324a0-5d8d-408b-f6db-f7a8c5b1f5ca"
      },
      "source": [
        "import os\n",
        "os.chdir(\"drive/\")\n",
        "!ls"
      ],
      "execution_count": null,
      "outputs": [
        {
          "output_type": "stream",
          "text": [
            "'Colab Notebooks'     kaggle\t\t\t      QQ截图20181116185027.jpg\n",
            " DeepLearning\t      Laidata_ML_projects\t      Untitled0.ipynb\n",
            " drive\t\t      Laidata_ML_projects.zip\n",
            " Hw1_SF_Crime.ipynb  'Laioffer2019 夏季1班.desktop'\n"
          ],
          "name": "stdout"
        }
      ]
    },
    {
      "cell_type": "code",
      "metadata": {
        "id": "FMaS1sUmHyeD"
      },
      "source": [
        "import numpy as np\n",
        "import pandas as pd\n",
        "import json\n",
        "import os\n",
        "from pandas.io.json import json_normalize\n",
        "import matplotlib.pyplot as plt\n",
        "%matplotlib inline\n",
        "\n",
        "from plotly import tools\n",
        "import plotly.offline as py\n",
        "import plotly.graph_objs as go\n",
        "\n",
        "from sklearn.preprocessing import LabelEncoder\n",
        "from sklearn.model_selection import TimeSeriesSplit, KFold\n",
        "from sklearn.metrics import mean_squared_error\n",
        "from sklearn.model_selection import train_test_split\n",
        "\n",
        "pd.options.display.max_columns = None"
      ],
      "execution_count": null,
      "outputs": []
    },
    {
      "cell_type": "markdown",
      "metadata": {
        "id": "exOVjfTIIeHT"
      },
      "source": [
        "### 1. Look through the data"
      ]
    },
    {
      "cell_type": "code",
      "metadata": {
        "id": "tTd2u44KIXoh",
        "colab": {
          "base_uri": "https://localhost:8080/",
          "height": 174
        },
        "outputId": "0f58b9f9-ad97-44a7-dd40-25734c44d278"
      },
      "source": [
        "data1 = pd.read_csv(\"kaggle/train.csv\", nrows=2)\n",
        "data1"
      ],
      "execution_count": null,
      "outputs": [
        {
          "output_type": "execute_result",
          "data": {
            "text/html": [
              "<div>\n",
              "<style scoped>\n",
              "    .dataframe tbody tr th:only-of-type {\n",
              "        vertical-align: middle;\n",
              "    }\n",
              "\n",
              "    .dataframe tbody tr th {\n",
              "        vertical-align: top;\n",
              "    }\n",
              "\n",
              "    .dataframe thead th {\n",
              "        text-align: right;\n",
              "    }\n",
              "</style>\n",
              "<table border=\"1\" class=\"dataframe\">\n",
              "  <thead>\n",
              "    <tr style=\"text-align: right;\">\n",
              "      <th></th>\n",
              "      <th>channelGrouping</th>\n",
              "      <th>date</th>\n",
              "      <th>device</th>\n",
              "      <th>fullVisitorId</th>\n",
              "      <th>geoNetwork</th>\n",
              "      <th>sessionId</th>\n",
              "      <th>socialEngagementType</th>\n",
              "      <th>totals</th>\n",
              "      <th>trafficSource</th>\n",
              "      <th>visitId</th>\n",
              "      <th>visitNumber</th>\n",
              "      <th>visitStartTime</th>\n",
              "    </tr>\n",
              "  </thead>\n",
              "  <tbody>\n",
              "    <tr>\n",
              "      <th>0</th>\n",
              "      <td>Organic Search</td>\n",
              "      <td>20160902</td>\n",
              "      <td>{\"browser\": \"Chrome\", \"browserVersion\": \"not a...</td>\n",
              "      <td>1131660440785968503</td>\n",
              "      <td>{\"continent\": \"Asia\", \"subContinent\": \"Western...</td>\n",
              "      <td>1131660440785968503_1472830385</td>\n",
              "      <td>Not Socially Engaged</td>\n",
              "      <td>{\"visits\": \"1\", \"hits\": \"1\", \"pageviews\": \"1\",...</td>\n",
              "      <td>{\"campaign\": \"(not set)\", \"source\": \"google\", ...</td>\n",
              "      <td>1472830385</td>\n",
              "      <td>1</td>\n",
              "      <td>1472830385</td>\n",
              "    </tr>\n",
              "    <tr>\n",
              "      <th>1</th>\n",
              "      <td>Organic Search</td>\n",
              "      <td>20160902</td>\n",
              "      <td>{\"browser\": \"Firefox\", \"browserVersion\": \"not ...</td>\n",
              "      <td>377306020877927890</td>\n",
              "      <td>{\"continent\": \"Oceania\", \"subContinent\": \"Aust...</td>\n",
              "      <td>377306020877927890_1472880147</td>\n",
              "      <td>Not Socially Engaged</td>\n",
              "      <td>{\"visits\": \"1\", \"hits\": \"1\", \"pageviews\": \"1\",...</td>\n",
              "      <td>{\"campaign\": \"(not set)\", \"source\": \"google\", ...</td>\n",
              "      <td>1472880147</td>\n",
              "      <td>1</td>\n",
              "      <td>1472880147</td>\n",
              "    </tr>\n",
              "  </tbody>\n",
              "</table>\n",
              "</div>"
            ],
            "text/plain": [
              "  channelGrouping      date  \\\n",
              "0  Organic Search  20160902   \n",
              "1  Organic Search  20160902   \n",
              "\n",
              "                                              device        fullVisitorId  \\\n",
              "0  {\"browser\": \"Chrome\", \"browserVersion\": \"not a...  1131660440785968503   \n",
              "1  {\"browser\": \"Firefox\", \"browserVersion\": \"not ...   377306020877927890   \n",
              "\n",
              "                                          geoNetwork  \\\n",
              "0  {\"continent\": \"Asia\", \"subContinent\": \"Western...   \n",
              "1  {\"continent\": \"Oceania\", \"subContinent\": \"Aust...   \n",
              "\n",
              "                        sessionId  socialEngagementType  \\\n",
              "0  1131660440785968503_1472830385  Not Socially Engaged   \n",
              "1   377306020877927890_1472880147  Not Socially Engaged   \n",
              "\n",
              "                                              totals  \\\n",
              "0  {\"visits\": \"1\", \"hits\": \"1\", \"pageviews\": \"1\",...   \n",
              "1  {\"visits\": \"1\", \"hits\": \"1\", \"pageviews\": \"1\",...   \n",
              "\n",
              "                                       trafficSource     visitId  visitNumber  \\\n",
              "0  {\"campaign\": \"(not set)\", \"source\": \"google\", ...  1472830385            1   \n",
              "1  {\"campaign\": \"(not set)\", \"source\": \"google\", ...  1472880147            1   \n",
              "\n",
              "   visitStartTime  \n",
              "0      1472830385  \n",
              "1      1472880147  "
            ]
          },
          "metadata": {
            "tags": []
          },
          "execution_count": 5
        }
      ]
    },
    {
      "cell_type": "markdown",
      "metadata": {
        "id": "juS1p_52Izv1"
      },
      "source": [
        "### 2. Expand Json format data into Columns"
      ]
    },
    {
      "cell_type": "code",
      "metadata": {
        "id": "jV9lPeJmI6ig",
        "colab": {
          "base_uri": "https://localhost:8080/",
          "height": 101
        },
        "outputId": "08b42f17-496f-45be-852f-5dd0509bffad"
      },
      "source": [
        "def load_df(csv_path='kaggle/train.csv', nrows=None):\n",
        "    JSON_COLUMNS = ['device', 'geoNetwork', 'totals', 'trafficSource']\n",
        "    df = pd.read_csv(csv_path,converters={column: json.loads for column in JSON_COLUMNS},dtype={'fullVisitorId': 'str'},nrows=nrows)\n",
        "    for column in JSON_COLUMNS:\n",
        "        column_as_df = json_normalize(df[column])\n",
        "        column_as_df.columns = [f\"{column}.{subcolumn}\" for subcolumn in column_as_df.columns]\n",
        "        df = df.drop(column, axis=1).merge(column_as_df, right_index=True, left_index=True)\n",
        "    print(f\"Loaded {os.path.basename(csv_path)}. Shape: {df.shape}\")\n",
        "    return df\n",
        "train = load_df()"
      ],
      "execution_count": null,
      "outputs": [
        {
          "output_type": "stream",
          "text": [
            "/usr/local/lib/python3.6/dist-packages/ipykernel_launcher.py:5: FutureWarning:\n",
            "\n",
            "pandas.io.json.json_normalize is deprecated, use pandas.json_normalize instead\n",
            "\n"
          ],
          "name": "stderr"
        },
        {
          "output_type": "stream",
          "text": [
            "Loaded train.csv. Shape: (903653, 55)\n"
          ],
          "name": "stdout"
        }
      ]
    },
    {
      "cell_type": "code",
      "metadata": {
        "id": "bffVroKAI9l2",
        "colab": {
          "base_uri": "https://localhost:8080/",
          "height": 299
        },
        "outputId": "19500609-3d8d-439a-9c64-984135888de2"
      },
      "source": [
        "train.head()"
      ],
      "execution_count": null,
      "outputs": [
        {
          "output_type": "execute_result",
          "data": {
            "text/html": [
              "<div>\n",
              "<style scoped>\n",
              "    .dataframe tbody tr th:only-of-type {\n",
              "        vertical-align: middle;\n",
              "    }\n",
              "\n",
              "    .dataframe tbody tr th {\n",
              "        vertical-align: top;\n",
              "    }\n",
              "\n",
              "    .dataframe thead th {\n",
              "        text-align: right;\n",
              "    }\n",
              "</style>\n",
              "<table border=\"1\" class=\"dataframe\">\n",
              "  <thead>\n",
              "    <tr style=\"text-align: right;\">\n",
              "      <th></th>\n",
              "      <th>channelGrouping</th>\n",
              "      <th>date</th>\n",
              "      <th>fullVisitorId</th>\n",
              "      <th>sessionId</th>\n",
              "      <th>socialEngagementType</th>\n",
              "      <th>visitId</th>\n",
              "      <th>visitNumber</th>\n",
              "      <th>visitStartTime</th>\n",
              "      <th>device.browser</th>\n",
              "      <th>device.browserVersion</th>\n",
              "      <th>device.browserSize</th>\n",
              "      <th>device.operatingSystem</th>\n",
              "      <th>device.operatingSystemVersion</th>\n",
              "      <th>device.isMobile</th>\n",
              "      <th>device.mobileDeviceBranding</th>\n",
              "      <th>device.mobileDeviceModel</th>\n",
              "      <th>device.mobileInputSelector</th>\n",
              "      <th>device.mobileDeviceInfo</th>\n",
              "      <th>device.mobileDeviceMarketingName</th>\n",
              "      <th>device.flashVersion</th>\n",
              "      <th>device.language</th>\n",
              "      <th>device.screenColors</th>\n",
              "      <th>device.screenResolution</th>\n",
              "      <th>device.deviceCategory</th>\n",
              "      <th>geoNetwork.continent</th>\n",
              "      <th>geoNetwork.subContinent</th>\n",
              "      <th>geoNetwork.country</th>\n",
              "      <th>geoNetwork.region</th>\n",
              "      <th>geoNetwork.metro</th>\n",
              "      <th>geoNetwork.city</th>\n",
              "      <th>geoNetwork.cityId</th>\n",
              "      <th>geoNetwork.networkDomain</th>\n",
              "      <th>geoNetwork.latitude</th>\n",
              "      <th>geoNetwork.longitude</th>\n",
              "      <th>geoNetwork.networkLocation</th>\n",
              "      <th>totals.visits</th>\n",
              "      <th>totals.hits</th>\n",
              "      <th>totals.pageviews</th>\n",
              "      <th>totals.bounces</th>\n",
              "      <th>totals.newVisits</th>\n",
              "      <th>totals.transactionRevenue</th>\n",
              "      <th>trafficSource.campaign</th>\n",
              "      <th>trafficSource.source</th>\n",
              "      <th>trafficSource.medium</th>\n",
              "      <th>trafficSource.keyword</th>\n",
              "      <th>trafficSource.adwordsClickInfo.criteriaParameters</th>\n",
              "      <th>trafficSource.isTrueDirect</th>\n",
              "      <th>trafficSource.referralPath</th>\n",
              "      <th>trafficSource.adwordsClickInfo.page</th>\n",
              "      <th>trafficSource.adwordsClickInfo.slot</th>\n",
              "      <th>trafficSource.adwordsClickInfo.gclId</th>\n",
              "      <th>trafficSource.adwordsClickInfo.adNetworkType</th>\n",
              "      <th>trafficSource.adwordsClickInfo.isVideoAd</th>\n",
              "      <th>trafficSource.adContent</th>\n",
              "      <th>trafficSource.campaignCode</th>\n",
              "    </tr>\n",
              "  </thead>\n",
              "  <tbody>\n",
              "    <tr>\n",
              "      <th>0</th>\n",
              "      <td>Organic Search</td>\n",
              "      <td>20160902</td>\n",
              "      <td>1131660440785968503</td>\n",
              "      <td>1131660440785968503_1472830385</td>\n",
              "      <td>Not Socially Engaged</td>\n",
              "      <td>1472830385</td>\n",
              "      <td>1</td>\n",
              "      <td>1472830385</td>\n",
              "      <td>Chrome</td>\n",
              "      <td>not available in demo dataset</td>\n",
              "      <td>not available in demo dataset</td>\n",
              "      <td>Windows</td>\n",
              "      <td>not available in demo dataset</td>\n",
              "      <td>False</td>\n",
              "      <td>not available in demo dataset</td>\n",
              "      <td>not available in demo dataset</td>\n",
              "      <td>not available in demo dataset</td>\n",
              "      <td>not available in demo dataset</td>\n",
              "      <td>not available in demo dataset</td>\n",
              "      <td>not available in demo dataset</td>\n",
              "      <td>not available in demo dataset</td>\n",
              "      <td>not available in demo dataset</td>\n",
              "      <td>not available in demo dataset</td>\n",
              "      <td>desktop</td>\n",
              "      <td>Asia</td>\n",
              "      <td>Western Asia</td>\n",
              "      <td>Turkey</td>\n",
              "      <td>Izmir</td>\n",
              "      <td>(not set)</td>\n",
              "      <td>Izmir</td>\n",
              "      <td>not available in demo dataset</td>\n",
              "      <td>ttnet.com.tr</td>\n",
              "      <td>not available in demo dataset</td>\n",
              "      <td>not available in demo dataset</td>\n",
              "      <td>not available in demo dataset</td>\n",
              "      <td>1</td>\n",
              "      <td>1</td>\n",
              "      <td>1</td>\n",
              "      <td>1</td>\n",
              "      <td>1</td>\n",
              "      <td>NaN</td>\n",
              "      <td>(not set)</td>\n",
              "      <td>google</td>\n",
              "      <td>organic</td>\n",
              "      <td>(not provided)</td>\n",
              "      <td>not available in demo dataset</td>\n",
              "      <td>NaN</td>\n",
              "      <td>NaN</td>\n",
              "      <td>NaN</td>\n",
              "      <td>NaN</td>\n",
              "      <td>NaN</td>\n",
              "      <td>NaN</td>\n",
              "      <td>NaN</td>\n",
              "      <td>NaN</td>\n",
              "      <td>NaN</td>\n",
              "    </tr>\n",
              "    <tr>\n",
              "      <th>1</th>\n",
              "      <td>Organic Search</td>\n",
              "      <td>20160902</td>\n",
              "      <td>377306020877927890</td>\n",
              "      <td>377306020877927890_1472880147</td>\n",
              "      <td>Not Socially Engaged</td>\n",
              "      <td>1472880147</td>\n",
              "      <td>1</td>\n",
              "      <td>1472880147</td>\n",
              "      <td>Firefox</td>\n",
              "      <td>not available in demo dataset</td>\n",
              "      <td>not available in demo dataset</td>\n",
              "      <td>Macintosh</td>\n",
              "      <td>not available in demo dataset</td>\n",
              "      <td>False</td>\n",
              "      <td>not available in demo dataset</td>\n",
              "      <td>not available in demo dataset</td>\n",
              "      <td>not available in demo dataset</td>\n",
              "      <td>not available in demo dataset</td>\n",
              "      <td>not available in demo dataset</td>\n",
              "      <td>not available in demo dataset</td>\n",
              "      <td>not available in demo dataset</td>\n",
              "      <td>not available in demo dataset</td>\n",
              "      <td>not available in demo dataset</td>\n",
              "      <td>desktop</td>\n",
              "      <td>Oceania</td>\n",
              "      <td>Australasia</td>\n",
              "      <td>Australia</td>\n",
              "      <td>not available in demo dataset</td>\n",
              "      <td>not available in demo dataset</td>\n",
              "      <td>not available in demo dataset</td>\n",
              "      <td>not available in demo dataset</td>\n",
              "      <td>dodo.net.au</td>\n",
              "      <td>not available in demo dataset</td>\n",
              "      <td>not available in demo dataset</td>\n",
              "      <td>not available in demo dataset</td>\n",
              "      <td>1</td>\n",
              "      <td>1</td>\n",
              "      <td>1</td>\n",
              "      <td>1</td>\n",
              "      <td>1</td>\n",
              "      <td>NaN</td>\n",
              "      <td>(not set)</td>\n",
              "      <td>google</td>\n",
              "      <td>organic</td>\n",
              "      <td>(not provided)</td>\n",
              "      <td>not available in demo dataset</td>\n",
              "      <td>NaN</td>\n",
              "      <td>NaN</td>\n",
              "      <td>NaN</td>\n",
              "      <td>NaN</td>\n",
              "      <td>NaN</td>\n",
              "      <td>NaN</td>\n",
              "      <td>NaN</td>\n",
              "      <td>NaN</td>\n",
              "      <td>NaN</td>\n",
              "    </tr>\n",
              "    <tr>\n",
              "      <th>2</th>\n",
              "      <td>Organic Search</td>\n",
              "      <td>20160902</td>\n",
              "      <td>3895546263509774583</td>\n",
              "      <td>3895546263509774583_1472865386</td>\n",
              "      <td>Not Socially Engaged</td>\n",
              "      <td>1472865386</td>\n",
              "      <td>1</td>\n",
              "      <td>1472865386</td>\n",
              "      <td>Chrome</td>\n",
              "      <td>not available in demo dataset</td>\n",
              "      <td>not available in demo dataset</td>\n",
              "      <td>Windows</td>\n",
              "      <td>not available in demo dataset</td>\n",
              "      <td>False</td>\n",
              "      <td>not available in demo dataset</td>\n",
              "      <td>not available in demo dataset</td>\n",
              "      <td>not available in demo dataset</td>\n",
              "      <td>not available in demo dataset</td>\n",
              "      <td>not available in demo dataset</td>\n",
              "      <td>not available in demo dataset</td>\n",
              "      <td>not available in demo dataset</td>\n",
              "      <td>not available in demo dataset</td>\n",
              "      <td>not available in demo dataset</td>\n",
              "      <td>desktop</td>\n",
              "      <td>Europe</td>\n",
              "      <td>Southern Europe</td>\n",
              "      <td>Spain</td>\n",
              "      <td>Community of Madrid</td>\n",
              "      <td>(not set)</td>\n",
              "      <td>Madrid</td>\n",
              "      <td>not available in demo dataset</td>\n",
              "      <td>unknown.unknown</td>\n",
              "      <td>not available in demo dataset</td>\n",
              "      <td>not available in demo dataset</td>\n",
              "      <td>not available in demo dataset</td>\n",
              "      <td>1</td>\n",
              "      <td>1</td>\n",
              "      <td>1</td>\n",
              "      <td>1</td>\n",
              "      <td>1</td>\n",
              "      <td>NaN</td>\n",
              "      <td>(not set)</td>\n",
              "      <td>google</td>\n",
              "      <td>organic</td>\n",
              "      <td>(not provided)</td>\n",
              "      <td>not available in demo dataset</td>\n",
              "      <td>NaN</td>\n",
              "      <td>NaN</td>\n",
              "      <td>NaN</td>\n",
              "      <td>NaN</td>\n",
              "      <td>NaN</td>\n",
              "      <td>NaN</td>\n",
              "      <td>NaN</td>\n",
              "      <td>NaN</td>\n",
              "      <td>NaN</td>\n",
              "    </tr>\n",
              "    <tr>\n",
              "      <th>3</th>\n",
              "      <td>Organic Search</td>\n",
              "      <td>20160902</td>\n",
              "      <td>4763447161404445595</td>\n",
              "      <td>4763447161404445595_1472881213</td>\n",
              "      <td>Not Socially Engaged</td>\n",
              "      <td>1472881213</td>\n",
              "      <td>1</td>\n",
              "      <td>1472881213</td>\n",
              "      <td>UC Browser</td>\n",
              "      <td>not available in demo dataset</td>\n",
              "      <td>not available in demo dataset</td>\n",
              "      <td>Linux</td>\n",
              "      <td>not available in demo dataset</td>\n",
              "      <td>False</td>\n",
              "      <td>not available in demo dataset</td>\n",
              "      <td>not available in demo dataset</td>\n",
              "      <td>not available in demo dataset</td>\n",
              "      <td>not available in demo dataset</td>\n",
              "      <td>not available in demo dataset</td>\n",
              "      <td>not available in demo dataset</td>\n",
              "      <td>not available in demo dataset</td>\n",
              "      <td>not available in demo dataset</td>\n",
              "      <td>not available in demo dataset</td>\n",
              "      <td>desktop</td>\n",
              "      <td>Asia</td>\n",
              "      <td>Southeast Asia</td>\n",
              "      <td>Indonesia</td>\n",
              "      <td>not available in demo dataset</td>\n",
              "      <td>not available in demo dataset</td>\n",
              "      <td>not available in demo dataset</td>\n",
              "      <td>not available in demo dataset</td>\n",
              "      <td>unknown.unknown</td>\n",
              "      <td>not available in demo dataset</td>\n",
              "      <td>not available in demo dataset</td>\n",
              "      <td>not available in demo dataset</td>\n",
              "      <td>1</td>\n",
              "      <td>1</td>\n",
              "      <td>1</td>\n",
              "      <td>1</td>\n",
              "      <td>1</td>\n",
              "      <td>NaN</td>\n",
              "      <td>(not set)</td>\n",
              "      <td>google</td>\n",
              "      <td>organic</td>\n",
              "      <td>google + online</td>\n",
              "      <td>not available in demo dataset</td>\n",
              "      <td>NaN</td>\n",
              "      <td>NaN</td>\n",
              "      <td>NaN</td>\n",
              "      <td>NaN</td>\n",
              "      <td>NaN</td>\n",
              "      <td>NaN</td>\n",
              "      <td>NaN</td>\n",
              "      <td>NaN</td>\n",
              "      <td>NaN</td>\n",
              "    </tr>\n",
              "    <tr>\n",
              "      <th>4</th>\n",
              "      <td>Organic Search</td>\n",
              "      <td>20160902</td>\n",
              "      <td>27294437909732085</td>\n",
              "      <td>27294437909732085_1472822600</td>\n",
              "      <td>Not Socially Engaged</td>\n",
              "      <td>1472822600</td>\n",
              "      <td>2</td>\n",
              "      <td>1472822600</td>\n",
              "      <td>Chrome</td>\n",
              "      <td>not available in demo dataset</td>\n",
              "      <td>not available in demo dataset</td>\n",
              "      <td>Android</td>\n",
              "      <td>not available in demo dataset</td>\n",
              "      <td>True</td>\n",
              "      <td>not available in demo dataset</td>\n",
              "      <td>not available in demo dataset</td>\n",
              "      <td>not available in demo dataset</td>\n",
              "      <td>not available in demo dataset</td>\n",
              "      <td>not available in demo dataset</td>\n",
              "      <td>not available in demo dataset</td>\n",
              "      <td>not available in demo dataset</td>\n",
              "      <td>not available in demo dataset</td>\n",
              "      <td>not available in demo dataset</td>\n",
              "      <td>mobile</td>\n",
              "      <td>Europe</td>\n",
              "      <td>Northern Europe</td>\n",
              "      <td>United Kingdom</td>\n",
              "      <td>not available in demo dataset</td>\n",
              "      <td>not available in demo dataset</td>\n",
              "      <td>not available in demo dataset</td>\n",
              "      <td>not available in demo dataset</td>\n",
              "      <td>unknown.unknown</td>\n",
              "      <td>not available in demo dataset</td>\n",
              "      <td>not available in demo dataset</td>\n",
              "      <td>not available in demo dataset</td>\n",
              "      <td>1</td>\n",
              "      <td>1</td>\n",
              "      <td>1</td>\n",
              "      <td>1</td>\n",
              "      <td>NaN</td>\n",
              "      <td>NaN</td>\n",
              "      <td>(not set)</td>\n",
              "      <td>google</td>\n",
              "      <td>organic</td>\n",
              "      <td>(not provided)</td>\n",
              "      <td>not available in demo dataset</td>\n",
              "      <td>True</td>\n",
              "      <td>NaN</td>\n",
              "      <td>NaN</td>\n",
              "      <td>NaN</td>\n",
              "      <td>NaN</td>\n",
              "      <td>NaN</td>\n",
              "      <td>NaN</td>\n",
              "      <td>NaN</td>\n",
              "      <td>NaN</td>\n",
              "    </tr>\n",
              "  </tbody>\n",
              "</table>\n",
              "</div>"
            ],
            "text/plain": [
              "  channelGrouping      date        fullVisitorId  \\\n",
              "0  Organic Search  20160902  1131660440785968503   \n",
              "1  Organic Search  20160902   377306020877927890   \n",
              "2  Organic Search  20160902  3895546263509774583   \n",
              "3  Organic Search  20160902  4763447161404445595   \n",
              "4  Organic Search  20160902    27294437909732085   \n",
              "\n",
              "                        sessionId  socialEngagementType     visitId  \\\n",
              "0  1131660440785968503_1472830385  Not Socially Engaged  1472830385   \n",
              "1   377306020877927890_1472880147  Not Socially Engaged  1472880147   \n",
              "2  3895546263509774583_1472865386  Not Socially Engaged  1472865386   \n",
              "3  4763447161404445595_1472881213  Not Socially Engaged  1472881213   \n",
              "4    27294437909732085_1472822600  Not Socially Engaged  1472822600   \n",
              "\n",
              "   visitNumber  visitStartTime device.browser          device.browserVersion  \\\n",
              "0            1      1472830385         Chrome  not available in demo dataset   \n",
              "1            1      1472880147        Firefox  not available in demo dataset   \n",
              "2            1      1472865386         Chrome  not available in demo dataset   \n",
              "3            1      1472881213     UC Browser  not available in demo dataset   \n",
              "4            2      1472822600         Chrome  not available in demo dataset   \n",
              "\n",
              "              device.browserSize device.operatingSystem  \\\n",
              "0  not available in demo dataset                Windows   \n",
              "1  not available in demo dataset              Macintosh   \n",
              "2  not available in demo dataset                Windows   \n",
              "3  not available in demo dataset                  Linux   \n",
              "4  not available in demo dataset                Android   \n",
              "\n",
              "   device.operatingSystemVersion  device.isMobile  \\\n",
              "0  not available in demo dataset            False   \n",
              "1  not available in demo dataset            False   \n",
              "2  not available in demo dataset            False   \n",
              "3  not available in demo dataset            False   \n",
              "4  not available in demo dataset             True   \n",
              "\n",
              "     device.mobileDeviceBranding       device.mobileDeviceModel  \\\n",
              "0  not available in demo dataset  not available in demo dataset   \n",
              "1  not available in demo dataset  not available in demo dataset   \n",
              "2  not available in demo dataset  not available in demo dataset   \n",
              "3  not available in demo dataset  not available in demo dataset   \n",
              "4  not available in demo dataset  not available in demo dataset   \n",
              "\n",
              "      device.mobileInputSelector        device.mobileDeviceInfo  \\\n",
              "0  not available in demo dataset  not available in demo dataset   \n",
              "1  not available in demo dataset  not available in demo dataset   \n",
              "2  not available in demo dataset  not available in demo dataset   \n",
              "3  not available in demo dataset  not available in demo dataset   \n",
              "4  not available in demo dataset  not available in demo dataset   \n",
              "\n",
              "  device.mobileDeviceMarketingName            device.flashVersion  \\\n",
              "0    not available in demo dataset  not available in demo dataset   \n",
              "1    not available in demo dataset  not available in demo dataset   \n",
              "2    not available in demo dataset  not available in demo dataset   \n",
              "3    not available in demo dataset  not available in demo dataset   \n",
              "4    not available in demo dataset  not available in demo dataset   \n",
              "\n",
              "                 device.language            device.screenColors  \\\n",
              "0  not available in demo dataset  not available in demo dataset   \n",
              "1  not available in demo dataset  not available in demo dataset   \n",
              "2  not available in demo dataset  not available in demo dataset   \n",
              "3  not available in demo dataset  not available in demo dataset   \n",
              "4  not available in demo dataset  not available in demo dataset   \n",
              "\n",
              "         device.screenResolution device.deviceCategory geoNetwork.continent  \\\n",
              "0  not available in demo dataset               desktop                 Asia   \n",
              "1  not available in demo dataset               desktop              Oceania   \n",
              "2  not available in demo dataset               desktop               Europe   \n",
              "3  not available in demo dataset               desktop                 Asia   \n",
              "4  not available in demo dataset                mobile               Europe   \n",
              "\n",
              "  geoNetwork.subContinent geoNetwork.country              geoNetwork.region  \\\n",
              "0            Western Asia             Turkey                          Izmir   \n",
              "1             Australasia          Australia  not available in demo dataset   \n",
              "2         Southern Europe              Spain            Community of Madrid   \n",
              "3          Southeast Asia          Indonesia  not available in demo dataset   \n",
              "4         Northern Europe     United Kingdom  not available in demo dataset   \n",
              "\n",
              "                geoNetwork.metro                geoNetwork.city  \\\n",
              "0                      (not set)                          Izmir   \n",
              "1  not available in demo dataset  not available in demo dataset   \n",
              "2                      (not set)                         Madrid   \n",
              "3  not available in demo dataset  not available in demo dataset   \n",
              "4  not available in demo dataset  not available in demo dataset   \n",
              "\n",
              "               geoNetwork.cityId geoNetwork.networkDomain  \\\n",
              "0  not available in demo dataset             ttnet.com.tr   \n",
              "1  not available in demo dataset              dodo.net.au   \n",
              "2  not available in demo dataset          unknown.unknown   \n",
              "3  not available in demo dataset          unknown.unknown   \n",
              "4  not available in demo dataset          unknown.unknown   \n",
              "\n",
              "             geoNetwork.latitude           geoNetwork.longitude  \\\n",
              "0  not available in demo dataset  not available in demo dataset   \n",
              "1  not available in demo dataset  not available in demo dataset   \n",
              "2  not available in demo dataset  not available in demo dataset   \n",
              "3  not available in demo dataset  not available in demo dataset   \n",
              "4  not available in demo dataset  not available in demo dataset   \n",
              "\n",
              "      geoNetwork.networkLocation totals.visits totals.hits totals.pageviews  \\\n",
              "0  not available in demo dataset             1           1                1   \n",
              "1  not available in demo dataset             1           1                1   \n",
              "2  not available in demo dataset             1           1                1   \n",
              "3  not available in demo dataset             1           1                1   \n",
              "4  not available in demo dataset             1           1                1   \n",
              "\n",
              "  totals.bounces totals.newVisits totals.transactionRevenue  \\\n",
              "0              1                1                       NaN   \n",
              "1              1                1                       NaN   \n",
              "2              1                1                       NaN   \n",
              "3              1                1                       NaN   \n",
              "4              1              NaN                       NaN   \n",
              "\n",
              "  trafficSource.campaign trafficSource.source trafficSource.medium  \\\n",
              "0              (not set)               google              organic   \n",
              "1              (not set)               google              organic   \n",
              "2              (not set)               google              organic   \n",
              "3              (not set)               google              organic   \n",
              "4              (not set)               google              organic   \n",
              "\n",
              "  trafficSource.keyword trafficSource.adwordsClickInfo.criteriaParameters  \\\n",
              "0        (not provided)                     not available in demo dataset   \n",
              "1        (not provided)                     not available in demo dataset   \n",
              "2        (not provided)                     not available in demo dataset   \n",
              "3       google + online                     not available in demo dataset   \n",
              "4        (not provided)                     not available in demo dataset   \n",
              "\n",
              "  trafficSource.isTrueDirect trafficSource.referralPath  \\\n",
              "0                        NaN                        NaN   \n",
              "1                        NaN                        NaN   \n",
              "2                        NaN                        NaN   \n",
              "3                        NaN                        NaN   \n",
              "4                       True                        NaN   \n",
              "\n",
              "  trafficSource.adwordsClickInfo.page trafficSource.adwordsClickInfo.slot  \\\n",
              "0                                 NaN                                 NaN   \n",
              "1                                 NaN                                 NaN   \n",
              "2                                 NaN                                 NaN   \n",
              "3                                 NaN                                 NaN   \n",
              "4                                 NaN                                 NaN   \n",
              "\n",
              "  trafficSource.adwordsClickInfo.gclId  \\\n",
              "0                                  NaN   \n",
              "1                                  NaN   \n",
              "2                                  NaN   \n",
              "3                                  NaN   \n",
              "4                                  NaN   \n",
              "\n",
              "  trafficSource.adwordsClickInfo.adNetworkType  \\\n",
              "0                                          NaN   \n",
              "1                                          NaN   \n",
              "2                                          NaN   \n",
              "3                                          NaN   \n",
              "4                                          NaN   \n",
              "\n",
              "  trafficSource.adwordsClickInfo.isVideoAd trafficSource.adContent  \\\n",
              "0                                      NaN                     NaN   \n",
              "1                                      NaN                     NaN   \n",
              "2                                      NaN                     NaN   \n",
              "3                                      NaN                     NaN   \n",
              "4                                      NaN                     NaN   \n",
              "\n",
              "  trafficSource.campaignCode  \n",
              "0                        NaN  \n",
              "1                        NaN  \n",
              "2                        NaN  \n",
              "3                        NaN  \n",
              "4                        NaN  "
            ]
          },
          "metadata": {
            "tags": []
          },
          "execution_count": 7
        }
      ]
    },
    {
      "cell_type": "markdown",
      "metadata": {
        "id": "MkIS0ke0NEXz"
      },
      "source": [
        "### 3. EDA\n",
        "#### 3.1 Look at the consumption ratio"
      ]
    },
    {
      "cell_type": "code",
      "metadata": {
        "id": "tlwd8wZLI_4B",
        "colab": {
          "base_uri": "https://localhost:8080/",
          "height": 391
        },
        "outputId": "00f0669e-ea48-40b6-bbe8-0a2c74429111"
      },
      "source": [
        "train[\"totals.transactionRevenue\"] = train[\"totals.transactionRevenue\"].astype('float')\n",
        "gdf = train.groupby(\"fullVisitorId\")[\"totals.transactionRevenue\"].sum().reset_index()\n",
        "\n",
        "plt.figure(figsize=(8,6))\n",
        "plt.scatter(range(gdf.shape[0]), np.sort(np.log1p(gdf[\"totals.transactionRevenue\"].values)))\n",
        "plt.xlabel('index', fontsize=12)\n",
        "plt.ylabel('TransactionRevenue', fontsize=12)\n",
        "plt.show()"
      ],
      "execution_count": null,
      "outputs": [
        {
          "output_type": "display_data",
          "data": {
            "image/png": "[encoded data removed]",
            "text/plain": [
              "<Figure size 576x432 with 1 Axes>"
            ]
          },
          "metadata": {
            "tags": [],
            "needs_background": "light"
          }
        }
      ]
    },
    {
      "cell_type": "markdown",
      "source": [
        "**Through the graph, we can find there is small number of costumer would like to pay, can most people don't like to purchase**"
      ],
      "metadata": {
        "id": "wmr355U0W9Da"
      }
    },
    {
      "cell_type": "code",
      "metadata": {
        "id": "MjNsDTKhNT9V",
        "colab": {
          "base_uri": "https://localhost:8080/",
          "height": 50
        },
        "outputId": "8bee3ed8-ec68-4d8e-adae-b09ac37f82ff"
      },
      "source": [
        "num_of_consumption_record = pd.notnull(train[\"totals.transactionRevenue\"]).sum()\n",
        "num_of_consumers = (gdf[\"totals.transactionRevenue\"]>0).sum()\n",
        "\n",
        "print(\"数据集中有{}条消费记录，约占数据集的{:.2f}%\".format(num_of_consumption_record, num_of_consumption_record/train.shape[0] * 100))\n",
        "print(\"数据集中有{}个消费者，约占数据集的{:.2f}%\".format(num_of_consumers, num_of_consumers/gdf.shape[0] * 100))"
      ],
      "execution_count": null,
      "outputs": [
        {
          "output_type": "stream",
          "text": [
            "数据集中有11515条消费记录，约占数据集的1.27%\n",
            "数据集中有9996个消费者，约占数据集的1.40%\n"
          ],
          "name": "stdout"
        }
      ]
    },
    {
      "cell_type": "markdown",
      "metadata": {
        "id": "fR0B1REHNhi9"
      },
      "source": [
        "There are consumers who have made multiple purchases, but the overall proportion is small"
      ]
    },
    {
      "cell_type": "markdown",
      "metadata": {
        "id": "gS9lB0bONqMG"
      },
      "source": [
        "3.2 Visualize the relationship between views and consumption and draw conclusions\n",
        "**Tips:** groupby time, count transactionRevenue with NaN and without NaN."
      ]
    },
    {
      "cell_type": "code",
      "metadata": {
        "id": "Dwb2J_ylNe_w",
        "colab": {
          "base_uri": "https://localhost:8080/",
          "height": 884
        },
        "outputId": "01b1b161-5102-4a31-b150-6c809ace743e"
      },
      "source": [
        "import datetime\n",
        "\n",
        "def scatter_plot(cnt_srs, color):\n",
        "    trace = go.Scatter(\n",
        "        x=cnt_srs.index[::-1],\n",
        "        y=cnt_srs.values[::-1],\n",
        "        showlegend=False,\n",
        "        marker=dict(\n",
        "            color=color,\n",
        "        ),\n",
        "    )\n",
        "    return trace\n",
        "\n",
        "train['date'] = train['date'].apply(lambda x: datetime.date(int(str(x)[:4]), int(str(x)[4:6]), int(str(x)[6:])))\n",
        "cnt_srs = train.groupby('date')['totals.transactionRevenue'].agg(['size', 'count'])\n",
        "cnt_srs.columns = [\"count\", \"count of non-zero revenue\"]\n",
        "cnt_srs = cnt_srs.sort_index()\n",
        "#cnt_srs.index = cnt_srs.index.astype('str')\n",
        "trace1 = scatter_plot(cnt_srs[\"count\"], 'red')\n",
        "trace2 = scatter_plot(cnt_srs[\"count of non-zero revenue\"], 'blue')\n",
        "\n",
        "fig = tools.make_subplots(rows=2, cols=1, vertical_spacing=0.08,\n",
        "                          subplot_titles=[\"Date - Count\", \"Date - Non-zero Revenue count\"])\n",
        "fig.append_trace(trace1, 1, 1)\n",
        "fig.append_trace(trace2, 2, 1)\n",
        "fig['layout'].update(height=800, width=800, paper_bgcolor='rgb(233,233,233)', title=\"Date Plots\")\n",
        "py.iplot(fig, filename='date-plots')"
      ],
      "execution_count": null,
      "outputs": [
        {
          "output_type": "stream",
          "text": [
            "/usr/local/lib/python3.6/dist-packages/plotly/tools.py:465: DeprecationWarning:\n",
            "\n",
            "plotly.tools.make_subplots is deprecated, please use plotly.subplots.make_subplots instead\n",
            "\n"
          ],
          "name": "stderr"
        },
        {
          "output_type": "display_data",
          "data": {
            "text/html": [
              "<html>\n",
              "<head><meta charset=\"utf-8\" /></head>\n",
              "<body>\n",
              "    <div>\n",
              "            <script src=\"https://cdnjs.cloudflare.com/ajax/libs/mathjax/2.7.5/MathJax.js?config=TeX-AMS-MML_SVG\"></script><script type=\"text/javascript\">if (window.MathJax) {MathJax.Hub.Config({SVG: {font: \"STIX-Web\"}});}</script>\n",
              "                <script type=\"text/javascript\">window.PlotlyConfig = {MathJaxConfig: 'local'};</script>\n",
              "        <script src=\"https://cdn.plot.ly/plotly-latest.min.js\"></script>    \n",
              "            <div id=\"05bec266-95b8-484c-9749-24b01fe4b69f\" class=\"plotly-graph-div\" style=\"height:800px; width:800px;\"></div>\n",
              "            <script type=\"text/javascript\">\n",
              "                \n",
              "                    window.PLOTLYENV=window.PLOTLYENV || {};\n",
              "                    \n",
              "                if (document.getElementById(\"05bec266-95b8-484c-9749-24b01fe4b69f\")) {\n",
              "                    Plotly.newPlot(\n",
              "                        '05bec266-95b8-484c-9749-24b01fe4b69f',\n",
              "                        [{\"marker\": {\"color\": \"red\"}, \"showlegend\": false, \"type\": \"scatter\", \"x\": [\"2017-08-01\", \"2017-07-31\", \"2017-07-30\", \"2017-07-29\", \"2017-07-28\", \"2017-07-27\", \"2017-07-26\", \"2017-07-25\", \"2017-07-24\", \"2017-07-23\", \"2017-07-22\", \"2017-07-21\", \"2017-07-20\", \"2017-07-19\", \"2017-07-18\", \"2017-07-17\", \"2017-07-16\", \"2017-07-15\", \"2017-07-14\", \"2017-07-13\", \"2017-07-12\", \"2017-07-11\", \"2017-07-10\", \"2017-07-09\", \"2017-07-08\", \"2017-07-07\", \"2017-07-06\", \"2017-07-05\", \"2017-07-04\", \"2017-07-03\", \"2017-07-02\", \"2017-07-01\", \"2017-06-30\", \"2017-06-29\", \"2017-06-28\", \"2017-06-27\", \"2017-06-26\", \"2017-06-25\", \"2017-06-24\", \"2017-06-23\", \"2017-06-22\", \"2017-06-21\", \"2017-06-20\", \"2017-06-19\", \"2017-06-18\", \"2017-06-17\", \"2017-06-16\", \"2017-06-15\", \"2017-06-14\", \"2017-06-13\", \"2017-06-12\", \"2017-06-11\", \"2017-06-10\", \"2017-06-09\", \"2017-06-08\", \"2017-06-07\", \"2017-06-06\", \"2017-06-05\", \"2017-06-04\", \"2017-06-03\", \"2017-06-02\", \"2017-06-01\", \"2017-05-31\", \"2017-05-30\", \"2017-05-29\", \"2017-05-28\", \"2017-05-27\", \"2017-05-26\", \"2017-05-25\", \"2017-05-24\", \"2017-05-23\", \"2017-05-22\", \"2017-05-21\", \"2017-05-20\", \"2017-05-19\", \"2017-05-18\", \"2017-05-17\", \"2017-05-16\", \"2017-05-15\", \"2017-05-14\", \"2017-05-13\", \"2017-05-12\", \"2017-05-11\", \"2017-05-10\", \"2017-05-09\", \"2017-05-08\", \"2017-05-07\", \"2017-05-06\", \"2017-05-05\", \"2017-05-04\", \"2017-05-03\", \"2017-05-02\", \"2017-05-01\", \"2017-04-30\", \"2017-04-29\", \"2017-04-28\", \"2017-04-27\", \"2017-04-26\", \"2017-04-25\", \"2017-04-24\", \"2017-04-23\", \"2017-04-22\", \"2017-04-21\", \"2017-04-20\", \"2017-04-19\", \"2017-04-18\", \"2017-04-17\", \"2017-04-16\", \"2017-04-15\", \"2017-04-14\", \"2017-04-13\", \"2017-04-12\", \"2017-04-11\", \"2017-04-10\", \"2017-04-09\", \"2017-04-08\", \"2017-04-07\", \"2017-04-06\", \"2017-04-05\", \"2017-04-04\", \"2017-04-03\", \"2017-04-02\", \"2017-04-01\", \"2017-03-31\", \"2017-03-30\", \"2017-03-29\", \"2017-03-28\", \"2017-03-27\", \"2017-03-26\", \"2017-03-25\", \"2017-03-24\", \"2017-03-23\", \"2017-03-22\", \"2017-03-21\", \"2017-03-20\", \"2017-03-19\", \"2017-03-18\", \"2017-03-17\", \"2017-03-16\", \"2017-03-15\", \"2017-03-14\", \"2017-03-13\", \"2017-03-12\", \"2017-03-11\", \"2017-03-10\", \"2017-03-09\", \"2017-03-08\", \"2017-03-07\", \"2017-03-06\", \"2017-03-05\", \"2017-03-04\", \"2017-03-03\", \"2017-03-02\", \"2017-03-01\", \"2017-02-28\", \"2017-02-27\", \"2017-02-26\", \"2017-02-25\", \"2017-02-24\", \"2017-02-23\", \"2017-02-22\", \"2017-02-21\", \"2017-02-20\", \"2017-02-19\", \"2017-02-18\", \"2017-02-17\", \"2017-02-16\", \"2017-02-15\", \"2017-02-14\", \"2017-02-13\", \"2017-02-12\", \"2017-02-11\", \"2017-02-10\", \"2017-02-09\", \"2017-02-08\", \"2017-02-07\", \"2017-02-06\", \"2017-02-05\", \"2017-02-04\", \"2017-02-03\", \"2017-02-02\", \"2017-02-01\", \"2017-01-31\", \"2017-01-30\", \"2017-01-29\", \"2017-01-28\", \"2017-01-27\", \"2017-01-26\", \"2017-01-25\", \"2017-01-24\", \"2017-01-23\", \"2017-01-22\", \"2017-01-21\", \"2017-01-20\", \"2017-01-19\", \"2017-01-18\", \"2017-01-17\", \"2017-01-16\", \"2017-01-15\", \"2017-01-14\", \"2017-01-13\", \"2017-01-12\", \"2017-01-11\", \"2017-01-10\", \"2017-01-09\", \"2017-01-08\", \"2017-01-07\", \"2017-01-06\", \"2017-01-05\", \"2017-01-04\", \"2017-01-03\", \"2017-01-02\", \"2017-01-01\", \"2016-12-31\", \"2016-12-30\", \"2016-12-29\", \"2016-12-28\", \"2016-12-27\", \"2016-12-26\", \"2016-12-25\", \"2016-12-24\", \"2016-12-23\", \"2016-12-22\", \"2016-12-21\", \"2016-12-20\", \"2016-12-19\", \"2016-12-18\", \"2016-12-17\", \"2016-12-16\", \"2016-12-15\", \"2016-12-14\", \"2016-12-13\", \"2016-12-12\", \"2016-12-11\", \"2016-12-10\", \"2016-12-09\", \"2016-12-08\", \"2016-12-07\", \"2016-12-06\", \"2016-12-05\", \"2016-12-04\", \"2016-12-03\", \"2016-12-02\", \"2016-12-01\", \"2016-11-30\", \"2016-11-29\", \"2016-11-28\", \"2016-11-27\", \"2016-11-26\", \"2016-11-25\", \"2016-11-24\", \"2016-11-23\", \"2016-11-22\", \"2016-11-21\", \"2016-11-20\", \"2016-11-19\", \"2016-11-18\", \"2016-11-17\", \"2016-11-16\", \"2016-11-15\", \"2016-11-14\", \"2016-11-13\", \"2016-11-12\", \"2016-11-11\", \"2016-11-10\", \"2016-11-09\", \"2016-11-08\", \"2016-11-07\", \"2016-11-06\", \"2016-11-05\", \"2016-11-04\", \"2016-11-03\", \"2016-11-02\", \"2016-11-01\", \"2016-10-31\", \"2016-10-30\", \"2016-10-29\", \"2016-10-28\", \"2016-10-27\", \"2016-10-26\", \"2016-10-25\", \"2016-10-24\", \"2016-10-23\", \"2016-10-22\", \"2016-10-21\", \"2016-10-20\", \"2016-10-19\", \"2016-10-18\", \"2016-10-17\", \"2016-10-16\", \"2016-10-15\", \"2016-10-14\", \"2016-10-13\", \"2016-10-12\", \"2016-10-11\", \"2016-10-10\", \"2016-10-09\", \"2016-10-08\", \"2016-10-07\", \"2016-10-06\", \"2016-10-05\", \"2016-10-04\", \"2016-10-03\", \"2016-10-02\", \"2016-10-01\", \"2016-09-30\", \"2016-09-29\", \"2016-09-28\", \"2016-09-27\", \"2016-09-26\", \"2016-09-25\", \"2016-09-24\", \"2016-09-23\", \"2016-09-22\", \"2016-09-21\", \"2016-09-20\", \"2016-09-19\", \"2016-09-18\", \"2016-09-17\", \"2016-09-16\", \"2016-09-15\", \"2016-09-14\", \"2016-09-13\", \"2016-09-12\", \"2016-09-11\", \"2016-09-10\", \"2016-09-09\", \"2016-09-08\", \"2016-09-07\", \"2016-09-06\", \"2016-09-05\", \"2016-09-04\", \"2016-09-03\", \"2016-09-02\", \"2016-09-01\", \"2016-08-31\", \"2016-08-30\", \"2016-08-29\", \"2016-08-28\", \"2016-08-27\", \"2016-08-26\", \"2016-08-25\", \"2016-08-24\", \"2016-08-23\", \"2016-08-22\", \"2016-08-21\", \"2016-08-20\", \"2016-08-19\", \"2016-08-18\", \"2016-08-17\", \"2016-08-16\", \"2016-08-15\", \"2016-08-14\", \"2016-08-13\", \"2016-08-12\", \"2016-08-11\", \"2016-08-10\", \"2016-08-09\", \"2016-08-08\", \"2016-08-07\", \"2016-08-06\", \"2016-08-05\", \"2016-08-04\", \"2016-08-03\", \"2016-08-02\", \"2016-08-01\"], \"xaxis\": \"x\", \"y\": [2556, 2620, 1799, 1597, 2433, 2529, 2725, 2631, 2436, 1966, 1724, 2427, 2668, 2514, 2804, 2671, 1766, 1721, 2382, 2741, 2554, 2635, 2769, 1921, 1859, 2450, 2658, 2885, 1938, 2046, 1895, 2048, 2499, 2709, 2687, 2789, 2226, 1597, 1510, 2095, 2258, 2357, 2143, 2142, 1432, 1391, 2028, 2237, 2517, 2181, 2361, 1555, 1545, 1927, 2280, 2279, 2391, 2493, 1534, 1399, 2190, 2826, 2292, 2199, 1745, 1463, 1502, 2009, 2228, 2406, 2129, 2248, 1645, 1855, 2223, 2715, 3117, 3098, 2360, 1290, 1251, 1932, 2218, 2024, 2108, 2025, 1400, 1383, 1960, 2806, 2588, 2564, 2588, 1594, 1566, 2411, 2838, 4224, 2354, 2263, 1548, 1612, 2210, 2374, 2397, 2391, 2279, 1507, 1506, 1834, 2300, 2341, 2464, 2563, 1766, 1829, 2297, 2647, 2619, 2978, 2383, 1861, 2170, 2268, 2731, 2525, 2577, 2525, 1768, 1712, 2374, 2847, 2582, 2611, 2383, 1776, 1610, 2129, 2409, 2486, 2338, 2537, 1781, 1707, 2194, 2231, 2449, 2586, 2396, 1827, 1753, 2162, 2267, 2390, 2347, 2352, 1643, 1638, 2093, 2364, 2477, 2582, 2374, 2187, 1755, 2785, 2539, 2629, 2379, 2266, 1790, 1761, 2199, 2678, 2570, 2476, 2238, 1522, 1549, 2182, 2372, 2445, 2229, 2392, 1814, 1614, 1969, 2209, 2986, 3618, 2262, 1700, 1685, 2074, 2083, 2245, 2443, 1906, 1576, 1526, 1967, 2203, 2185, 2268, 2308, 1637, 1615, 2210, 2193, 2390, 2403, 1620, 1364, 1211, 1232, 1647, 1763, 1855, 1586, 1386, 1231, 1604, 2100, 2594, 3110, 3222, 2128, 2324, 2956, 2937, 3040, 3166, 3433, 2208, 2207, 2830, 3013, 2840, 3021, 4265, 3220, 3044, 3751, 4200, 4435, 4337, 4807, 3356, 3213, 3759, 3770, 3805, 3942, 4143, 3247, 2984, 3654, 4074, 4334, 4685, 4466, 3144, 3119, 3588, 4055, 3752, 3899, 3832, 3232, 3042, 3596, 4014, 3960, 3728, 3827, 3086, 2964, 3791, 4162, 4375, 3842, 4063, 2971, 3029, 3419, 3755, 3544, 3628, 3397, 2649, 2495, 2838, 2964, 2871, 2850, 2911, 2134, 2114, 2892, 3016, 3770, 4322, 2514, 1724, 1589, 2303, 2597, 2535, 2727, 2776, 1877, 1845, 2381, 2581, 2720, 2760, 2689, 1822, 1853, 2603, 2949, 2652, 2396, 2465, 1725, 1671, 2549, 2628, 2562, 2508, 2125, 1692, 1741, 2613, 2687, 3223, 2675, 2454, 1682, 1654, 2359, 2539, 2627, 2754, 2584, 1730, 1664, 2379, 2725, 2799, 2873, 3043, 1801, 1596, 2619, 2667, 2757, 2851, 2815, 1622, 1663, 2702, 3161, 2890, 2140, 1711], \"yaxis\": \"y\"}, {\"marker\": {\"color\": \"blue\"}, \"showlegend\": false, \"type\": \"scatter\", \"x\": [\"2017-08-01\", \"2017-07-31\", \"2017-07-30\", \"2017-07-29\", \"2017-07-28\", \"2017-07-27\", \"2017-07-26\", \"2017-07-25\", \"2017-07-24\", \"2017-07-23\", \"2017-07-22\", \"2017-07-21\", \"2017-07-20\", \"2017-07-19\", \"2017-07-18\", \"2017-07-17\", \"2017-07-16\", \"2017-07-15\", \"2017-07-14\", \"2017-07-13\", \"2017-07-12\", \"2017-07-11\", \"2017-07-10\", \"2017-07-09\", \"2017-07-08\", \"2017-07-07\", \"2017-07-06\", \"2017-07-05\", \"2017-07-04\", \"2017-07-03\", \"2017-07-02\", \"2017-07-01\", \"2017-06-30\", \"2017-06-29\", \"2017-06-28\", \"2017-06-27\", \"2017-06-26\", \"2017-06-25\", \"2017-06-24\", \"2017-06-23\", \"2017-06-22\", \"2017-06-21\", \"2017-06-20\", \"2017-06-19\", \"2017-06-18\", \"2017-06-17\", \"2017-06-16\", \"2017-06-15\", \"2017-06-14\", \"2017-06-13\", \"2017-06-12\", \"2017-06-11\", \"2017-06-10\", \"2017-06-09\", \"2017-06-08\", \"2017-06-07\", \"2017-06-06\", \"2017-06-05\", \"2017-06-04\", \"2017-06-03\", \"2017-06-02\", \"2017-06-01\", \"2017-05-31\", \"2017-05-30\", \"2017-05-29\", \"2017-05-28\", \"2017-05-27\", \"2017-05-26\", \"2017-05-25\", \"2017-05-24\", \"2017-05-23\", \"2017-05-22\", \"2017-05-21\", \"2017-05-20\", \"2017-05-19\", \"2017-05-18\", \"2017-05-17\", \"2017-05-16\", \"2017-05-15\", \"2017-05-14\", \"2017-05-13\", \"2017-05-12\", \"2017-05-11\", \"2017-05-10\", \"2017-05-09\", \"2017-05-08\", \"2017-05-07\", \"2017-05-06\", \"2017-05-05\", \"2017-05-04\", \"2017-05-03\", \"2017-05-02\", \"2017-05-01\", \"2017-04-30\", \"2017-04-29\", \"2017-04-28\", \"2017-04-27\", \"2017-04-26\", \"2017-04-25\", \"2017-04-24\", \"2017-04-23\", \"2017-04-22\", \"2017-04-21\", \"2017-04-20\", \"2017-04-19\", \"2017-04-18\", \"2017-04-17\", \"2017-04-16\", \"2017-04-15\", \"2017-04-14\", \"2017-04-13\", \"2017-04-12\", \"2017-04-11\", \"2017-04-10\", \"2017-04-09\", \"2017-04-08\", \"2017-04-07\", \"2017-04-06\", \"2017-04-05\", \"2017-04-04\", \"2017-04-03\", \"2017-04-02\", \"2017-04-01\", \"2017-03-31\", \"2017-03-30\", \"2017-03-29\", \"2017-03-28\", \"2017-03-27\", \"2017-03-26\", \"2017-03-25\", \"2017-03-24\", \"2017-03-23\", \"2017-03-22\", \"2017-03-21\", \"2017-03-20\", \"2017-03-19\", \"2017-03-18\", \"2017-03-17\", \"2017-03-16\", \"2017-03-15\", \"2017-03-14\", \"2017-03-13\", \"2017-03-12\", \"2017-03-11\", \"2017-03-10\", \"2017-03-09\", \"2017-03-08\", \"2017-03-07\", \"2017-03-06\", \"2017-03-05\", \"2017-03-04\", \"2017-03-03\", \"2017-03-02\", \"2017-03-01\", \"2017-02-28\", \"2017-02-27\", \"2017-02-26\", \"2017-02-25\", \"2017-02-24\", \"2017-02-23\", \"2017-02-22\", \"2017-02-21\", \"2017-02-20\", \"2017-02-19\", \"2017-02-18\", \"2017-02-17\", \"2017-02-16\", \"2017-02-15\", \"2017-02-14\", \"2017-02-13\", \"2017-02-12\", \"2017-02-11\", \"2017-02-10\", \"2017-02-09\", \"2017-02-08\", \"2017-02-07\", \"2017-02-06\", \"2017-02-05\", \"2017-02-04\", \"2017-02-03\", \"2017-02-02\", \"2017-02-01\", \"2017-01-31\", \"2017-01-30\", \"2017-01-29\", \"2017-01-28\", \"2017-01-27\", \"2017-01-26\", \"2017-01-25\", \"2017-01-24\", \"2017-01-23\", \"2017-01-22\", \"2017-01-21\", \"2017-01-20\", \"2017-01-19\", \"2017-01-18\", \"2017-01-17\", \"2017-01-16\", \"2017-01-15\", \"2017-01-14\", \"2017-01-13\", \"2017-01-12\", \"2017-01-11\", \"2017-01-10\", \"2017-01-09\", \"2017-01-08\", \"2017-01-07\", \"2017-01-06\", \"2017-01-05\", \"2017-01-04\", \"2017-01-03\", \"2017-01-02\", \"2017-01-01\", \"2016-12-31\", \"2016-12-30\", \"2016-12-29\", \"2016-12-28\", \"2016-12-27\", \"2016-12-26\", \"2016-12-25\", \"2016-12-24\", \"2016-12-23\", \"2016-12-22\", \"2016-12-21\", \"2016-12-20\", \"2016-12-19\", \"2016-12-18\", \"2016-12-17\", \"2016-12-16\", \"2016-12-15\", \"2016-12-14\", \"2016-12-13\", \"2016-12-12\", \"2016-12-11\", \"2016-12-10\", \"2016-12-09\", \"2016-12-08\", \"2016-12-07\", \"2016-12-06\", \"2016-12-05\", \"2016-12-04\", \"2016-12-03\", \"2016-12-02\", \"2016-12-01\", \"2016-11-30\", \"2016-11-29\", \"2016-11-28\", \"2016-11-27\", \"2016-11-26\", \"2016-11-25\", \"2016-11-24\", \"2016-11-23\", \"2016-11-22\", \"2016-11-21\", \"2016-11-20\", \"2016-11-19\", \"2016-11-18\", \"2016-11-17\", \"2016-11-16\", \"2016-11-15\", \"2016-11-14\", \"2016-11-13\", \"2016-11-12\", \"2016-11-11\", \"2016-11-10\", \"2016-11-09\", \"2016-11-08\", \"2016-11-07\", \"2016-11-06\", \"2016-11-05\", \"2016-11-04\", \"2016-11-03\", \"2016-11-02\", \"2016-11-01\", \"2016-10-31\", \"2016-10-30\", \"2016-10-29\", \"2016-10-28\", \"2016-10-27\", \"2016-10-26\", \"2016-10-25\", \"2016-10-24\", \"2016-10-23\", \"2016-10-22\", \"2016-10-21\", \"2016-10-20\", \"2016-10-19\", \"2016-10-18\", \"2016-10-17\", \"2016-10-16\", \"2016-10-15\", \"2016-10-14\", \"2016-10-13\", \"2016-10-12\", \"2016-10-11\", \"2016-10-10\", \"2016-10-09\", \"2016-10-08\", \"2016-10-07\", \"2016-10-06\", \"2016-10-05\", \"2016-10-04\", \"2016-10-03\", \"2016-10-02\", \"2016-10-01\", \"2016-09-30\", \"2016-09-29\", \"2016-09-28\", \"2016-09-27\", \"2016-09-26\", \"2016-09-25\", \"2016-09-24\", \"2016-09-23\", \"2016-09-22\", \"2016-09-21\", \"2016-09-20\", \"2016-09-19\", \"2016-09-18\", \"2016-09-17\", \"2016-09-16\", \"2016-09-15\", \"2016-09-14\", \"2016-09-13\", \"2016-09-12\", \"2016-09-11\", \"2016-09-10\", \"2016-09-09\", \"2016-09-08\", \"2016-09-07\", \"2016-09-06\", \"2016-09-05\", \"2016-09-04\", \"2016-09-03\", \"2016-09-02\", \"2016-09-01\", \"2016-08-31\", \"2016-08-30\", \"2016-08-29\", \"2016-08-28\", \"2016-08-27\", \"2016-08-26\", \"2016-08-25\", \"2016-08-24\", \"2016-08-23\", \"2016-08-22\", \"2016-08-21\", \"2016-08-20\", \"2016-08-19\", \"2016-08-18\", \"2016-08-17\", \"2016-08-16\", \"2016-08-15\", \"2016-08-14\", \"2016-08-13\", \"2016-08-12\", \"2016-08-11\", \"2016-08-10\", \"2016-08-09\", \"2016-08-08\", \"2016-08-07\", \"2016-08-06\", \"2016-08-05\", \"2016-08-04\", \"2016-08-03\", \"2016-08-02\", \"2016-08-01\"], \"xaxis\": \"x2\", \"y\": [43, 61, 22, 19, 42, 49, 41, 36, 38, 16, 17, 41, 40, 56, 50, 49, 27, 16, 44, 62, 48, 40, 44, 19, 14, 38, 30, 41, 7, 13, 8, 3, 33, 44, 31, 40, 32, 19, 10, 26, 36, 34, 35, 39, 25, 18, 36, 35, 45, 48, 61, 26, 12, 35, 24, 37, 29, 35, 15, 15, 36, 35, 39, 39, 18, 9, 16, 31, 35, 36, 32, 23, 22, 30, 39, 34, 38, 51, 37, 10, 23, 54, 44, 40, 46, 48, 11, 12, 35, 48, 70, 67, 78, 27, 20, 59, 42, 42, 33, 24, 12, 15, 42, 39, 38, 47, 37, 14, 7, 39, 37, 45, 29, 36, 10, 18, 43, 41, 32, 39, 36, 13, 12, 17, 38, 49, 44, 46, 14, 13, 30, 24, 37, 33, 35, 17, 17, 31, 29, 31, 32, 35, 11, 13, 32, 28, 24, 35, 30, 28, 26, 25, 27, 32, 29, 27, 9, 12, 25, 30, 34, 25, 21, 15, 13, 67, 32, 27, 51, 30, 16, 10, 24, 28, 24, 23, 28, 12, 14, 29, 26, 27, 39, 33, 19, 4, 21, 27, 34, 28, 27, 10, 11, 18, 27, 36, 32, 13, 6, 11, 28, 22, 17, 23, 38, 11, 8, 26, 41, 29, 29, 18, 11, 10, 13, 22, 25, 17, 15, 18, 19, 19, 33, 35, 67, 69, 38, 43, 87, 72, 65, 77, 83, 49, 37, 72, 66, 49, 70, 76, 36, 22, 41, 50, 57, 46, 73, 18, 13, 29, 15, 31, 21, 39, 13, 16, 35, 45, 33, 32, 39, 16, 15, 22, 25, 29, 44, 41, 21, 20, 37, 34, 27, 33, 28, 16, 11, 30, 40, 38, 21, 33, 28, 14, 33, 30, 29, 32, 40, 20, 9, 21, 30, 37, 43, 38, 22, 12, 39, 33, 44, 35, 35, 25, 6, 25, 32, 39, 35, 42, 18, 12, 24, 33, 39, 45, 36, 15, 8, 39, 32, 42, 21, 28, 17, 13, 39, 46, 33, 38, 16, 9, 13, 27, 43, 32, 34, 43, 22, 15, 39, 62, 47, 57, 57, 23, 21, 50, 43, 40, 59, 65, 23, 14, 71, 45, 46, 42, 34, 16, 10, 41, 17, 0, 17, 34], \"yaxis\": \"y2\"}],\n",
              "                        {\"annotations\": [{\"font\": {\"size\": 16}, \"showarrow\": false, \"text\": \"Date - Count\", \"x\": 0.5, \"xanchor\": \"center\", \"xref\": \"paper\", \"y\": 1.0, \"yanchor\": \"bottom\", \"yref\": \"paper\"}, {\"font\": {\"size\": 16}, \"showarrow\": false, \"text\": \"Date - Non-zero Revenue count\", \"x\": 0.5, \"xanchor\": \"center\", \"xref\": \"paper\", \"y\": 0.46, \"yanchor\": \"bottom\", \"yref\": \"paper\"}], \"height\": 800, \"paper_bgcolor\": \"rgb(233,233,233)\", \"template\": {\"data\": {\"bar\": [{\"error_x\": {\"color\": \"#2a3f5f\"}, \"error_y\": {\"color\": \"#2a3f5f\"}, \"marker\": {\"line\": {\"color\": \"#E5ECF6\", \"width\": 0.5}}, \"type\": \"bar\"}], \"barpolar\": [{\"marker\": {\"line\": {\"color\": \"#E5ECF6\", \"width\": 0.5}}, \"type\": \"barpolar\"}], \"carpet\": [{\"aaxis\": {\"endlinecolor\": \"#2a3f5f\", \"gridcolor\": \"white\", \"linecolor\": \"white\", \"minorgridcolor\": \"white\", \"startlinecolor\": \"#2a3f5f\"}, \"baxis\": {\"endlinecolor\": \"#2a3f5f\", \"gridcolor\": \"white\", \"linecolor\": \"white\", \"minorgridcolor\": \"white\", \"startlinecolor\": \"#2a3f5f\"}, \"type\": \"carpet\"}], \"choropleth\": [{\"colorbar\": {\"outlinewidth\": 0, \"ticks\": \"\"}, \"type\": \"choropleth\"}], \"contour\": [{\"colorbar\": {\"outlinewidth\": 0, \"ticks\": \"\"}, \"colorscale\": [[0.0, \"#0d0887\"], [0.1111111111111111, \"#46039f\"], [0.2222222222222222, \"#7201a8\"], [0.3333333333333333, \"#9c179e\"], [0.4444444444444444, \"#bd3786\"], [0.5555555555555556, \"#d8576b\"], [0.6666666666666666, \"#ed7953\"], [0.7777777777777778, \"#fb9f3a\"], [0.8888888888888888, \"#fdca26\"], [1.0, \"#f0f921\"]], \"type\": \"contour\"}], \"contourcarpet\": [{\"colorbar\": {\"outlinewidth\": 0, \"ticks\": \"\"}, \"type\": \"contourcarpet\"}], \"heatmap\": [{\"colorbar\": {\"outlinewidth\": 0, \"ticks\": \"\"}, \"colorscale\": [[0.0, \"#0d0887\"], [0.1111111111111111, \"#46039f\"], [0.2222222222222222, \"#7201a8\"], [0.3333333333333333, \"#9c179e\"], [0.4444444444444444, \"#bd3786\"], [0.5555555555555556, \"#d8576b\"], [0.6666666666666666, \"#ed7953\"], [0.7777777777777778, \"#fb9f3a\"], [0.8888888888888888, \"#fdca26\"], [1.0, \"#f0f921\"]], \"type\": \"heatmap\"}], \"heatmapgl\": [{\"colorbar\": {\"outlinewidth\": 0, \"ticks\": \"\"}, \"colorscale\": [[0.0, \"#0d0887\"], [0.1111111111111111, \"#46039f\"], [0.2222222222222222, \"#7201a8\"], [0.3333333333333333, \"#9c179e\"], [0.4444444444444444, \"#bd3786\"], [0.5555555555555556, \"#d8576b\"], [0.6666666666666666, \"#ed7953\"], [0.7777777777777778, \"#fb9f3a\"], [0.8888888888888888, \"#fdca26\"], [1.0, \"#f0f921\"]], \"type\": \"heatmapgl\"}], \"histogram\": [{\"marker\": {\"colorbar\": {\"outlinewidth\": 0, \"ticks\": \"\"}}, \"type\": \"histogram\"}], \"histogram2d\": [{\"colorbar\": {\"outlinewidth\": 0, \"ticks\": \"\"}, \"colorscale\": [[0.0, \"#0d0887\"], [0.1111111111111111, \"#46039f\"], [0.2222222222222222, \"#7201a8\"], [0.3333333333333333, \"#9c179e\"], [0.4444444444444444, \"#bd3786\"], [0.5555555555555556, \"#d8576b\"], [0.6666666666666666, \"#ed7953\"], [0.7777777777777778, \"#fb9f3a\"], [0.8888888888888888, \"#fdca26\"], [1.0, \"#f0f921\"]], \"type\": \"histogram2d\"}], \"histogram2dcontour\": [{\"colorbar\": {\"outlinewidth\": 0, \"ticks\": \"\"}, \"colorscale\": [[0.0, \"#0d0887\"], [0.1111111111111111, \"#46039f\"], [0.2222222222222222, \"#7201a8\"], [0.3333333333333333, \"#9c179e\"], [0.4444444444444444, \"#bd3786\"], [0.5555555555555556, \"#d8576b\"], [0.6666666666666666, \"#ed7953\"], [0.7777777777777778, \"#fb9f3a\"], [0.8888888888888888, \"#fdca26\"], [1.0, \"#f0f921\"]], \"type\": \"histogram2dcontour\"}], \"mesh3d\": [{\"colorbar\": {\"outlinewidth\": 0, \"ticks\": \"\"}, \"type\": \"mesh3d\"}], \"parcoords\": [{\"line\": {\"colorbar\": {\"outlinewidth\": 0, \"ticks\": \"\"}}, \"type\": \"parcoords\"}], \"pie\": [{\"automargin\": true, \"type\": \"pie\"}], \"scatter\": [{\"marker\": {\"colorbar\": {\"outlinewidth\": 0, \"ticks\": \"\"}}, \"type\": \"scatter\"}], \"scatter3d\": [{\"line\": {\"colorbar\": {\"outlinewidth\": 0, \"ticks\": \"\"}}, \"marker\": {\"colorbar\": {\"outlinewidth\": 0, \"ticks\": \"\"}}, \"type\": \"scatter3d\"}], \"scattercarpet\": [{\"marker\": {\"colorbar\": {\"outlinewidth\": 0, \"ticks\": \"\"}}, \"type\": \"scattercarpet\"}], \"scattergeo\": [{\"marker\": {\"colorbar\": {\"outlinewidth\": 0, \"ticks\": \"\"}}, \"type\": \"scattergeo\"}], \"scattergl\": [{\"marker\": {\"colorbar\": {\"outlinewidth\": 0, \"ticks\": \"\"}}, \"type\": \"scattergl\"}], \"scattermapbox\": [{\"marker\": {\"colorbar\": {\"outlinewidth\": 0, \"ticks\": \"\"}}, \"type\": \"scattermapbox\"}], \"scatterpolar\": [{\"marker\": {\"colorbar\": {\"outlinewidth\": 0, \"ticks\": \"\"}}, \"type\": \"scatterpolar\"}], \"scatterpolargl\": [{\"marker\": {\"colorbar\": {\"outlinewidth\": 0, \"ticks\": \"\"}}, \"type\": \"scatterpolargl\"}], \"scatterternary\": [{\"marker\": {\"colorbar\": {\"outlinewidth\": 0, \"ticks\": \"\"}}, \"type\": \"scatterternary\"}], \"surface\": [{\"colorbar\": {\"outlinewidth\": 0, \"ticks\": \"\"}, \"colorscale\": [[0.0, \"#0d0887\"], [0.1111111111111111, \"#46039f\"], [0.2222222222222222, \"#7201a8\"], [0.3333333333333333, \"#9c179e\"], [0.4444444444444444, \"#bd3786\"], [0.5555555555555556, \"#d8576b\"], [0.6666666666666666, \"#ed7953\"], [0.7777777777777778, \"#fb9f3a\"], [0.8888888888888888, \"#fdca26\"], [1.0, \"#f0f921\"]], \"type\": \"surface\"}], \"table\": [{\"cells\": {\"fill\": {\"color\": \"#EBF0F8\"}, \"line\": {\"color\": \"white\"}}, \"header\": {\"fill\": {\"color\": \"#C8D4E3\"}, \"line\": {\"color\": \"white\"}}, \"type\": \"table\"}]}, \"layout\": {\"annotationdefaults\": {\"arrowcolor\": \"#2a3f5f\", \"arrowhead\": 0, \"arrowwidth\": 1}, \"coloraxis\": {\"colorbar\": {\"outlinewidth\": 0, \"ticks\": \"\"}}, \"colorscale\": {\"diverging\": [[0, \"#8e0152\"], [0.1, \"#c51b7d\"], [0.2, \"#de77ae\"], [0.3, \"#f1b6da\"], [0.4, \"#fde0ef\"], [0.5, \"#f7f7f7\"], [0.6, \"#e6f5d0\"], [0.7, \"#b8e186\"], [0.8, \"#7fbc41\"], [0.9, \"#4d9221\"], [1, \"#276419\"]], \"sequential\": [[0.0, \"#0d0887\"], [0.1111111111111111, \"#46039f\"], [0.2222222222222222, \"#7201a8\"], [0.3333333333333333, \"#9c179e\"], [0.4444444444444444, \"#bd3786\"], [0.5555555555555556, \"#d8576b\"], [0.6666666666666666, \"#ed7953\"], [0.7777777777777778, \"#fb9f3a\"], [0.8888888888888888, \"#fdca26\"], [1.0, \"#f0f921\"]], \"sequentialminus\": [[0.0, \"#0d0887\"], [0.1111111111111111, \"#46039f\"], [0.2222222222222222, \"#7201a8\"], [0.3333333333333333, \"#9c179e\"], [0.4444444444444444, \"#bd3786\"], [0.5555555555555556, \"#d8576b\"], [0.6666666666666666, \"#ed7953\"], [0.7777777777777778, \"#fb9f3a\"], [0.8888888888888888, \"#fdca26\"], [1.0, \"#f0f921\"]]}, \"colorway\": [\"#636efa\", \"#EF553B\", \"#00cc96\", \"#ab63fa\", \"#FFA15A\", \"#19d3f3\", \"#FF6692\", \"#B6E880\", \"#FF97FF\", \"#FECB52\"], \"font\": {\"color\": \"#2a3f5f\"}, \"geo\": {\"bgcolor\": \"white\", \"lakecolor\": \"white\", \"landcolor\": \"#E5ECF6\", \"showlakes\": true, \"showland\": true, \"subunitcolor\": \"white\"}, \"hoverlabel\": {\"align\": \"left\"}, \"hovermode\": \"closest\", \"mapbox\": {\"style\": \"light\"}, \"paper_bgcolor\": \"white\", \"plot_bgcolor\": \"#E5ECF6\", \"polar\": {\"angularaxis\": {\"gridcolor\": \"white\", \"linecolor\": \"white\", \"ticks\": \"\"}, \"bgcolor\": \"#E5ECF6\", \"radialaxis\": {\"gridcolor\": \"white\", \"linecolor\": \"white\", \"ticks\": \"\"}}, \"scene\": {\"xaxis\": {\"backgroundcolor\": \"#E5ECF6\", \"gridcolor\": \"white\", \"gridwidth\": 2, \"linecolor\": \"white\", \"showbackground\": true, \"ticks\": \"\", \"zerolinecolor\": \"white\"}, \"yaxis\": {\"backgroundcolor\": \"#E5ECF6\", \"gridcolor\": \"white\", \"gridwidth\": 2, \"linecolor\": \"white\", \"showbackground\": true, \"ticks\": \"\", \"zerolinecolor\": \"white\"}, \"zaxis\": {\"backgroundcolor\": \"#E5ECF6\", \"gridcolor\": \"white\", \"gridwidth\": 2, \"linecolor\": \"white\", \"showbackground\": true, \"ticks\": \"\", \"zerolinecolor\": \"white\"}}, \"shapedefaults\": {\"line\": {\"color\": \"#2a3f5f\"}}, \"ternary\": {\"aaxis\": {\"gridcolor\": \"white\", \"linecolor\": \"white\", \"ticks\": \"\"}, \"baxis\": {\"gridcolor\": \"white\", \"linecolor\": \"white\", \"ticks\": \"\"}, \"bgcolor\": \"#E5ECF6\", \"caxis\": {\"gridcolor\": \"white\", \"linecolor\": \"white\", \"ticks\": \"\"}}, \"title\": {\"x\": 0.05}, \"xaxis\": {\"automargin\": true, \"gridcolor\": \"white\", \"linecolor\": \"white\", \"ticks\": \"\", \"title\": {\"standoff\": 15}, \"zerolinecolor\": \"white\", \"zerolinewidth\": 2}, \"yaxis\": {\"automargin\": true, \"gridcolor\": \"white\", \"linecolor\": \"white\", \"ticks\": \"\", \"title\": {\"standoff\": 15}, \"zerolinecolor\": \"white\", \"zerolinewidth\": 2}}}, \"title\": {\"text\": \"Date Plots\"}, \"width\": 800, \"xaxis\": {\"anchor\": \"y\", \"domain\": [0.0, 1.0]}, \"xaxis2\": {\"anchor\": \"y2\", \"domain\": [0.0, 1.0]}, \"yaxis\": {\"anchor\": \"x\", \"domain\": [0.54, 1.0]}, \"yaxis2\": {\"anchor\": \"x2\", \"domain\": [0.0, 0.46]}},\n",
              "                        {\"responsive\": true}\n",
              "                    ).then(function(){\n",
              "                            \n",
              "var gd = document.getElementById('05bec266-95b8-484c-9749-24b01fe4b69f');\n",
              "var x = new MutationObserver(function (mutations, observer) {{\n",
              "        var display = window.getComputedStyle(gd).display;\n",
              "        if (!display || display === 'none') {{\n",
              "            console.log([gd, 'removed!']);\n",
              "            Plotly.purge(gd);\n",
              "            observer.disconnect();\n",
              "        }}\n",
              "}});\n",
              "\n",
              "// Listen for the removal of the full notebook cells\n",
              "var notebookContainer = gd.closest('#notebook-container');\n",
              "if (notebookContainer) {{\n",
              "    x.observe(notebookContainer, {childList: true});\n",
              "}}\n",
              "\n",
              "// Listen for the clearing of the current output cell\n",
              "var outputEl = gd.closest('.output');\n",
              "if (outputEl) {{\n",
              "    x.observe(outputEl, {childList: true});\n",
              "}}\n",
              "\n",
              "                        })\n",
              "                };\n",
              "                \n",
              "            </script>\n",
              "        </div>\n",
              "</body>\n",
              "</html>"
            ]
          },
          "metadata": {
            "tags": []
          }
        }
      ]
    },
    {
      "cell_type": "markdown",
      "metadata": {
        "id": "LLUtapLeN3Ih"
      },
      "source": [
        "**Conclusion:** There is no relationship between pageviews and consumption. The data can be divided into train and validation based on time."
      ]
    },
    {
      "cell_type": "code",
      "source": [],
      "metadata": {
        "id": "5sJQB7Jqgazj"
      },
      "execution_count": null,
      "outputs": []
    },
    {
      "cell_type": "markdown",
      "metadata": {
        "id": "PNMoi5MdOK3F"
      },
      "source": [
        "###Feature Engineering"
      ]
    },
    {
      "cell_type": "code",
      "metadata": {
        "id": "xSvkQL56Nx3u",
        "colab": {
          "base_uri": "https://localhost:8080/",
          "height": 299
        },
        "outputId": "0df77b52-5dad-46cf-8e8d-47b97c084d87"
      },
      "source": [
        "train['trafficSource.adwordsClickInfo.isVideoAd'].fillna(True, inplace=True)\n",
        "train['trafficSource.isTrueDirect'].fillna(False, inplace=True)\n",
        "\n",
        "# remove columns with only one distinct value\n",
        "cols_to_drop = [col for col in train.columns if train[col].nunique(dropna=False) == 1]\n",
        "train.drop(cols_to_drop, axis=1, inplace=True)\n",
        "\n",
        "#only one not null value\n",
        "train.drop(['trafficSource.campaignCode'], axis=1, inplace=True)\n",
        "\n",
        "train.head()"
      ],
      "execution_count": null,
      "outputs": [
        {
          "output_type": "execute_result",
          "data": {
            "text/html": [
              "<div>\n",
              "<style scoped>\n",
              "    .dataframe tbody tr th:only-of-type {\n",
              "        vertical-align: middle;\n",
              "    }\n",
              "\n",
              "    .dataframe tbody tr th {\n",
              "        vertical-align: top;\n",
              "    }\n",
              "\n",
              "    .dataframe thead th {\n",
              "        text-align: right;\n",
              "    }\n",
              "</style>\n",
              "<table border=\"1\" class=\"dataframe\">\n",
              "  <thead>\n",
              "    <tr style=\"text-align: right;\">\n",
              "      <th></th>\n",
              "      <th>channelGrouping</th>\n",
              "      <th>date</th>\n",
              "      <th>fullVisitorId</th>\n",
              "      <th>sessionId</th>\n",
              "      <th>visitId</th>\n",
              "      <th>visitNumber</th>\n",
              "      <th>visitStartTime</th>\n",
              "      <th>device.browser</th>\n",
              "      <th>device.operatingSystem</th>\n",
              "      <th>device.isMobile</th>\n",
              "      <th>device.deviceCategory</th>\n",
              "      <th>geoNetwork.continent</th>\n",
              "      <th>geoNetwork.subContinent</th>\n",
              "      <th>geoNetwork.country</th>\n",
              "      <th>geoNetwork.region</th>\n",
              "      <th>geoNetwork.metro</th>\n",
              "      <th>geoNetwork.city</th>\n",
              "      <th>geoNetwork.networkDomain</th>\n",
              "      <th>totals.hits</th>\n",
              "      <th>totals.pageviews</th>\n",
              "      <th>totals.bounces</th>\n",
              "      <th>totals.newVisits</th>\n",
              "      <th>totals.transactionRevenue</th>\n",
              "      <th>trafficSource.campaign</th>\n",
              "      <th>trafficSource.source</th>\n",
              "      <th>trafficSource.medium</th>\n",
              "      <th>trafficSource.keyword</th>\n",
              "      <th>trafficSource.isTrueDirect</th>\n",
              "      <th>trafficSource.referralPath</th>\n",
              "      <th>trafficSource.adwordsClickInfo.page</th>\n",
              "      <th>trafficSource.adwordsClickInfo.slot</th>\n",
              "      <th>trafficSource.adwordsClickInfo.gclId</th>\n",
              "      <th>trafficSource.adwordsClickInfo.adNetworkType</th>\n",
              "      <th>trafficSource.adwordsClickInfo.isVideoAd</th>\n",
              "      <th>trafficSource.adContent</th>\n",
              "    </tr>\n",
              "  </thead>\n",
              "  <tbody>\n",
              "    <tr>\n",
              "      <th>0</th>\n",
              "      <td>Organic Search</td>\n",
              "      <td>2016-09-02</td>\n",
              "      <td>1131660440785968503</td>\n",
              "      <td>1131660440785968503_1472830385</td>\n",
              "      <td>1472830385</td>\n",
              "      <td>1</td>\n",
              "      <td>1472830385</td>\n",
              "      <td>Chrome</td>\n",
              "      <td>Windows</td>\n",
              "      <td>False</td>\n",
              "      <td>desktop</td>\n",
              "      <td>Asia</td>\n",
              "      <td>Western Asia</td>\n",
              "      <td>Turkey</td>\n",
              "      <td>Izmir</td>\n",
              "      <td>(not set)</td>\n",
              "      <td>Izmir</td>\n",
              "      <td>ttnet.com.tr</td>\n",
              "      <td>1</td>\n",
              "      <td>1</td>\n",
              "      <td>1</td>\n",
              "      <td>1</td>\n",
              "      <td>NaN</td>\n",
              "      <td>(not set)</td>\n",
              "      <td>google</td>\n",
              "      <td>organic</td>\n",
              "      <td>(not provided)</td>\n",
              "      <td>False</td>\n",
              "      <td>NaN</td>\n",
              "      <td>NaN</td>\n",
              "      <td>NaN</td>\n",
              "      <td>NaN</td>\n",
              "      <td>NaN</td>\n",
              "      <td>True</td>\n",
              "      <td>NaN</td>\n",
              "    </tr>\n",
              "    <tr>\n",
              "      <th>1</th>\n",
              "      <td>Organic Search</td>\n",
              "      <td>2016-09-02</td>\n",
              "      <td>377306020877927890</td>\n",
              "      <td>377306020877927890_1472880147</td>\n",
              "      <td>1472880147</td>\n",
              "      <td>1</td>\n",
              "      <td>1472880147</td>\n",
              "      <td>Firefox</td>\n",
              "      <td>Macintosh</td>\n",
              "      <td>False</td>\n",
              "      <td>desktop</td>\n",
              "      <td>Oceania</td>\n",
              "      <td>Australasia</td>\n",
              "      <td>Australia</td>\n",
              "      <td>not available in demo dataset</td>\n",
              "      <td>not available in demo dataset</td>\n",
              "      <td>not available in demo dataset</td>\n",
              "      <td>dodo.net.au</td>\n",
              "      <td>1</td>\n",
              "      <td>1</td>\n",
              "      <td>1</td>\n",
              "      <td>1</td>\n",
              "      <td>NaN</td>\n",
              "      <td>(not set)</td>\n",
              "      <td>google</td>\n",
              "      <td>organic</td>\n",
              "      <td>(not provided)</td>\n",
              "      <td>False</td>\n",
              "      <td>NaN</td>\n",
              "      <td>NaN</td>\n",
              "      <td>NaN</td>\n",
              "      <td>NaN</td>\n",
              "      <td>NaN</td>\n",
              "      <td>True</td>\n",
              "      <td>NaN</td>\n",
              "    </tr>\n",
              "    <tr>\n",
              "      <th>2</th>\n",
              "      <td>Organic Search</td>\n",
              "      <td>2016-09-02</td>\n",
              "      <td>3895546263509774583</td>\n",
              "      <td>3895546263509774583_1472865386</td>\n",
              "      <td>1472865386</td>\n",
              "      <td>1</td>\n",
              "      <td>1472865386</td>\n",
              "      <td>Chrome</td>\n",
              "      <td>Windows</td>\n",
              "      <td>False</td>\n",
              "      <td>desktop</td>\n",
              "      <td>Europe</td>\n",
              "      <td>Southern Europe</td>\n",
              "      <td>Spain</td>\n",
              "      <td>Community of Madrid</td>\n",
              "      <td>(not set)</td>\n",
              "      <td>Madrid</td>\n",
              "      <td>unknown.unknown</td>\n",
              "      <td>1</td>\n",
              "      <td>1</td>\n",
              "      <td>1</td>\n",
              "      <td>1</td>\n",
              "      <td>NaN</td>\n",
              "      <td>(not set)</td>\n",
              "      <td>google</td>\n",
              "      <td>organic</td>\n",
              "      <td>(not provided)</td>\n",
              "      <td>False</td>\n",
              "      <td>NaN</td>\n",
              "      <td>NaN</td>\n",
              "      <td>NaN</td>\n",
              "      <td>NaN</td>\n",
              "      <td>NaN</td>\n",
              "      <td>True</td>\n",
              "      <td>NaN</td>\n",
              "    </tr>\n",
              "    <tr>\n",
              "      <th>3</th>\n",
              "      <td>Organic Search</td>\n",
              "      <td>2016-09-02</td>\n",
              "      <td>4763447161404445595</td>\n",
              "      <td>4763447161404445595_1472881213</td>\n",
              "      <td>1472881213</td>\n",
              "      <td>1</td>\n",
              "      <td>1472881213</td>\n",
              "      <td>UC Browser</td>\n",
              "      <td>Linux</td>\n",
              "      <td>False</td>\n",
              "      <td>desktop</td>\n",
              "      <td>Asia</td>\n",
              "      <td>Southeast Asia</td>\n",
              "      <td>Indonesia</td>\n",
              "      <td>not available in demo dataset</td>\n",
              "      <td>not available in demo dataset</td>\n",
              "      <td>not available in demo dataset</td>\n",
              "      <td>unknown.unknown</td>\n",
              "      <td>1</td>\n",
              "      <td>1</td>\n",
              "      <td>1</td>\n",
              "      <td>1</td>\n",
              "      <td>NaN</td>\n",
              "      <td>(not set)</td>\n",
              "      <td>google</td>\n",
              "      <td>organic</td>\n",
              "      <td>google + online</td>\n",
              "      <td>False</td>\n",
              "      <td>NaN</td>\n",
              "      <td>NaN</td>\n",
              "      <td>NaN</td>\n",
              "      <td>NaN</td>\n",
              "      <td>NaN</td>\n",
              "      <td>True</td>\n",
              "      <td>NaN</td>\n",
              "    </tr>\n",
              "    <tr>\n",
              "      <th>4</th>\n",
              "      <td>Organic Search</td>\n",
              "      <td>2016-09-02</td>\n",
              "      <td>27294437909732085</td>\n",
              "      <td>27294437909732085_1472822600</td>\n",
              "      <td>1472822600</td>\n",
              "      <td>2</td>\n",
              "      <td>1472822600</td>\n",
              "      <td>Chrome</td>\n",
              "      <td>Android</td>\n",
              "      <td>True</td>\n",
              "      <td>mobile</td>\n",
              "      <td>Europe</td>\n",
              "      <td>Northern Europe</td>\n",
              "      <td>United Kingdom</td>\n",
              "      <td>not available in demo dataset</td>\n",
              "      <td>not available in demo dataset</td>\n",
              "      <td>not available in demo dataset</td>\n",
              "      <td>unknown.unknown</td>\n",
              "      <td>1</td>\n",
              "      <td>1</td>\n",
              "      <td>1</td>\n",
              "      <td>NaN</td>\n",
              "      <td>NaN</td>\n",
              "      <td>(not set)</td>\n",
              "      <td>google</td>\n",
              "      <td>organic</td>\n",
              "      <td>(not provided)</td>\n",
              "      <td>True</td>\n",
              "      <td>NaN</td>\n",
              "      <td>NaN</td>\n",
              "      <td>NaN</td>\n",
              "      <td>NaN</td>\n",
              "      <td>NaN</td>\n",
              "      <td>True</td>\n",
              "      <td>NaN</td>\n",
              "    </tr>\n",
              "  </tbody>\n",
              "</table>\n",
              "</div>"
            ],
            "text/plain": [
              "  channelGrouping        date        fullVisitorId  \\\n",
              "0  Organic Search  2016-09-02  1131660440785968503   \n",
              "1  Organic Search  2016-09-02   377306020877927890   \n",
              "2  Organic Search  2016-09-02  3895546263509774583   \n",
              "3  Organic Search  2016-09-02  4763447161404445595   \n",
              "4  Organic Search  2016-09-02    27294437909732085   \n",
              "\n",
              "                        sessionId     visitId  visitNumber  visitStartTime  \\\n",
              "0  1131660440785968503_1472830385  1472830385            1      1472830385   \n",
              "1   377306020877927890_1472880147  1472880147            1      1472880147   \n",
              "2  3895546263509774583_1472865386  1472865386            1      1472865386   \n",
              "3  4763447161404445595_1472881213  1472881213            1      1472881213   \n",
              "4    27294437909732085_1472822600  1472822600            2      1472822600   \n",
              "\n",
              "  device.browser device.operatingSystem  device.isMobile  \\\n",
              "0         Chrome                Windows            False   \n",
              "1        Firefox              Macintosh            False   \n",
              "2         Chrome                Windows            False   \n",
              "3     UC Browser                  Linux            False   \n",
              "4         Chrome                Android             True   \n",
              "\n",
              "  device.deviceCategory geoNetwork.continent geoNetwork.subContinent  \\\n",
              "0               desktop                 Asia            Western Asia   \n",
              "1               desktop              Oceania             Australasia   \n",
              "2               desktop               Europe         Southern Europe   \n",
              "3               desktop                 Asia          Southeast Asia   \n",
              "4                mobile               Europe         Northern Europe   \n",
              "\n",
              "  geoNetwork.country              geoNetwork.region  \\\n",
              "0             Turkey                          Izmir   \n",
              "1          Australia  not available in demo dataset   \n",
              "2              Spain            Community of Madrid   \n",
              "3          Indonesia  not available in demo dataset   \n",
              "4     United Kingdom  not available in demo dataset   \n",
              "\n",
              "                geoNetwork.metro                geoNetwork.city  \\\n",
              "0                      (not set)                          Izmir   \n",
              "1  not available in demo dataset  not available in demo dataset   \n",
              "2                      (not set)                         Madrid   \n",
              "3  not available in demo dataset  not available in demo dataset   \n",
              "4  not available in demo dataset  not available in demo dataset   \n",
              "\n",
              "  geoNetwork.networkDomain totals.hits totals.pageviews totals.bounces  \\\n",
              "0             ttnet.com.tr           1                1              1   \n",
              "1              dodo.net.au           1                1              1   \n",
              "2          unknown.unknown           1                1              1   \n",
              "3          unknown.unknown           1                1              1   \n",
              "4          unknown.unknown           1                1              1   \n",
              "\n",
              "  totals.newVisits  totals.transactionRevenue trafficSource.campaign  \\\n",
              "0                1                        NaN              (not set)   \n",
              "1                1                        NaN              (not set)   \n",
              "2                1                        NaN              (not set)   \n",
              "3                1                        NaN              (not set)   \n",
              "4              NaN                        NaN              (not set)   \n",
              "\n",
              "  trafficSource.source trafficSource.medium trafficSource.keyword  \\\n",
              "0               google              organic        (not provided)   \n",
              "1               google              organic        (not provided)   \n",
              "2               google              organic        (not provided)   \n",
              "3               google              organic       google + online   \n",
              "4               google              organic        (not provided)   \n",
              "\n",
              "   trafficSource.isTrueDirect trafficSource.referralPath  \\\n",
              "0                       False                        NaN   \n",
              "1                       False                        NaN   \n",
              "2                       False                        NaN   \n",
              "3                       False                        NaN   \n",
              "4                        True                        NaN   \n",
              "\n",
              "  trafficSource.adwordsClickInfo.page trafficSource.adwordsClickInfo.slot  \\\n",
              "0                                 NaN                                 NaN   \n",
              "1                                 NaN                                 NaN   \n",
              "2                                 NaN                                 NaN   \n",
              "3                                 NaN                                 NaN   \n",
              "4                                 NaN                                 NaN   \n",
              "\n",
              "  trafficSource.adwordsClickInfo.gclId  \\\n",
              "0                                  NaN   \n",
              "1                                  NaN   \n",
              "2                                  NaN   \n",
              "3                                  NaN   \n",
              "4                                  NaN   \n",
              "\n",
              "  trafficSource.adwordsClickInfo.adNetworkType  \\\n",
              "0                                          NaN   \n",
              "1                                          NaN   \n",
              "2                                          NaN   \n",
              "3                                          NaN   \n",
              "4                                          NaN   \n",
              "\n",
              "   trafficSource.adwordsClickInfo.isVideoAd trafficSource.adContent  \n",
              "0                                      True                     NaN  \n",
              "1                                      True                     NaN  \n",
              "2                                      True                     NaN  \n",
              "3                                      True                     NaN  \n",
              "4                                      True                     NaN  "
            ]
          },
          "metadata": {
            "tags": []
          },
          "execution_count": 11
        }
      ]
    },
    {
      "cell_type": "markdown",
      "metadata": {
        "id": "fg6VuOe3OkIe"
      },
      "source": [
        "**Use the np.log1p method to perform smoothing operations on numerical features:**"
      ]
    },
    {
      "cell_type": "code",
      "metadata": {
        "id": "sQS2VijfObYA"
      },
      "source": [
        "num_cols = ['visitNumber', 'totals.hits', 'totals.pageviews', 'totals.bounces', 'totals.newVisits', 'totals.transactionRevenue']\n",
        "\n",
        "for col in num_cols:\n",
        "    train[col] = train[col].fillna(0)\n",
        "    train[col] = train[col].astype(float)\n",
        "    train[col] = np.log1p(train[col])"
      ],
      "execution_count": null,
      "outputs": []
    },
    {
      "cell_type": "markdown",
      "metadata": {
        "id": "cZLynSdbOyL4"
      },
      "source": [
        "**And filling with 0 in other features**"
      ]
    },
    {
      "cell_type": "code",
      "metadata": {
        "id": "UxwYCsWJOnUH"
      },
      "source": [
        "train['trafficSource.adContent'] = train['trafficSource.adContent'].fillna(0)\n",
        "train['trafficSource.keyword'] = train['trafficSource.keyword'].fillna(0)\n",
        "train['trafficSource.adwordsClickInfo.adNetworkType'] = train['trafficSource.adwordsClickInfo.adNetworkType'].fillna(0)\n",
        "train['trafficSource.adwordsClickInfo.gclId'] = train['trafficSource.adwordsClickInfo.gclId'].fillna(0)\n",
        "train['trafficSource.adwordsClickInfo.page'] = train['trafficSource.adwordsClickInfo.page'].fillna(0)\n",
        "train['trafficSource.adwordsClickInfo.slot'] = train['trafficSource.adwordsClickInfo.slot'].fillna(0)"
      ],
      "execution_count": null,
      "outputs": []
    },
    {
      "cell_type": "markdown",
      "metadata": {
        "id": "taXeFjb8O6rG"
      },
      "source": [
        "\n",
        "### *Challenge1: By looking at EDA, creat new column to add features\n",
        "\n",
        "Example"
      ]
    },
    {
      "cell_type": "code",
      "metadata": {
        "id": "6zL_4mcwO2v3"
      },
      "source": [
        "train['browser_category'] = train['device.browser'] + '_' + train['device.deviceCategory']\n",
        "train['browser_operatingSystem'] = train['device.browser'] + '_' + train['device.operatingSystem']\n",
        "train['source_country'] = train['trafficSource.source'] + '_' + train['geoNetwork.country']"
      ],
      "execution_count": null,
      "outputs": []
    },
    {
      "cell_type": "markdown",
      "metadata": {
        "id": "Pip9GrUiPAQF"
      },
      "source": [
        "Remove useless columns:"
      ]
    },
    {
      "cell_type": "code",
      "metadata": {
        "id": "6NBcVuoqO-YM"
      },
      "source": [
        "no_use = [\"date\", \"fullVisitorId\", \"sessionId\", \"visitId\", \"visitStartTime\", 'totals.transactionRevenue', 'trafficSource.referralPath']\n",
        "cat_cols = [col for col in train.columns if col not in num_cols and col not in no_use]"
      ],
      "execution_count": null,
      "outputs": []
    },
    {
      "cell_type": "markdown",
      "metadata": {
        "id": "Ppg6IEOZPR0V"
      },
      "source": [
        "\n",
        "**Categorical Encoding:**  \n",
        "1. [kaggle编码categorical feature总结](https://zhuanlan.zhihu.com/p/40231966)\n",
        "2. [Embedding官方文档](https://pytorch.org/docs/stable/nn.html?highlight=embedding#torch.nn.Embedding)  \n",
        "3. [怎样形象理解embedding](https://www.zhihu.com/question/38002635)"
      ]
    },
    {
      "cell_type": "code",
      "metadata": {
        "id": "eJTHK9HZPPKJ",
        "colab": {
          "base_uri": "https://localhost:8080/",
          "height": 454
        },
        "outputId": "7cd61642-5364-4c39-82c5-56ec60193cae"
      },
      "source": [
        "max_values = {}\n",
        "for col in cat_cols:\n",
        "    print(col)\n",
        "    lbl = LabelEncoder()\n",
        "    lbl.fit(list(train[col].values.astype('str')))\n",
        "    train[col] = lbl.transform(list(train[col].values.astype('str')))\n",
        "    max_values[col] = train[col].max() + 2  # From experience, a little than true value, has better"
      ],
      "execution_count": null,
      "outputs": [
        {
          "output_type": "stream",
          "text": [
            "channelGrouping\n",
            "device.browser\n",
            "device.operatingSystem\n",
            "device.isMobile\n",
            "device.deviceCategory\n",
            "geoNetwork.continent\n",
            "geoNetwork.subContinent\n",
            "geoNetwork.country\n",
            "geoNetwork.region\n",
            "geoNetwork.metro\n",
            "geoNetwork.city\n",
            "geoNetwork.networkDomain\n",
            "trafficSource.campaign\n",
            "trafficSource.source\n",
            "trafficSource.medium\n",
            "trafficSource.keyword\n",
            "trafficSource.isTrueDirect\n",
            "trafficSource.adwordsClickInfo.page\n",
            "trafficSource.adwordsClickInfo.slot\n",
            "trafficSource.adwordsClickInfo.gclId\n",
            "trafficSource.adwordsClickInfo.adNetworkType\n",
            "trafficSource.adwordsClickInfo.isVideoAd\n",
            "trafficSource.adContent\n",
            "browser_category\n",
            "browser_operatingSystem\n",
            "source_country\n"
          ],
          "name": "stdout"
        }
      ]
    },
    {
      "cell_type": "code",
      "metadata": {
        "id": "pLm_H63uPVVA",
        "colab": {
          "base_uri": "https://localhost:8080/",
          "height": 454
        },
        "outputId": "97d20545-549a-4979-d793-b998b17ca6f2"
      },
      "source": [
        "max_values"
      ],
      "execution_count": null,
      "outputs": [
        {
          "output_type": "execute_result",
          "data": {
            "text/plain": [
              "{'browser_category': 91,\n",
              " 'browser_operatingSystem': 120,\n",
              " 'channelGrouping': 9,\n",
              " 'device.browser': 55,\n",
              " 'device.deviceCategory': 4,\n",
              " 'device.isMobile': 3,\n",
              " 'device.operatingSystem': 21,\n",
              " 'geoNetwork.city': 650,\n",
              " 'geoNetwork.continent': 7,\n",
              " 'geoNetwork.country': 223,\n",
              " 'geoNetwork.metro': 95,\n",
              " 'geoNetwork.networkDomain': 28065,\n",
              " 'geoNetwork.region': 377,\n",
              " 'geoNetwork.subContinent': 24,\n",
              " 'source_country': 3400,\n",
              " 'trafficSource.adContent': 46,\n",
              " 'trafficSource.adwordsClickInfo.adNetworkType': 4,\n",
              " 'trafficSource.adwordsClickInfo.gclId': 17776,\n",
              " 'trafficSource.adwordsClickInfo.isVideoAd': 3,\n",
              " 'trafficSource.adwordsClickInfo.page': 10,\n",
              " 'trafficSource.adwordsClickInfo.slot': 4,\n",
              " 'trafficSource.campaign': 11,\n",
              " 'trafficSource.isTrueDirect': 3,\n",
              " 'trafficSource.keyword': 3661,\n",
              " 'trafficSource.medium': 8,\n",
              " 'trafficSource.source': 381}"
            ]
          },
          "metadata": {
            "tags": []
          },
          "execution_count": 17
        }
      ]
    },
    {
      "cell_type": "markdown",
      "metadata": {
        "id": "9ymkFCLEPvJV"
      },
      "source": [
        "**According to the Embedding size, Categories are divided into 2 categories, one category has a vocabulary of less than 50, and a category has a vocabulary of greater than 50. The subsequent NN network is divided into two branches for processing, and the parameters of the large vocabulary are set to twice the parameters of the small vocabulary**"
      ]
    },
    {
      "cell_type": "code",
      "metadata": {
        "id": "h2suxsskPsrf"
      },
      "source": [
        "cat_col_labels1 = [\"channelGrouping\", \"device.deviceCategory\", \"device.operatingSystem\", \"geoNetwork.continent\",\n",
        "                   \"geoNetwork.subContinent\", \"trafficSource.adContent\", \"trafficSource.adwordsClickInfo.adNetworkType\",\n",
        "                   \"trafficSource.adwordsClickInfo.isVideoAd\", \"trafficSource.adwordsClickInfo.page\", \"trafficSource.adwordsClickInfo.slot\",\n",
        "                   \"trafficSource.campaign\", \"trafficSource.medium\", \"geoNetwork.region\"]\n",
        "\n",
        "cat_col_labels2 = [\"browser_category\", \"browser_operatingSystem\", \"source_country\", \"device.browser\", \"geoNetwork.city\",\n",
        "                   \"trafficSource.source\", \"trafficSource.keyword\", \"trafficSource.adwordsClickInfo.gclId\", \"geoNetwork.networkDomain\",\n",
        "                   \"geoNetwork.country\", \"geoNetwork.metro\", \"geoNetwork.region\"]"
      ],
      "execution_count": null,
      "outputs": []
    },
    {
      "cell_type": "markdown",
      "metadata": {
        "id": "Rkg-lHn_QD2e"
      },
      "source": [
        "### 5. Data preparation (last 2 months of data as validation)"
      ]
    },
    {
      "cell_type": "code",
      "metadata": {
        "id": "9tMhkaeRQBue"
      },
      "source": [
        "import datetime\n",
        "\n",
        "train = train.sort_values('date')\n",
        "\n",
        "x_train = train[train[\"date\"] <= pd.Timestamp(2017,5,31)]\n",
        "x_val = train[train[\"date\"] > pd.Timestamp(2017,5,31)]\n",
        "\n",
        "y_train = x_train['totals.transactionRevenue']\n",
        "y_val = x_val['totals.transactionRevenue']\n",
        "\n",
        "x_train = x_train.drop(no_use, axis=1)\n",
        "x_val = x_val.drop(no_use, axis=1)"
      ],
      "execution_count": null,
      "outputs": []
    },
    {
      "cell_type": "code",
      "metadata": {
        "id": "ylN1yZKRQJJJ",
        "colab": {
          "base_uri": "https://localhost:8080/",
          "height": 101
        },
        "outputId": "f8420d16-6b07-4ce0-d3ef-7121dc7437b9"
      },
      "source": [
        "num_cols.remove(\"totals.transactionRevenue\")\n",
        "num_cols"
      ],
      "execution_count": null,
      "outputs": [
        {
          "output_type": "execute_result",
          "data": {
            "text/plain": [
              "['visitNumber',\n",
              " 'totals.hits',\n",
              " 'totals.pageviews',\n",
              " 'totals.bounces',\n",
              " 'totals.newVisits']"
            ]
          },
          "metadata": {
            "tags": []
          },
          "execution_count": 20
        }
      ]
    },
    {
      "cell_type": "markdown",
      "metadata": {
        "id": "_qt0tuMDQPNz"
      },
      "source": [
        "**Calculate the Embedding parameters of each category**"
      ]
    },
    {
      "cell_type": "code",
      "metadata": {
        "id": "iBElM1YBQMdZ"
      },
      "source": [
        "emb_dims1 = []\n",
        "emb_dims2 = []\n",
        "for i in cat_col_labels1:\n",
        "    emb_dims1.append((max_values[i], min((max_values[i]+1)//2, 50)))\n",
        "for i in cat_col_labels2:\n",
        "    emb_dims2.append((max_values[i], min((max_values[i]+1)//2, 50)))"
      ],
      "execution_count": null,
      "outputs": []
    },
    {
      "cell_type": "markdown",
      "metadata": {
        "id": "Bhp3nI4VQZR-"
      },
      "source": [
        "### 6. Model Part\n",
        "Example:[tabular data with categorical embeddings](https://yashuseth.blog/2018/07/22/pytorch-neural-network-for-tabular-data-with-categorical-embeddings/)"
      ]
    },
    {
      "cell_type": "code",
      "metadata": {
        "id": "_cNHLtaIQRXD"
      },
      "source": [
        "import torch\n",
        "from torch import nn\n",
        "import torch.nn.functional as F\n",
        "from torch.utils.data import Dataset, DataLoader"
      ],
      "execution_count": null,
      "outputs": []
    },
    {
      "cell_type": "markdown",
      "metadata": {
        "id": "CeKBHkRrQfqs"
      },
      "source": [
        "#### Customize TabularDataset, inherit DataSet, and return the desired data based on our data set"
      ]
    },
    {
      "cell_type": "code",
      "metadata": {
        "id": "r6ejX6gpQbRG"
      },
      "source": [
        "class TabularDataset(Dataset):\n",
        "    def __init__(self, x_data, y_data, cat_cols1, cat_cols2, num_cols):\n",
        "\n",
        "        \"\"\"\n",
        "        data: pandas data frame;\n",
        "        cat_cols: list of string, the names of the categorical columns in the data, will be passed through the embedding layers;\n",
        "        num_cols: list of string\n",
        "        y_data: the target\n",
        "        \"\"\"\n",
        "        self.n = x_data.shape[0]\n",
        "        self.y = y_data.astype(np.float32).values.reshape(-1, 1)\n",
        "\n",
        "        self.cat_cols1 = cat_cols1\n",
        "        self.cat_cols2 = cat_cols2\n",
        "        self.num_cols = num_cols\n",
        "\n",
        "        self.num_X = x_data[self.num_cols].astype(np.float32).values\n",
        "        self.cat_X1 = x_data[self.cat_cols1].astype(np.int64).values\n",
        "        self.cat_X2 = x_data[self.cat_cols2].astype(np.int64).values\n",
        "\n",
        "\n",
        "    def print_data(self):\n",
        "        return self.num_X, self.cat_X1, self.cat_X2, self.y\n",
        "\n",
        "    def __len__(self):\n",
        "        \"\"\"\n",
        "        total number of samples\n",
        "        \"\"\"\n",
        "        return self.n\n",
        "\n",
        "    def __getitem__(self, idx):\n",
        "        \"\"\"\n",
        "        Generates one sample of data.\n",
        "        \"\"\"\n",
        "        return [self.y[idx], self.num_X[idx], self.cat_X1[idx], self.cat_X2[idx]]"
      ],
      "execution_count": null,
      "outputs": []
    },
    {
      "cell_type": "markdown",
      "metadata": {
        "id": "qjjWbeWcQmg1"
      },
      "source": [
        "### NN Network（2分支-->分支合并-->主分支）\n",
        "![Network figure](https://github.com/LianxinGao/kaggle/blob/master/pics/net.jpg?raw=true)"
      ]
    },
    {
      "cell_type": "code",
      "metadata": {
        "id": "jX4Ec-zJQis_"
      },
      "source": [
        "class FeedForwardNN(nn.Module):\n",
        "    def __init__(self, emb_dims1, emb_dims2, no_of_num, lin_layer_sizes, output_size, emb_dropout, lin_layer_dropouts):\n",
        "        \"\"\"\n",
        "        emb_dims:           List of two element tuples;\n",
        "        no_of_num:          Integer, the number of continuous features in the data;\n",
        "        lin_layer_sizes:    List of integers. The size of each linear layer;\n",
        "        output_size:        Integer, the size of the final output;\n",
        "        emb_dropout:        Float, the dropout to be used after the embedding layers.\n",
        "        lin_layer_dropouts: List of floats, the dropouts to be used after each linear layer.\n",
        "        \"\"\"\n",
        "        super().__init__()\n",
        "\n",
        "        # embedding layers\n",
        "        self.emb_layers1 = nn.ModuleList([nn.Embedding(x, y) for x, y in emb_dims1])\n",
        "        self.emb_layers2 = nn.ModuleList([nn.Embedding(x, y) for x, y in emb_dims2])\n",
        "\n",
        "        # 计算各个emb参数数量，为后续Linear layer的输入做准备\n",
        "        self.no_of_embs1 = sum([y for x, y in emb_dims1])\n",
        "        self.no_of_embs2 = sum([y for x, y in emb_dims2])\n",
        "        self.no_of_num = no_of_num\n",
        "\n",
        "        # 分支1\n",
        "        self.branch1 = nn.Linear(self.no_of_embs1, lin_layer_sizes[0])\n",
        "        self.branch1_2 = nn.Linear(lin_layer_sizes[0], lin_layer_sizes[1])\n",
        "        nn.init.kaiming_normal_(self.branch1.weight.data)\n",
        "        nn.init.kaiming_normal_(self.branch1_2.weight.data)\n",
        "\n",
        "        # 分支2\n",
        "        self.branch2 = nn.Linear(self.no_of_embs2, lin_layer_sizes[0] * 2)\n",
        "        self.branch2_2 = nn.Linear(lin_layer_sizes[0] * 2, lin_layer_sizes[1] * 2)\n",
        "        nn.init.kaiming_normal_(self.branch2.weight.data)\n",
        "        nn.init.kaiming_normal_(self.branch2_2.weight.data)\n",
        "\n",
        "        # 主分支\n",
        "        self.main_layer1 = nn.Linear(lin_layer_sizes[1] * 3 + self.no_of_num, lin_layer_sizes[2])\n",
        "        self.main_layer2 = nn.Linear(lin_layer_sizes[2], lin_layer_sizes[3])\n",
        "\n",
        "        # batch normal\n",
        "        self.branch_bn_layers1 = nn.BatchNorm1d(lin_layer_sizes[0])\n",
        "        self.branch_bn_layers2 = nn.BatchNorm1d(lin_layer_sizes[0] * 2)\n",
        "        self.main_bn_layer = nn.BatchNorm1d(lin_layer_sizes[2])\n",
        "\n",
        "        # Dropout Layers\n",
        "        self.emb_dropout_layer = nn.Dropout(emb_dropout)\n",
        "        self.dropout_layers = nn.ModuleList([nn.Dropout(size) for size in lin_layer_dropouts])\n",
        "\n",
        "        # Output layer\n",
        "        self.output_layer = nn.Linear(lin_layer_sizes[-1], output_size)\n",
        "        nn.init.kaiming_normal_(self.output_layer.weight.data)\n",
        "\n",
        "    def forward(self, num_data, cat_data1, cat_data2):\n",
        "        # embedding categorical feature and cat them together\n",
        "        x1 = [emb_layer(torch.tensor(cat_data1[:, i])) for i, emb_layer in enumerate(self.emb_layers1)]\n",
        "        x1 = torch.cat(x1, 1)\n",
        "\n",
        "        x1 = self.emb_dropout_layer(F.relu(self.branch1(x1)))\n",
        "        x1 = self.branch_bn_layers1(x1)\n",
        "        x1 = self.dropout_layers[0](F.relu(self.branch1_2(x1)))\n",
        "\n",
        "        x2 = [emb_layer(torch.tensor(cat_data2[:, i])) for i, emb_layer in enumerate(self.emb_layers2)]\n",
        "        x2 = torch.cat(x2, 1)\n",
        "\n",
        "        x2 = self.emb_dropout_layer(F.relu(self.branch2(x2)))\n",
        "        x2 = self.branch_bn_layers2(x2)\n",
        "        x2 = self.dropout_layers[0](F.relu(self.branch2_2(x2)))\n",
        "\n",
        "        main = torch.cat([x1, x2, num_data], 1)\n",
        "\n",
        "        main = self.dropout_layers[1](F.relu(self.main_layer1(main)))\n",
        "        main = self.main_bn_layer(main)\n",
        "        main = self.dropout_layers[2](F.relu(self.main_layer2(main)))\n",
        "\n",
        "        out = self.output_layer(main)\n",
        "        return out"
      ],
      "execution_count": null,
      "outputs": []
    },
    {
      "cell_type": "code",
      "metadata": {
        "id": "-pm5WnFGUEs6"
      },
      "source": [
        "train_dataset = TabularDataset(x_data=x_train, y_data=y_train, cat_cols1=cat_col_labels1, cat_cols2=cat_col_labels2, num_cols=num_cols)\n",
        "val_dataset = TabularDataset(x_data=x_val, y_data=y_val, cat_cols1=cat_col_labels1, cat_cols2=cat_col_labels2, num_cols=num_cols)"
      ],
      "execution_count": null,
      "outputs": []
    },
    {
      "cell_type": "code",
      "metadata": {
        "id": "_frLPe6zUGYy"
      },
      "source": [
        "batchsize = 64\n",
        "train_dataloader = DataLoader(train_dataset, batchsize, shuffle=True, num_workers=0)\n",
        "val_dataloder = DataLoader(val_dataset, 64, shuffle=True, num_workers=0)"
      ],
      "execution_count": null,
      "outputs": []
    },
    {
      "cell_type": "code",
      "metadata": {
        "id": "6WC_t8O3UIBa"
      },
      "source": [
        "device = torch.device(\"cuda\" if torch.cuda.is_available() else \"cpu\")\n",
        "model = FeedForwardNN(emb_dims1=emb_dims1,\n",
        "                      emb_dims2=emb_dims2,\n",
        "                      no_of_num=len(num_cols),\n",
        "                      lin_layer_sizes=[128,64,32,16],\n",
        "                      output_size=1,\n",
        "                      lin_layer_dropouts=[0.1, 0.1, 0.05],\n",
        "                      emb_dropout=0.05).to(device)"
      ],
      "execution_count": null,
      "outputs": []
    },
    {
      "cell_type": "markdown",
      "metadata": {
        "id": "G-H2bhelUMo2"
      },
      "source": [
        "#### Start Train"
      ]
    },
    {
      "cell_type": "code",
      "metadata": {
        "id": "XuEQFjaQUJo2",
        "colab": {
          "base_uri": "https://localhost:8080/",
          "height": 1000
        },
        "outputId": "d07636a4-3933-4010-af08-0b2f392b416e"
      },
      "source": [
        "no_of_epochs = 5\n",
        "criterion = torch.nn.MSELoss()\n",
        "optimizer = torch.optim.Adam(model.parameters(), lr=0.0001)\n",
        "total_data = train_dataset.__len__()\n",
        "\n",
        "print_every = 500\n",
        "steps = 0\n",
        "running_loss = 0\n",
        "for epoch in range(no_of_epochs):\n",
        "    model.train()\n",
        "    for index, datas in enumerate(train_dataloader):\n",
        "        steps += 1\n",
        "        y, num_x, cat_x1, cat_x2 = datas\n",
        "        cat_x1 = cat_x1.to(device)\n",
        "        cat_x2 = cat_x2.to(device)\n",
        "        num_x = num_x.to(device)\n",
        "        y  = y.to(device)\n",
        "\n",
        "        # Forward Pass\n",
        "        optimizer.zero_grad()\n",
        "        preds = model.forward(num_x, cat_x1, cat_x2)\n",
        "        loss = criterion(preds, y)\n",
        "        loss.backward()\n",
        "        optimizer.step()\n",
        "        running_loss += loss.item()\n",
        "\n",
        "        if steps % print_every == 0:\n",
        "            val_loss = 0\n",
        "            model.eval()\n",
        "            with torch.no_grad():\n",
        "                for val_index, val_datas in enumerate(val_dataloder):\n",
        "                    y, num_x, cat_x1, cat_x2 = val_datas\n",
        "                    cat_x1 = cat_x1.to(device)\n",
        "                    cat_x2 = cat_x2.to(device)\n",
        "                    num_x = num_x.to(device)\n",
        "                    y  = y.to(device)\n",
        "\n",
        "                    out = model.forward(num_x, cat_x1, cat_x2)\n",
        "                    batch_loss = criterion(out, y)\n",
        "                    val_loss += batch_loss.item()\n",
        "\n",
        "            print(f\"Epoch {epoch+1}/{no_of_epochs}..\"\n",
        "                     f\"Train loss:{running_loss/print_every:.3f}..\"\n",
        "                     f\"Validation loss:{val_loss/len(val_dataloder):.3f}..\")\n",
        "            running_loss = 0\n",
        "            model.train()"
      ],
      "execution_count": null,
      "outputs": [
        {
          "output_type": "stream",
          "text": [
            "/usr/local/lib/python3.6/dist-packages/ipykernel_launcher.py:53: UserWarning:\n",
            "\n",
            "To copy construct from a tensor, it is recommended to use sourceTensor.clone().detach() or sourceTensor.clone().detach().requires_grad_(True), rather than torch.tensor(sourceTensor).\n",
            "\n",
            "/usr/local/lib/python3.6/dist-packages/ipykernel_launcher.py:60: UserWarning:\n",
            "\n",
            "To copy construct from a tensor, it is recommended to use sourceTensor.clone().detach() or sourceTensor.clone().detach().requires_grad_(True), rather than torch.tensor(sourceTensor).\n",
            "\n"
          ],
          "name": "stderr"
        },
        {
          "output_type": "stream",
          "text": [
            "Epoch 1/5..Train loss:4.159..Validation loss:4.310..\n",
            "Epoch 1/5..Train loss:3.816..Validation loss:4.173..\n",
            "Epoch 1/5..Train loss:3.375..Validation loss:3.975..\n",
            "Epoch 1/5..Train loss:3.648..Validation loss:3.778..\n",
            "Epoch 1/5..Train loss:3.423..Validation loss:3.706..\n",
            "Epoch 1/5..Train loss:3.224..Validation loss:3.649..\n",
            "Epoch 1/5..Train loss:3.266..Validation loss:3.617..\n",
            "Epoch 1/5..Train loss:3.117..Validation loss:3.445..\n",
            "Epoch 1/5..Train loss:3.066..Validation loss:3.555..\n",
            "Epoch 1/5..Train loss:3.295..Validation loss:3.398..\n",
            "Epoch 1/5..Train loss:3.288..Validation loss:3.321..\n",
            "Epoch 1/5..Train loss:3.286..Validation loss:3.298..\n",
            "Epoch 1/5..Train loss:3.263..Validation loss:3.335..\n",
            "Epoch 1/5..Train loss:3.008..Validation loss:3.332..\n",
            "Epoch 1/5..Train loss:3.052..Validation loss:3.295..\n",
            "Epoch 1/5..Train loss:3.054..Validation loss:3.279..\n",
            "Epoch 1/5..Train loss:2.990..Validation loss:3.307..\n",
            "Epoch 1/5..Train loss:3.131..Validation loss:3.272..\n",
            "Epoch 1/5..Train loss:3.027..Validation loss:3.303..\n",
            "Epoch 1/5..Train loss:3.002..Validation loss:3.344..\n",
            "Epoch 1/5..Train loss:3.079..Validation loss:3.299..\n",
            "Epoch 1/5..Train loss:3.454..Validation loss:3.251..\n",
            "Epoch 1/5..Train loss:2.951..Validation loss:3.259..\n",
            "Epoch 2/5..Train loss:3.054..Validation loss:3.241..\n",
            "Epoch 2/5..Train loss:3.016..Validation loss:3.303..\n",
            "Epoch 2/5..Train loss:3.380..Validation loss:3.215..\n",
            "Epoch 2/5..Train loss:3.132..Validation loss:3.245..\n",
            "Epoch 2/5..Train loss:3.109..Validation loss:3.214..\n",
            "Epoch 2/5..Train loss:2.923..Validation loss:3.251..\n",
            "Epoch 2/5..Train loss:3.024..Validation loss:3.282..\n",
            "Epoch 2/5..Train loss:3.168..Validation loss:3.257..\n",
            "Epoch 2/5..Train loss:2.946..Validation loss:3.273..\n",
            "Epoch 2/5..Train loss:2.935..Validation loss:3.227..\n",
            "Epoch 2/5..Train loss:3.158..Validation loss:3.191..\n",
            "Epoch 2/5..Train loss:2.961..Validation loss:3.286..\n",
            "Epoch 2/5..Train loss:3.175..Validation loss:3.251..\n",
            "Epoch 2/5..Train loss:3.026..Validation loss:3.234..\n",
            "Epoch 2/5..Train loss:3.074..Validation loss:3.202..\n",
            "Epoch 2/5..Train loss:3.061..Validation loss:3.210..\n",
            "Epoch 2/5..Train loss:3.015..Validation loss:3.182..\n",
            "Epoch 2/5..Train loss:2.891..Validation loss:3.204..\n",
            "Epoch 2/5..Train loss:2.870..Validation loss:3.284..\n",
            "Epoch 2/5..Train loss:2.916..Validation loss:3.438..\n",
            "Epoch 2/5..Train loss:3.134..Validation loss:3.244..\n",
            "Epoch 2/5..Train loss:2.732..Validation loss:3.371..\n",
            "Epoch 2/5..Train loss:2.973..Validation loss:3.341..\n",
            "Epoch 2/5..Train loss:2.839..Validation loss:3.309..\n",
            "Epoch 3/5..Train loss:3.238..Validation loss:3.265..\n",
            "Epoch 3/5..Train loss:3.009..Validation loss:3.265..\n",
            "Epoch 3/5..Train loss:3.094..Validation loss:3.344..\n",
            "Epoch 3/5..Train loss:3.027..Validation loss:3.230..\n",
            "Epoch 3/5..Train loss:3.019..Validation loss:3.269..\n",
            "Epoch 3/5..Train loss:2.943..Validation loss:3.241..\n",
            "Epoch 3/5..Train loss:2.747..Validation loss:3.240..\n",
            "Epoch 3/5..Train loss:2.947..Validation loss:3.237..\n",
            "Epoch 3/5..Train loss:3.144..Validation loss:3.247..\n",
            "Epoch 3/5..Train loss:3.114..Validation loss:3.297..\n",
            "Epoch 3/5..Train loss:2.961..Validation loss:3.380..\n",
            "Epoch 3/5..Train loss:2.811..Validation loss:3.291..\n",
            "Epoch 3/5..Train loss:3.100..Validation loss:3.350..\n",
            "Epoch 3/5..Train loss:3.094..Validation loss:3.268..\n",
            "Epoch 3/5..Train loss:3.070..Validation loss:3.345..\n",
            "Epoch 3/5..Train loss:2.801..Validation loss:3.345..\n",
            "Epoch 3/5..Train loss:3.053..Validation loss:3.275..\n",
            "Epoch 3/5..Train loss:2.997..Validation loss:3.567..\n",
            "Epoch 3/5..Train loss:2.838..Validation loss:3.295..\n",
            "Epoch 3/5..Train loss:2.968..Validation loss:3.253..\n",
            "Epoch 3/5..Train loss:2.802..Validation loss:3.157..\n",
            "Epoch 3/5..Train loss:3.009..Validation loss:3.243..\n",
            "Epoch 3/5..Train loss:3.211..Validation loss:3.205..\n",
            "Epoch 3/5..Train loss:2.991..Validation loss:3.243..\n",
            "Epoch 4/5..Train loss:2.972..Validation loss:3.229..\n",
            "Epoch 4/5..Train loss:3.064..Validation loss:3.209..\n",
            "Epoch 4/5..Train loss:2.882..Validation loss:3.167..\n",
            "Epoch 4/5..Train loss:2.928..Validation loss:3.161..\n",
            "Epoch 4/5..Train loss:3.131..Validation loss:3.120..\n",
            "Epoch 4/5..Train loss:3.185..Validation loss:3.213..\n",
            "Epoch 4/5..Train loss:3.166..Validation loss:3.175..\n",
            "Epoch 4/5..Train loss:2.953..Validation loss:3.187..\n",
            "Epoch 4/5..Train loss:2.988..Validation loss:3.165..\n",
            "Epoch 4/5..Train loss:2.695..Validation loss:3.194..\n",
            "Epoch 4/5..Train loss:2.763..Validation loss:3.280..\n",
            "Epoch 4/5..Train loss:3.028..Validation loss:3.156..\n",
            "Epoch 4/5..Train loss:2.831..Validation loss:3.188..\n",
            "Epoch 4/5..Train loss:3.135..Validation loss:3.309..\n",
            "Epoch 4/5..Train loss:3.054..Validation loss:3.151..\n",
            "Epoch 4/5..Train loss:2.800..Validation loss:3.243..\n",
            "Epoch 4/5..Train loss:2.807..Validation loss:3.259..\n",
            "Epoch 4/5..Train loss:2.906..Validation loss:3.162..\n",
            "Epoch 4/5..Train loss:2.780..Validation loss:3.155..\n",
            "Epoch 4/5..Train loss:2.860..Validation loss:3.170..\n",
            "Epoch 4/5..Train loss:2.819..Validation loss:3.186..\n",
            "Epoch 4/5..Train loss:2.966..Validation loss:3.245..\n",
            "Epoch 4/5..Train loss:2.775..Validation loss:3.277..\n",
            "Epoch 4/5..Train loss:2.926..Validation loss:3.342..\n",
            "Epoch 5/5..Train loss:3.010..Validation loss:3.203..\n",
            "Epoch 5/5..Train loss:2.965..Validation loss:3.180..\n",
            "Epoch 5/5..Train loss:3.145..Validation loss:3.106..\n",
            "Epoch 5/5..Train loss:2.893..Validation loss:3.157..\n",
            "Epoch 5/5..Train loss:2.963..Validation loss:3.173..\n",
            "Epoch 5/5..Train loss:2.875..Validation loss:3.167..\n",
            "Epoch 5/5..Train loss:2.949..Validation loss:3.138..\n",
            "Epoch 5/5..Train loss:2.732..Validation loss:3.141..\n",
            "Epoch 5/5..Train loss:3.071..Validation loss:3.143..\n",
            "Epoch 5/5..Train loss:2.754..Validation loss:3.142..\n",
            "Epoch 5/5..Train loss:3.035..Validation loss:3.119..\n",
            "Epoch 5/5..Train loss:2.921..Validation loss:3.178..\n",
            "Epoch 5/5..Train loss:2.833..Validation loss:3.163..\n",
            "Epoch 5/5..Train loss:2.916..Validation loss:3.151..\n",
            "Epoch 5/5..Train loss:2.939..Validation loss:3.179..\n",
            "Epoch 5/5..Train loss:2.751..Validation loss:3.158..\n",
            "Epoch 5/5..Train loss:2.849..Validation loss:3.130..\n",
            "Epoch 5/5..Train loss:2.860..Validation loss:3.194..\n",
            "Epoch 5/5..Train loss:2.763..Validation loss:3.192..\n",
            "Epoch 5/5..Train loss:2.581..Validation loss:3.164..\n",
            "Epoch 5/5..Train loss:2.967..Validation loss:3.141..\n",
            "Epoch 5/5..Train loss:2.986..Validation loss:3.148..\n",
            "Epoch 5/5..Train loss:2.973..Validation loss:3.196..\n",
            "Epoch 5/5..Train loss:3.008..Validation loss:3.194..\n"
          ],
          "name": "stdout"
        }
      ]
    }
  ]
}