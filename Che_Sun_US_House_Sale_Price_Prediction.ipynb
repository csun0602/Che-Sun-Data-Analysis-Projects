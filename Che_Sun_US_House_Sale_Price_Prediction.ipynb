{
  "cells": [
    {
      "cell_type": "markdown",
      "metadata": {
        "id": "view-in-github",
        "colab_type": "text"
      },
      "source": [
        "<a href=\"https://colab.research.google.com/github/csun0602/Che-Sun-Data-analysis-Projects/blob/main/Che_Sun_US_House_Sale_Price_Prediction.ipynb\" target=\"_parent\"><img src=\"https://colab.research.google.com/assets/colab-badge.svg\" alt=\"Open In Colab\"/></a>"
      ]
    },
    {
      "cell_type": "markdown",
      "id": "ad7ed15b",
      "metadata": {
        "id": "ad7ed15b"
      },
      "source": [
        "# US house SalePrice prediction"
      ]
    },
    {
      "cell_type": "markdown",
      "id": "b77c6fe3",
      "metadata": {
        "id": "b77c6fe3"
      },
      "source": [
        "#### 1. Data Preprocessing:\n",
        "This involves preparing the data for the machine learning models.\n",
        "\n",
        "Tasks:\n",
        "\n",
        "Handle missing data.\n",
        "Encode categorical variables.\n",
        "Scale numerical features.\n",
        "Split the data into training and validation sets.\n",
        "\n",
        "\n",
        "#### 2. Model Training:\n",
        "Using the preprocessed data, we'll train various regression models to predict the target variable, \"SalePrice\".\n",
        "\n",
        "Tasks:\n",
        "\n",
        "Train K-NN regression model.\n",
        "Train Ridge regression model.\n",
        "Train Lasso regression model.\n",
        "\n",
        "\n",
        "#### 3. Model Evaluation:\n",
        "After training, we need to evaluate the performance of each model on the validation set.\n",
        "\n",
        "Tasks:\n",
        "\n",
        "Predict the target variable on the validation set using each trained model.\n",
        "Calculate performance metrics (e.g., Mean Absolute Error, Root Mean Squared Error) to evaluate and compare models.\n",
        "\n",
        "\n",
        "#### 4. Model Prediction:\n",
        "Once satisfied with a model's performance, we'll use it to predict the \"SalePrice\" for any new data you provide.\n",
        "\n",
        "Tasks:\n",
        "\n",
        "Use the chosen model to predict \"SalePrice\" on new data."
      ]
    },
    {
      "cell_type": "code",
      "execution_count": null,
      "id": "9e2cb006",
      "metadata": {
        "id": "9e2cb006",
        "outputId": "3fd8c05b-aa70-49a0-bea2-52e5192cb1a7"
      },
      "outputs": [
        {
          "data": {
            "text/html": [
              "<div>\n",
              "<style scoped>\n",
              "    .dataframe tbody tr th:only-of-type {\n",
              "        vertical-align: middle;\n",
              "    }\n",
              "\n",
              "    .dataframe tbody tr th {\n",
              "        vertical-align: top;\n",
              "    }\n",
              "\n",
              "    .dataframe thead th {\n",
              "        text-align: right;\n",
              "    }\n",
              "</style>\n",
              "<table border=\"1\" class=\"dataframe\">\n",
              "  <thead>\n",
              "    <tr style=\"text-align: right;\">\n",
              "      <th></th>\n",
              "      <th>ID</th>\n",
              "      <th>SalePrice</th>\n",
              "      <th>MSSubClass</th>\n",
              "      <th>MSZoning</th>\n",
              "      <th>LotFrontage</th>\n",
              "      <th>LotArea</th>\n",
              "      <th>Street</th>\n",
              "      <th>Alley</th>\n",
              "      <th>LotShape</th>\n",
              "      <th>LandContour</th>\n",
              "      <th>...</th>\n",
              "      <th>ScreenPorch</th>\n",
              "      <th>PoolArea</th>\n",
              "      <th>PoolQC</th>\n",
              "      <th>Fence</th>\n",
              "      <th>MiscFeature</th>\n",
              "      <th>MiscVal</th>\n",
              "      <th>MoSold</th>\n",
              "      <th>YrSold</th>\n",
              "      <th>SaleType</th>\n",
              "      <th>SaleCondition</th>\n",
              "    </tr>\n",
              "  </thead>\n",
              "  <tbody>\n",
              "    <tr>\n",
              "      <th>0</th>\n",
              "      <td>1</td>\n",
              "      <td>208500</td>\n",
              "      <td>60</td>\n",
              "      <td>RL</td>\n",
              "      <td>65.0</td>\n",
              "      <td>8450</td>\n",
              "      <td>Pave</td>\n",
              "      <td>NaN</td>\n",
              "      <td>Reg</td>\n",
              "      <td>Lvl</td>\n",
              "      <td>...</td>\n",
              "      <td>0</td>\n",
              "      <td>0</td>\n",
              "      <td>NaN</td>\n",
              "      <td>NaN</td>\n",
              "      <td>NaN</td>\n",
              "      <td>0</td>\n",
              "      <td>2</td>\n",
              "      <td>2008</td>\n",
              "      <td>WD</td>\n",
              "      <td>Normal</td>\n",
              "    </tr>\n",
              "    <tr>\n",
              "      <th>1</th>\n",
              "      <td>2</td>\n",
              "      <td>181500</td>\n",
              "      <td>20</td>\n",
              "      <td>RL</td>\n",
              "      <td>80.0</td>\n",
              "      <td>9600</td>\n",
              "      <td>Pave</td>\n",
              "      <td>NaN</td>\n",
              "      <td>Reg</td>\n",
              "      <td>Lvl</td>\n",
              "      <td>...</td>\n",
              "      <td>0</td>\n",
              "      <td>0</td>\n",
              "      <td>NaN</td>\n",
              "      <td>NaN</td>\n",
              "      <td>NaN</td>\n",
              "      <td>0</td>\n",
              "      <td>5</td>\n",
              "      <td>2007</td>\n",
              "      <td>WD</td>\n",
              "      <td>Normal</td>\n",
              "    </tr>\n",
              "    <tr>\n",
              "      <th>2</th>\n",
              "      <td>3</td>\n",
              "      <td>223500</td>\n",
              "      <td>60</td>\n",
              "      <td>RL</td>\n",
              "      <td>68.0</td>\n",
              "      <td>11250</td>\n",
              "      <td>Pave</td>\n",
              "      <td>NaN</td>\n",
              "      <td>IR1</td>\n",
              "      <td>Lvl</td>\n",
              "      <td>...</td>\n",
              "      <td>0</td>\n",
              "      <td>0</td>\n",
              "      <td>NaN</td>\n",
              "      <td>NaN</td>\n",
              "      <td>NaN</td>\n",
              "      <td>0</td>\n",
              "      <td>9</td>\n",
              "      <td>2008</td>\n",
              "      <td>WD</td>\n",
              "      <td>Normal</td>\n",
              "    </tr>\n",
              "    <tr>\n",
              "      <th>3</th>\n",
              "      <td>4</td>\n",
              "      <td>140000</td>\n",
              "      <td>70</td>\n",
              "      <td>RL</td>\n",
              "      <td>60.0</td>\n",
              "      <td>9550</td>\n",
              "      <td>Pave</td>\n",
              "      <td>NaN</td>\n",
              "      <td>IR1</td>\n",
              "      <td>Lvl</td>\n",
              "      <td>...</td>\n",
              "      <td>0</td>\n",
              "      <td>0</td>\n",
              "      <td>NaN</td>\n",
              "      <td>NaN</td>\n",
              "      <td>NaN</td>\n",
              "      <td>0</td>\n",
              "      <td>2</td>\n",
              "      <td>2006</td>\n",
              "      <td>WD</td>\n",
              "      <td>Abnorml</td>\n",
              "    </tr>\n",
              "    <tr>\n",
              "      <th>4</th>\n",
              "      <td>5</td>\n",
              "      <td>250000</td>\n",
              "      <td>60</td>\n",
              "      <td>RL</td>\n",
              "      <td>84.0</td>\n",
              "      <td>14260</td>\n",
              "      <td>Pave</td>\n",
              "      <td>NaN</td>\n",
              "      <td>IR1</td>\n",
              "      <td>Lvl</td>\n",
              "      <td>...</td>\n",
              "      <td>0</td>\n",
              "      <td>0</td>\n",
              "      <td>NaN</td>\n",
              "      <td>NaN</td>\n",
              "      <td>NaN</td>\n",
              "      <td>0</td>\n",
              "      <td>12</td>\n",
              "      <td>2008</td>\n",
              "      <td>WD</td>\n",
              "      <td>Normal</td>\n",
              "    </tr>\n",
              "  </tbody>\n",
              "</table>\n",
              "<p>5 rows × 81 columns</p>\n",
              "</div>"
            ],
            "text/plain": [
              "   ID  SalePrice  MSSubClass MSZoning  LotFrontage  LotArea Street Alley  \\\n",
              "0   1     208500          60       RL         65.0     8450   Pave   NaN   \n",
              "1   2     181500          20       RL         80.0     9600   Pave   NaN   \n",
              "2   3     223500          60       RL         68.0    11250   Pave   NaN   \n",
              "3   4     140000          70       RL         60.0     9550   Pave   NaN   \n",
              "4   5     250000          60       RL         84.0    14260   Pave   NaN   \n",
              "\n",
              "  LotShape LandContour  ... ScreenPorch PoolArea PoolQC Fence MiscFeature  \\\n",
              "0      Reg         Lvl  ...           0        0    NaN   NaN         NaN   \n",
              "1      Reg         Lvl  ...           0        0    NaN   NaN         NaN   \n",
              "2      IR1         Lvl  ...           0        0    NaN   NaN         NaN   \n",
              "3      IR1         Lvl  ...           0        0    NaN   NaN         NaN   \n",
              "4      IR1         Lvl  ...           0        0    NaN   NaN         NaN   \n",
              "\n",
              "  MiscVal MoSold YrSold  SaleType  SaleCondition  \n",
              "0       0      2   2008        WD         Normal  \n",
              "1       0      5   2007        WD         Normal  \n",
              "2       0      9   2008        WD         Normal  \n",
              "3       0      2   2006        WD        Abnorml  \n",
              "4       0     12   2008        WD         Normal  \n",
              "\n",
              "[5 rows x 81 columns]"
            ]
          },
          "execution_count": 2,
          "metadata": {},
          "output_type": "execute_result"
        }
      ],
      "source": [
        "#Step1: Data Exploration: We'll start by taking a look at the training.csv data to understand its structure and the types of variables we have.\n",
        "#Step2: Pre-processing: Based on our exploration, we'll handle missing values, encode categorical variables, and scale numerical ones if needed.\n",
        "#Step3: Model Training: We'll split the training.csv into training and validation sets, train a model, and evaluate its performance on the validation set.\n",
        "#Step4: Prediction: Once the model is trained and tuned, we'll use it to predict on the prediction.csv dataset.\n",
        "#Step5: Result Sharing: We'll share the predictions for the prediction.csv dataset.\n",
        "\n",
        "\n",
        "import pandas as pd\n",
        "from sklearn.model_selection import train_test_split\n",
        "from sklearn.preprocessing import StandardScaler, OneHotEncoder\n",
        "from sklearn.compose import ColumnTransformer\n",
        "from sklearn.pipeline import Pipeline\n",
        "from sklearn.impute import SimpleImputer\n",
        "\n",
        "# Load the training data\n",
        "train_data = pd.read_csv(\"training.csv\")\n",
        "\n",
        "# Display the first few rows of the training data\n",
        "train_data.head()"
      ]
    },
    {
      "cell_type": "markdown",
      "id": "475d64c8",
      "metadata": {
        "id": "475d64c8"
      },
      "source": [
        "## 0. Data Exploration"
      ]
    },
    {
      "cell_type": "code",
      "execution_count": null,
      "id": "c5a03e0f",
      "metadata": {
        "id": "c5a03e0f",
        "outputId": "8c9c385b-987e-48af-d320-cfdd5309f9df"
      },
      "outputs": [
        {
          "data": {
            "text/html": [
              "<div>\n",
              "<style scoped>\n",
              "    .dataframe tbody tr th:only-of-type {\n",
              "        vertical-align: middle;\n",
              "    }\n",
              "\n",
              "    .dataframe tbody tr th {\n",
              "        vertical-align: top;\n",
              "    }\n",
              "\n",
              "    .dataframe thead th {\n",
              "        text-align: right;\n",
              "    }\n",
              "</style>\n",
              "<table border=\"1\" class=\"dataframe\">\n",
              "  <thead>\n",
              "    <tr style=\"text-align: right;\">\n",
              "      <th></th>\n",
              "      <th>ID</th>\n",
              "      <th>SalePrice</th>\n",
              "      <th>MSSubClass</th>\n",
              "      <th>MSZoning</th>\n",
              "      <th>LotFrontage</th>\n",
              "      <th>LotArea</th>\n",
              "      <th>Street</th>\n",
              "      <th>Alley</th>\n",
              "      <th>LotShape</th>\n",
              "      <th>LandContour</th>\n",
              "      <th>...</th>\n",
              "      <th>ScreenPorch</th>\n",
              "      <th>PoolArea</th>\n",
              "      <th>PoolQC</th>\n",
              "      <th>Fence</th>\n",
              "      <th>MiscFeature</th>\n",
              "      <th>MiscVal</th>\n",
              "      <th>MoSold</th>\n",
              "      <th>YrSold</th>\n",
              "      <th>SaleType</th>\n",
              "      <th>SaleCondition</th>\n",
              "    </tr>\n",
              "  </thead>\n",
              "  <tbody>\n",
              "    <tr>\n",
              "      <th>0</th>\n",
              "      <td>1</td>\n",
              "      <td>208500</td>\n",
              "      <td>60</td>\n",
              "      <td>RL</td>\n",
              "      <td>65.0</td>\n",
              "      <td>8450</td>\n",
              "      <td>Pave</td>\n",
              "      <td>NaN</td>\n",
              "      <td>Reg</td>\n",
              "      <td>Lvl</td>\n",
              "      <td>...</td>\n",
              "      <td>0</td>\n",
              "      <td>0</td>\n",
              "      <td>NaN</td>\n",
              "      <td>NaN</td>\n",
              "      <td>NaN</td>\n",
              "      <td>0</td>\n",
              "      <td>2</td>\n",
              "      <td>2008</td>\n",
              "      <td>WD</td>\n",
              "      <td>Normal</td>\n",
              "    </tr>\n",
              "    <tr>\n",
              "      <th>1</th>\n",
              "      <td>2</td>\n",
              "      <td>181500</td>\n",
              "      <td>20</td>\n",
              "      <td>RL</td>\n",
              "      <td>80.0</td>\n",
              "      <td>9600</td>\n",
              "      <td>Pave</td>\n",
              "      <td>NaN</td>\n",
              "      <td>Reg</td>\n",
              "      <td>Lvl</td>\n",
              "      <td>...</td>\n",
              "      <td>0</td>\n",
              "      <td>0</td>\n",
              "      <td>NaN</td>\n",
              "      <td>NaN</td>\n",
              "      <td>NaN</td>\n",
              "      <td>0</td>\n",
              "      <td>5</td>\n",
              "      <td>2007</td>\n",
              "      <td>WD</td>\n",
              "      <td>Normal</td>\n",
              "    </tr>\n",
              "    <tr>\n",
              "      <th>2</th>\n",
              "      <td>3</td>\n",
              "      <td>223500</td>\n",
              "      <td>60</td>\n",
              "      <td>RL</td>\n",
              "      <td>68.0</td>\n",
              "      <td>11250</td>\n",
              "      <td>Pave</td>\n",
              "      <td>NaN</td>\n",
              "      <td>IR1</td>\n",
              "      <td>Lvl</td>\n",
              "      <td>...</td>\n",
              "      <td>0</td>\n",
              "      <td>0</td>\n",
              "      <td>NaN</td>\n",
              "      <td>NaN</td>\n",
              "      <td>NaN</td>\n",
              "      <td>0</td>\n",
              "      <td>9</td>\n",
              "      <td>2008</td>\n",
              "      <td>WD</td>\n",
              "      <td>Normal</td>\n",
              "    </tr>\n",
              "    <tr>\n",
              "      <th>3</th>\n",
              "      <td>4</td>\n",
              "      <td>140000</td>\n",
              "      <td>70</td>\n",
              "      <td>RL</td>\n",
              "      <td>60.0</td>\n",
              "      <td>9550</td>\n",
              "      <td>Pave</td>\n",
              "      <td>NaN</td>\n",
              "      <td>IR1</td>\n",
              "      <td>Lvl</td>\n",
              "      <td>...</td>\n",
              "      <td>0</td>\n",
              "      <td>0</td>\n",
              "      <td>NaN</td>\n",
              "      <td>NaN</td>\n",
              "      <td>NaN</td>\n",
              "      <td>0</td>\n",
              "      <td>2</td>\n",
              "      <td>2006</td>\n",
              "      <td>WD</td>\n",
              "      <td>Abnorml</td>\n",
              "    </tr>\n",
              "    <tr>\n",
              "      <th>4</th>\n",
              "      <td>5</td>\n",
              "      <td>250000</td>\n",
              "      <td>60</td>\n",
              "      <td>RL</td>\n",
              "      <td>84.0</td>\n",
              "      <td>14260</td>\n",
              "      <td>Pave</td>\n",
              "      <td>NaN</td>\n",
              "      <td>IR1</td>\n",
              "      <td>Lvl</td>\n",
              "      <td>...</td>\n",
              "      <td>0</td>\n",
              "      <td>0</td>\n",
              "      <td>NaN</td>\n",
              "      <td>NaN</td>\n",
              "      <td>NaN</td>\n",
              "      <td>0</td>\n",
              "      <td>12</td>\n",
              "      <td>2008</td>\n",
              "      <td>WD</td>\n",
              "      <td>Normal</td>\n",
              "    </tr>\n",
              "  </tbody>\n",
              "</table>\n",
              "<p>5 rows × 81 columns</p>\n",
              "</div>"
            ],
            "text/plain": [
              "   ID  SalePrice  MSSubClass MSZoning  LotFrontage  LotArea Street Alley  \\\n",
              "0   1     208500          60       RL         65.0     8450   Pave   NaN   \n",
              "1   2     181500          20       RL         80.0     9600   Pave   NaN   \n",
              "2   3     223500          60       RL         68.0    11250   Pave   NaN   \n",
              "3   4     140000          70       RL         60.0     9550   Pave   NaN   \n",
              "4   5     250000          60       RL         84.0    14260   Pave   NaN   \n",
              "\n",
              "  LotShape LandContour  ... ScreenPorch PoolArea PoolQC Fence MiscFeature  \\\n",
              "0      Reg         Lvl  ...           0        0    NaN   NaN         NaN   \n",
              "1      Reg         Lvl  ...           0        0    NaN   NaN         NaN   \n",
              "2      IR1         Lvl  ...           0        0    NaN   NaN         NaN   \n",
              "3      IR1         Lvl  ...           0        0    NaN   NaN         NaN   \n",
              "4      IR1         Lvl  ...           0        0    NaN   NaN         NaN   \n",
              "\n",
              "  MiscVal MoSold YrSold  SaleType  SaleCondition  \n",
              "0       0      2   2008        WD         Normal  \n",
              "1       0      5   2007        WD         Normal  \n",
              "2       0      9   2008        WD         Normal  \n",
              "3       0      2   2006        WD        Abnorml  \n",
              "4       0     12   2008        WD         Normal  \n",
              "\n",
              "[5 rows x 81 columns]"
            ]
          },
          "execution_count": 3,
          "metadata": {},
          "output_type": "execute_result"
        }
      ],
      "source": [
        "#Step1: Data exploration\n",
        "train_data.head()"
      ]
    },
    {
      "cell_type": "code",
      "execution_count": null,
      "id": "ca5c5c99",
      "metadata": {
        "id": "ca5c5c99",
        "outputId": "4b412a35-1d83-4223-9a8f-59faeeee22e9"
      },
      "outputs": [
        {
          "data": {
            "text/plain": [
              "(1218, 81)"
            ]
          },
          "execution_count": 4,
          "metadata": {},
          "output_type": "execute_result"
        }
      ],
      "source": [
        "# have a view of the training dataset.\n",
        "train_data.shape"
      ]
    },
    {
      "cell_type": "code",
      "execution_count": null,
      "id": "3dc74924",
      "metadata": {
        "id": "3dc74924",
        "outputId": "9ee114ef-47a5-455f-81bb-24345c911044"
      },
      "outputs": [
        {
          "name": "stdout",
          "output_type": "stream",
          "text": [
            "<class 'pandas.core.frame.DataFrame'>\n",
            "RangeIndex: 1218 entries, 0 to 1217\n",
            "Data columns (total 81 columns):\n",
            " #   Column         Non-Null Count  Dtype  \n",
            "---  ------         --------------  -----  \n",
            " 0   ID             1218 non-null   int64  \n",
            " 1   SalePrice      1218 non-null   int64  \n",
            " 2   MSSubClass     1218 non-null   int64  \n",
            " 3   MSZoning       1218 non-null   object \n",
            " 4   LotFrontage    1005 non-null   float64\n",
            " 5   LotArea        1218 non-null   int64  \n",
            " 6   Street         1218 non-null   object \n",
            " 7   Alley          70 non-null     object \n",
            " 8   LotShape       1218 non-null   object \n",
            " 9   LandContour    1218 non-null   object \n",
            " 10  Utilities      1218 non-null   object \n",
            " 11  LotConfig      1218 non-null   object \n",
            " 12  LandSlope      1218 non-null   object \n",
            " 13  Neighborhood   1218 non-null   object \n",
            " 14  Condition1     1218 non-null   object \n",
            " 15  Condition2     1218 non-null   object \n",
            " 16  BldgType       1218 non-null   object \n",
            " 17  HouseStyle     1218 non-null   object \n",
            " 18  OverallQual    1218 non-null   int64  \n",
            " 19  OverallCond    1218 non-null   int64  \n",
            " 20  YearBuilt      1218 non-null   int64  \n",
            " 21  YearRemodAdd   1218 non-null   int64  \n",
            " 22  RoofStyle      1218 non-null   object \n",
            " 23  RoofMatl       1218 non-null   object \n",
            " 24  Exterior1st    1218 non-null   object \n",
            " 25  Exterior2nd    1218 non-null   object \n",
            " 26  MasVnrType     1210 non-null   object \n",
            " 27  MasVnrArea     1210 non-null   float64\n",
            " 28  ExterQual      1218 non-null   object \n",
            " 29  ExterCond      1218 non-null   object \n",
            " 30  Foundation     1218 non-null   object \n",
            " 31  BsmtQual       1186 non-null   object \n",
            " 32  BsmtCond       1186 non-null   object \n",
            " 33  BsmtExposure   1185 non-null   object \n",
            " 34  BsmtFinType1   1186 non-null   object \n",
            " 35  BsmtFinSF1     1218 non-null   int64  \n",
            " 36  BsmtFinType2   1185 non-null   object \n",
            " 37  BsmtFinSF2     1218 non-null   int64  \n",
            " 38  BsmtUnfSF      1218 non-null   int64  \n",
            " 39  TotalBsmtSF    1218 non-null   int64  \n",
            " 40  Heating        1218 non-null   object \n",
            " 41  HeatingQC      1218 non-null   object \n",
            " 42  CentralAir     1218 non-null   object \n",
            " 43  Electrical     1218 non-null   object \n",
            " 44  1stFlrSF       1218 non-null   int64  \n",
            " 45  2ndFlrSF       1218 non-null   int64  \n",
            " 46  LowQualFinSF   1218 non-null   int64  \n",
            " 47  GrLivArea      1218 non-null   int64  \n",
            " 48  BsmtFullBath   1218 non-null   int64  \n",
            " 49  BsmtHalfBath   1218 non-null   int64  \n",
            " 50  FullBath       1218 non-null   int64  \n",
            " 51  HalfBath       1218 non-null   int64  \n",
            " 52  BedroomAbvGr   1218 non-null   int64  \n",
            " 53  KitchenAbvGr   1218 non-null   int64  \n",
            " 54  KitchenQual    1218 non-null   object \n",
            " 55  TotRmsAbvGrd   1218 non-null   int64  \n",
            " 56  Functional     1218 non-null   object \n",
            " 57  Fireplaces     1218 non-null   int64  \n",
            " 58  FireplaceQu    636 non-null    object \n",
            " 59  GarageType     1151 non-null   object \n",
            " 60  GarageYrBlt    1151 non-null   float64\n",
            " 61  GarageFinish   1151 non-null   object \n",
            " 62  GarageCars     1218 non-null   int64  \n",
            " 63  GarageArea     1218 non-null   int64  \n",
            " 64  GarageQual     1151 non-null   object \n",
            " 65  GarageCond     1151 non-null   object \n",
            " 66  PavedDrive     1218 non-null   object \n",
            " 67  WoodDeckSF     1218 non-null   int64  \n",
            " 68  OpenPorchSF    1218 non-null   int64  \n",
            " 69  EnclosedPorch  1218 non-null   int64  \n",
            " 70  3SsnPorch      1218 non-null   int64  \n",
            " 71  ScreenPorch    1218 non-null   int64  \n",
            " 72  PoolArea       1218 non-null   int64  \n",
            " 73  PoolQC         5 non-null      object \n",
            " 74  Fence          234 non-null    object \n",
            " 75  MiscFeature    50 non-null     object \n",
            " 76  MiscVal        1218 non-null   int64  \n",
            " 77  MoSold         1218 non-null   int64  \n",
            " 78  YrSold         1218 non-null   int64  \n",
            " 79  SaleType       1218 non-null   object \n",
            " 80  SaleCondition  1218 non-null   object \n",
            "dtypes: float64(3), int64(35), object(43)\n",
            "memory usage: 770.9+ KB\n"
          ]
        }
      ],
      "source": [
        "# Get to know the information of the dataset and datatype\n",
        "train_data.info()"
      ]
    },
    {
      "cell_type": "code",
      "execution_count": null,
      "id": "1c338da1",
      "metadata": {
        "id": "1c338da1",
        "outputId": "f06f7d39-a750-43f3-8385-56989af0bfb9"
      },
      "outputs": [
        {
          "data": {
            "text/plain": [
              "ID                 int64\n",
              "SalePrice          int64\n",
              "MSSubClass         int64\n",
              "MSZoning          object\n",
              "LotFrontage      float64\n",
              "                  ...   \n",
              "MiscVal            int64\n",
              "MoSold             int64\n",
              "YrSold             int64\n",
              "SaleType          object\n",
              "SaleCondition     object\n",
              "Length: 81, dtype: object"
            ]
          },
          "execution_count": 6,
          "metadata": {},
          "output_type": "execute_result"
        }
      ],
      "source": [
        "# another way to have a look the type of variables\n",
        "train_data.dtypes"
      ]
    },
    {
      "cell_type": "code",
      "execution_count": null,
      "id": "a72cfb25",
      "metadata": {
        "id": "a72cfb25",
        "outputId": "d77f8698-30ae-49ea-c9f2-ee636033fe67"
      },
      "outputs": [
        {
          "data": {
            "text/plain": [
              "ID               1218\n",
              "SalePrice         595\n",
              "MSSubClass         15\n",
              "MSZoning            5\n",
              "LotFrontage       108\n",
              "                 ... \n",
              "MiscVal            18\n",
              "MoSold             12\n",
              "YrSold              5\n",
              "SaleType            9\n",
              "SaleCondition       6\n",
              "Length: 81, dtype: int64"
            ]
          },
          "execution_count": 7,
          "metadata": {},
          "output_type": "execute_result"
        }
      ],
      "source": [
        "#check the number of unique value in each column\n",
        "train_data.nunique()"
      ]
    },
    {
      "cell_type": "code",
      "execution_count": null,
      "id": "d2332f9b",
      "metadata": {
        "id": "d2332f9b",
        "outputId": "3a916a4e-0d70-450e-86bb-849444a76172"
      },
      "outputs": [
        {
          "data": {
            "text/plain": [
              "ID                 0\n",
              "SalePrice          0\n",
              "MSSubClass         0\n",
              "MSZoning           0\n",
              "LotFrontage      213\n",
              "                ... \n",
              "MiscVal            0\n",
              "MoSold             0\n",
              "YrSold             0\n",
              "SaleType           0\n",
              "SaleCondition      0\n",
              "Length: 81, dtype: int64"
            ]
          },
          "execution_count": 8,
          "metadata": {},
          "output_type": "execute_result"
        }
      ],
      "source": [
        "#Step1.2: Understand the features\n",
        "\n",
        "# Check the missing values\n",
        "train_data.isnull().sum()\n",
        "# Here we find that LotFrontage has 213 missing value"
      ]
    },
    {
      "cell_type": "code",
      "execution_count": null,
      "id": "48c4e11c",
      "metadata": {
        "id": "48c4e11c",
        "outputId": "2ce7e90f-42bb-4e79-8412-4343e4574d91"
      },
      "outputs": [
        {
          "data": {
            "text/html": [
              "<div>\n",
              "<style scoped>\n",
              "    .dataframe tbody tr th:only-of-type {\n",
              "        vertical-align: middle;\n",
              "    }\n",
              "\n",
              "    .dataframe tbody tr th {\n",
              "        vertical-align: top;\n",
              "    }\n",
              "\n",
              "    .dataframe thead th {\n",
              "        text-align: right;\n",
              "    }\n",
              "</style>\n",
              "<table border=\"1\" class=\"dataframe\">\n",
              "  <thead>\n",
              "    <tr style=\"text-align: right;\">\n",
              "      <th></th>\n",
              "      <th>LotFrontage</th>\n",
              "      <th>LotArea</th>\n",
              "      <th>MasVnrArea</th>\n",
              "      <th>BsmtFinSF1</th>\n",
              "      <th>BsmtFinSF2</th>\n",
              "      <th>BsmtUnfSF</th>\n",
              "      <th>TotalBsmtSF</th>\n",
              "      <th>1stFlrSF</th>\n",
              "      <th>2ndFlrSF</th>\n",
              "      <th>LowQualFinSF</th>\n",
              "      <th>...</th>\n",
              "      <th>Fireplaces</th>\n",
              "      <th>GarageCars</th>\n",
              "      <th>GarageArea</th>\n",
              "      <th>WoodDeckSF</th>\n",
              "      <th>OpenPorchSF</th>\n",
              "      <th>EnclosedPorch</th>\n",
              "      <th>3SsnPorch</th>\n",
              "      <th>ScreenPorch</th>\n",
              "      <th>PoolArea</th>\n",
              "      <th>MiscVal</th>\n",
              "    </tr>\n",
              "  </thead>\n",
              "  <tbody>\n",
              "    <tr>\n",
              "      <th>count</th>\n",
              "      <td>1005.000000</td>\n",
              "      <td>1218.000000</td>\n",
              "      <td>1210.000000</td>\n",
              "      <td>1218.000000</td>\n",
              "      <td>1218.000000</td>\n",
              "      <td>1218.000000</td>\n",
              "      <td>1218.000000</td>\n",
              "      <td>1218.000000</td>\n",
              "      <td>1218.000000</td>\n",
              "      <td>1218.000000</td>\n",
              "      <td>...</td>\n",
              "      <td>1218.000000</td>\n",
              "      <td>1218.000000</td>\n",
              "      <td>1218.000000</td>\n",
              "      <td>1218.000000</td>\n",
              "      <td>1218.00000</td>\n",
              "      <td>1218.000000</td>\n",
              "      <td>1218.000000</td>\n",
              "      <td>1218.000000</td>\n",
              "      <td>1218.000000</td>\n",
              "      <td>1218.000000</td>\n",
              "    </tr>\n",
              "    <tr>\n",
              "      <th>mean</th>\n",
              "      <td>70.351244</td>\n",
              "      <td>10594.958128</td>\n",
              "      <td>104.208264</td>\n",
              "      <td>449.940066</td>\n",
              "      <td>46.332512</td>\n",
              "      <td>563.299672</td>\n",
              "      <td>1059.572250</td>\n",
              "      <td>1162.991790</td>\n",
              "      <td>340.642036</td>\n",
              "      <td>6.325123</td>\n",
              "      <td>...</td>\n",
              "      <td>0.607553</td>\n",
              "      <td>1.758621</td>\n",
              "      <td>471.269294</td>\n",
              "      <td>94.660920</td>\n",
              "      <td>46.70936</td>\n",
              "      <td>21.395731</td>\n",
              "      <td>3.599343</td>\n",
              "      <td>14.895731</td>\n",
              "      <td>2.275041</td>\n",
              "      <td>47.031199</td>\n",
              "    </tr>\n",
              "    <tr>\n",
              "      <th>std</th>\n",
              "      <td>24.806884</td>\n",
              "      <td>10645.419474</td>\n",
              "      <td>181.143463</td>\n",
              "      <td>461.264267</td>\n",
              "      <td>161.882923</td>\n",
              "      <td>440.795202</td>\n",
              "      <td>443.002323</td>\n",
              "      <td>386.644612</td>\n",
              "      <td>434.249227</td>\n",
              "      <td>51.611940</td>\n",
              "      <td>...</td>\n",
              "      <td>0.646341</td>\n",
              "      <td>0.742552</td>\n",
              "      <td>211.929888</td>\n",
              "      <td>123.978107</td>\n",
              "      <td>66.74154</td>\n",
              "      <td>60.863718</td>\n",
              "      <td>29.771748</td>\n",
              "      <td>54.494176</td>\n",
              "      <td>35.641150</td>\n",
              "      <td>534.201253</td>\n",
              "    </tr>\n",
              "    <tr>\n",
              "      <th>min</th>\n",
              "      <td>21.000000</td>\n",
              "      <td>1300.000000</td>\n",
              "      <td>0.000000</td>\n",
              "      <td>0.000000</td>\n",
              "      <td>0.000000</td>\n",
              "      <td>0.000000</td>\n",
              "      <td>0.000000</td>\n",
              "      <td>372.000000</td>\n",
              "      <td>0.000000</td>\n",
              "      <td>0.000000</td>\n",
              "      <td>...</td>\n",
              "      <td>0.000000</td>\n",
              "      <td>0.000000</td>\n",
              "      <td>0.000000</td>\n",
              "      <td>0.000000</td>\n",
              "      <td>0.00000</td>\n",
              "      <td>0.000000</td>\n",
              "      <td>0.000000</td>\n",
              "      <td>0.000000</td>\n",
              "      <td>0.000000</td>\n",
              "      <td>0.000000</td>\n",
              "    </tr>\n",
              "    <tr>\n",
              "      <th>25%</th>\n",
              "      <td>60.000000</td>\n",
              "      <td>7662.750000</td>\n",
              "      <td>0.000000</td>\n",
              "      <td>0.000000</td>\n",
              "      <td>0.000000</td>\n",
              "      <td>224.250000</td>\n",
              "      <td>796.000000</td>\n",
              "      <td>884.000000</td>\n",
              "      <td>0.000000</td>\n",
              "      <td>0.000000</td>\n",
              "      <td>...</td>\n",
              "      <td>0.000000</td>\n",
              "      <td>1.000000</td>\n",
              "      <td>328.500000</td>\n",
              "      <td>0.000000</td>\n",
              "      <td>0.00000</td>\n",
              "      <td>0.000000</td>\n",
              "      <td>0.000000</td>\n",
              "      <td>0.000000</td>\n",
              "      <td>0.000000</td>\n",
              "      <td>0.000000</td>\n",
              "    </tr>\n",
              "    <tr>\n",
              "      <th>50%</th>\n",
              "      <td>70.000000</td>\n",
              "      <td>9458.500000</td>\n",
              "      <td>0.000000</td>\n",
              "      <td>392.000000</td>\n",
              "      <td>0.000000</td>\n",
              "      <td>466.500000</td>\n",
              "      <td>1001.500000</td>\n",
              "      <td>1088.000000</td>\n",
              "      <td>0.000000</td>\n",
              "      <td>0.000000</td>\n",
              "      <td>...</td>\n",
              "      <td>1.000000</td>\n",
              "      <td>2.000000</td>\n",
              "      <td>476.500000</td>\n",
              "      <td>0.000000</td>\n",
              "      <td>24.00000</td>\n",
              "      <td>0.000000</td>\n",
              "      <td>0.000000</td>\n",
              "      <td>0.000000</td>\n",
              "      <td>0.000000</td>\n",
              "      <td>0.000000</td>\n",
              "    </tr>\n",
              "    <tr>\n",
              "      <th>75%</th>\n",
              "      <td>80.000000</td>\n",
              "      <td>11622.750000</td>\n",
              "      <td>166.000000</td>\n",
              "      <td>716.000000</td>\n",
              "      <td>0.000000</td>\n",
              "      <td>798.750000</td>\n",
              "      <td>1298.750000</td>\n",
              "      <td>1389.750000</td>\n",
              "      <td>727.750000</td>\n",
              "      <td>0.000000</td>\n",
              "      <td>...</td>\n",
              "      <td>1.000000</td>\n",
              "      <td>2.000000</td>\n",
              "      <td>576.000000</td>\n",
              "      <td>168.000000</td>\n",
              "      <td>69.00000</td>\n",
              "      <td>0.000000</td>\n",
              "      <td>0.000000</td>\n",
              "      <td>0.000000</td>\n",
              "      <td>0.000000</td>\n",
              "      <td>0.000000</td>\n",
              "    </tr>\n",
              "    <tr>\n",
              "      <th>max</th>\n",
              "      <td>313.000000</td>\n",
              "      <td>215245.000000</td>\n",
              "      <td>1600.000000</td>\n",
              "      <td>5644.000000</td>\n",
              "      <td>1474.000000</td>\n",
              "      <td>2336.000000</td>\n",
              "      <td>6110.000000</td>\n",
              "      <td>4692.000000</td>\n",
              "      <td>2065.000000</td>\n",
              "      <td>572.000000</td>\n",
              "      <td>...</td>\n",
              "      <td>3.000000</td>\n",
              "      <td>4.000000</td>\n",
              "      <td>1418.000000</td>\n",
              "      <td>857.000000</td>\n",
              "      <td>523.00000</td>\n",
              "      <td>552.000000</td>\n",
              "      <td>508.000000</td>\n",
              "      <td>410.000000</td>\n",
              "      <td>648.000000</td>\n",
              "      <td>15500.000000</td>\n",
              "    </tr>\n",
              "  </tbody>\n",
              "</table>\n",
              "<p>8 rows × 28 columns</p>\n",
              "</div>"
            ],
            "text/plain": [
              "       LotFrontage        LotArea   MasVnrArea   BsmtFinSF1   BsmtFinSF2  \\\n",
              "count  1005.000000    1218.000000  1210.000000  1218.000000  1218.000000   \n",
              "mean     70.351244   10594.958128   104.208264   449.940066    46.332512   \n",
              "std      24.806884   10645.419474   181.143463   461.264267   161.882923   \n",
              "min      21.000000    1300.000000     0.000000     0.000000     0.000000   \n",
              "25%      60.000000    7662.750000     0.000000     0.000000     0.000000   \n",
              "50%      70.000000    9458.500000     0.000000   392.000000     0.000000   \n",
              "75%      80.000000   11622.750000   166.000000   716.000000     0.000000   \n",
              "max     313.000000  215245.000000  1600.000000  5644.000000  1474.000000   \n",
              "\n",
              "         BsmtUnfSF  TotalBsmtSF     1stFlrSF     2ndFlrSF  LowQualFinSF  ...  \\\n",
              "count  1218.000000  1218.000000  1218.000000  1218.000000   1218.000000  ...   \n",
              "mean    563.299672  1059.572250  1162.991790   340.642036      6.325123  ...   \n",
              "std     440.795202   443.002323   386.644612   434.249227     51.611940  ...   \n",
              "min       0.000000     0.000000   372.000000     0.000000      0.000000  ...   \n",
              "25%     224.250000   796.000000   884.000000     0.000000      0.000000  ...   \n",
              "50%     466.500000  1001.500000  1088.000000     0.000000      0.000000  ...   \n",
              "75%     798.750000  1298.750000  1389.750000   727.750000      0.000000  ...   \n",
              "max    2336.000000  6110.000000  4692.000000  2065.000000    572.000000  ...   \n",
              "\n",
              "        Fireplaces   GarageCars   GarageArea   WoodDeckSF  OpenPorchSF  \\\n",
              "count  1218.000000  1218.000000  1218.000000  1218.000000   1218.00000   \n",
              "mean      0.607553     1.758621   471.269294    94.660920     46.70936   \n",
              "std       0.646341     0.742552   211.929888   123.978107     66.74154   \n",
              "min       0.000000     0.000000     0.000000     0.000000      0.00000   \n",
              "25%       0.000000     1.000000   328.500000     0.000000      0.00000   \n",
              "50%       1.000000     2.000000   476.500000     0.000000     24.00000   \n",
              "75%       1.000000     2.000000   576.000000   168.000000     69.00000   \n",
              "max       3.000000     4.000000  1418.000000   857.000000    523.00000   \n",
              "\n",
              "       EnclosedPorch    3SsnPorch  ScreenPorch     PoolArea       MiscVal  \n",
              "count    1218.000000  1218.000000  1218.000000  1218.000000   1218.000000  \n",
              "mean       21.395731     3.599343    14.895731     2.275041     47.031199  \n",
              "std        60.863718    29.771748    54.494176    35.641150    534.201253  \n",
              "min         0.000000     0.000000     0.000000     0.000000      0.000000  \n",
              "25%         0.000000     0.000000     0.000000     0.000000      0.000000  \n",
              "50%         0.000000     0.000000     0.000000     0.000000      0.000000  \n",
              "75%         0.000000     0.000000     0.000000     0.000000      0.000000  \n",
              "max       552.000000   508.000000   410.000000   648.000000  15500.000000  \n",
              "\n",
              "[8 rows x 28 columns]"
            ]
          },
          "execution_count": 9,
          "metadata": {},
          "output_type": "execute_result"
        }
      ],
      "source": [
        "#understand numerical feature\n",
        "train_data[['LotFrontage','LotArea','MasVnrArea','BsmtFinSF1','BsmtFinSF2','BsmtUnfSF','TotalBsmtSF','1stFlrSF','2ndFlrSF','LowQualFinSF','GrLivArea','BsmtFullBath','BsmtHalfBath','FullBath','HalfBath','BedroomAbvGr','KitchenAbvGr','TotRmsAbvGrd','Fireplaces','GarageCars','GarageArea','WoodDeckSF','OpenPorchSF','EnclosedPorch','3SsnPorch','ScreenPorch','PoolArea','MiscVal']].describe()"
      ]
    },
    {
      "cell_type": "code",
      "execution_count": null,
      "id": "9d699980",
      "metadata": {
        "id": "9d699980",
        "outputId": "ff0a552a-84c9-4604-c661-c7429c58dd95"
      },
      "outputs": [
        {
          "data": {
            "text/plain": [
              "count      1218.000000\n",
              "mean     180527.586207\n",
              "std       78540.534547\n",
              "min       34900.000000\n",
              "25%      130000.000000\n",
              "50%      162950.000000\n",
              "75%      213000.000000\n",
              "max      745000.000000\n",
              "Name: SalePrice, dtype: float64"
            ]
          },
          "execution_count": 10,
          "metadata": {},
          "output_type": "execute_result"
        }
      ],
      "source": [
        "#understand target\n",
        "train_data['SalePrice'].describe()"
      ]
    },
    {
      "cell_type": "markdown",
      "id": "1802fa1b",
      "metadata": {
        "id": "1802fa1b"
      },
      "source": [
        "## 1. Data Preprocessing:"
      ]
    },
    {
      "cell_type": "code",
      "execution_count": null,
      "id": "9026236d",
      "metadata": {
        "id": "9026236d"
      },
      "outputs": [],
      "source": [
        "# Step 1: Split the data into features and target, then drop SalePrice and ID from X train_data\n",
        "X = train_data.drop(columns=[\"SalePrice\", \"ID\"])\n",
        "y = train_data[\"SalePrice\"]"
      ]
    },
    {
      "cell_type": "code",
      "execution_count": null,
      "id": "99ab0ffb",
      "metadata": {
        "id": "99ab0ffb"
      },
      "outputs": [],
      "source": [
        "# Step 2: Split the data into training and validation sets\n",
        "X_train, X_tes, y_train, y_tes = train_test_split(X, y, test_size=0.2, random_state=42)\n",
        "# 20% of the data will be reserved for the validation set, while the remaining 80% will be used for training.\n",
        "# With random seeds 42.\n",
        "# X_train and y_train: The features and target variable for the training set.\n",
        "# X_tes and y_tes: The features and target variable for the testing set.\n",
        "# train_test_split: This is a function from scikit-learn that shuffles the dataset\n",
        "# and then splits it into training and testing (or validation) subsets."
      ]
    },
    {
      "cell_type": "code",
      "execution_count": null,
      "id": "f2031c12",
      "metadata": {
        "id": "f2031c12"
      },
      "outputs": [],
      "source": [
        "# Step 3: Identify numerical and categorical columns\n",
        "numerical_cols = X_train.select_dtypes(include=['int64', 'float64']).columns.tolist()\n",
        "categorical_cols = X_train.select_dtypes(include=['object']).columns.tolist()"
      ]
    },
    {
      "cell_type": "code",
      "execution_count": null,
      "id": "3741b7af",
      "metadata": {
        "id": "3741b7af"
      },
      "outputs": [],
      "source": [
        "# Step 4: Adjust for all categorical variables represented as numbers; by observing tarin dataset,\n",
        "        #MSSubClass, OverallQual, and OverallCond are categorical variables, but represented as number.\n",
        "categorical_as_numbers = [\"MSSubClass\", \"OverallQual\", \"OverallCond\"]\n",
        "for col in categorical_as_numbers:\n",
        "    if col in numerical_cols:\n",
        "        numerical_cols.remove(col)\n",
        "        categorical_cols.append(col)"
      ]
    },
    {
      "cell_type": "code",
      "execution_count": null,
      "id": "6c8e9c49",
      "metadata": {
        "id": "6c8e9c49"
      },
      "outputs": [],
      "source": [
        "# Step 5: Build preprocessing pipelines; filling \"median\"value in numerical missing value\n",
        "numerical_transformer = Pipeline(steps=[\n",
        "    ('imputer', SimpleImputer(strategy='median')),\n",
        "    ('scaler', StandardScaler())\n",
        "])\n",
        "# SimpleImputer: This is a preprocessing technique to handle missing values in the dataset.\n",
        "# This is used to encode categorical variables.\n",
        "# One-hot： encoding creates binary columns for each category in the original column\n",
        "# and indicates the presence of the category with an \"1\" or \"0\" (active/inactive).\n",
        "categorical_transformer = Pipeline(steps=[\n",
        "    ('imputer', SimpleImputer(strategy='most_frequent')),\n",
        "    ('onehot', OneHotEncoder(handle_unknown='ignore'))\n",
        "])\n",
        "# ColumnTransformer is initialized with a list of transformers,\n",
        "#where each transformer is applied to a subset of the columns in the input data.\n",
        "preprocessor = ColumnTransformer(\n",
        "    transformers=[\n",
        "        ('num', numerical_transformer, numerical_cols),\n",
        "        ('cat', categorical_transformer, categorical_cols)\n",
        "    ])"
      ]
    },
    {
      "cell_type": "code",
      "execution_count": null,
      "id": "e9022fed",
      "metadata": {
        "id": "e9022fed",
        "outputId": "5bf13659-c7e8-45cb-923d-6eccf9e81500"
      },
      "outputs": [
        {
          "data": {
            "text/plain": [
              "((974, 311), (244, 311))"
            ]
          },
          "execution_count": 16,
          "metadata": {},
          "output_type": "execute_result"
        }
      ],
      "source": [
        "# Step 6: Apply preprocessing to the data\n",
        "X_train_preprocessed = preprocessor.fit_transform(X_train)\n",
        "X_tes_preprocessed = preprocessor.transform(X_tes)\n",
        "\n",
        "X_train_preprocessed.shape, X_tes_preprocessed.shape\n",
        "\n",
        "# print(X_train_preprocessed.shape, X_tes_preprocessed.shape)"
      ]
    },
    {
      "cell_type": "markdown",
      "id": "ebf7e476",
      "metadata": {
        "id": "ebf7e476"
      },
      "source": [
        "## 2. Model training"
      ]
    },
    {
      "cell_type": "markdown",
      "id": "01ee20e7",
      "metadata": {
        "id": "01ee20e7"
      },
      "source": [
        "### Model1: KNN"
      ]
    },
    {
      "cell_type": "code",
      "execution_count": null,
      "id": "8b0ad10b",
      "metadata": {
        "id": "8b0ad10b"
      },
      "outputs": [],
      "source": [
        "# KNN\n",
        "from sklearn.neighbors import KNeighborsRegressor\n",
        "from sklearn.metrics import mean_absolute_error, mean_squared_error\n",
        "import numpy as np\n",
        "\n",
        "# Instantiate the model\n",
        "# The parameter 'n_neighbors' determines how many neighbors will be used; you can adjust this based on validation performance.\n",
        "knn_model = KNeighborsRegressor(n_neighbors=5)\n"
      ]
    },
    {
      "cell_type": "code",
      "execution_count": null,
      "id": "43bcf085",
      "metadata": {
        "id": "43bcf085",
        "outputId": "8ea800cb-60b8-4174-c891-92962f6d30f9"
      },
      "outputs": [
        {
          "data": {
            "text/html": [
              "<style>#sk-container-id-1 {color: black;background-color: white;}#sk-container-id-1 pre{padding: 0;}#sk-container-id-1 div.sk-toggleable {background-color: white;}#sk-container-id-1 label.sk-toggleable__label {cursor: pointer;display: block;width: 100%;margin-bottom: 0;padding: 0.3em;box-sizing: border-box;text-align: center;}#sk-container-id-1 label.sk-toggleable__label-arrow:before {content: \"▸\";float: left;margin-right: 0.25em;color: #696969;}#sk-container-id-1 label.sk-toggleable__label-arrow:hover:before {color: black;}#sk-container-id-1 div.sk-estimator:hover label.sk-toggleable__label-arrow:before {color: black;}#sk-container-id-1 div.sk-toggleable__content {max-height: 0;max-width: 0;overflow: hidden;text-align: left;background-color: #f0f8ff;}#sk-container-id-1 div.sk-toggleable__content pre {margin: 0.2em;color: black;border-radius: 0.25em;background-color: #f0f8ff;}#sk-container-id-1 input.sk-toggleable__control:checked~div.sk-toggleable__content {max-height: 200px;max-width: 100%;overflow: auto;}#sk-container-id-1 input.sk-toggleable__control:checked~label.sk-toggleable__label-arrow:before {content: \"▾\";}#sk-container-id-1 div.sk-estimator input.sk-toggleable__control:checked~label.sk-toggleable__label {background-color: #d4ebff;}#sk-container-id-1 div.sk-label input.sk-toggleable__control:checked~label.sk-toggleable__label {background-color: #d4ebff;}#sk-container-id-1 input.sk-hidden--visually {border: 0;clip: rect(1px 1px 1px 1px);clip: rect(1px, 1px, 1px, 1px);height: 1px;margin: -1px;overflow: hidden;padding: 0;position: absolute;width: 1px;}#sk-container-id-1 div.sk-estimator {font-family: monospace;background-color: #f0f8ff;border: 1px dotted black;border-radius: 0.25em;box-sizing: border-box;margin-bottom: 0.5em;}#sk-container-id-1 div.sk-estimator:hover {background-color: #d4ebff;}#sk-container-id-1 div.sk-parallel-item::after {content: \"\";width: 100%;border-bottom: 1px solid gray;flex-grow: 1;}#sk-container-id-1 div.sk-label:hover label.sk-toggleable__label {background-color: #d4ebff;}#sk-container-id-1 div.sk-serial::before {content: \"\";position: absolute;border-left: 1px solid gray;box-sizing: border-box;top: 0;bottom: 0;left: 50%;z-index: 0;}#sk-container-id-1 div.sk-serial {display: flex;flex-direction: column;align-items: center;background-color: white;padding-right: 0.2em;padding-left: 0.2em;position: relative;}#sk-container-id-1 div.sk-item {position: relative;z-index: 1;}#sk-container-id-1 div.sk-parallel {display: flex;align-items: stretch;justify-content: center;background-color: white;position: relative;}#sk-container-id-1 div.sk-item::before, #sk-container-id-1 div.sk-parallel-item::before {content: \"\";position: absolute;border-left: 1px solid gray;box-sizing: border-box;top: 0;bottom: 0;left: 50%;z-index: -1;}#sk-container-id-1 div.sk-parallel-item {display: flex;flex-direction: column;z-index: 1;position: relative;background-color: white;}#sk-container-id-1 div.sk-parallel-item:first-child::after {align-self: flex-end;width: 50%;}#sk-container-id-1 div.sk-parallel-item:last-child::after {align-self: flex-start;width: 50%;}#sk-container-id-1 div.sk-parallel-item:only-child::after {width: 0;}#sk-container-id-1 div.sk-dashed-wrapped {border: 1px dashed gray;margin: 0 0.4em 0.5em 0.4em;box-sizing: border-box;padding-bottom: 0.4em;background-color: white;}#sk-container-id-1 div.sk-label label {font-family: monospace;font-weight: bold;display: inline-block;line-height: 1.2em;}#sk-container-id-1 div.sk-label-container {text-align: center;}#sk-container-id-1 div.sk-container {/* jupyter's `normalize.less` sets `[hidden] { display: none; }` but bootstrap.min.css set `[hidden] { display: none !important; }` so we also need the `!important` here to be able to override the default hidden behavior on the sphinx rendered scikit-learn.org. See: https://github.com/scikit-learn/scikit-learn/issues/21755 */display: inline-block !important;position: relative;}#sk-container-id-1 div.sk-text-repr-fallback {display: none;}</style><div id=\"sk-container-id-1\" class=\"sk-top-container\"><div class=\"sk-text-repr-fallback\"><pre>KNeighborsRegressor()</pre><b>In a Jupyter environment, please rerun this cell to show the HTML representation or trust the notebook. <br />On GitHub, the HTML representation is unable to render, please try loading this page with nbviewer.org.</b></div><div class=\"sk-container\" hidden><div class=\"sk-item\"><div class=\"sk-estimator sk-toggleable\"><input class=\"sk-toggleable__control sk-hidden--visually\" id=\"sk-estimator-id-1\" type=\"checkbox\" checked><label for=\"sk-estimator-id-1\" class=\"sk-toggleable__label sk-toggleable__label-arrow\">KNeighborsRegressor</label><div class=\"sk-toggleable__content\"><pre>KNeighborsRegressor()</pre></div></div></div></div></div>"
            ],
            "text/plain": [
              "KNeighborsRegressor()"
            ]
          },
          "execution_count": 18,
          "metadata": {},
          "output_type": "execute_result"
        }
      ],
      "source": [
        "knn_model.fit(X_train_preprocessed, y_train)"
      ]
    },
    {
      "cell_type": "code",
      "execution_count": null,
      "id": "98026b98",
      "metadata": {
        "id": "98026b98",
        "outputId": "8bbae686-c82d-43b8-8024-563480cbd117"
      },
      "outputs": [
        {
          "name": "stdout",
          "output_type": "stream",
          "text": [
            "K-NN Regression MAE: 22759.318032786883\n",
            "K-NN Regression RMSE: 39989.030984898185\n"
          ]
        }
      ],
      "source": [
        "# Predict on test set\n",
        "y_pred_knn = knn_model.predict(X_tes_preprocessed)\n",
        "\n",
        "# Evaluate the model: use model to evaluate on test dataset.\n",
        "mae_knn = mean_absolute_error(y_tes, y_pred_knn)\n",
        "rmse_knn = np.sqrt(mean_squared_error(y_tes, y_pred_knn))\n",
        "\n",
        "print(f\"K-NN Regression MAE: {mae_knn}\")\n",
        "print(f\"K-NN Regression RMSE: {rmse_knn}\")\n"
      ]
    },
    {
      "cell_type": "markdown",
      "id": "b2373bc1",
      "metadata": {
        "id": "b2373bc1"
      },
      "source": [
        "### Model2: Random Forest"
      ]
    },
    {
      "cell_type": "code",
      "execution_count": null,
      "id": "514c651c",
      "metadata": {
        "id": "514c651c",
        "outputId": "47444505-7b03-47a8-c297-885daf143be1"
      },
      "outputs": [
        {
          "name": "stdout",
          "output_type": "stream",
          "text": [
            "Random Forest RMSE on Validation Set: 29424.16\n"
          ]
        }
      ],
      "source": [
        "from sklearn.ensemble import RandomForestRegressor\n",
        "from sklearn.metrics import mean_squared_error\n",
        "\n",
        "# Assuming X_train_preprocessed, y_train, X_val_preprocessed, and y_val are already defined from our previous steps\n",
        "\n",
        "# Initialize the Random Forest Regressor\n",
        "rf = RandomForestRegressor(n_estimators=100, random_state=42)\n",
        "rf.fit(X_train_preprocessed, y_train)\n",
        "\n",
        "# Predict on the validation set\n",
        "y_pred_rf = rf.predict(X_tes_preprocessed)\n",
        "\n",
        "# Calculate and print RMSE for Random Forest\n",
        "rmse_rf = np.sqrt(mean_squared_error(y_tes, y_pred_rf))\n",
        "print(f\"Random Forest RMSE on Validation Set: {rmse_rf:.2f}\")"
      ]
    },
    {
      "cell_type": "markdown",
      "id": "3584f376",
      "metadata": {
        "id": "3584f376"
      },
      "source": [
        "### Model3: Ridge regression"
      ]
    },
    {
      "cell_type": "code",
      "execution_count": null,
      "id": "631f2550",
      "metadata": {
        "id": "631f2550"
      },
      "outputs": [],
      "source": [
        "from sklearn.linear_model import Ridge\n",
        "\n",
        "# Instantiate the Ridge regression model\n",
        "# The parameter 'alpha' controls the strength of the regularization; you can adjust this based on validation performance.\n",
        "ridge_model = Ridge(alpha=1.0)\n"
      ]
    },
    {
      "cell_type": "code",
      "execution_count": null,
      "id": "22f55082",
      "metadata": {
        "id": "22f55082",
        "outputId": "bb21c694-a0e7-4fbe-f151-331ec03407b0"
      },
      "outputs": [
        {
          "data": {
            "text/html": [
              "<style>#sk-container-id-2 {color: black;background-color: white;}#sk-container-id-2 pre{padding: 0;}#sk-container-id-2 div.sk-toggleable {background-color: white;}#sk-container-id-2 label.sk-toggleable__label {cursor: pointer;display: block;width: 100%;margin-bottom: 0;padding: 0.3em;box-sizing: border-box;text-align: center;}#sk-container-id-2 label.sk-toggleable__label-arrow:before {content: \"▸\";float: left;margin-right: 0.25em;color: #696969;}#sk-container-id-2 label.sk-toggleable__label-arrow:hover:before {color: black;}#sk-container-id-2 div.sk-estimator:hover label.sk-toggleable__label-arrow:before {color: black;}#sk-container-id-2 div.sk-toggleable__content {max-height: 0;max-width: 0;overflow: hidden;text-align: left;background-color: #f0f8ff;}#sk-container-id-2 div.sk-toggleable__content pre {margin: 0.2em;color: black;border-radius: 0.25em;background-color: #f0f8ff;}#sk-container-id-2 input.sk-toggleable__control:checked~div.sk-toggleable__content {max-height: 200px;max-width: 100%;overflow: auto;}#sk-container-id-2 input.sk-toggleable__control:checked~label.sk-toggleable__label-arrow:before {content: \"▾\";}#sk-container-id-2 div.sk-estimator input.sk-toggleable__control:checked~label.sk-toggleable__label {background-color: #d4ebff;}#sk-container-id-2 div.sk-label input.sk-toggleable__control:checked~label.sk-toggleable__label {background-color: #d4ebff;}#sk-container-id-2 input.sk-hidden--visually {border: 0;clip: rect(1px 1px 1px 1px);clip: rect(1px, 1px, 1px, 1px);height: 1px;margin: -1px;overflow: hidden;padding: 0;position: absolute;width: 1px;}#sk-container-id-2 div.sk-estimator {font-family: monospace;background-color: #f0f8ff;border: 1px dotted black;border-radius: 0.25em;box-sizing: border-box;margin-bottom: 0.5em;}#sk-container-id-2 div.sk-estimator:hover {background-color: #d4ebff;}#sk-container-id-2 div.sk-parallel-item::after {content: \"\";width: 100%;border-bottom: 1px solid gray;flex-grow: 1;}#sk-container-id-2 div.sk-label:hover label.sk-toggleable__label {background-color: #d4ebff;}#sk-container-id-2 div.sk-serial::before {content: \"\";position: absolute;border-left: 1px solid gray;box-sizing: border-box;top: 0;bottom: 0;left: 50%;z-index: 0;}#sk-container-id-2 div.sk-serial {display: flex;flex-direction: column;align-items: center;background-color: white;padding-right: 0.2em;padding-left: 0.2em;position: relative;}#sk-container-id-2 div.sk-item {position: relative;z-index: 1;}#sk-container-id-2 div.sk-parallel {display: flex;align-items: stretch;justify-content: center;background-color: white;position: relative;}#sk-container-id-2 div.sk-item::before, #sk-container-id-2 div.sk-parallel-item::before {content: \"\";position: absolute;border-left: 1px solid gray;box-sizing: border-box;top: 0;bottom: 0;left: 50%;z-index: -1;}#sk-container-id-2 div.sk-parallel-item {display: flex;flex-direction: column;z-index: 1;position: relative;background-color: white;}#sk-container-id-2 div.sk-parallel-item:first-child::after {align-self: flex-end;width: 50%;}#sk-container-id-2 div.sk-parallel-item:last-child::after {align-self: flex-start;width: 50%;}#sk-container-id-2 div.sk-parallel-item:only-child::after {width: 0;}#sk-container-id-2 div.sk-dashed-wrapped {border: 1px dashed gray;margin: 0 0.4em 0.5em 0.4em;box-sizing: border-box;padding-bottom: 0.4em;background-color: white;}#sk-container-id-2 div.sk-label label {font-family: monospace;font-weight: bold;display: inline-block;line-height: 1.2em;}#sk-container-id-2 div.sk-label-container {text-align: center;}#sk-container-id-2 div.sk-container {/* jupyter's `normalize.less` sets `[hidden] { display: none; }` but bootstrap.min.css set `[hidden] { display: none !important; }` so we also need the `!important` here to be able to override the default hidden behavior on the sphinx rendered scikit-learn.org. See: https://github.com/scikit-learn/scikit-learn/issues/21755 */display: inline-block !important;position: relative;}#sk-container-id-2 div.sk-text-repr-fallback {display: none;}</style><div id=\"sk-container-id-2\" class=\"sk-top-container\"><div class=\"sk-text-repr-fallback\"><pre>Ridge()</pre><b>In a Jupyter environment, please rerun this cell to show the HTML representation or trust the notebook. <br />On GitHub, the HTML representation is unable to render, please try loading this page with nbviewer.org.</b></div><div class=\"sk-container\" hidden><div class=\"sk-item\"><div class=\"sk-estimator sk-toggleable\"><input class=\"sk-toggleable__control sk-hidden--visually\" id=\"sk-estimator-id-2\" type=\"checkbox\" checked><label for=\"sk-estimator-id-2\" class=\"sk-toggleable__label sk-toggleable__label-arrow\">Ridge</label><div class=\"sk-toggleable__content\"><pre>Ridge()</pre></div></div></div></div></div>"
            ],
            "text/plain": [
              "Ridge()"
            ]
          },
          "execution_count": 22,
          "metadata": {},
          "output_type": "execute_result"
        }
      ],
      "source": [
        "# Train ridge model:\n",
        "ridge_model.fit(X_train_preprocessed, y_train)"
      ]
    },
    {
      "cell_type": "code",
      "execution_count": null,
      "id": "92d5ee41",
      "metadata": {
        "id": "92d5ee41",
        "outputId": "ed5fcce9-d9f2-40f0-aae7-f24a480b10bc"
      },
      "outputs": [
        {
          "name": "stdout",
          "output_type": "stream",
          "text": [
            "Ridge Regression MAE: 18451.419644828646\n",
            "Ridge Regression RMSE: 27516.40215158025\n"
          ]
        }
      ],
      "source": [
        "# Predict on test set\n",
        "y_pred_ridge = ridge_model.predict(X_tes_preprocessed)\n",
        "\n",
        "# Evaluate the model\n",
        "mae_ridge = mean_absolute_error(y_tes, y_pred_ridge)\n",
        "rmse_ridge = np.sqrt(mean_squared_error(y_tes, y_pred_ridge))\n",
        "\n",
        "print(f\"Ridge Regression MAE: {mae_ridge}\")\n",
        "print(f\"Ridge Regression RMSE: {rmse_ridge}\")\n"
      ]
    },
    {
      "cell_type": "markdown",
      "id": "5bd97cf6",
      "metadata": {
        "id": "5bd97cf6"
      },
      "source": [
        "### Model4: Lasso regression"
      ]
    },
    {
      "cell_type": "code",
      "execution_count": null,
      "id": "8d69225e",
      "metadata": {
        "id": "8d69225e"
      },
      "outputs": [],
      "source": [
        "from sklearn.linear_model import Lasso\n",
        "\n",
        "# Instantiate the Lasso regression model\n",
        "lasso_model = Lasso(alpha=1.0)"
      ]
    },
    {
      "cell_type": "code",
      "execution_count": null,
      "id": "18c125aa",
      "metadata": {
        "id": "18c125aa",
        "outputId": "0502a844-9cce-4269-ccef-9b5a8cff3e5a"
      },
      "outputs": [
        {
          "name": "stderr",
          "output_type": "stream",
          "text": [
            "/Users/sunche/anaconda3/lib/python3.11/site-packages/sklearn/linear_model/_coordinate_descent.py:592: ConvergenceWarning: Objective did not converge. You might want to increase the number of iterations. Duality gap: 42276791586.630066, tolerance: 571785790.1758826\n",
            "  model = cd_fast.sparse_enet_coordinate_descent(\n"
          ]
        },
        {
          "data": {
            "text/html": [
              "<style>#sk-container-id-3 {color: black;background-color: white;}#sk-container-id-3 pre{padding: 0;}#sk-container-id-3 div.sk-toggleable {background-color: white;}#sk-container-id-3 label.sk-toggleable__label {cursor: pointer;display: block;width: 100%;margin-bottom: 0;padding: 0.3em;box-sizing: border-box;text-align: center;}#sk-container-id-3 label.sk-toggleable__label-arrow:before {content: \"▸\";float: left;margin-right: 0.25em;color: #696969;}#sk-container-id-3 label.sk-toggleable__label-arrow:hover:before {color: black;}#sk-container-id-3 div.sk-estimator:hover label.sk-toggleable__label-arrow:before {color: black;}#sk-container-id-3 div.sk-toggleable__content {max-height: 0;max-width: 0;overflow: hidden;text-align: left;background-color: #f0f8ff;}#sk-container-id-3 div.sk-toggleable__content pre {margin: 0.2em;color: black;border-radius: 0.25em;background-color: #f0f8ff;}#sk-container-id-3 input.sk-toggleable__control:checked~div.sk-toggleable__content {max-height: 200px;max-width: 100%;overflow: auto;}#sk-container-id-3 input.sk-toggleable__control:checked~label.sk-toggleable__label-arrow:before {content: \"▾\";}#sk-container-id-3 div.sk-estimator input.sk-toggleable__control:checked~label.sk-toggleable__label {background-color: #d4ebff;}#sk-container-id-3 div.sk-label input.sk-toggleable__control:checked~label.sk-toggleable__label {background-color: #d4ebff;}#sk-container-id-3 input.sk-hidden--visually {border: 0;clip: rect(1px 1px 1px 1px);clip: rect(1px, 1px, 1px, 1px);height: 1px;margin: -1px;overflow: hidden;padding: 0;position: absolute;width: 1px;}#sk-container-id-3 div.sk-estimator {font-family: monospace;background-color: #f0f8ff;border: 1px dotted black;border-radius: 0.25em;box-sizing: border-box;margin-bottom: 0.5em;}#sk-container-id-3 div.sk-estimator:hover {background-color: #d4ebff;}#sk-container-id-3 div.sk-parallel-item::after {content: \"\";width: 100%;border-bottom: 1px solid gray;flex-grow: 1;}#sk-container-id-3 div.sk-label:hover label.sk-toggleable__label {background-color: #d4ebff;}#sk-container-id-3 div.sk-serial::before {content: \"\";position: absolute;border-left: 1px solid gray;box-sizing: border-box;top: 0;bottom: 0;left: 50%;z-index: 0;}#sk-container-id-3 div.sk-serial {display: flex;flex-direction: column;align-items: center;background-color: white;padding-right: 0.2em;padding-left: 0.2em;position: relative;}#sk-container-id-3 div.sk-item {position: relative;z-index: 1;}#sk-container-id-3 div.sk-parallel {display: flex;align-items: stretch;justify-content: center;background-color: white;position: relative;}#sk-container-id-3 div.sk-item::before, #sk-container-id-3 div.sk-parallel-item::before {content: \"\";position: absolute;border-left: 1px solid gray;box-sizing: border-box;top: 0;bottom: 0;left: 50%;z-index: -1;}#sk-container-id-3 div.sk-parallel-item {display: flex;flex-direction: column;z-index: 1;position: relative;background-color: white;}#sk-container-id-3 div.sk-parallel-item:first-child::after {align-self: flex-end;width: 50%;}#sk-container-id-3 div.sk-parallel-item:last-child::after {align-self: flex-start;width: 50%;}#sk-container-id-3 div.sk-parallel-item:only-child::after {width: 0;}#sk-container-id-3 div.sk-dashed-wrapped {border: 1px dashed gray;margin: 0 0.4em 0.5em 0.4em;box-sizing: border-box;padding-bottom: 0.4em;background-color: white;}#sk-container-id-3 div.sk-label label {font-family: monospace;font-weight: bold;display: inline-block;line-height: 1.2em;}#sk-container-id-3 div.sk-label-container {text-align: center;}#sk-container-id-3 div.sk-container {/* jupyter's `normalize.less` sets `[hidden] { display: none; }` but bootstrap.min.css set `[hidden] { display: none !important; }` so we also need the `!important` here to be able to override the default hidden behavior on the sphinx rendered scikit-learn.org. See: https://github.com/scikit-learn/scikit-learn/issues/21755 */display: inline-block !important;position: relative;}#sk-container-id-3 div.sk-text-repr-fallback {display: none;}</style><div id=\"sk-container-id-3\" class=\"sk-top-container\"><div class=\"sk-text-repr-fallback\"><pre>Lasso()</pre><b>In a Jupyter environment, please rerun this cell to show the HTML representation or trust the notebook. <br />On GitHub, the HTML representation is unable to render, please try loading this page with nbviewer.org.</b></div><div class=\"sk-container\" hidden><div class=\"sk-item\"><div class=\"sk-estimator sk-toggleable\"><input class=\"sk-toggleable__control sk-hidden--visually\" id=\"sk-estimator-id-3\" type=\"checkbox\" checked><label for=\"sk-estimator-id-3\" class=\"sk-toggleable__label sk-toggleable__label-arrow\">Lasso</label><div class=\"sk-toggleable__content\"><pre>Lasso()</pre></div></div></div></div></div>"
            ],
            "text/plain": [
              "Lasso()"
            ]
          },
          "execution_count": 25,
          "metadata": {},
          "output_type": "execute_result"
        }
      ],
      "source": [
        "lasso_model.fit(X_train_preprocessed, y_train)"
      ]
    },
    {
      "cell_type": "code",
      "execution_count": null,
      "id": "093deb69",
      "metadata": {
        "id": "093deb69",
        "outputId": "04887279-3533-4bb0-de41-b57d6436ed48"
      },
      "outputs": [
        {
          "name": "stdout",
          "output_type": "stream",
          "text": [
            "Lasso Regression MAE: 17305.860243708936\n",
            "Lasso Regression RMSE: 24842.301781391492\n"
          ]
        }
      ],
      "source": [
        "# Predict on test set\n",
        "y_pred_lasso = lasso_model.predict(X_tes_preprocessed)\n",
        "\n",
        "# Evaluate the model\n",
        "mae_lasso = mean_absolute_error(y_tes, y_pred_lasso)\n",
        "rmse_lasso = np.sqrt(mean_squared_error(y_tes, y_pred_lasso))\n",
        "\n",
        "print(f\"Lasso Regression MAE: {mae_lasso}\")\n",
        "print(f\"Lasso Regression RMSE: {rmse_lasso}\")"
      ]
    },
    {
      "cell_type": "markdown",
      "id": "8e0b51e8",
      "metadata": {
        "id": "8e0b51e8"
      },
      "source": [
        "##### Q3. Compare these four model, we find Ridge regression and Lasso regression has smaller RMSE, so we consider more on Ridge and Lasso regression.  And Lasso regression has smallest RMSE that is 24842.3017. We consider choose Lasso regression to do prediction on SalePrice in later process.\n",
        "\n",
        "#### Meanwhile, we decide to find a good premater(Alpha) .  Adjust premater by cross validation, and select alpha from [0.001, 0.01, 0.1, 1, 10, 100]\n"
      ]
    },
    {
      "cell_type": "markdown",
      "id": "1437ddef",
      "metadata": {
        "id": "1437ddef"
      },
      "source": [
        "### Hyperparameter tuning for Ridge/Lasso regression"
      ]
    },
    {
      "cell_type": "markdown",
      "id": "bb0569fe",
      "metadata": {
        "id": "bb0569fe"
      },
      "source": [
        "#### Ridge Regression with Cross-Validation:"
      ]
    },
    {
      "cell_type": "code",
      "execution_count": null,
      "id": "55ccefbb",
      "metadata": {
        "id": "55ccefbb"
      },
      "outputs": [],
      "source": [
        "from sklearn.linear_model import RidgeCV\n",
        "\n",
        "# Define alphas for RidgeCV\n",
        "alphas_ridge = [0.001, 0.01, 0.1, 1, 10, 100]\n",
        "\n",
        "# Instantiate the RidgeCV model\n",
        "ridge_cv_model = RidgeCV(alphas=alphas_ridge, store_cv_values=True)"
      ]
    },
    {
      "cell_type": "code",
      "execution_count": null,
      "id": "469cdd00",
      "metadata": {
        "id": "469cdd00",
        "outputId": "69e18fe1-0044-4908-d5d1-3c350cf000b7"
      },
      "outputs": [
        {
          "data": {
            "text/html": [
              "<style>#sk-container-id-4 {color: black;background-color: white;}#sk-container-id-4 pre{padding: 0;}#sk-container-id-4 div.sk-toggleable {background-color: white;}#sk-container-id-4 label.sk-toggleable__label {cursor: pointer;display: block;width: 100%;margin-bottom: 0;padding: 0.3em;box-sizing: border-box;text-align: center;}#sk-container-id-4 label.sk-toggleable__label-arrow:before {content: \"▸\";float: left;margin-right: 0.25em;color: #696969;}#sk-container-id-4 label.sk-toggleable__label-arrow:hover:before {color: black;}#sk-container-id-4 div.sk-estimator:hover label.sk-toggleable__label-arrow:before {color: black;}#sk-container-id-4 div.sk-toggleable__content {max-height: 0;max-width: 0;overflow: hidden;text-align: left;background-color: #f0f8ff;}#sk-container-id-4 div.sk-toggleable__content pre {margin: 0.2em;color: black;border-radius: 0.25em;background-color: #f0f8ff;}#sk-container-id-4 input.sk-toggleable__control:checked~div.sk-toggleable__content {max-height: 200px;max-width: 100%;overflow: auto;}#sk-container-id-4 input.sk-toggleable__control:checked~label.sk-toggleable__label-arrow:before {content: \"▾\";}#sk-container-id-4 div.sk-estimator input.sk-toggleable__control:checked~label.sk-toggleable__label {background-color: #d4ebff;}#sk-container-id-4 div.sk-label input.sk-toggleable__control:checked~label.sk-toggleable__label {background-color: #d4ebff;}#sk-container-id-4 input.sk-hidden--visually {border: 0;clip: rect(1px 1px 1px 1px);clip: rect(1px, 1px, 1px, 1px);height: 1px;margin: -1px;overflow: hidden;padding: 0;position: absolute;width: 1px;}#sk-container-id-4 div.sk-estimator {font-family: monospace;background-color: #f0f8ff;border: 1px dotted black;border-radius: 0.25em;box-sizing: border-box;margin-bottom: 0.5em;}#sk-container-id-4 div.sk-estimator:hover {background-color: #d4ebff;}#sk-container-id-4 div.sk-parallel-item::after {content: \"\";width: 100%;border-bottom: 1px solid gray;flex-grow: 1;}#sk-container-id-4 div.sk-label:hover label.sk-toggleable__label {background-color: #d4ebff;}#sk-container-id-4 div.sk-serial::before {content: \"\";position: absolute;border-left: 1px solid gray;box-sizing: border-box;top: 0;bottom: 0;left: 50%;z-index: 0;}#sk-container-id-4 div.sk-serial {display: flex;flex-direction: column;align-items: center;background-color: white;padding-right: 0.2em;padding-left: 0.2em;position: relative;}#sk-container-id-4 div.sk-item {position: relative;z-index: 1;}#sk-container-id-4 div.sk-parallel {display: flex;align-items: stretch;justify-content: center;background-color: white;position: relative;}#sk-container-id-4 div.sk-item::before, #sk-container-id-4 div.sk-parallel-item::before {content: \"\";position: absolute;border-left: 1px solid gray;box-sizing: border-box;top: 0;bottom: 0;left: 50%;z-index: -1;}#sk-container-id-4 div.sk-parallel-item {display: flex;flex-direction: column;z-index: 1;position: relative;background-color: white;}#sk-container-id-4 div.sk-parallel-item:first-child::after {align-self: flex-end;width: 50%;}#sk-container-id-4 div.sk-parallel-item:last-child::after {align-self: flex-start;width: 50%;}#sk-container-id-4 div.sk-parallel-item:only-child::after {width: 0;}#sk-container-id-4 div.sk-dashed-wrapped {border: 1px dashed gray;margin: 0 0.4em 0.5em 0.4em;box-sizing: border-box;padding-bottom: 0.4em;background-color: white;}#sk-container-id-4 div.sk-label label {font-family: monospace;font-weight: bold;display: inline-block;line-height: 1.2em;}#sk-container-id-4 div.sk-label-container {text-align: center;}#sk-container-id-4 div.sk-container {/* jupyter's `normalize.less` sets `[hidden] { display: none; }` but bootstrap.min.css set `[hidden] { display: none !important; }` so we also need the `!important` here to be able to override the default hidden behavior on the sphinx rendered scikit-learn.org. See: https://github.com/scikit-learn/scikit-learn/issues/21755 */display: inline-block !important;position: relative;}#sk-container-id-4 div.sk-text-repr-fallback {display: none;}</style><div id=\"sk-container-id-4\" class=\"sk-top-container\"><div class=\"sk-text-repr-fallback\"><pre>RidgeCV(alphas=[0.001, 0.01, 0.1, 1, 10, 100], store_cv_values=True)</pre><b>In a Jupyter environment, please rerun this cell to show the HTML representation or trust the notebook. <br />On GitHub, the HTML representation is unable to render, please try loading this page with nbviewer.org.</b></div><div class=\"sk-container\" hidden><div class=\"sk-item\"><div class=\"sk-estimator sk-toggleable\"><input class=\"sk-toggleable__control sk-hidden--visually\" id=\"sk-estimator-id-4\" type=\"checkbox\" checked><label for=\"sk-estimator-id-4\" class=\"sk-toggleable__label sk-toggleable__label-arrow\">RidgeCV</label><div class=\"sk-toggleable__content\"><pre>RidgeCV(alphas=[0.001, 0.01, 0.1, 1, 10, 100], store_cv_values=True)</pre></div></div></div></div></div>"
            ],
            "text/plain": [
              "RidgeCV(alphas=[0.001, 0.01, 0.1, 1, 10, 100], store_cv_values=True)"
            ]
          },
          "execution_count": 28,
          "metadata": {},
          "output_type": "execute_result"
        }
      ],
      "source": [
        "ridge_cv_model.fit(X_train_preprocessed, y_train)"
      ]
    },
    {
      "cell_type": "code",
      "execution_count": null,
      "id": "b2fea0b7",
      "metadata": {
        "id": "b2fea0b7",
        "outputId": "5b603181-9779-4a9c-e5e5-33944867fbea"
      },
      "outputs": [
        {
          "name": "stdout",
          "output_type": "stream",
          "text": [
            "Optimal alpha for Ridge Regression: 10.0\n",
            "Ridge Regression (with CV) MAE: 18707.734918896906\n",
            "Ridge Regression (with CV) RMSE: 29416.680909183702\n"
          ]
        }
      ],
      "source": [
        "best_alpha_ridge = ridge_cv_model.alpha_\n",
        "\n",
        "# Predict on validation set\n",
        "y_pred_ridge_cv = ridge_cv_model.predict(X_tes_preprocessed)\n",
        "\n",
        "# Evaluate the model\n",
        "mae_ridge_cv = mean_absolute_error(y_tes, y_pred_ridge_cv)\n",
        "rmse_ridge_cv = np.sqrt(mean_squared_error(y_tes, y_pred_ridge_cv))\n",
        "\n",
        "print(f\"Optimal alpha for Ridge Regression: {best_alpha_ridge}\")\n",
        "print(f\"Ridge Regression (with CV) MAE: {mae_ridge_cv}\")\n",
        "print(f\"Ridge Regression (with CV) RMSE: {rmse_ridge_cv}\")"
      ]
    },
    {
      "cell_type": "code",
      "execution_count": null,
      "id": "2fb435e7",
      "metadata": {
        "id": "2fb435e7"
      },
      "outputs": [],
      "source": [
        "# Therefore, we can find optimal alpha for ridege regression is \"10\""
      ]
    },
    {
      "cell_type": "markdown",
      "id": "fcbf0ddb",
      "metadata": {
        "id": "fcbf0ddb"
      },
      "source": [
        "#### Lasso Regression with Cross-Validation:"
      ]
    },
    {
      "cell_type": "code",
      "execution_count": null,
      "id": "c2dbc1b1",
      "metadata": {
        "id": "c2dbc1b1"
      },
      "outputs": [],
      "source": [
        "from sklearn.linear_model import LassoCV\n",
        "\n",
        "# Define alphas for LassoCV\n",
        "alphas_lasso = [0.001, 0.01, 0.1, 1, 10, 100]\n",
        "\n",
        "# Instantiate the LassoCV model\n",
        "lasso_cv_model = LassoCV(alphas=alphas_lasso, cv=5)"
      ]
    },
    {
      "cell_type": "code",
      "execution_count": null,
      "id": "b47cc04b",
      "metadata": {
        "id": "b47cc04b",
        "outputId": "397b2684-41ab-49d1-ec97-1354c26705d6"
      },
      "outputs": [
        {
          "name": "stderr",
          "output_type": "stream",
          "text": [
            "/Users/sunche/anaconda3/lib/python3.11/site-packages/sklearn/linear_model/_coordinate_descent.py:592: ConvergenceWarning: Objective did not converge. You might want to increase the number of iterations. Duality gap: 906590223.7059021, tolerance: 473009387.39205796\n",
            "  model = cd_fast.sparse_enet_coordinate_descent(\n",
            "/Users/sunche/anaconda3/lib/python3.11/site-packages/sklearn/linear_model/_coordinate_descent.py:592: ConvergenceWarning: Objective did not converge. You might want to increase the number of iterations. Duality gap: 3667060037.2492676, tolerance: 473009387.39205796\n",
            "  model = cd_fast.sparse_enet_coordinate_descent(\n",
            "/Users/sunche/anaconda3/lib/python3.11/site-packages/sklearn/linear_model/_coordinate_descent.py:592: ConvergenceWarning: Objective did not converge. You might want to increase the number of iterations. Duality gap: 12072685489.340073, tolerance: 473009387.39205796\n",
            "  model = cd_fast.sparse_enet_coordinate_descent(\n",
            "/Users/sunche/anaconda3/lib/python3.11/site-packages/sklearn/linear_model/_coordinate_descent.py:592: ConvergenceWarning: Objective did not converge. You might want to increase the number of iterations. Duality gap: 12096525251.183838, tolerance: 473009387.39205796\n",
            "  model = cd_fast.sparse_enet_coordinate_descent(\n",
            "/Users/sunche/anaconda3/lib/python3.11/site-packages/sklearn/linear_model/_coordinate_descent.py:592: ConvergenceWarning: Objective did not converge. You might want to increase the number of iterations. Duality gap: 6963737807.614075, tolerance: 465221517.57999045\n",
            "  model = cd_fast.sparse_enet_coordinate_descent(\n",
            "/Users/sunche/anaconda3/lib/python3.11/site-packages/sklearn/linear_model/_coordinate_descent.py:592: ConvergenceWarning: Objective did not converge. You might want to increase the number of iterations. Duality gap: 1844970572.6350708, tolerance: 465221517.57999045\n",
            "  model = cd_fast.sparse_enet_coordinate_descent(\n",
            "/Users/sunche/anaconda3/lib/python3.11/site-packages/sklearn/linear_model/_coordinate_descent.py:592: ConvergenceWarning: Objective did not converge. You might want to increase the number of iterations. Duality gap: 1807909971.3869934, tolerance: 465221517.57999045\n",
            "  model = cd_fast.sparse_enet_coordinate_descent(\n",
            "/Users/sunche/anaconda3/lib/python3.11/site-packages/sklearn/linear_model/_coordinate_descent.py:592: ConvergenceWarning: Objective did not converge. You might want to increase the number of iterations. Duality gap: 2622847042.6178284, tolerance: 465221517.57999045\n",
            "  model = cd_fast.sparse_enet_coordinate_descent(\n",
            "/Users/sunche/anaconda3/lib/python3.11/site-packages/sklearn/linear_model/_coordinate_descent.py:592: ConvergenceWarning: Objective did not converge. You might want to increase the number of iterations. Duality gap: 17563571451.601593, tolerance: 435218957.7081996\n",
            "  model = cd_fast.sparse_enet_coordinate_descent(\n",
            "/Users/sunche/anaconda3/lib/python3.11/site-packages/sklearn/linear_model/_coordinate_descent.py:592: ConvergenceWarning: Objective did not converge. You might want to increase the number of iterations. Duality gap: 16519438639.877975, tolerance: 435218957.7081996\n",
            "  model = cd_fast.sparse_enet_coordinate_descent(\n",
            "/Users/sunche/anaconda3/lib/python3.11/site-packages/sklearn/linear_model/_coordinate_descent.py:592: ConvergenceWarning: Objective did not converge. You might want to increase the number of iterations. Duality gap: 16368720656.121033, tolerance: 435218957.7081996\n",
            "  model = cd_fast.sparse_enet_coordinate_descent(\n",
            "/Users/sunche/anaconda3/lib/python3.11/site-packages/sklearn/linear_model/_coordinate_descent.py:592: ConvergenceWarning: Objective did not converge. You might want to increase the number of iterations. Duality gap: 16356371555.047195, tolerance: 435218957.7081996\n",
            "  model = cd_fast.sparse_enet_coordinate_descent(\n",
            "/Users/sunche/anaconda3/lib/python3.11/site-packages/sklearn/linear_model/_coordinate_descent.py:592: ConvergenceWarning: Objective did not converge. You might want to increase the number of iterations. Duality gap: 12046411970.333755, tolerance: 443349976.4778731\n",
            "  model = cd_fast.sparse_enet_coordinate_descent(\n",
            "/Users/sunche/anaconda3/lib/python3.11/site-packages/sklearn/linear_model/_coordinate_descent.py:592: ConvergenceWarning: Objective did not converge. You might want to increase the number of iterations. Duality gap: 11301966547.681671, tolerance: 443349976.4778731\n",
            "  model = cd_fast.sparse_enet_coordinate_descent(\n",
            "/Users/sunche/anaconda3/lib/python3.11/site-packages/sklearn/linear_model/_coordinate_descent.py:592: ConvergenceWarning: Objective did not converge. You might want to increase the number of iterations. Duality gap: 11231687748.398544, tolerance: 443349976.4778731\n",
            "  model = cd_fast.sparse_enet_coordinate_descent(\n",
            "/Users/sunche/anaconda3/lib/python3.11/site-packages/sklearn/linear_model/_coordinate_descent.py:592: ConvergenceWarning: Objective did not converge. You might want to increase the number of iterations. Duality gap: 11221050645.544037, tolerance: 443349976.4778731\n",
            "  model = cd_fast.sparse_enet_coordinate_descent(\n",
            "/Users/sunche/anaconda3/lib/python3.11/site-packages/sklearn/linear_model/_coordinate_descent.py:592: ConvergenceWarning: Objective did not converge. You might want to increase the number of iterations. Duality gap: 930663105.8634033, tolerance: 470328277.000115\n",
            "  model = cd_fast.sparse_enet_coordinate_descent(\n",
            "/Users/sunche/anaconda3/lib/python3.11/site-packages/sklearn/linear_model/_coordinate_descent.py:592: ConvergenceWarning: Objective did not converge. You might want to increase the number of iterations. Duality gap: 2342237650.309265, tolerance: 470328277.000115\n",
            "  model = cd_fast.sparse_enet_coordinate_descent(\n",
            "/Users/sunche/anaconda3/lib/python3.11/site-packages/sklearn/linear_model/_coordinate_descent.py:592: ConvergenceWarning: Objective did not converge. You might want to increase the number of iterations. Duality gap: 2304587453.8260803, tolerance: 470328277.000115\n",
            "  model = cd_fast.sparse_enet_coordinate_descent(\n",
            "/Users/sunche/anaconda3/lib/python3.11/site-packages/sklearn/linear_model/_coordinate_descent.py:592: ConvergenceWarning: Objective did not converge. You might want to increase the number of iterations. Duality gap: 2307047358.1361694, tolerance: 470328277.000115\n",
            "  model = cd_fast.sparse_enet_coordinate_descent(\n"
          ]
        },
        {
          "data": {
            "text/html": [
              "<style>#sk-container-id-5 {color: black;background-color: white;}#sk-container-id-5 pre{padding: 0;}#sk-container-id-5 div.sk-toggleable {background-color: white;}#sk-container-id-5 label.sk-toggleable__label {cursor: pointer;display: block;width: 100%;margin-bottom: 0;padding: 0.3em;box-sizing: border-box;text-align: center;}#sk-container-id-5 label.sk-toggleable__label-arrow:before {content: \"▸\";float: left;margin-right: 0.25em;color: #696969;}#sk-container-id-5 label.sk-toggleable__label-arrow:hover:before {color: black;}#sk-container-id-5 div.sk-estimator:hover label.sk-toggleable__label-arrow:before {color: black;}#sk-container-id-5 div.sk-toggleable__content {max-height: 0;max-width: 0;overflow: hidden;text-align: left;background-color: #f0f8ff;}#sk-container-id-5 div.sk-toggleable__content pre {margin: 0.2em;color: black;border-radius: 0.25em;background-color: #f0f8ff;}#sk-container-id-5 input.sk-toggleable__control:checked~div.sk-toggleable__content {max-height: 200px;max-width: 100%;overflow: auto;}#sk-container-id-5 input.sk-toggleable__control:checked~label.sk-toggleable__label-arrow:before {content: \"▾\";}#sk-container-id-5 div.sk-estimator input.sk-toggleable__control:checked~label.sk-toggleable__label {background-color: #d4ebff;}#sk-container-id-5 div.sk-label input.sk-toggleable__control:checked~label.sk-toggleable__label {background-color: #d4ebff;}#sk-container-id-5 input.sk-hidden--visually {border: 0;clip: rect(1px 1px 1px 1px);clip: rect(1px, 1px, 1px, 1px);height: 1px;margin: -1px;overflow: hidden;padding: 0;position: absolute;width: 1px;}#sk-container-id-5 div.sk-estimator {font-family: monospace;background-color: #f0f8ff;border: 1px dotted black;border-radius: 0.25em;box-sizing: border-box;margin-bottom: 0.5em;}#sk-container-id-5 div.sk-estimator:hover {background-color: #d4ebff;}#sk-container-id-5 div.sk-parallel-item::after {content: \"\";width: 100%;border-bottom: 1px solid gray;flex-grow: 1;}#sk-container-id-5 div.sk-label:hover label.sk-toggleable__label {background-color: #d4ebff;}#sk-container-id-5 div.sk-serial::before {content: \"\";position: absolute;border-left: 1px solid gray;box-sizing: border-box;top: 0;bottom: 0;left: 50%;z-index: 0;}#sk-container-id-5 div.sk-serial {display: flex;flex-direction: column;align-items: center;background-color: white;padding-right: 0.2em;padding-left: 0.2em;position: relative;}#sk-container-id-5 div.sk-item {position: relative;z-index: 1;}#sk-container-id-5 div.sk-parallel {display: flex;align-items: stretch;justify-content: center;background-color: white;position: relative;}#sk-container-id-5 div.sk-item::before, #sk-container-id-5 div.sk-parallel-item::before {content: \"\";position: absolute;border-left: 1px solid gray;box-sizing: border-box;top: 0;bottom: 0;left: 50%;z-index: -1;}#sk-container-id-5 div.sk-parallel-item {display: flex;flex-direction: column;z-index: 1;position: relative;background-color: white;}#sk-container-id-5 div.sk-parallel-item:first-child::after {align-self: flex-end;width: 50%;}#sk-container-id-5 div.sk-parallel-item:last-child::after {align-self: flex-start;width: 50%;}#sk-container-id-5 div.sk-parallel-item:only-child::after {width: 0;}#sk-container-id-5 div.sk-dashed-wrapped {border: 1px dashed gray;margin: 0 0.4em 0.5em 0.4em;box-sizing: border-box;padding-bottom: 0.4em;background-color: white;}#sk-container-id-5 div.sk-label label {font-family: monospace;font-weight: bold;display: inline-block;line-height: 1.2em;}#sk-container-id-5 div.sk-label-container {text-align: center;}#sk-container-id-5 div.sk-container {/* jupyter's `normalize.less` sets `[hidden] { display: none; }` but bootstrap.min.css set `[hidden] { display: none !important; }` so we also need the `!important` here to be able to override the default hidden behavior on the sphinx rendered scikit-learn.org. See: https://github.com/scikit-learn/scikit-learn/issues/21755 */display: inline-block !important;position: relative;}#sk-container-id-5 div.sk-text-repr-fallback {display: none;}</style><div id=\"sk-container-id-5\" class=\"sk-top-container\"><div class=\"sk-text-repr-fallback\"><pre>LassoCV(alphas=[0.001, 0.01, 0.1, 1, 10, 100], cv=5)</pre><b>In a Jupyter environment, please rerun this cell to show the HTML representation or trust the notebook. <br />On GitHub, the HTML representation is unable to render, please try loading this page with nbviewer.org.</b></div><div class=\"sk-container\" hidden><div class=\"sk-item\"><div class=\"sk-estimator sk-toggleable\"><input class=\"sk-toggleable__control sk-hidden--visually\" id=\"sk-estimator-id-5\" type=\"checkbox\" checked><label for=\"sk-estimator-id-5\" class=\"sk-toggleable__label sk-toggleable__label-arrow\">LassoCV</label><div class=\"sk-toggleable__content\"><pre>LassoCV(alphas=[0.001, 0.01, 0.1, 1, 10, 100], cv=5)</pre></div></div></div></div></div>"
            ],
            "text/plain": [
              "LassoCV(alphas=[0.001, 0.01, 0.1, 1, 10, 100], cv=5)"
            ]
          },
          "execution_count": 32,
          "metadata": {},
          "output_type": "execute_result"
        }
      ],
      "source": [
        "lasso_cv_model.fit(X_train_preprocessed, y_train)"
      ]
    },
    {
      "cell_type": "code",
      "execution_count": null,
      "id": "31b89a8a",
      "metadata": {
        "id": "31b89a8a",
        "outputId": "dea600e9-30dd-415f-ca7d-126c82587657"
      },
      "outputs": [
        {
          "name": "stdout",
          "output_type": "stream",
          "text": [
            "Optimal alpha for Lasso Regression: 100.0\n",
            "Lasso Regression (with CV) MAE: 16675.135363173333\n",
            "Lasso Regression (with CV) RMSE: 25342.432214828874\n"
          ]
        }
      ],
      "source": [
        "best_alpha_lasso = lasso_cv_model.alpha_\n",
        "\n",
        "# Predict on validation set\n",
        "y_pred_lasso_cv = lasso_cv_model.predict(X_tes_preprocessed)\n",
        "\n",
        "# Evaluate the model\n",
        "mae_lasso_cv = mean_absolute_error(y_tes, y_pred_lasso_cv)\n",
        "rmse_lasso_cv = np.sqrt(mean_squared_error(y_tes, y_pred_lasso_cv))\n",
        "\n",
        "print(f\"Optimal alpha for Lasso Regression: {best_alpha_lasso}\")\n",
        "print(f\"Lasso Regression (with CV) MAE: {mae_lasso_cv}\")\n",
        "print(f\"Lasso Regression (with CV) RMSE: {rmse_lasso_cv}\")"
      ]
    },
    {
      "cell_type": "code",
      "execution_count": null,
      "id": "a315df4c",
      "metadata": {
        "id": "a315df4c"
      },
      "outputs": [],
      "source": [
        "# Therefore, we can find optimal alpha for Lasso regression is \"100\""
      ]
    },
    {
      "cell_type": "markdown",
      "id": "14adc4b7",
      "metadata": {
        "id": "14adc4b7"
      },
      "source": [
        "### Retrain model"
      ]
    },
    {
      "cell_type": "markdown",
      "id": "28dca2a9",
      "metadata": {
        "id": "28dca2a9"
      },
      "source": [
        "#### Ridge regression"
      ]
    },
    {
      "cell_type": "code",
      "execution_count": null,
      "id": "8a1fd14f",
      "metadata": {
        "id": "8a1fd14f",
        "outputId": "1d0fa9e2-f68b-41b8-f16a-f622a5b5161e"
      },
      "outputs": [
        {
          "data": {
            "text/html": [
              "<style>#sk-container-id-6 {color: black;background-color: white;}#sk-container-id-6 pre{padding: 0;}#sk-container-id-6 div.sk-toggleable {background-color: white;}#sk-container-id-6 label.sk-toggleable__label {cursor: pointer;display: block;width: 100%;margin-bottom: 0;padding: 0.3em;box-sizing: border-box;text-align: center;}#sk-container-id-6 label.sk-toggleable__label-arrow:before {content: \"▸\";float: left;margin-right: 0.25em;color: #696969;}#sk-container-id-6 label.sk-toggleable__label-arrow:hover:before {color: black;}#sk-container-id-6 div.sk-estimator:hover label.sk-toggleable__label-arrow:before {color: black;}#sk-container-id-6 div.sk-toggleable__content {max-height: 0;max-width: 0;overflow: hidden;text-align: left;background-color: #f0f8ff;}#sk-container-id-6 div.sk-toggleable__content pre {margin: 0.2em;color: black;border-radius: 0.25em;background-color: #f0f8ff;}#sk-container-id-6 input.sk-toggleable__control:checked~div.sk-toggleable__content {max-height: 200px;max-width: 100%;overflow: auto;}#sk-container-id-6 input.sk-toggleable__control:checked~label.sk-toggleable__label-arrow:before {content: \"▾\";}#sk-container-id-6 div.sk-estimator input.sk-toggleable__control:checked~label.sk-toggleable__label {background-color: #d4ebff;}#sk-container-id-6 div.sk-label input.sk-toggleable__control:checked~label.sk-toggleable__label {background-color: #d4ebff;}#sk-container-id-6 input.sk-hidden--visually {border: 0;clip: rect(1px 1px 1px 1px);clip: rect(1px, 1px, 1px, 1px);height: 1px;margin: -1px;overflow: hidden;padding: 0;position: absolute;width: 1px;}#sk-container-id-6 div.sk-estimator {font-family: monospace;background-color: #f0f8ff;border: 1px dotted black;border-radius: 0.25em;box-sizing: border-box;margin-bottom: 0.5em;}#sk-container-id-6 div.sk-estimator:hover {background-color: #d4ebff;}#sk-container-id-6 div.sk-parallel-item::after {content: \"\";width: 100%;border-bottom: 1px solid gray;flex-grow: 1;}#sk-container-id-6 div.sk-label:hover label.sk-toggleable__label {background-color: #d4ebff;}#sk-container-id-6 div.sk-serial::before {content: \"\";position: absolute;border-left: 1px solid gray;box-sizing: border-box;top: 0;bottom: 0;left: 50%;z-index: 0;}#sk-container-id-6 div.sk-serial {display: flex;flex-direction: column;align-items: center;background-color: white;padding-right: 0.2em;padding-left: 0.2em;position: relative;}#sk-container-id-6 div.sk-item {position: relative;z-index: 1;}#sk-container-id-6 div.sk-parallel {display: flex;align-items: stretch;justify-content: center;background-color: white;position: relative;}#sk-container-id-6 div.sk-item::before, #sk-container-id-6 div.sk-parallel-item::before {content: \"\";position: absolute;border-left: 1px solid gray;box-sizing: border-box;top: 0;bottom: 0;left: 50%;z-index: -1;}#sk-container-id-6 div.sk-parallel-item {display: flex;flex-direction: column;z-index: 1;position: relative;background-color: white;}#sk-container-id-6 div.sk-parallel-item:first-child::after {align-self: flex-end;width: 50%;}#sk-container-id-6 div.sk-parallel-item:last-child::after {align-self: flex-start;width: 50%;}#sk-container-id-6 div.sk-parallel-item:only-child::after {width: 0;}#sk-container-id-6 div.sk-dashed-wrapped {border: 1px dashed gray;margin: 0 0.4em 0.5em 0.4em;box-sizing: border-box;padding-bottom: 0.4em;background-color: white;}#sk-container-id-6 div.sk-label label {font-family: monospace;font-weight: bold;display: inline-block;line-height: 1.2em;}#sk-container-id-6 div.sk-label-container {text-align: center;}#sk-container-id-6 div.sk-container {/* jupyter's `normalize.less` sets `[hidden] { display: none; }` but bootstrap.min.css set `[hidden] { display: none !important; }` so we also need the `!important` here to be able to override the default hidden behavior on the sphinx rendered scikit-learn.org. See: https://github.com/scikit-learn/scikit-learn/issues/21755 */display: inline-block !important;position: relative;}#sk-container-id-6 div.sk-text-repr-fallback {display: none;}</style><div id=\"sk-container-id-6\" class=\"sk-top-container\"><div class=\"sk-text-repr-fallback\"><pre>Ridge(alpha=10)</pre><b>In a Jupyter environment, please rerun this cell to show the HTML representation or trust the notebook. <br />On GitHub, the HTML representation is unable to render, please try loading this page with nbviewer.org.</b></div><div class=\"sk-container\" hidden><div class=\"sk-item\"><div class=\"sk-estimator sk-toggleable\"><input class=\"sk-toggleable__control sk-hidden--visually\" id=\"sk-estimator-id-6\" type=\"checkbox\" checked><label for=\"sk-estimator-id-6\" class=\"sk-toggleable__label sk-toggleable__label-arrow\">Ridge</label><div class=\"sk-toggleable__content\"><pre>Ridge(alpha=10)</pre></div></div></div></div></div>"
            ],
            "text/plain": [
              "Ridge(alpha=10)"
            ]
          },
          "execution_count": 35,
          "metadata": {},
          "output_type": "execute_result"
        }
      ],
      "source": [
        "ridge_optimal = Ridge(alpha=10)\n",
        "ridge_optimal.fit(X_train_preprocessed, y_train)"
      ]
    },
    {
      "cell_type": "code",
      "execution_count": null,
      "id": "a092463b",
      "metadata": {
        "id": "a092463b",
        "outputId": "6a5093e0-f0e9-47b0-bfc7-ce3a0236076f"
      },
      "outputs": [
        {
          "name": "stdout",
          "output_type": "stream",
          "text": [
            "Ridge Regression Evaluation:\n",
            "Mean Absolute Error: 18706.82\n",
            "Root Mean Squared Error: 29411.47\n"
          ]
        }
      ],
      "source": [
        "# For Ridge\n",
        "y_pred_test_ridge = ridge_optimal.predict(X_tes_preprocessed)\n",
        "mae_test_ridge = mean_absolute_error(y_tes, y_pred_test_ridge)\n",
        "rmse_test_ridge = np.sqrt(mean_squared_error(y_tes, y_pred_test_ridge))\n",
        "\n",
        "# Printing the evaluation metrics\n",
        "print(\"Ridge Regression Evaluation:\")\n",
        "print(f\"Mean Absolute Error: {mae_test_ridge:.2f}\")\n",
        "print(f\"Root Mean Squared Error: {rmse_test_ridge:.2f}\")\n",
        "\n",
        "# We find the RMSE is 29411.47 in retrained redige model."
      ]
    },
    {
      "cell_type": "markdown",
      "id": "4577baf2",
      "metadata": {
        "id": "4577baf2"
      },
      "source": [
        "#### Lasso regression"
      ]
    },
    {
      "cell_type": "code",
      "execution_count": null,
      "id": "7bc0b546",
      "metadata": {
        "id": "7bc0b546",
        "outputId": "33961ab2-dfa6-4326-954d-1470b0739b5a"
      },
      "outputs": [
        {
          "data": {
            "text/html": [
              "<style>#sk-container-id-7 {color: black;background-color: white;}#sk-container-id-7 pre{padding: 0;}#sk-container-id-7 div.sk-toggleable {background-color: white;}#sk-container-id-7 label.sk-toggleable__label {cursor: pointer;display: block;width: 100%;margin-bottom: 0;padding: 0.3em;box-sizing: border-box;text-align: center;}#sk-container-id-7 label.sk-toggleable__label-arrow:before {content: \"▸\";float: left;margin-right: 0.25em;color: #696969;}#sk-container-id-7 label.sk-toggleable__label-arrow:hover:before {color: black;}#sk-container-id-7 div.sk-estimator:hover label.sk-toggleable__label-arrow:before {color: black;}#sk-container-id-7 div.sk-toggleable__content {max-height: 0;max-width: 0;overflow: hidden;text-align: left;background-color: #f0f8ff;}#sk-container-id-7 div.sk-toggleable__content pre {margin: 0.2em;color: black;border-radius: 0.25em;background-color: #f0f8ff;}#sk-container-id-7 input.sk-toggleable__control:checked~div.sk-toggleable__content {max-height: 200px;max-width: 100%;overflow: auto;}#sk-container-id-7 input.sk-toggleable__control:checked~label.sk-toggleable__label-arrow:before {content: \"▾\";}#sk-container-id-7 div.sk-estimator input.sk-toggleable__control:checked~label.sk-toggleable__label {background-color: #d4ebff;}#sk-container-id-7 div.sk-label input.sk-toggleable__control:checked~label.sk-toggleable__label {background-color: #d4ebff;}#sk-container-id-7 input.sk-hidden--visually {border: 0;clip: rect(1px 1px 1px 1px);clip: rect(1px, 1px, 1px, 1px);height: 1px;margin: -1px;overflow: hidden;padding: 0;position: absolute;width: 1px;}#sk-container-id-7 div.sk-estimator {font-family: monospace;background-color: #f0f8ff;border: 1px dotted black;border-radius: 0.25em;box-sizing: border-box;margin-bottom: 0.5em;}#sk-container-id-7 div.sk-estimator:hover {background-color: #d4ebff;}#sk-container-id-7 div.sk-parallel-item::after {content: \"\";width: 100%;border-bottom: 1px solid gray;flex-grow: 1;}#sk-container-id-7 div.sk-label:hover label.sk-toggleable__label {background-color: #d4ebff;}#sk-container-id-7 div.sk-serial::before {content: \"\";position: absolute;border-left: 1px solid gray;box-sizing: border-box;top: 0;bottom: 0;left: 50%;z-index: 0;}#sk-container-id-7 div.sk-serial {display: flex;flex-direction: column;align-items: center;background-color: white;padding-right: 0.2em;padding-left: 0.2em;position: relative;}#sk-container-id-7 div.sk-item {position: relative;z-index: 1;}#sk-container-id-7 div.sk-parallel {display: flex;align-items: stretch;justify-content: center;background-color: white;position: relative;}#sk-container-id-7 div.sk-item::before, #sk-container-id-7 div.sk-parallel-item::before {content: \"\";position: absolute;border-left: 1px solid gray;box-sizing: border-box;top: 0;bottom: 0;left: 50%;z-index: -1;}#sk-container-id-7 div.sk-parallel-item {display: flex;flex-direction: column;z-index: 1;position: relative;background-color: white;}#sk-container-id-7 div.sk-parallel-item:first-child::after {align-self: flex-end;width: 50%;}#sk-container-id-7 div.sk-parallel-item:last-child::after {align-self: flex-start;width: 50%;}#sk-container-id-7 div.sk-parallel-item:only-child::after {width: 0;}#sk-container-id-7 div.sk-dashed-wrapped {border: 1px dashed gray;margin: 0 0.4em 0.5em 0.4em;box-sizing: border-box;padding-bottom: 0.4em;background-color: white;}#sk-container-id-7 div.sk-label label {font-family: monospace;font-weight: bold;display: inline-block;line-height: 1.2em;}#sk-container-id-7 div.sk-label-container {text-align: center;}#sk-container-id-7 div.sk-container {/* jupyter's `normalize.less` sets `[hidden] { display: none; }` but bootstrap.min.css set `[hidden] { display: none !important; }` so we also need the `!important` here to be able to override the default hidden behavior on the sphinx rendered scikit-learn.org. See: https://github.com/scikit-learn/scikit-learn/issues/21755 */display: inline-block !important;position: relative;}#sk-container-id-7 div.sk-text-repr-fallback {display: none;}</style><div id=\"sk-container-id-7\" class=\"sk-top-container\"><div class=\"sk-text-repr-fallback\"><pre>Lasso(alpha=100)</pre><b>In a Jupyter environment, please rerun this cell to show the HTML representation or trust the notebook. <br />On GitHub, the HTML representation is unable to render, please try loading this page with nbviewer.org.</b></div><div class=\"sk-container\" hidden><div class=\"sk-item\"><div class=\"sk-estimator sk-toggleable\"><input class=\"sk-toggleable__control sk-hidden--visually\" id=\"sk-estimator-id-7\" type=\"checkbox\" checked><label for=\"sk-estimator-id-7\" class=\"sk-toggleable__label sk-toggleable__label-arrow\">Lasso</label><div class=\"sk-toggleable__content\"><pre>Lasso(alpha=100)</pre></div></div></div></div></div>"
            ],
            "text/plain": [
              "Lasso(alpha=100)"
            ]
          },
          "execution_count": 37,
          "metadata": {},
          "output_type": "execute_result"
        }
      ],
      "source": [
        "from sklearn.linear_model import Lasso\n",
        "\n",
        "lasso_optimal = Lasso(alpha=100)\n",
        "lasso_optimal.fit(X_train_preprocessed, y_train)"
      ]
    },
    {
      "cell_type": "code",
      "execution_count": null,
      "id": "c7da44b5",
      "metadata": {
        "id": "c7da44b5",
        "outputId": "6dae7c1b-14c6-49ed-a542-3522dfa503f5"
      },
      "outputs": [
        {
          "name": "stdout",
          "output_type": "stream",
          "text": [
            "Lasso Regression Evaluation:\n",
            "Mean Absolute Error: 16675.14\n",
            "Root Mean Squared Error: 25342.43\n"
          ]
        }
      ],
      "source": [
        "y_pred_test_lasso = lasso_optimal.predict(X_tes_preprocessed)\n",
        "mae_test_lasso = mean_absolute_error(y_tes, y_pred_test_lasso)\n",
        "rmse_test_lasso = np.sqrt(mean_squared_error(y_tes, y_pred_test_lasso))\n",
        "\n",
        "print(\"Lasso Regression Evaluation:\")\n",
        "print(f\"Mean Absolute Error: {mae_test_lasso:.2f}\")\n",
        "print(f\"Root Mean Squared Error: {rmse_test_lasso:.2f}\")\n",
        "\n",
        "# We find the RMSE is 25342.43"
      ]
    },
    {
      "cell_type": "code",
      "execution_count": null,
      "id": "c67a029b",
      "metadata": {
        "id": "c67a029b"
      },
      "outputs": [],
      "source": [
        "# After retrained Redge and Lasso regression, I find that under optimal alpha, new models can not provide me better\n",
        "# prediction result with larger RMSE, probabily occuring overfitting in optimal regression,\n",
        "# so I decided to use the original model again."
      ]
    },
    {
      "cell_type": "markdown",
      "id": "942760c2",
      "metadata": {
        "id": "942760c2"
      },
      "source": [
        "## Predict Sale Price"
      ]
    },
    {
      "cell_type": "markdown",
      "id": "6ee7ac59",
      "metadata": {
        "id": "6ee7ac59"
      },
      "source": [
        "### Use Lasso regression to predict"
      ]
    },
    {
      "cell_type": "code",
      "execution_count": null,
      "id": "5e5af843",
      "metadata": {
        "id": "5e5af843"
      },
      "outputs": [],
      "source": [
        "# We choose Lasso regression to do prediction, because lasso model has smallest RMSE in previous eveluation\n",
        "\n",
        "# Upload data\n",
        "prediction_data = pd.read_csv(\"prediction.csv\")"
      ]
    },
    {
      "cell_type": "code",
      "execution_count": null,
      "id": "1750bfae",
      "metadata": {
        "id": "1750bfae",
        "outputId": "152c4e3d-2e5f-4a23-fe08-5b8c591ef97f"
      },
      "outputs": [
        {
          "ename": "NameError",
          "evalue": "name 'training_data' is not defined",
          "output_type": "error",
          "traceback": [
            "\u001b[0;31m---------------------------------------------------------------------------\u001b[0m",
            "\u001b[0;31mNameError\u001b[0m                                 Traceback (most recent call last)",
            "Cell \u001b[0;32mIn[42], line 2\u001b[0m\n\u001b[1;32m      1\u001b[0m \u001b[38;5;66;03m# Solve \"Id\" change \"Id\" to \"ID\"\u001b[39;00m\n\u001b[0;32m----> 2\u001b[0m y \u001b[38;5;241m=\u001b[39m training_data[\u001b[38;5;124m'\u001b[39m\u001b[38;5;124mSalePrice\u001b[39m\u001b[38;5;124m'\u001b[39m]\n\u001b[1;32m      3\u001b[0m X \u001b[38;5;241m=\u001b[39m training_data\u001b[38;5;241m.\u001b[39mdrop(\u001b[38;5;124m'\u001b[39m\u001b[38;5;124mSalePrice\u001b[39m\u001b[38;5;124m'\u001b[39m, axis\u001b[38;5;241m=\u001b[39m\u001b[38;5;241m1\u001b[39m)\n\u001b[1;32m      4\u001b[0m \u001b[38;5;66;03m# Rename \"id\" to \"ID\" in prediction data.\u001b[39;00m\n",
            "\u001b[0;31mNameError\u001b[0m: name 'training_data' is not defined"
          ]
        }
      ],
      "source": [
        "# Solve \"Id\" change \"Id\" to \"ID\"\n",
        "y = training_data['SalePrice']\n",
        "X = training_data.drop('SalePrice', axis=1)\n",
        "# Rename \"id\" to \"ID\" in prediction data.\n",
        "prediction_data = prediction_data.rename(columns={\"Id\": \"ID\"})"
      ]
    },
    {
      "cell_type": "code",
      "execution_count": null,
      "id": "781f5a5d",
      "metadata": {
        "id": "781f5a5d",
        "outputId": "634b5cf4-a250-4660-c81a-5aa5e61984aa"
      },
      "outputs": [
        {
          "data": {
            "text/html": [
              "<style>#sk-container-id-8 {color: black;background-color: white;}#sk-container-id-8 pre{padding: 0;}#sk-container-id-8 div.sk-toggleable {background-color: white;}#sk-container-id-8 label.sk-toggleable__label {cursor: pointer;display: block;width: 100%;margin-bottom: 0;padding: 0.3em;box-sizing: border-box;text-align: center;}#sk-container-id-8 label.sk-toggleable__label-arrow:before {content: \"▸\";float: left;margin-right: 0.25em;color: #696969;}#sk-container-id-8 label.sk-toggleable__label-arrow:hover:before {color: black;}#sk-container-id-8 div.sk-estimator:hover label.sk-toggleable__label-arrow:before {color: black;}#sk-container-id-8 div.sk-toggleable__content {max-height: 0;max-width: 0;overflow: hidden;text-align: left;background-color: #f0f8ff;}#sk-container-id-8 div.sk-toggleable__content pre {margin: 0.2em;color: black;border-radius: 0.25em;background-color: #f0f8ff;}#sk-container-id-8 input.sk-toggleable__control:checked~div.sk-toggleable__content {max-height: 200px;max-width: 100%;overflow: auto;}#sk-container-id-8 input.sk-toggleable__control:checked~label.sk-toggleable__label-arrow:before {content: \"▾\";}#sk-container-id-8 div.sk-estimator input.sk-toggleable__control:checked~label.sk-toggleable__label {background-color: #d4ebff;}#sk-container-id-8 div.sk-label input.sk-toggleable__control:checked~label.sk-toggleable__label {background-color: #d4ebff;}#sk-container-id-8 input.sk-hidden--visually {border: 0;clip: rect(1px 1px 1px 1px);clip: rect(1px, 1px, 1px, 1px);height: 1px;margin: -1px;overflow: hidden;padding: 0;position: absolute;width: 1px;}#sk-container-id-8 div.sk-estimator {font-family: monospace;background-color: #f0f8ff;border: 1px dotted black;border-radius: 0.25em;box-sizing: border-box;margin-bottom: 0.5em;}#sk-container-id-8 div.sk-estimator:hover {background-color: #d4ebff;}#sk-container-id-8 div.sk-parallel-item::after {content: \"\";width: 100%;border-bottom: 1px solid gray;flex-grow: 1;}#sk-container-id-8 div.sk-label:hover label.sk-toggleable__label {background-color: #d4ebff;}#sk-container-id-8 div.sk-serial::before {content: \"\";position: absolute;border-left: 1px solid gray;box-sizing: border-box;top: 0;bottom: 0;left: 50%;z-index: 0;}#sk-container-id-8 div.sk-serial {display: flex;flex-direction: column;align-items: center;background-color: white;padding-right: 0.2em;padding-left: 0.2em;position: relative;}#sk-container-id-8 div.sk-item {position: relative;z-index: 1;}#sk-container-id-8 div.sk-parallel {display: flex;align-items: stretch;justify-content: center;background-color: white;position: relative;}#sk-container-id-8 div.sk-item::before, #sk-container-id-8 div.sk-parallel-item::before {content: \"\";position: absolute;border-left: 1px solid gray;box-sizing: border-box;top: 0;bottom: 0;left: 50%;z-index: -1;}#sk-container-id-8 div.sk-parallel-item {display: flex;flex-direction: column;z-index: 1;position: relative;background-color: white;}#sk-container-id-8 div.sk-parallel-item:first-child::after {align-self: flex-end;width: 50%;}#sk-container-id-8 div.sk-parallel-item:last-child::after {align-self: flex-start;width: 50%;}#sk-container-id-8 div.sk-parallel-item:only-child::after {width: 0;}#sk-container-id-8 div.sk-dashed-wrapped {border: 1px dashed gray;margin: 0 0.4em 0.5em 0.4em;box-sizing: border-box;padding-bottom: 0.4em;background-color: white;}#sk-container-id-8 div.sk-label label {font-family: monospace;font-weight: bold;display: inline-block;line-height: 1.2em;}#sk-container-id-8 div.sk-label-container {text-align: center;}#sk-container-id-8 div.sk-container {/* jupyter's `normalize.less` sets `[hidden] { display: none; }` but bootstrap.min.css set `[hidden] { display: none !important; }` so we also need the `!important` here to be able to override the default hidden behavior on the sphinx rendered scikit-learn.org. See: https://github.com/scikit-learn/scikit-learn/issues/21755 */display: inline-block !important;position: relative;}#sk-container-id-8 div.sk-text-repr-fallback {display: none;}</style><div id=\"sk-container-id-8\" class=\"sk-top-container\"><div class=\"sk-text-repr-fallback\"><pre>Pipeline(steps=[(&#x27;preprocessor&#x27;,\n",
              "                 ColumnTransformer(transformers=[(&#x27;num&#x27;,\n",
              "                                                  Pipeline(steps=[(&#x27;imputer&#x27;,\n",
              "                                                                   SimpleImputer()),\n",
              "                                                                  (&#x27;scaler&#x27;,\n",
              "                                                                   StandardScaler())]),\n",
              "                                                  [&#x27;MSSubClass&#x27;, &#x27;LotFrontage&#x27;,\n",
              "                                                   &#x27;LotArea&#x27;, &#x27;OverallQual&#x27;,\n",
              "                                                   &#x27;OverallCond&#x27;, &#x27;YearBuilt&#x27;,\n",
              "                                                   &#x27;YearRemodAdd&#x27;, &#x27;MasVnrArea&#x27;,\n",
              "                                                   &#x27;BsmtFinSF1&#x27;, &#x27;BsmtFinSF2&#x27;,\n",
              "                                                   &#x27;BsmtUnfSF&#x27;, &#x27;TotalBsmtSF&#x27;,\n",
              "                                                   &#x27;1stFlrSF&#x27;, &#x27;2ndFlrSF&#x27;,\n",
              "                                                   &#x27;LowQualFinSF&#x27;, &#x27;GrLivArea...\n",
              "                                                   &#x27;LandContour&#x27;, &#x27;Utilities&#x27;,\n",
              "                                                   &#x27;LotConfig&#x27;, &#x27;LandSlope&#x27;,\n",
              "                                                   &#x27;Neighborhood&#x27;, &#x27;Condition1&#x27;,\n",
              "                                                   &#x27;Condition2&#x27;, &#x27;BldgType&#x27;,\n",
              "                                                   &#x27;HouseStyle&#x27;, &#x27;RoofStyle&#x27;,\n",
              "                                                   &#x27;RoofMatl&#x27;, &#x27;Exterior1st&#x27;,\n",
              "                                                   &#x27;Exterior2nd&#x27;, &#x27;MasVnrType&#x27;,\n",
              "                                                   &#x27;ExterQual&#x27;, &#x27;ExterCond&#x27;,\n",
              "                                                   &#x27;Foundation&#x27;, &#x27;BsmtQual&#x27;,\n",
              "                                                   &#x27;BsmtCond&#x27;, &#x27;BsmtExposure&#x27;,\n",
              "                                                   &#x27;BsmtFinType1&#x27;,\n",
              "                                                   &#x27;BsmtFinType2&#x27;, &#x27;Heating&#x27;,\n",
              "                                                   &#x27;HeatingQC&#x27;, &#x27;CentralAir&#x27;,\n",
              "                                                   &#x27;Electrical&#x27;, ...])])),\n",
              "                (&#x27;model&#x27;, Lasso(alpha=100))])</pre><b>In a Jupyter environment, please rerun this cell to show the HTML representation or trust the notebook. <br />On GitHub, the HTML representation is unable to render, please try loading this page with nbviewer.org.</b></div><div class=\"sk-container\" hidden><div class=\"sk-item sk-dashed-wrapped\"><div class=\"sk-label-container\"><div class=\"sk-label sk-toggleable\"><input class=\"sk-toggleable__control sk-hidden--visually\" id=\"sk-estimator-id-8\" type=\"checkbox\" ><label for=\"sk-estimator-id-8\" class=\"sk-toggleable__label sk-toggleable__label-arrow\">Pipeline</label><div class=\"sk-toggleable__content\"><pre>Pipeline(steps=[(&#x27;preprocessor&#x27;,\n",
              "                 ColumnTransformer(transformers=[(&#x27;num&#x27;,\n",
              "                                                  Pipeline(steps=[(&#x27;imputer&#x27;,\n",
              "                                                                   SimpleImputer()),\n",
              "                                                                  (&#x27;scaler&#x27;,\n",
              "                                                                   StandardScaler())]),\n",
              "                                                  [&#x27;MSSubClass&#x27;, &#x27;LotFrontage&#x27;,\n",
              "                                                   &#x27;LotArea&#x27;, &#x27;OverallQual&#x27;,\n",
              "                                                   &#x27;OverallCond&#x27;, &#x27;YearBuilt&#x27;,\n",
              "                                                   &#x27;YearRemodAdd&#x27;, &#x27;MasVnrArea&#x27;,\n",
              "                                                   &#x27;BsmtFinSF1&#x27;, &#x27;BsmtFinSF2&#x27;,\n",
              "                                                   &#x27;BsmtUnfSF&#x27;, &#x27;TotalBsmtSF&#x27;,\n",
              "                                                   &#x27;1stFlrSF&#x27;, &#x27;2ndFlrSF&#x27;,\n",
              "                                                   &#x27;LowQualFinSF&#x27;, &#x27;GrLivArea...\n",
              "                                                   &#x27;LandContour&#x27;, &#x27;Utilities&#x27;,\n",
              "                                                   &#x27;LotConfig&#x27;, &#x27;LandSlope&#x27;,\n",
              "                                                   &#x27;Neighborhood&#x27;, &#x27;Condition1&#x27;,\n",
              "                                                   &#x27;Condition2&#x27;, &#x27;BldgType&#x27;,\n",
              "                                                   &#x27;HouseStyle&#x27;, &#x27;RoofStyle&#x27;,\n",
              "                                                   &#x27;RoofMatl&#x27;, &#x27;Exterior1st&#x27;,\n",
              "                                                   &#x27;Exterior2nd&#x27;, &#x27;MasVnrType&#x27;,\n",
              "                                                   &#x27;ExterQual&#x27;, &#x27;ExterCond&#x27;,\n",
              "                                                   &#x27;Foundation&#x27;, &#x27;BsmtQual&#x27;,\n",
              "                                                   &#x27;BsmtCond&#x27;, &#x27;BsmtExposure&#x27;,\n",
              "                                                   &#x27;BsmtFinType1&#x27;,\n",
              "                                                   &#x27;BsmtFinType2&#x27;, &#x27;Heating&#x27;,\n",
              "                                                   &#x27;HeatingQC&#x27;, &#x27;CentralAir&#x27;,\n",
              "                                                   &#x27;Electrical&#x27;, ...])])),\n",
              "                (&#x27;model&#x27;, Lasso(alpha=100))])</pre></div></div></div><div class=\"sk-serial\"><div class=\"sk-item sk-dashed-wrapped\"><div class=\"sk-label-container\"><div class=\"sk-label sk-toggleable\"><input class=\"sk-toggleable__control sk-hidden--visually\" id=\"sk-estimator-id-9\" type=\"checkbox\" ><label for=\"sk-estimator-id-9\" class=\"sk-toggleable__label sk-toggleable__label-arrow\">preprocessor: ColumnTransformer</label><div class=\"sk-toggleable__content\"><pre>ColumnTransformer(transformers=[(&#x27;num&#x27;,\n",
              "                                 Pipeline(steps=[(&#x27;imputer&#x27;, SimpleImputer()),\n",
              "                                                 (&#x27;scaler&#x27;, StandardScaler())]),\n",
              "                                 [&#x27;MSSubClass&#x27;, &#x27;LotFrontage&#x27;, &#x27;LotArea&#x27;,\n",
              "                                  &#x27;OverallQual&#x27;, &#x27;OverallCond&#x27;, &#x27;YearBuilt&#x27;,\n",
              "                                  &#x27;YearRemodAdd&#x27;, &#x27;MasVnrArea&#x27;, &#x27;BsmtFinSF1&#x27;,\n",
              "                                  &#x27;BsmtFinSF2&#x27;, &#x27;BsmtUnfSF&#x27;, &#x27;TotalBsmtSF&#x27;,\n",
              "                                  &#x27;1stFlrSF&#x27;, &#x27;2ndFlrSF&#x27;, &#x27;LowQualFinSF&#x27;,\n",
              "                                  &#x27;GrLivArea&#x27;, &#x27;BsmtFullBath&#x27;, &#x27;BsmtHalfBath&#x27;,...\n",
              "                                 [&#x27;MSZoning&#x27;, &#x27;Street&#x27;, &#x27;Alley&#x27;, &#x27;LotShape&#x27;,\n",
              "                                  &#x27;LandContour&#x27;, &#x27;Utilities&#x27;, &#x27;LotConfig&#x27;,\n",
              "                                  &#x27;LandSlope&#x27;, &#x27;Neighborhood&#x27;, &#x27;Condition1&#x27;,\n",
              "                                  &#x27;Condition2&#x27;, &#x27;BldgType&#x27;, &#x27;HouseStyle&#x27;,\n",
              "                                  &#x27;RoofStyle&#x27;, &#x27;RoofMatl&#x27;, &#x27;Exterior1st&#x27;,\n",
              "                                  &#x27;Exterior2nd&#x27;, &#x27;MasVnrType&#x27;, &#x27;ExterQual&#x27;,\n",
              "                                  &#x27;ExterCond&#x27;, &#x27;Foundation&#x27;, &#x27;BsmtQual&#x27;,\n",
              "                                  &#x27;BsmtCond&#x27;, &#x27;BsmtExposure&#x27;, &#x27;BsmtFinType1&#x27;,\n",
              "                                  &#x27;BsmtFinType2&#x27;, &#x27;Heating&#x27;, &#x27;HeatingQC&#x27;,\n",
              "                                  &#x27;CentralAir&#x27;, &#x27;Electrical&#x27;, ...])])</pre></div></div></div><div class=\"sk-parallel\"><div class=\"sk-parallel-item\"><div class=\"sk-item\"><div class=\"sk-label-container\"><div class=\"sk-label sk-toggleable\"><input class=\"sk-toggleable__control sk-hidden--visually\" id=\"sk-estimator-id-10\" type=\"checkbox\" ><label for=\"sk-estimator-id-10\" class=\"sk-toggleable__label sk-toggleable__label-arrow\">num</label><div class=\"sk-toggleable__content\"><pre>[&#x27;MSSubClass&#x27;, &#x27;LotFrontage&#x27;, &#x27;LotArea&#x27;, &#x27;OverallQual&#x27;, &#x27;OverallCond&#x27;, &#x27;YearBuilt&#x27;, &#x27;YearRemodAdd&#x27;, &#x27;MasVnrArea&#x27;, &#x27;BsmtFinSF1&#x27;, &#x27;BsmtFinSF2&#x27;, &#x27;BsmtUnfSF&#x27;, &#x27;TotalBsmtSF&#x27;, &#x27;1stFlrSF&#x27;, &#x27;2ndFlrSF&#x27;, &#x27;LowQualFinSF&#x27;, &#x27;GrLivArea&#x27;, &#x27;BsmtFullBath&#x27;, &#x27;BsmtHalfBath&#x27;, &#x27;FullBath&#x27;, &#x27;HalfBath&#x27;, &#x27;BedroomAbvGr&#x27;, &#x27;KitchenAbvGr&#x27;, &#x27;TotRmsAbvGrd&#x27;, &#x27;Fireplaces&#x27;, &#x27;GarageYrBlt&#x27;, &#x27;GarageCars&#x27;, &#x27;GarageArea&#x27;, &#x27;WoodDeckSF&#x27;, &#x27;OpenPorchSF&#x27;, &#x27;EnclosedPorch&#x27;, &#x27;3SsnPorch&#x27;, &#x27;ScreenPorch&#x27;, &#x27;PoolArea&#x27;, &#x27;MiscVal&#x27;, &#x27;MoSold&#x27;, &#x27;YrSold&#x27;]</pre></div></div></div><div class=\"sk-serial\"><div class=\"sk-item\"><div class=\"sk-serial\"><div class=\"sk-item\"><div class=\"sk-estimator sk-toggleable\"><input class=\"sk-toggleable__control sk-hidden--visually\" id=\"sk-estimator-id-11\" type=\"checkbox\" ><label for=\"sk-estimator-id-11\" class=\"sk-toggleable__label sk-toggleable__label-arrow\">SimpleImputer</label><div class=\"sk-toggleable__content\"><pre>SimpleImputer()</pre></div></div></div><div class=\"sk-item\"><div class=\"sk-estimator sk-toggleable\"><input class=\"sk-toggleable__control sk-hidden--visually\" id=\"sk-estimator-id-12\" type=\"checkbox\" ><label for=\"sk-estimator-id-12\" class=\"sk-toggleable__label sk-toggleable__label-arrow\">StandardScaler</label><div class=\"sk-toggleable__content\"><pre>StandardScaler()</pre></div></div></div></div></div></div></div></div><div class=\"sk-parallel-item\"><div class=\"sk-item\"><div class=\"sk-label-container\"><div class=\"sk-label sk-toggleable\"><input class=\"sk-toggleable__control sk-hidden--visually\" id=\"sk-estimator-id-13\" type=\"checkbox\" ><label for=\"sk-estimator-id-13\" class=\"sk-toggleable__label sk-toggleable__label-arrow\">cat</label><div class=\"sk-toggleable__content\"><pre>[&#x27;MSZoning&#x27;, &#x27;Street&#x27;, &#x27;Alley&#x27;, &#x27;LotShape&#x27;, &#x27;LandContour&#x27;, &#x27;Utilities&#x27;, &#x27;LotConfig&#x27;, &#x27;LandSlope&#x27;, &#x27;Neighborhood&#x27;, &#x27;Condition1&#x27;, &#x27;Condition2&#x27;, &#x27;BldgType&#x27;, &#x27;HouseStyle&#x27;, &#x27;RoofStyle&#x27;, &#x27;RoofMatl&#x27;, &#x27;Exterior1st&#x27;, &#x27;Exterior2nd&#x27;, &#x27;MasVnrType&#x27;, &#x27;ExterQual&#x27;, &#x27;ExterCond&#x27;, &#x27;Foundation&#x27;, &#x27;BsmtQual&#x27;, &#x27;BsmtCond&#x27;, &#x27;BsmtExposure&#x27;, &#x27;BsmtFinType1&#x27;, &#x27;BsmtFinType2&#x27;, &#x27;Heating&#x27;, &#x27;HeatingQC&#x27;, &#x27;CentralAir&#x27;, &#x27;Electrical&#x27;, &#x27;KitchenQual&#x27;, &#x27;Functional&#x27;, &#x27;FireplaceQu&#x27;, &#x27;GarageType&#x27;, &#x27;GarageFinish&#x27;, &#x27;GarageQual&#x27;, &#x27;GarageCond&#x27;, &#x27;PavedDrive&#x27;, &#x27;PoolQC&#x27;, &#x27;Fence&#x27;, &#x27;MiscFeature&#x27;, &#x27;SaleType&#x27;, &#x27;SaleCondition&#x27;]</pre></div></div></div><div class=\"sk-serial\"><div class=\"sk-item\"><div class=\"sk-serial\"><div class=\"sk-item\"><div class=\"sk-estimator sk-toggleable\"><input class=\"sk-toggleable__control sk-hidden--visually\" id=\"sk-estimator-id-14\" type=\"checkbox\" ><label for=\"sk-estimator-id-14\" class=\"sk-toggleable__label sk-toggleable__label-arrow\">SimpleImputer</label><div class=\"sk-toggleable__content\"><pre>SimpleImputer(strategy=&#x27;most_frequent&#x27;)</pre></div></div></div><div class=\"sk-item\"><div class=\"sk-estimator sk-toggleable\"><input class=\"sk-toggleable__control sk-hidden--visually\" id=\"sk-estimator-id-15\" type=\"checkbox\" ><label for=\"sk-estimator-id-15\" class=\"sk-toggleable__label sk-toggleable__label-arrow\">OneHotEncoder</label><div class=\"sk-toggleable__content\"><pre>OneHotEncoder(handle_unknown=&#x27;ignore&#x27;)</pre></div></div></div></div></div></div></div></div></div></div><div class=\"sk-item\"><div class=\"sk-estimator sk-toggleable\"><input class=\"sk-toggleable__control sk-hidden--visually\" id=\"sk-estimator-id-16\" type=\"checkbox\" ><label for=\"sk-estimator-id-16\" class=\"sk-toggleable__label sk-toggleable__label-arrow\">Lasso</label><div class=\"sk-toggleable__content\"><pre>Lasso(alpha=100)</pre></div></div></div></div></div></div></div>"
            ],
            "text/plain": [
              "Pipeline(steps=[('preprocessor',\n",
              "                 ColumnTransformer(transformers=[('num',\n",
              "                                                  Pipeline(steps=[('imputer',\n",
              "                                                                   SimpleImputer()),\n",
              "                                                                  ('scaler',\n",
              "                                                                   StandardScaler())]),\n",
              "                                                  ['MSSubClass', 'LotFrontage',\n",
              "                                                   'LotArea', 'OverallQual',\n",
              "                                                   'OverallCond', 'YearBuilt',\n",
              "                                                   'YearRemodAdd', 'MasVnrArea',\n",
              "                                                   'BsmtFinSF1', 'BsmtFinSF2',\n",
              "                                                   'BsmtUnfSF', 'TotalBsmtSF',\n",
              "                                                   '1stFlrSF', '2ndFlrSF',\n",
              "                                                   'LowQualFinSF', 'GrLivArea...\n",
              "                                                   'LandContour', 'Utilities',\n",
              "                                                   'LotConfig', 'LandSlope',\n",
              "                                                   'Neighborhood', 'Condition1',\n",
              "                                                   'Condition2', 'BldgType',\n",
              "                                                   'HouseStyle', 'RoofStyle',\n",
              "                                                   'RoofMatl', 'Exterior1st',\n",
              "                                                   'Exterior2nd', 'MasVnrType',\n",
              "                                                   'ExterQual', 'ExterCond',\n",
              "                                                   'Foundation', 'BsmtQual',\n",
              "                                                   'BsmtCond', 'BsmtExposure',\n",
              "                                                   'BsmtFinType1',\n",
              "                                                   'BsmtFinType2', 'Heating',\n",
              "                                                   'HeatingQC', 'CentralAir',\n",
              "                                                   'Electrical', ...])])),\n",
              "                ('model', Lasso(alpha=100))])"
            ]
          },
          "execution_count": 43,
          "metadata": {},
          "output_type": "execute_result"
        }
      ],
      "source": [
        "from sklearn.pipeline import Pipeline\n",
        "from sklearn.impute import SimpleImputer\n",
        "from sklearn.preprocessing import OneHotEncoder, StandardScaler\n",
        "from sklearn.compose import ColumnTransformer\n",
        "from sklearn.linear_model import Lasso\n",
        "\n",
        "# Identify numerical and categorical columns\n",
        "numerical_cols = [cname for cname in X.columns if X[cname].dtype in ['int64', 'float64']]\n",
        "categorical_cols = [cname for cname in X.columns if X[cname].dtype == \"object\"]\n",
        "\n",
        "# Preprocessing pipeline\n",
        "numerical_transformer = Pipeline(steps=[('imputer', SimpleImputer(strategy='mean')), ('scaler', StandardScaler())])\n",
        "categorical_transformer = Pipeline(steps=[('imputer', SimpleImputer(strategy='most_frequent')), ('onehot', OneHotEncoder(handle_unknown='ignore'))])\n",
        "# preprocess prediction data as the\n",
        "preprocessor = ColumnTransformer(transformers=[('num', numerical_transformer, numerical_cols), ('cat', categorical_transformer, categorical_cols)])\n",
        "# Continue train prediction lasso using alpha 100.（trick thing is whatever alpha I changed, the result is unchanged, so i continue use alpha is \"100\"）\n",
        "lasso_model = Lasso()\n",
        "# Define and fit the pipeline\n",
        "pipeline = Pipeline(steps=[('preprocessor', preprocessor), ('model', lasso_model)])\n",
        "\n",
        "# Train the Lasso model\n",
        "pipeline.fit(X, y)"
      ]
    },
    {
      "cell_type": "markdown",
      "id": "9b8ec23e",
      "metadata": {
        "id": "9b8ec23e"
      },
      "source": [
        "### Prediction"
      ]
    },
    {
      "cell_type": "code",
      "execution_count": null,
      "id": "103b177f",
      "metadata": {
        "id": "103b177f"
      },
      "outputs": [],
      "source": [
        "# Predict on the prediction dataset\n",
        "predicted_saleprice = pipeline.predict(prediction_data)"
      ]
    },
    {
      "cell_type": "code",
      "execution_count": null,
      "id": "5fe10616",
      "metadata": {
        "id": "5fe10616"
      },
      "outputs": [],
      "source": [
        "# Create submission file\n",
        "sample_submission = pd.read_csv(\"sample_submission.csv\")\n",
        "sample_submission['SalePrice'] = predicted_saleprice\n",
        "sample_submission.to_csv(\"Prediction SalePrice.csv\", index=False)"
      ]
    },
    {
      "cell_type": "markdown",
      "id": "9d8aacbb",
      "metadata": {
        "id": "9d8aacbb"
      },
      "source": [
        "#### Finally, we can get the Prediction SalePrice.csv to show our predicted SalePrice on ID from 1219 to 1300."
      ]
    }
  ],
  "metadata": {
    "kernelspec": {
      "display_name": "Python 3 (ipykernel)",
      "language": "python",
      "name": "python3"
    },
    "language_info": {
      "codemirror_mode": {
        "name": "ipython",
        "version": 3
      },
      "file_extension": ".py",
      "mimetype": "text/x-python",
      "name": "python",
      "nbconvert_exporter": "python",
      "pygments_lexer": "ipython3",
      "version": "3.11.3"
    },
    "colab": {
      "provenance": [],
      "include_colab_link": true
    }
  },
  "nbformat": 4,
  "nbformat_minor": 5
}