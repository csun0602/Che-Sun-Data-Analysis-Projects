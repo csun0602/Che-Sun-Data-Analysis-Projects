{
  "nbformat": 4,
  "nbformat_minor": 0,
  "metadata": {
    "colab": {
      "provenance": [],
      "gpuType": "T4",
      "authorship_tag": "ABX9TyOaJF7z0cAWCoMOKMTPmbrw",
      "include_colab_link": true
    },
    "kernelspec": {
      "name": "python3",
      "display_name": "Python 3"
    },
    "language_info": {
      "name": "python"
    },
    "accelerator": "GPU"
  },
  "cells": [
    {
      "cell_type": "markdown",
      "metadata": {
        "id": "view-in-github",
        "colab_type": "text"
      },
      "source": [
        "<a href=\"https://colab.research.google.com/github/csun0602/Che-Sun-Data-analysis-Projects/blob/main/Che_Sun_Time_Series_Data_Analysis_%26_Stock_Index_Prediction.ipynb\" target=\"_parent\"><img src=\"https://colab.research.google.com/assets/colab-badge.svg\" alt=\"Open In Colab\"/></a>"
      ]
    },
    {
      "cell_type": "markdown",
      "source": [
        "# Stock Prediction RNN"
      ],
      "metadata": {
        "id": "qPpCAediArA3"
      }
    },
    {
      "cell_type": "markdown",
      "source": [
        "In this project, I perform a time series prediction using a Recurrent Neural Network regressor. For this example, I will predict Apple's stock price 7 days in advance.\n",
        "\n",
        "\n",
        "The particular network architecture I will employ for my RNN is a Long Term Short Memory (LTSM), which helps significantly avoid technical problems with optimization of RNNs."
      ],
      "metadata": {
        "id": "jy_p2z-VBbBl"
      }
    },
    {
      "cell_type": "markdown",
      "source": [
        "# Pytorch LSTM Stock Predictor"
      ],
      "metadata": {
        "id": "55l8ZbepJZ_w"
      }
    },
    {
      "cell_type": "markdown",
      "source": [
        "This is a Pytorch version of the original Keras LSTM Stock Predictor provided by [Super DataScience](https://www.superdatascience.com/pages/deep-learning), and also available elsewhere in this repo as a notebook."
      ],
      "metadata": {
        "id": "LbmS4CQ6JhJj"
      }
    },
    {
      "cell_type": "markdown",
      "source": [
        "## Step 1: Loading data"
      ],
      "metadata": {
        "id": "P6GuWX1nVXI2"
      }
    },
    {
      "cell_type": "markdown",
      "source": [
        "First let's load in our time series - a history of around 140 days of Apple's stock price. Then we need to perform a number of pre-processing steps to prepare it for use with an RNN model. First off, it is good practice to normalize time series - by normalizing its range. This helps us avoid serious numerical issues associated how common activation functions (like tanh) transform very large (positive or negative) numbers, as well as helping us to avoid related issues when computing derivatives.\n",
        "\n",
        "Here we normalize the series to lie in the range [0,1] [using this scikit function](https://scikit-learn.org/stable/modules/generated/sklearn.preprocessing.MinMaxScaler.html)."
      ],
      "metadata": {
        "id": "41feqJVmVdxv"
      }
    },
    {
      "cell_type": "code",
      "source": [
        "# download the data\n",
        "!wget https://raw.githubusercontent.com/tonylaioffer/stock-prediction-lstm-using-keras/master/data/sandp500/all_stocks_5yr.csv"
      ],
      "metadata": {
        "colab": {
          "base_uri": "https://localhost:8080/"
        },
        "id": "c21BeI4WV68E",
        "outputId": "9c179cf6-6fb2-45bc-9e3c-2d195dae2590"
      },
      "execution_count": null,
      "outputs": [
        {
          "output_type": "stream",
          "name": "stdout",
          "text": [
            "--2023-09-24 23:49:41--  https://raw.githubusercontent.com/tonylaioffer/stock-prediction-lstm-using-keras/master/data/sandp500/all_stocks_5yr.csv\n",
            "Resolving raw.githubusercontent.com (raw.githubusercontent.com)... 185.199.110.133, 185.199.109.133, 185.199.111.133, ...\n",
            "Connecting to raw.githubusercontent.com (raw.githubusercontent.com)|185.199.110.133|:443... connected.\n",
            "HTTP request sent, awaiting response... 200 OK\n",
            "Length: 29580549 (28M) [text/plain]\n",
            "Saving to: ‘all_stocks_5yr.csv’\n",
            "\n",
            "all_stocks_5yr.csv  100%[===================>]  28.21M  --.-KB/s    in 0.09s   \n",
            "\n",
            "2023-09-24 23:49:44 (303 MB/s) - ‘all_stocks_5yr.csv’ saved [29580549/29580549]\n",
            "\n"
          ]
        }
      ]
    },
    {
      "cell_type": "code",
      "source": [
        "#ls command\n",
        "!ls ."
      ],
      "metadata": {
        "colab": {
          "base_uri": "https://localhost:8080/"
        },
        "id": "Nu2U0HywU3_n",
        "outputId": "2962dbef-3f48-4fbc-9aad-320d51ef2998"
      },
      "execution_count": null,
      "outputs": [
        {
          "output_type": "stream",
          "name": "stdout",
          "text": [
            "all_stocks_5yr.csv  sample_data\n"
          ]
        }
      ]
    },
    {
      "cell_type": "code",
      "execution_count": null,
      "metadata": {
        "id": "_ulY1iCZAbCc"
      },
      "outputs": [],
      "source": [
        "import numpy as np\n",
        "import pandas as pd\n",
        "import matplotlib.pyplot as plt\n",
        "\n",
        "import torch.nn as nn\n",
        "import torch\n",
        "from torch.autograd import Variable\n",
        "from torch.utils.data import Dataset, DataLoader"
      ]
    },
    {
      "cell_type": "code",
      "source": [
        "# Importing the training set\n",
        "dataset = data = pd.read_csv('./all_stocks_5yr.csv')\n",
        "dataset_cl = dataset[dataset['Name']=='SWKS'].close.values\n",
        "\n",
        "# dataset_train = pd.read_csv('Google_Stock_Price_Train.csv')\n",
        "# training_set = dataset_train.iloc[:, 1:2].values"
      ],
      "metadata": {
        "id": "sz5u2gwzW15E"
      },
      "execution_count": null,
      "outputs": []
    },
    {
      "cell_type": "code",
      "source": [
        "# Feature Scaling\n",
        "from sklearn.preprocessing import MinMaxScaler\n",
        "\n",
        "sc = MinMaxScaler(feature_range = (0, 1))\n",
        "\n",
        "# scale the data\n",
        "dataset_cl = dataset_cl.reshape(dataset_cl.shape[0], 1)\n",
        "dataset_cl = sc.fit_transform(dataset_cl)"
      ],
      "metadata": {
        "id": "A-D7fV93W4cp"
      },
      "execution_count": null,
      "outputs": []
    },
    {
      "cell_type": "markdown",
      "source": [
        "## Step2: Cutting our time series into sequences"
      ],
      "metadata": {
        "id": "JKLo0pJ4XxFz"
      }
    },
    {
      "cell_type": "markdown",
      "source": [
        "\n",
        "Remember, our time series is a sequence of numbers that we can represent in general mathematically as\n",
        "\n",
        "$$s_{0},s_{1},s_{2},...,s_{P}$$\n",
        "\n",
        "where $s_{p}$ is the numerical value of the time series at time period $p$ and where $P$ is the total length of the series.  In order to apply our RNN we treat the time series prediction problem as a regression problem, and so need to use a sliding window to construct a set of associated input/output pairs to regress on.  This process is animated in the gif below.\n",
        "\n",
        "<img src=\"https://github.com/tonylaioffer/stock-prediction-lstm-using-keras/raw/master/images/timeseries_windowing_training.gif\" width=600 height=288/>\n",
        "\n",
        "For example - using a window of size T = 5 (as illustrated in the gif above) we produce a set of input/output pairs like the one shown in the table below\n",
        "\n",
        "$$\\begin{array}{c|c}\n",
        "\\text{Input} & \\text{Output}\\\\\n",
        "\\hline \\color{CornflowerBlue} {\\langle s_{1},s_{2},s_{3},s_{4},s_{5}\\rangle} & \\color{Goldenrod}{ s_{6}} \\\\\n",
        "\\ \\color{CornflowerBlue} {\\langle s_{2},s_{3},s_{4},s_{5},s_{6} \\rangle } & \\color{Goldenrod} {s_{7} } \\\\\n",
        "\\color{CornflowerBlue}  {\\vdots} & \\color{Goldenrod} {\\vdots}\\\\\n",
        "\\color{CornflowerBlue} { \\langle s_{P-5},s_{P-4},s_{P-3},s_{P-2},s_{P-1} \\rangle } & \\color{Goldenrod} {s_{P}}\n",
        "\\end{array}$$\n",
        "\n",
        "Notice here that each input is a sequence (or vector) of length 4 (and in general has length equal to the window size T) while each corresponding output is a scalar value.  Notice also how given a time series of length P and window size T = 5 as shown above, we created P - 5  input/output pairs.  More generally, for a window size T we create P - T such pairs.\n",
        "\n",
        "Now let's window the input time series as described above!  "
      ],
      "metadata": {
        "id": "H5JuDcQfBvMu"
      }
    },
    {
      "cell_type": "code",
      "source": [
        "#Create a function to process the data into 7 day look back slices\n",
        "def processData(data, lb):\n",
        "    X, Y = [], []\n",
        "    for i in range(len(data) - lb - 1):\n",
        "        X.append(data[i: (i + lb), 0])\n",
        "        Y.append(data[(i + lb), 0])\n",
        "    return np.array(X), np.array(Y)\n",
        "X, y = processData(dataset_cl, 7)"
      ],
      "metadata": {
        "id": "sNf8WKY2iy4c"
      },
      "execution_count": null,
      "outputs": []
    },
    {
      "cell_type": "markdown",
      "source": [
        "## Step 3: Split training and testing sets"
      ],
      "metadata": {
        "id": "YM58qUw_ZOfh"
      }
    },
    {
      "cell_type": "markdown",
      "source": [
        "In order to perform proper testing on our dataset we will lop off the last 1/3 of it for validation (or testing).\n",
        "\n",
        "Note how here we are not splitting the dataset randomly as one typically would do when validating a regression model. This is because our input/output pairs are related temporally. We don't want to validate our model by training on a random subset of the series and then testing on another random subset, as this simulates the scenario that we receive new points within the timeframe of our training set.\n",
        "\n",
        "We want to train on one solid chunk of the series (in our case, the first full 2/3 of it), and validate on a later chunk (the last 1/3) as this simulates how we would predict future values of a time series."
      ],
      "metadata": {
        "id": "zzOJsx7_bv-Z"
      }
    },
    {
      "cell_type": "code",
      "source": [
        "X_train, X_test = X[:int(X.shape[0]*0.80)],X[int(X.shape[0]*0.80):]\n",
        "y_train, y_test = y[:int(y.shape[0]*0.80)],y[int(y.shape[0]*0.80):]\n",
        "print(X_train.shape[0])\n",
        "print(X_test.shape[0])\n",
        "print(y_train.shape[0])\n",
        "print(y_test.shape[0])\n",
        "\n",
        "# reshaping\n",
        "X_train = np.reshape(X_train, (X_train.shape[0], 1, X_train.shape[1]))\n",
        "X_test = np.reshape(X_test, (X_test.shape[0], 1, X_test.shape[1]))"
      ],
      "metadata": {
        "colab": {
          "base_uri": "https://localhost:8080/"
        },
        "id": "Cpv0TK8KY0v8",
        "outputId": "5decc77d-da57-47dc-8fb7-13682c711921"
      },
      "execution_count": null,
      "outputs": [
        {
          "output_type": "stream",
          "name": "stdout",
          "text": [
            "1000\n",
            "251\n",
            "1000\n",
            "251\n"
          ]
        }
      ]
    },
    {
      "cell_type": "code",
      "source": [
        "# Reshaping\n",
        "# X_train = np.reshape(X_train, (X_train.shape[0], 1, X_train.shape[1]))"
      ],
      "metadata": {
        "id": "aDhnPQZJdudA"
      },
      "execution_count": null,
      "outputs": []
    },
    {
      "cell_type": "markdown",
      "source": [
        "## Step 4: Build and run an RNN regression model\n",
        "\n",
        "Having created input/output pairs out of our time series and cut this into training/testing sets, we can now begin setting up our RNN. We use Keras to quickly build a two hidden layer RNN of the following specifications\n",
        "\n",
        "1. layer 1 uses an LSTM module with 5 hidden units (note here the input_shape = (window_size,1))\n",
        "2. layer 2 uses a fully connected module with one unit\n",
        "3. the 'mean_squared_error' loss should be used"
      ],
      "metadata": {
        "id": "mSOpaSGad6vT"
      }
    },
    {
      "cell_type": "code",
      "source": [
        "class RNN(nn.Module):\n",
        "    def __init__(self, i_size, h_size, n_layers, o_size, dropout=0.1, bidirectional=True):\n",
        "        super(RNN, self).__init__()\n",
        "        self.num_directions = bidirectional+1\n",
        "        self.rnn = nn.LSTM(\n",
        "            input_size=i_size,\n",
        "            hidden_size=h_size,\n",
        "            num_layers=n_layers,\n",
        "            dropout=dropout,\n",
        "            bidirectional=bidirectional\n",
        "        )\n",
        "        self.out = nn.Linear(h_size, o_size)\n",
        "\n",
        "    def forward(self, x, h_state):\n",
        "        r_out, hidden_state = self.rnn(x, h_state)\n",
        "\n",
        "        hidden_size = hidden_state[-1].size(-1)\n",
        "        r_out = r_out.view(-1, self.num_directions, hidden_size)\n",
        "        outs = self.out(r_out)\n",
        "\n",
        "        return outs, hidden_state"
      ],
      "metadata": {
        "id": "TDQDTcwjeLW-"
      },
      "execution_count": null,
      "outputs": []
    },
    {
      "cell_type": "code",
      "source": [
        "# Globals\n",
        "\n",
        "INPUT_SIZE = 7\n",
        "HIDDEN_SIZE = 64\n",
        "NUM_LAYERS = 3\n",
        "OUTPUT_SIZE = 1\n",
        "BATCH_SIZE = 128\n",
        "# Hyper parameters\n",
        "\n",
        "learning_rate = 0.001\n",
        "num_epochs = 300\n",
        "\n",
        "rnn = RNN(INPUT_SIZE, HIDDEN_SIZE, NUM_LAYERS, OUTPUT_SIZE,bidirectional=False)\n",
        "rnn.cuda()\n",
        "\n",
        "\n",
        "optimiser = torch.optim.Adam(rnn.parameters(), lr=learning_rate)\n",
        "criterion = nn.MSELoss()\n",
        "\n",
        "hidden_state = None"
      ],
      "metadata": {
        "id": "qDpys2eTekmi"
      },
      "execution_count": null,
      "outputs": []
    },
    {
      "cell_type": "code",
      "source": [
        "rnn"
      ],
      "metadata": {
        "colab": {
          "base_uri": "https://localhost:8080/"
        },
        "id": "090T2vWffNHo",
        "outputId": "43c2b4c0-2f80-4509-99d0-e0c9fd647bc9"
      },
      "execution_count": null,
      "outputs": [
        {
          "output_type": "execute_result",
          "data": {
            "text/plain": [
              "RNN(\n",
              "  (rnn): LSTM(7, 64, num_layers=3, dropout=0.1)\n",
              "  (out): Linear(in_features=64, out_features=1, bias=True)\n",
              ")"
            ]
          },
          "metadata": {},
          "execution_count": 11
        }
      ]
    },
    {
      "cell_type": "code",
      "source": [
        "\"\"\"\n",
        "class StockDataset(Dataset):\n",
        "\n",
        "    def __init__(self, X_dataset, Y_dataset):\n",
        "\n",
        "        self.X_dataset = torch.from_numpy(X_dataset)\n",
        "        self.Y_dataset = torch.from_numpy(Y_dataset)\n",
        "\n",
        "    def __len__(self):\n",
        "        return np.shape(self.Y_dataset)[0]\n",
        "\n",
        "    def __getitem__(self, idx):\n",
        "\n",
        "        sample = {'Sequence': self.X_dataset[:,idx,:], \"Target\": self.Y_dataset[idx]}\n",
        "\n",
        "\n",
        "        return sample\n",
        "\"\"\""
      ],
      "metadata": {
        "colab": {
          "base_uri": "https://localhost:8080/",
          "height": 71
        },
        "id": "96Sep5SsfSDx",
        "outputId": "59a8b769-94dd-4521-b441-5d6fa9c8acbb"
      },
      "execution_count": null,
      "outputs": [
        {
          "output_type": "execute_result",
          "data": {
            "text/plain": [
              "'\\nclass StockDataset(Dataset):\\n    \\n    def __init__(self, X_dataset, Y_dataset):\\n        \\n        self.X_dataset = torch.from_numpy(X_dataset)\\n        self.Y_dataset = torch.from_numpy(Y_dataset)\\n        \\n    def __len__(self):\\n        return np.shape(self.Y_dataset)[0]\\n\\n    def __getitem__(self, idx):\\n        \\n        sample = {\\'Sequence\\': self.X_dataset[:,idx,:], \"Target\": self.Y_dataset[idx]}\\n      \\n\\n        return sample\\n'"
            ],
            "application/vnd.google.colaboratory.intrinsic+json": {
              "type": "string"
            }
          },
          "metadata": {},
          "execution_count": 12
        }
      ]
    },
    {
      "cell_type": "code",
      "source": [
        " #Train_ds=StockDataset(X_train, y_train)"
      ],
      "metadata": {
        "id": "imIvH6iMfW__"
      },
      "execution_count": null,
      "outputs": []
    },
    {
      "cell_type": "code",
      "source": [
        "history = []\n",
        "X_test_cuda = torch.tensor(X_test).float().cuda()\n",
        "y_test_cuda = torch.tensor(y_test).float().cuda()\n",
        "\n",
        "# we use all the data in one batch\n",
        "inputs_cuda = torch.tensor(X_train).float().cuda()\n",
        "labels_cuda = torch.tensor(y_train).float().cuda()\n",
        "\n",
        "for epoch in range(num_epochs):\n",
        "    rnn.train()\n",
        "    output, _ = rnn(inputs_cuda, hidden_state)\n",
        "    # print(output.size())\n",
        "\n",
        "    loss = criterion(output[:,0,:].view(-1), labels_cuda)\n",
        "    optimiser.zero_grad()\n",
        "    loss.backward()                     # back propagation\n",
        "    optimiser.step()                    # update the parameters\n",
        "\n",
        "    if epoch % 20 == 0:\n",
        "        rnn.eval()\n",
        "        test_output, _ = rnn(X_test_cuda, hidden_state)\n",
        "        test_loss = criterion(test_output.view(-1), y_test_cuda)\n",
        "        print('epoch {}, loss {}, eval loss {}'.format(epoch, loss.item(), test_loss.item()))\n",
        "    else:\n",
        "        print('epoch {}, loss {}'.format(epoch, loss.item()))\n",
        "    history.append(loss.item())"
      ],
      "metadata": {
        "colab": {
          "base_uri": "https://localhost:8080/"
        },
        "id": "8LY4lp59fbHp",
        "outputId": "60738852-ab86-45c6-9bc1-4198b046f917"
      },
      "execution_count": null,
      "outputs": [
        {
          "output_type": "stream",
          "name": "stdout",
          "text": [
            "epoch 0, loss 0.20393098890781403, eval loss 0.5994731783866882\n",
            "epoch 1, loss 0.1824386566877365\n",
            "epoch 2, loss 0.16339434683322906\n",
            "epoch 3, loss 0.1456979513168335\n",
            "epoch 4, loss 0.12948071956634521\n",
            "epoch 5, loss 0.11416836827993393\n",
            "epoch 6, loss 0.0996202751994133\n",
            "epoch 7, loss 0.08564411848783493\n",
            "epoch 8, loss 0.07229112088680267\n",
            "epoch 9, loss 0.06144138425588608\n",
            "epoch 10, loss 0.054277144372463226\n",
            "epoch 11, loss 0.05491740256547928\n",
            "epoch 12, loss 0.06231537088751793\n",
            "epoch 13, loss 0.06679355353116989\n",
            "epoch 14, loss 0.06255409121513367\n",
            "epoch 15, loss 0.054896119982004166\n",
            "epoch 16, loss 0.0482032485306263\n",
            "epoch 17, loss 0.04450693726539612\n",
            "epoch 18, loss 0.04223665967583656\n",
            "epoch 19, loss 0.04118317365646362\n",
            "epoch 20, loss 0.03940316289663315, eval loss 0.10113954544067383\n",
            "epoch 21, loss 0.038129404187202454\n",
            "epoch 22, loss 0.03485416620969772\n",
            "epoch 23, loss 0.030824411660432816\n",
            "epoch 24, loss 0.02573392540216446\n",
            "epoch 25, loss 0.021030103787779808\n",
            "epoch 26, loss 0.01873045228421688\n",
            "epoch 27, loss 0.01991807296872139\n",
            "epoch 28, loss 0.019897570833563805\n",
            "epoch 29, loss 0.016092417761683464\n",
            "epoch 30, loss 0.012004098854959011\n",
            "epoch 31, loss 0.011065001599490643\n",
            "epoch 32, loss 0.0114854471758008\n",
            "epoch 33, loss 0.011858608573675156\n",
            "epoch 34, loss 0.010453499853610992\n",
            "epoch 35, loss 0.008581762202084064\n",
            "epoch 36, loss 0.00698493979871273\n",
            "epoch 37, loss 0.007164601236581802\n",
            "epoch 38, loss 0.007823015563189983\n",
            "epoch 39, loss 0.007617191877216101\n",
            "epoch 40, loss 0.006082665175199509, eval loss 0.01053823996335268\n",
            "epoch 41, loss 0.005602700170129538\n",
            "epoch 42, loss 0.006089324131608009\n",
            "epoch 43, loss 0.006256575230509043\n",
            "epoch 44, loss 0.005836548283696175\n",
            "epoch 45, loss 0.005158800166100264\n",
            "epoch 46, loss 0.004803004674613476\n",
            "epoch 47, loss 0.004984893836081028\n",
            "epoch 48, loss 0.0049756490625441074\n",
            "epoch 49, loss 0.004748690873384476\n",
            "epoch 50, loss 0.004176755901426077\n",
            "epoch 51, loss 0.004132163245230913\n",
            "epoch 52, loss 0.004088824614882469\n",
            "epoch 53, loss 0.00416790135204792\n",
            "epoch 54, loss 0.0038634396623820066\n",
            "epoch 55, loss 0.0036515395622700453\n",
            "epoch 56, loss 0.0036199812311679125\n",
            "epoch 57, loss 0.0036702146753668785\n",
            "epoch 58, loss 0.0035478374920785427\n",
            "epoch 59, loss 0.0034126127138733864\n",
            "epoch 60, loss 0.003523077117279172, eval loss 0.014888347126543522\n",
            "epoch 61, loss 0.0033622721675783396\n",
            "epoch 62, loss 0.003233693540096283\n",
            "epoch 63, loss 0.0029886767733842134\n",
            "epoch 64, loss 0.003152513178065419\n",
            "epoch 65, loss 0.002919438062235713\n",
            "epoch 66, loss 0.003066221484914422\n",
            "epoch 67, loss 0.0028760149143636227\n",
            "epoch 68, loss 0.00295318104326725\n",
            "epoch 69, loss 0.0028396507259458303\n",
            "epoch 70, loss 0.002853523474186659\n",
            "epoch 71, loss 0.0027115950360894203\n",
            "epoch 72, loss 0.002604458248242736\n",
            "epoch 73, loss 0.0024663584772497416\n",
            "epoch 74, loss 0.002412034198641777\n",
            "epoch 75, loss 0.0024580780882388353\n",
            "epoch 76, loss 0.002492395928129554\n",
            "epoch 77, loss 0.002313914941623807\n",
            "epoch 78, loss 0.0024248443078249693\n",
            "epoch 79, loss 0.002455719280987978\n",
            "epoch 80, loss 0.002506804885342717, eval loss 0.008982887491583824\n",
            "epoch 81, loss 0.002431168919429183\n",
            "epoch 82, loss 0.0023290764074772596\n",
            "epoch 83, loss 0.0022502040956169367\n",
            "epoch 84, loss 0.002296244725584984\n",
            "epoch 85, loss 0.0021998402662575245\n",
            "epoch 86, loss 0.002413152251392603\n",
            "epoch 87, loss 0.0020348841790109873\n",
            "epoch 88, loss 0.0020486467983573675\n",
            "epoch 89, loss 0.00199558911845088\n",
            "epoch 90, loss 0.002195593900978565\n",
            "epoch 91, loss 0.0019854854326695204\n",
            "epoch 92, loss 0.002137791831046343\n",
            "epoch 93, loss 0.0020736258011311293\n",
            "epoch 94, loss 0.0020642911549657583\n",
            "epoch 95, loss 0.0019389730878174305\n",
            "epoch 96, loss 0.002013334073126316\n",
            "epoch 97, loss 0.0021517875138670206\n",
            "epoch 98, loss 0.0019120920915156603\n",
            "epoch 99, loss 0.0020545131992548704\n",
            "epoch 100, loss 0.0020085531286895275, eval loss 0.008037569001317024\n",
            "epoch 101, loss 0.0019359582802280784\n",
            "epoch 102, loss 0.0019783983007073402\n",
            "epoch 103, loss 0.001942641451023519\n",
            "epoch 104, loss 0.0018312731990590692\n",
            "epoch 105, loss 0.001920869224704802\n",
            "epoch 106, loss 0.0018543013138696551\n",
            "epoch 107, loss 0.0017758322646841407\n",
            "epoch 108, loss 0.0017671692185103893\n",
            "epoch 109, loss 0.0020475827623158693\n",
            "epoch 110, loss 0.0017896529752761126\n",
            "epoch 111, loss 0.0018692580051720142\n",
            "epoch 112, loss 0.001869397470727563\n",
            "epoch 113, loss 0.0020226307678967714\n",
            "epoch 114, loss 0.0018499746220186353\n",
            "epoch 115, loss 0.001840116223320365\n",
            "epoch 116, loss 0.00168971111997962\n",
            "epoch 117, loss 0.001705740811303258\n",
            "epoch 118, loss 0.0017566357273608446\n",
            "epoch 119, loss 0.0016492268769070506\n",
            "epoch 120, loss 0.0018190317787230015, eval loss 0.007172028534114361\n",
            "epoch 121, loss 0.0018197083845734596\n",
            "epoch 122, loss 0.0018209932604804635\n",
            "epoch 123, loss 0.0017091610934585333\n",
            "epoch 124, loss 0.001881002332083881\n",
            "epoch 125, loss 0.0018006210448220372\n",
            "epoch 126, loss 0.0018444206798449159\n",
            "epoch 127, loss 0.0018522683531045914\n",
            "epoch 128, loss 0.0015913338866084814\n",
            "epoch 129, loss 0.0017329055117443204\n",
            "epoch 130, loss 0.0018374789506196976\n",
            "epoch 131, loss 0.0017549715703353286\n",
            "epoch 132, loss 0.0019203356932848692\n",
            "epoch 133, loss 0.001714379875920713\n",
            "epoch 134, loss 0.00177377846557647\n",
            "epoch 135, loss 0.0017672860994935036\n",
            "epoch 136, loss 0.0017112400382757187\n",
            "epoch 137, loss 0.0017853714525699615\n",
            "epoch 138, loss 0.0017670697998255491\n",
            "epoch 139, loss 0.001657912041991949\n",
            "epoch 140, loss 0.001866925973445177, eval loss 0.006656148470938206\n",
            "epoch 141, loss 0.001800553873181343\n",
            "epoch 142, loss 0.001739136059768498\n",
            "epoch 143, loss 0.0018360327230766416\n",
            "epoch 144, loss 0.001572629320435226\n",
            "epoch 145, loss 0.0018446622416377068\n",
            "epoch 146, loss 0.0017632708186283708\n",
            "epoch 147, loss 0.0017837759805843234\n",
            "epoch 148, loss 0.001886241720058024\n",
            "epoch 149, loss 0.0015676068142056465\n",
            "epoch 150, loss 0.0018069390207529068\n",
            "epoch 151, loss 0.0017053073970600963\n",
            "epoch 152, loss 0.001688577001914382\n",
            "epoch 153, loss 0.0016499493503943086\n",
            "epoch 154, loss 0.001791821327060461\n",
            "epoch 155, loss 0.0018264241516590118\n",
            "epoch 156, loss 0.0018353768391534686\n",
            "epoch 157, loss 0.0018142315093427896\n",
            "epoch 158, loss 0.001776007004082203\n",
            "epoch 159, loss 0.001746020163409412\n",
            "epoch 160, loss 0.0017059249803423882, eval loss 0.006626531947404146\n",
            "epoch 161, loss 0.001793524599634111\n",
            "epoch 162, loss 0.0017587937181815505\n",
            "epoch 163, loss 0.0018469138303771615\n",
            "epoch 164, loss 0.0018003745935857296\n",
            "epoch 165, loss 0.0016063168877735734\n",
            "epoch 166, loss 0.0018016711110249162\n",
            "epoch 167, loss 0.0017498817760497332\n",
            "epoch 168, loss 0.001690329285338521\n",
            "epoch 169, loss 0.0016276771202683449\n",
            "epoch 170, loss 0.001757337711751461\n",
            "epoch 171, loss 0.0017246841453015804\n",
            "epoch 172, loss 0.001679255859926343\n",
            "epoch 173, loss 0.0017319598700851202\n",
            "epoch 174, loss 0.0018593432614579797\n",
            "epoch 175, loss 0.001693307189270854\n",
            "epoch 176, loss 0.001714413403533399\n",
            "epoch 177, loss 0.0015572417760267854\n",
            "epoch 178, loss 0.0017073398921638727\n",
            "epoch 179, loss 0.0016883650096133351\n",
            "epoch 180, loss 0.0017413926543667912, eval loss 0.00605007354170084\n",
            "epoch 181, loss 0.0017742064082995057\n",
            "epoch 182, loss 0.0017816112376749516\n",
            "epoch 183, loss 0.001611610990948975\n",
            "epoch 184, loss 0.0016261832788586617\n",
            "epoch 185, loss 0.0016739050624892116\n",
            "epoch 186, loss 0.0016691137570887804\n",
            "epoch 187, loss 0.0015813506906852126\n",
            "epoch 188, loss 0.0015154919819906354\n",
            "epoch 189, loss 0.0015695083420723677\n",
            "epoch 190, loss 0.001678511849604547\n",
            "epoch 191, loss 0.0016080231871455908\n",
            "epoch 192, loss 0.0015605624066665769\n",
            "epoch 193, loss 0.00155845214612782\n",
            "epoch 194, loss 0.0017693351255729795\n",
            "epoch 195, loss 0.0015565319918096066\n",
            "epoch 196, loss 0.0015994698042050004\n",
            "epoch 197, loss 0.0016696571838110685\n",
            "epoch 198, loss 0.0017213203245773911\n",
            "epoch 199, loss 0.0016605937853455544\n",
            "epoch 200, loss 0.0015509412623941898, eval loss 0.006508140359073877\n",
            "epoch 201, loss 0.0017696808790788054\n",
            "epoch 202, loss 0.0016140228835865855\n",
            "epoch 203, loss 0.0015583212953060865\n",
            "epoch 204, loss 0.0016927304677665234\n",
            "epoch 205, loss 0.0014754419680684805\n",
            "epoch 206, loss 0.0014914826024323702\n",
            "epoch 207, loss 0.001571242231875658\n",
            "epoch 208, loss 0.0015917844139039516\n",
            "epoch 209, loss 0.001519874669611454\n",
            "epoch 210, loss 0.0014129134360700846\n",
            "epoch 211, loss 0.0016627481672912836\n",
            "epoch 212, loss 0.0017605891916900873\n",
            "epoch 213, loss 0.0016986114205792546\n",
            "epoch 214, loss 0.0016650906763970852\n",
            "epoch 215, loss 0.0015660739736631513\n",
            "epoch 216, loss 0.0015869942726567388\n",
            "epoch 217, loss 0.0015885265311226249\n",
            "epoch 218, loss 0.001541587058454752\n",
            "epoch 219, loss 0.0016395393759012222\n",
            "epoch 220, loss 0.0014821840450167656, eval loss 0.005784316919744015\n",
            "epoch 221, loss 0.0015401007840409875\n",
            "epoch 222, loss 0.0016441828338429332\n",
            "epoch 223, loss 0.0015529184602200985\n",
            "epoch 224, loss 0.001715734601020813\n",
            "epoch 225, loss 0.001661232323385775\n",
            "epoch 226, loss 0.0014834118774160743\n",
            "epoch 227, loss 0.001575253321789205\n",
            "epoch 228, loss 0.0015640553319826722\n",
            "epoch 229, loss 0.0015277231577783823\n",
            "epoch 230, loss 0.0016145578119903803\n",
            "epoch 231, loss 0.0015744906850159168\n",
            "epoch 232, loss 0.0015441940631717443\n",
            "epoch 233, loss 0.0015533455880358815\n",
            "epoch 234, loss 0.0015093020629137754\n",
            "epoch 235, loss 0.0014606645563617349\n",
            "epoch 236, loss 0.0015826455783098936\n",
            "epoch 237, loss 0.001493500079959631\n",
            "epoch 238, loss 0.0014757829485461116\n",
            "epoch 239, loss 0.0015539227752014995\n",
            "epoch 240, loss 0.0015558747109025717, eval loss 0.005591547582298517\n",
            "epoch 241, loss 0.0015050445217639208\n",
            "epoch 242, loss 0.0015009413473308086\n",
            "epoch 243, loss 0.0014464178821071982\n",
            "epoch 244, loss 0.0015005143359303474\n",
            "epoch 245, loss 0.0014984243316575885\n",
            "epoch 246, loss 0.0015346897998824716\n",
            "epoch 247, loss 0.0016378461150452495\n",
            "epoch 248, loss 0.0014435647753998637\n",
            "epoch 249, loss 0.0014398019993677735\n",
            "epoch 250, loss 0.001480122678913176\n",
            "epoch 251, loss 0.0016453982098028064\n",
            "epoch 252, loss 0.0015552295371890068\n",
            "epoch 253, loss 0.001475892378948629\n",
            "epoch 254, loss 0.0016091633588075638\n",
            "epoch 255, loss 0.0014161220751702785\n",
            "epoch 256, loss 0.0016257698880508542\n",
            "epoch 257, loss 0.0014245586935430765\n",
            "epoch 258, loss 0.00164488994050771\n",
            "epoch 259, loss 0.001545561128295958\n",
            "epoch 260, loss 0.001451203366741538, eval loss 0.005509731825441122\n",
            "epoch 261, loss 0.0015958147123456001\n",
            "epoch 262, loss 0.001478073070757091\n",
            "epoch 263, loss 0.0014219715958461165\n",
            "epoch 264, loss 0.0015073256799951196\n",
            "epoch 265, loss 0.0015166334342211485\n",
            "epoch 266, loss 0.0015465884935110807\n",
            "epoch 267, loss 0.0016420993488281965\n",
            "epoch 268, loss 0.0015980280004441738\n",
            "epoch 269, loss 0.0014900839887559414\n",
            "epoch 270, loss 0.001436227117665112\n",
            "epoch 271, loss 0.0014273668639361858\n",
            "epoch 272, loss 0.0014738255413249135\n",
            "epoch 273, loss 0.001382757443934679\n",
            "epoch 274, loss 0.0014601247385144234\n",
            "epoch 275, loss 0.0014565530000254512\n",
            "epoch 276, loss 0.0014879547525197268\n",
            "epoch 277, loss 0.0014570850180462003\n",
            "epoch 278, loss 0.001529273926280439\n",
            "epoch 279, loss 0.0014152501244097948\n",
            "epoch 280, loss 0.0015134351560845971, eval loss 0.005109041463583708\n",
            "epoch 281, loss 0.0014472452457994223\n",
            "epoch 282, loss 0.001383693772368133\n",
            "epoch 283, loss 0.001286615151911974\n",
            "epoch 284, loss 0.001312074949964881\n",
            "epoch 285, loss 0.0015024455497041345\n",
            "epoch 286, loss 0.0016122208908200264\n",
            "epoch 287, loss 0.0014818889321759343\n",
            "epoch 288, loss 0.0014486867003142834\n",
            "epoch 289, loss 0.0013328318018466234\n",
            "epoch 290, loss 0.001410948927514255\n",
            "epoch 291, loss 0.0014276852598413825\n",
            "epoch 292, loss 0.00137790956068784\n",
            "epoch 293, loss 0.0015010649804025888\n",
            "epoch 294, loss 0.0013854748103767633\n",
            "epoch 295, loss 0.001435344573110342\n",
            "epoch 296, loss 0.0013963804813101888\n",
            "epoch 297, loss 0.0013723359443247318\n",
            "epoch 298, loss 0.001338306232355535\n",
            "epoch 299, loss 0.0014367129188030958\n"
          ]
        }
      ]
    },
    {
      "cell_type": "code",
      "source": [
        "rnn.out.weight"
      ],
      "metadata": {
        "colab": {
          "base_uri": "https://localhost:8080/"
        },
        "id": "gSYvEoNanCxp",
        "outputId": "c4aee0db-e7ce-4d8f-eaf7-e4f96e1babde"
      },
      "execution_count": null,
      "outputs": [
        {
          "output_type": "execute_result",
          "data": {
            "text/plain": [
              "Parameter containing:\n",
              "tensor([[-0.0897,  0.0736,  0.0712,  0.1162, -0.0368,  0.0204, -0.1132, -0.1108,\n",
              "          0.0952,  0.0194, -0.1193, -0.0042, -0.0542,  0.0043, -0.0185, -0.0830,\n",
              "         -0.0973, -0.1095,  0.0360, -0.0456, -0.0648, -0.0349,  0.0166, -0.0249,\n",
              "          0.0465,  0.0887,  0.0228,  0.0212,  0.0885,  0.0188,  0.0488,  0.0701,\n",
              "         -0.0498, -0.0205, -0.1098,  0.0391, -0.0987, -0.1028, -0.1124,  0.0485,\n",
              "          0.1036, -0.0396, -0.0996,  0.1097,  0.0862, -0.0753,  0.0558,  0.0537,\n",
              "          0.0033,  0.0795, -0.0011, -0.0810,  0.0519,  0.1310,  0.0950,  0.0302,\n",
              "          0.1034, -0.1138,  0.0254,  0.0404,  0.0871,  0.0836,  0.0955,  0.0043]],\n",
              "       device='cuda:0', requires_grad=True)"
            ]
          },
          "metadata": {},
          "execution_count": 15
        }
      ]
    },
    {
      "cell_type": "code",
      "source": [
        "for param in rnn.parameters():\n",
        "    print(param.data)"
      ],
      "metadata": {
        "colab": {
          "base_uri": "https://localhost:8080/"
        },
        "id": "UjG-XC6dnHwJ",
        "outputId": "a5e0f7e7-858b-440c-b7e5-0ff7f7dfd07b"
      },
      "execution_count": null,
      "outputs": [
        {
          "output_type": "stream",
          "name": "stdout",
          "text": [
            "tensor([[ 0.0038,  0.0394,  0.0316,  ..., -0.0437,  0.0185, -0.1271],\n",
            "        [-0.0577, -0.0555, -0.1028,  ...,  0.0816,  0.0427, -0.0684],\n",
            "        [-0.0387,  0.0366,  0.0726,  ..., -0.0765, -0.0352, -0.0724],\n",
            "        ...,\n",
            "        [-0.0306,  0.0038, -0.1065,  ...,  0.0638, -0.0388,  0.1379],\n",
            "        [ 0.1188, -0.0889, -0.0954,  ..., -0.0797, -0.0103,  0.1208],\n",
            "        [-0.0778, -0.1048,  0.1263,  ...,  0.0774, -0.0653,  0.1167]],\n",
            "       device='cuda:0')\n",
            "tensor([[ 0.1172,  0.0375,  0.0906,  ..., -0.0783, -0.0947, -0.0735],\n",
            "        [ 0.0171,  0.0085,  0.1056,  ..., -0.0005,  0.1290,  0.0456],\n",
            "        [-0.0072,  0.0163,  0.0811,  ..., -0.0012, -0.0283, -0.0270],\n",
            "        ...,\n",
            "        [-0.1341,  0.1052,  0.0045,  ...,  0.0115, -0.0999, -0.0136],\n",
            "        [-0.0786,  0.0888,  0.0127,  ...,  0.0226,  0.0703,  0.0943],\n",
            "        [ 0.0444, -0.0480, -0.1048,  ..., -0.0307, -0.0023, -0.0102]],\n",
            "       device='cuda:0')\n",
            "tensor([-0.0797,  0.0976, -0.0736,  0.0455, -0.0474,  0.0730,  0.0759,  0.1251,\n",
            "        -0.0832,  0.0546,  0.1462,  0.1402, -0.0392,  0.0307,  0.0301, -0.0238,\n",
            "        -0.1090,  0.0360, -0.0675, -0.0992, -0.0670, -0.1178, -0.0429, -0.0896,\n",
            "         0.0524,  0.0972, -0.1025, -0.0470, -0.0783, -0.0625,  0.0646, -0.0815,\n",
            "        -0.0806,  0.0990,  0.0135,  0.0637,  0.1021, -0.0677, -0.0747, -0.0674,\n",
            "        -0.0187,  0.1165,  0.0266,  0.0547, -0.0846, -0.1250, -0.0488, -0.0456,\n",
            "         0.0149, -0.0956, -0.1165, -0.0476, -0.0922,  0.0742,  0.0284, -0.0458,\n",
            "        -0.0913, -0.0458,  0.0252,  0.0461, -0.0700,  0.0042, -0.0042, -0.0584,\n",
            "        -0.0151, -0.0614, -0.0619, -0.0214, -0.0783,  0.1214,  0.0173, -0.0693,\n",
            "        -0.0906,  0.0159, -0.0616,  0.0352, -0.0909,  0.0823,  0.0415,  0.1003,\n",
            "         0.0879, -0.0014, -0.0412,  0.0290, -0.0582,  0.0581, -0.0212,  0.1258,\n",
            "         0.0184,  0.0486,  0.0416, -0.0669,  0.0813,  0.1237,  0.0321,  0.0116,\n",
            "        -0.1306,  0.0311,  0.0220,  0.0192,  0.1246, -0.0425, -0.0807,  0.0512,\n",
            "        -0.0594,  0.0211,  0.0318, -0.0009, -0.0244,  0.0324,  0.0951,  0.1123,\n",
            "        -0.1039, -0.0978, -0.0599,  0.1227, -0.0055, -0.1001,  0.1294,  0.0514,\n",
            "         0.0602,  0.1185, -0.0096,  0.1067,  0.0375,  0.0125, -0.0067, -0.0466,\n",
            "         0.0612,  0.0737, -0.0105,  0.0026,  0.1096,  0.0191, -0.0052,  0.0334,\n",
            "         0.0441, -0.1112, -0.0286,  0.0760,  0.0800, -0.0780,  0.0357, -0.1117,\n",
            "        -0.0526, -0.0233,  0.0209,  0.0550,  0.0811,  0.0500, -0.0549,  0.0465,\n",
            "        -0.0374,  0.0314,  0.0343,  0.0691,  0.1210,  0.0861,  0.1301, -0.0572,\n",
            "         0.1069,  0.0491, -0.0573,  0.0821, -0.0107, -0.0764, -0.0019, -0.0400,\n",
            "         0.1117,  0.0809,  0.0340,  0.0232, -0.0555, -0.0808,  0.0664, -0.0411,\n",
            "         0.0740, -0.0558,  0.0826,  0.1048, -0.0984,  0.0675, -0.0049,  0.1004,\n",
            "         0.0578, -0.0740, -0.0304,  0.1009, -0.0707, -0.1164, -0.0421, -0.0208,\n",
            "         0.1193,  0.1359, -0.0073,  0.0525, -0.0348,  0.0470, -0.0208, -0.0693,\n",
            "         0.0310, -0.0341,  0.0989, -0.0790, -0.0732,  0.0888,  0.0878,  0.0225,\n",
            "         0.0834,  0.0465, -0.0487,  0.0520,  0.1094,  0.1125,  0.0085,  0.1087,\n",
            "         0.0553,  0.1019,  0.1385, -0.0605, -0.0167,  0.0588,  0.0008, -0.0874,\n",
            "        -0.0703,  0.0837, -0.0758,  0.1337, -0.0819,  0.1131, -0.0295,  0.0508,\n",
            "         0.0918,  0.1158, -0.0478, -0.0567,  0.0541, -0.1140, -0.0393,  0.0634,\n",
            "        -0.0540,  0.0426,  0.0185, -0.0073,  0.0353,  0.0819,  0.0045, -0.0887,\n",
            "         0.1221,  0.0047,  0.0636, -0.1183,  0.0059, -0.0063,  0.0292,  0.0925],\n",
            "       device='cuda:0')\n",
            "tensor([-0.0974,  0.0255,  0.1398,  0.0006,  0.0302,  0.0262,  0.0303,  0.0187,\n",
            "         0.0266, -0.1089,  0.0337, -0.0797, -0.0208,  0.1307,  0.0213,  0.0894,\n",
            "        -0.0355,  0.0820,  0.0860, -0.0432,  0.0440, -0.0340,  0.0732, -0.0977,\n",
            "         0.0754, -0.0540,  0.0589,  0.1036,  0.0271, -0.1241,  0.1316,  0.0119,\n",
            "        -0.0015,  0.0074, -0.1232,  0.0097,  0.0538,  0.0244,  0.0640, -0.0301,\n",
            "        -0.0866, -0.0497,  0.0566,  0.0220,  0.0552, -0.0697, -0.0064, -0.0878,\n",
            "         0.0229, -0.0686,  0.1091,  0.1160,  0.1335,  0.0296,  0.1362,  0.0925,\n",
            "         0.0121,  0.0748, -0.0250,  0.0996,  0.0434,  0.0235,  0.0083, -0.0400,\n",
            "         0.0569,  0.1145, -0.0631, -0.0892, -0.0687, -0.0225, -0.0664,  0.0925,\n",
            "        -0.0362, -0.0192, -0.0085, -0.0938,  0.1042, -0.0882,  0.0816, -0.0769,\n",
            "        -0.1232, -0.0029, -0.0661, -0.0654, -0.0549, -0.0860,  0.0633,  0.0325,\n",
            "         0.0782,  0.0542, -0.0840,  0.0998,  0.1063,  0.0850, -0.0727, -0.0297,\n",
            "         0.0376, -0.0118,  0.0196,  0.0248,  0.0060, -0.1132,  0.0262,  0.0534,\n",
            "        -0.0466, -0.1159, -0.0507,  0.0797,  0.0293,  0.0544, -0.1409,  0.1237,\n",
            "         0.0196,  0.1310, -0.0755,  0.0435,  0.0620, -0.0672,  0.1264, -0.0096,\n",
            "         0.0977,  0.0812, -0.1004, -0.0727, -0.1016,  0.0714,  0.0770,  0.0678,\n",
            "         0.1027,  0.0769,  0.1272, -0.0845, -0.1229,  0.0444, -0.0220, -0.0973,\n",
            "        -0.0159,  0.0305, -0.0870, -0.1301,  0.1111,  0.0299,  0.0915, -0.1103,\n",
            "        -0.0095,  0.1128,  0.1149, -0.0561, -0.0336,  0.0991, -0.0211,  0.0535,\n",
            "         0.1061,  0.0658, -0.0311, -0.0887,  0.1146,  0.0797,  0.0152, -0.0229,\n",
            "         0.0125,  0.1175,  0.0063,  0.0630, -0.0289, -0.0272, -0.1128, -0.0623,\n",
            "        -0.0461, -0.0180, -0.0205,  0.0548,  0.1453, -0.0640,  0.0102, -0.0458,\n",
            "        -0.0435,  0.0704,  0.0857,  0.0732, -0.0275, -0.1099,  0.1355, -0.0487,\n",
            "         0.0157,  0.0532,  0.0507,  0.0835, -0.1220,  0.0868,  0.1246, -0.0249,\n",
            "         0.0931,  0.0101,  0.0898,  0.0564,  0.1449,  0.1281, -0.0959,  0.1128,\n",
            "         0.0533,  0.0641,  0.0341,  0.1242,  0.0766, -0.1104,  0.0547,  0.0068,\n",
            "         0.0890,  0.0683,  0.0390,  0.0172,  0.0095, -0.0350,  0.0963, -0.0513,\n",
            "         0.1184,  0.0885,  0.0944,  0.1257, -0.1031,  0.0333, -0.0342, -0.0705,\n",
            "        -0.0445,  0.0601, -0.0994, -0.0411, -0.0553, -0.0589,  0.0185, -0.0856,\n",
            "         0.1211,  0.0310, -0.0656,  0.0071,  0.0159,  0.0479, -0.0857,  0.0691,\n",
            "        -0.0335, -0.0968,  0.0329,  0.1049, -0.0719,  0.0758,  0.0362, -0.0022,\n",
            "         0.0994,  0.0545,  0.0061, -0.1228,  0.0687,  0.1067,  0.0897, -0.0365],\n",
            "       device='cuda:0')\n",
            "tensor([[ 0.0133,  0.0787, -0.0910,  ...,  0.0933,  0.0004,  0.1628],\n",
            "        [-0.1197, -0.0643, -0.0858,  ..., -0.0425,  0.0399,  0.1380],\n",
            "        [ 0.0494, -0.0621, -0.1192,  ...,  0.0473,  0.0396,  0.0243],\n",
            "        ...,\n",
            "        [ 0.0425, -0.0741,  0.1246,  ..., -0.0994, -0.0721,  0.0209],\n",
            "        [-0.0417,  0.0272,  0.1063,  ..., -0.0917, -0.1198,  0.0517],\n",
            "        [-0.0924,  0.0377, -0.0194,  ..., -0.0791, -0.1008,  0.0122]],\n",
            "       device='cuda:0')\n",
            "tensor([[ 0.1560,  0.0529,  0.0979,  ..., -0.1157, -0.0222,  0.0121],\n",
            "        [-0.0210,  0.1120,  0.0044,  ...,  0.0367,  0.0260,  0.0045],\n",
            "        [ 0.0740,  0.0983, -0.0979,  ..., -0.1152,  0.0787, -0.0206],\n",
            "        ...,\n",
            "        [ 0.0118, -0.0963, -0.1084,  ..., -0.0987, -0.1112, -0.0668],\n",
            "        [-0.0571, -0.1158, -0.0426,  ..., -0.0771, -0.0707, -0.0307],\n",
            "        [ 0.0009, -0.1062, -0.0481,  ..., -0.0630, -0.0195, -0.0208]],\n",
            "       device='cuda:0')\n",
            "tensor([-0.0057, -0.0020,  0.0452,  0.0788, -0.1166, -0.0025,  0.0189, -0.0101,\n",
            "        -0.1185, -0.0302, -0.0487, -0.0056,  0.0044,  0.0231, -0.0740, -0.0672,\n",
            "        -0.0445, -0.0035,  0.1315,  0.1274, -0.0065,  0.0049, -0.0215,  0.1159,\n",
            "        -0.0207,  0.0427, -0.0381,  0.1286,  0.0879,  0.0308, -0.0049,  0.1296,\n",
            "        -0.0437,  0.0239, -0.0863, -0.0687,  0.0926, -0.0128,  0.1298, -0.0296,\n",
            "        -0.0490, -0.0813, -0.1314, -0.0595, -0.0139, -0.1288,  0.0008, -0.0703,\n",
            "         0.0452, -0.0680, -0.0421,  0.0842, -0.0711,  0.0315,  0.0385,  0.0268,\n",
            "        -0.0042,  0.0248,  0.1194, -0.0433, -0.0041,  0.0365, -0.0078, -0.0393,\n",
            "         0.0941,  0.0964, -0.0677,  0.0284, -0.0399, -0.0525,  0.0095, -0.0236,\n",
            "         0.1027,  0.0437, -0.0254,  0.0346, -0.1184, -0.0729, -0.0209,  0.0157,\n",
            "         0.0999,  0.1221,  0.0185,  0.0176, -0.0710,  0.0789, -0.0990, -0.0879,\n",
            "         0.0356,  0.0232, -0.0379, -0.0386,  0.0976,  0.0612,  0.1294,  0.0827,\n",
            "         0.0205,  0.0254, -0.0553, -0.0826, -0.0886,  0.0022, -0.0371,  0.0010,\n",
            "         0.0861, -0.0211,  0.0533,  0.0325, -0.0358,  0.0979,  0.0568,  0.0823,\n",
            "        -0.0706, -0.0819, -0.0804,  0.0119,  0.0152,  0.1076, -0.1301,  0.0499,\n",
            "         0.0067,  0.0282,  0.0669,  0.0637,  0.0745,  0.0285, -0.0551,  0.0454,\n",
            "        -0.0559,  0.0162,  0.0474,  0.1041,  0.0569, -0.0393,  0.0428, -0.0630,\n",
            "         0.0536, -0.0422, -0.1065,  0.0596,  0.1167,  0.0425, -0.0238,  0.0028,\n",
            "        -0.0291, -0.0508,  0.0643,  0.0173, -0.0488,  0.1184, -0.0936, -0.0305,\n",
            "         0.0455, -0.1192, -0.0395,  0.1243, -0.0358,  0.0619, -0.1014,  0.0009,\n",
            "        -0.1360, -0.0620, -0.0812,  0.0163, -0.0305, -0.0480, -0.1124, -0.0866,\n",
            "         0.0994, -0.0915, -0.0832,  0.0569, -0.0987,  0.0905, -0.0637,  0.0615,\n",
            "         0.0426, -0.1242, -0.0019,  0.1015, -0.0165,  0.0726,  0.0945, -0.1212,\n",
            "         0.0691, -0.0436,  0.0676, -0.0426,  0.1188,  0.0839, -0.0345,  0.0648,\n",
            "        -0.0391, -0.0405,  0.0271,  0.1288,  0.1032, -0.0865,  0.1037, -0.0574,\n",
            "        -0.0581,  0.1270,  0.0995, -0.0053,  0.1181,  0.1133,  0.0116,  0.0625,\n",
            "        -0.0798, -0.1049, -0.0439, -0.1094,  0.0502, -0.0164, -0.0182,  0.0070,\n",
            "         0.0251,  0.1205,  0.0396, -0.1086,  0.0898, -0.0378,  0.0076,  0.1020,\n",
            "        -0.0358, -0.0941, -0.0857,  0.0598, -0.1000, -0.0084, -0.0495,  0.0537,\n",
            "        -0.0588, -0.1025,  0.0828, -0.0129, -0.0271, -0.1220,  0.0469,  0.0466,\n",
            "        -0.0108, -0.0273, -0.1026,  0.1076,  0.0225,  0.0767, -0.0006, -0.0209,\n",
            "         0.0955, -0.0665, -0.0790,  0.0759, -0.0131, -0.0265, -0.0623, -0.0051],\n",
            "       device='cuda:0')\n",
            "tensor([ 0.1562, -0.0940, -0.1101, -0.0692, -0.0196,  0.0401,  0.0350, -0.0777,\n",
            "         0.0185, -0.0715,  0.0855, -0.1101,  0.0400, -0.0007, -0.1110,  0.1005,\n",
            "        -0.0058, -0.0566,  0.0424, -0.0318,  0.0067,  0.1116,  0.0066, -0.0975,\n",
            "         0.0246, -0.0042, -0.0538, -0.0704, -0.0039,  0.0799,  0.0916,  0.1425,\n",
            "        -0.1112, -0.0849, -0.0676,  0.0522, -0.0603, -0.0215,  0.0506,  0.0526,\n",
            "         0.0418,  0.0737, -0.1315,  0.0899, -0.1124,  0.0531,  0.0773, -0.0259,\n",
            "         0.0979, -0.0324, -0.0785, -0.0950,  0.0816, -0.0286, -0.1186,  0.0954,\n",
            "         0.0189, -0.0273,  0.0906,  0.0329,  0.0189,  0.0284, -0.0135,  0.0569,\n",
            "         0.0027,  0.0123, -0.0805,  0.0222,  0.0832, -0.0494,  0.0054,  0.1041,\n",
            "         0.0440,  0.0140,  0.0722, -0.1021,  0.0583,  0.1035, -0.0095,  0.0394,\n",
            "         0.0051,  0.1232,  0.0025, -0.0731,  0.1277,  0.0898,  0.0710,  0.0401,\n",
            "        -0.0681,  0.1036, -0.0861,  0.0713,  0.0342, -0.0047, -0.0592, -0.0439,\n",
            "         0.0115,  0.0778,  0.0194, -0.0931, -0.0408,  0.0534,  0.0230, -0.0890,\n",
            "         0.0508, -0.1144,  0.0836,  0.0463,  0.0241,  0.0493, -0.0533,  0.0028,\n",
            "        -0.0814, -0.0631,  0.0206, -0.0492,  0.0658, -0.0247, -0.1358,  0.0115,\n",
            "         0.1437,  0.0990,  0.0264,  0.0849, -0.1189, -0.1147,  0.0988,  0.0894,\n",
            "        -0.0358, -0.0350, -0.0771,  0.0007,  0.0319, -0.0466,  0.0897,  0.1081,\n",
            "         0.0790,  0.0790,  0.0016,  0.0043, -0.0014,  0.1076, -0.0708,  0.0790,\n",
            "         0.0658, -0.0201, -0.0889,  0.1074,  0.0954,  0.0632, -0.0933,  0.0679,\n",
            "         0.0922,  0.0110, -0.1269, -0.0309,  0.0251, -0.1279,  0.0458, -0.0511,\n",
            "         0.0728, -0.0225, -0.1113, -0.0806, -0.0286,  0.0493, -0.0280,  0.0166,\n",
            "         0.0216, -0.0661,  0.0510,  0.0193, -0.0815, -0.0641, -0.0859, -0.0232,\n",
            "         0.0912, -0.1038, -0.0801,  0.1128, -0.0986, -0.0913,  0.0469, -0.0854,\n",
            "        -0.1294,  0.1140, -0.0142,  0.0250,  0.1059, -0.0444,  0.0304,  0.0664,\n",
            "        -0.0584,  0.0916, -0.0987,  0.0017,  0.1221,  0.1097, -0.0118,  0.0948,\n",
            "         0.0741,  0.1261, -0.0107, -0.0735, -0.1034,  0.0823,  0.0869,  0.1038,\n",
            "        -0.0954,  0.0311, -0.0587,  0.0696,  0.0284, -0.1285,  0.0107,  0.1049,\n",
            "         0.0188,  0.0889,  0.0695, -0.0718,  0.0493,  0.0322,  0.0156, -0.0457,\n",
            "        -0.0980, -0.0856,  0.0607,  0.0572,  0.0430, -0.0410, -0.0844, -0.0578,\n",
            "         0.0991,  0.0960, -0.0881, -0.0031, -0.0220, -0.0285,  0.0998, -0.0895,\n",
            "        -0.0039, -0.0890, -0.0573,  0.0782,  0.0753,  0.1058, -0.0714, -0.0049,\n",
            "         0.0158,  0.0234,  0.0905, -0.0997,  0.1239,  0.0396,  0.0465, -0.0713],\n",
            "       device='cuda:0')\n",
            "tensor([[ 0.1364,  0.0367, -0.0574,  ...,  0.0342, -0.0293,  0.0848],\n",
            "        [ 0.0325,  0.0490,  0.0115,  ...,  0.0412,  0.0092, -0.0241],\n",
            "        [-0.0772,  0.1030, -0.0197,  ...,  0.0198,  0.0955, -0.0033],\n",
            "        ...,\n",
            "        [ 0.1019,  0.0131, -0.0578,  ...,  0.0332,  0.0072, -0.0231],\n",
            "        [-0.0082,  0.0683,  0.0117,  ...,  0.0365,  0.0305, -0.0415],\n",
            "        [ 0.0761,  0.1121, -0.1368,  ..., -0.1308,  0.0784, -0.1067]],\n",
            "       device='cuda:0')\n",
            "tensor([[ 0.0396,  0.0775,  0.0505,  ..., -0.1223,  0.1000, -0.0664],\n",
            "        [-0.0160,  0.0067,  0.0137,  ...,  0.0634,  0.0390, -0.0428],\n",
            "        [ 0.0984,  0.0055, -0.0910,  ...,  0.0863, -0.0391,  0.1173],\n",
            "        ...,\n",
            "        [-0.0697,  0.0087,  0.0713,  ..., -0.0158, -0.0781, -0.0707],\n",
            "        [ 0.0962,  0.0488,  0.0716,  ...,  0.0380,  0.0269, -0.0800],\n",
            "        [-0.1067,  0.0923, -0.1246,  ...,  0.0242,  0.0769, -0.1167]],\n",
            "       device='cuda:0')\n",
            "tensor([-0.0852,  0.0679,  0.0190, -0.0013, -0.1050,  0.0697,  0.0193,  0.0524,\n",
            "        -0.0808,  0.0513, -0.0680, -0.1199, -0.0324, -0.0480,  0.0491, -0.1259,\n",
            "         0.1034, -0.0278, -0.0926,  0.0688, -0.0326,  0.0913, -0.1151,  0.0761,\n",
            "        -0.0127, -0.0995, -0.0137,  0.0005,  0.0941,  0.0444, -0.0969,  0.0960,\n",
            "        -0.0706,  0.0400, -0.0720, -0.0896,  0.0357, -0.1276, -0.0944,  0.0072,\n",
            "         0.1088, -0.0441, -0.1011, -0.0234,  0.1244, -0.1271, -0.1071, -0.0405,\n",
            "         0.0171,  0.0245, -0.0237, -0.0694,  0.1141,  0.0459,  0.0947,  0.0642,\n",
            "        -0.1046,  0.1131, -0.0270, -0.0481, -0.1226,  0.0094, -0.1183,  0.0998,\n",
            "        -0.0144, -0.0387, -0.0296, -0.0938, -0.0363,  0.0735,  0.0737, -0.1013,\n",
            "        -0.0699,  0.0072,  0.1314, -0.0867,  0.0197,  0.0916, -0.1051, -0.1039,\n",
            "        -0.0213,  0.0746,  0.0687, -0.1025, -0.0707,  0.0549, -0.0061, -0.0948,\n",
            "        -0.0429, -0.0065,  0.0913, -0.0108,  0.1007,  0.0323, -0.0758,  0.1194,\n",
            "         0.0504, -0.0767,  0.1078,  0.0175, -0.0134, -0.1131, -0.0661, -0.0232,\n",
            "         0.1109, -0.0649, -0.0435, -0.1159, -0.0464,  0.0911, -0.0865,  0.0152,\n",
            "        -0.0483,  0.1100, -0.0710,  0.0267, -0.0695,  0.0098, -0.0163,  0.0725,\n",
            "        -0.0178, -0.0550, -0.0170,  0.0478,  0.1107,  0.1121,  0.0987, -0.1025,\n",
            "        -0.0549, -0.0064,  0.0374, -0.0363, -0.0189, -0.0523, -0.0254, -0.0812,\n",
            "        -0.0753,  0.0984, -0.0071, -0.0290,  0.0116, -0.0275,  0.0427,  0.0109,\n",
            "         0.0347,  0.0380, -0.0867,  0.0834, -0.0738,  0.0135, -0.0220,  0.0810,\n",
            "         0.0801,  0.0204, -0.0677, -0.0992, -0.1084, -0.0647,  0.0971,  0.1189,\n",
            "         0.0674,  0.0957,  0.1025, -0.0455, -0.1129,  0.0861,  0.0428,  0.0628,\n",
            "        -0.0559, -0.0499, -0.0155, -0.0805, -0.0118,  0.0679, -0.0710,  0.0204,\n",
            "         0.0310,  0.0986, -0.0215,  0.0201,  0.0879,  0.0960, -0.1012, -0.0682,\n",
            "        -0.1174, -0.0960,  0.0514, -0.0035, -0.0688,  0.0463, -0.0828,  0.0626,\n",
            "        -0.0725, -0.0088,  0.0731,  0.0934,  0.1164,  0.0171,  0.0531, -0.1100,\n",
            "         0.1017, -0.1010, -0.0513, -0.1128,  0.0623, -0.0950,  0.0979, -0.0230,\n",
            "         0.0254, -0.0178, -0.0420, -0.1095,  0.0760, -0.0949, -0.1235,  0.0989,\n",
            "        -0.0872, -0.0896,  0.0862,  0.0785, -0.1065, -0.0677,  0.1005,  0.0403,\n",
            "         0.0426, -0.0934, -0.0080,  0.0733,  0.0618, -0.1249, -0.0481, -0.0415,\n",
            "        -0.1154,  0.1048,  0.0131, -0.1177, -0.1004, -0.0931,  0.0113,  0.0569,\n",
            "        -0.1261,  0.1236, -0.0829,  0.0061, -0.0768,  0.0256,  0.0420,  0.0900,\n",
            "         0.1358, -0.0322, -0.0363,  0.0453, -0.0221, -0.0220, -0.0610, -0.0847],\n",
            "       device='cuda:0')\n",
            "tensor([ 0.0629, -0.0612,  0.0257,  0.0307,  0.0083,  0.0544,  0.1009, -0.0655,\n",
            "        -0.1253, -0.0552, -0.1149,  0.0852,  0.0265, -0.0645, -0.1322, -0.0703,\n",
            "        -0.0836,  0.0619, -0.0608,  0.0633,  0.1027,  0.0466, -0.0704, -0.1198,\n",
            "         0.0696, -0.0166, -0.1328,  0.0311,  0.0921, -0.1174,  0.0817, -0.1041,\n",
            "        -0.0965, -0.0070, -0.0930, -0.0321, -0.0490,  0.1025, -0.0927,  0.0947,\n",
            "        -0.1221,  0.0205, -0.1068,  0.0569,  0.0977, -0.1208,  0.0003, -0.1058,\n",
            "        -0.1372, -0.1036, -0.0305,  0.0558,  0.1160,  0.0011, -0.0005, -0.0341,\n",
            "        -0.0689, -0.0168,  0.0372, -0.0982, -0.1118,  0.1151, -0.0093, -0.1293,\n",
            "         0.1225, -0.1048,  0.0188, -0.0760,  0.0732,  0.0765,  0.0997,  0.1092,\n",
            "        -0.0238, -0.0658,  0.0197, -0.1012,  0.0571,  0.0359,  0.0319,  0.0743,\n",
            "        -0.0303,  0.0003, -0.0920, -0.0881,  0.0234,  0.0856,  0.0537,  0.0900,\n",
            "        -0.0044,  0.0694, -0.0608, -0.0196,  0.1026, -0.0885, -0.0291, -0.0441,\n",
            "        -0.0480,  0.0715, -0.0405, -0.1320,  0.1243, -0.0546,  0.0595, -0.1100,\n",
            "        -0.1069,  0.0219, -0.0923,  0.0131, -0.0687, -0.1127,  0.0751, -0.1215,\n",
            "        -0.0965, -0.0945, -0.0409,  0.0645,  0.1129, -0.0860, -0.0397,  0.0415,\n",
            "         0.0130, -0.0481, -0.0977, -0.1015, -0.0598, -0.0680,  0.0735, -0.0723,\n",
            "        -0.1003, -0.0379,  0.0146,  0.1034, -0.0466, -0.0519,  0.0281,  0.0204,\n",
            "        -0.0251, -0.0742, -0.0260, -0.0326, -0.0919, -0.0286,  0.0602,  0.0389,\n",
            "        -0.1052,  0.0929, -0.0216, -0.0041,  0.1000, -0.0330,  0.1138, -0.0113,\n",
            "         0.0332,  0.0640,  0.0645,  0.0122, -0.0600, -0.0267,  0.0444,  0.0085,\n",
            "        -0.1092,  0.0747,  0.0187,  0.0377,  0.0725,  0.0055,  0.0924,  0.0482,\n",
            "         0.0502,  0.0604,  0.0308, -0.0633,  0.0648,  0.0853, -0.0798,  0.0480,\n",
            "        -0.0603,  0.0514,  0.0246, -0.0483,  0.0468,  0.1017,  0.0029,  0.1168,\n",
            "         0.0648, -0.0390, -0.0683,  0.0386, -0.0489, -0.0804,  0.0319, -0.0986,\n",
            "         0.0786, -0.0777,  0.1096, -0.1065,  0.0568,  0.0211,  0.0094,  0.1220,\n",
            "         0.0456, -0.0790,  0.0713, -0.1092, -0.0529, -0.0266,  0.0957,  0.1168,\n",
            "         0.0481, -0.0302, -0.0762,  0.1148,  0.0847,  0.0706, -0.0645,  0.0694,\n",
            "        -0.0956,  0.0439, -0.0216, -0.1341, -0.0475, -0.0744,  0.0249, -0.0329,\n",
            "         0.0161, -0.0927, -0.0447, -0.1023, -0.0319,  0.0285,  0.1119,  0.0145,\n",
            "        -0.0536, -0.0309,  0.0921,  0.0468, -0.0703,  0.0139, -0.0174, -0.0094,\n",
            "         0.0154,  0.0332,  0.0558,  0.0221, -0.0917, -0.0101, -0.0125,  0.0685,\n",
            "         0.0025, -0.0985,  0.0110, -0.1000, -0.0484, -0.0969,  0.0144, -0.0835],\n",
            "       device='cuda:0')\n",
            "tensor([[-0.0897,  0.0736,  0.0712,  0.1162, -0.0368,  0.0204, -0.1132, -0.1108,\n",
            "          0.0952,  0.0194, -0.1193, -0.0042, -0.0542,  0.0043, -0.0185, -0.0830,\n",
            "         -0.0973, -0.1095,  0.0360, -0.0456, -0.0648, -0.0349,  0.0166, -0.0249,\n",
            "          0.0465,  0.0887,  0.0228,  0.0212,  0.0885,  0.0188,  0.0488,  0.0701,\n",
            "         -0.0498, -0.0205, -0.1098,  0.0391, -0.0987, -0.1028, -0.1124,  0.0485,\n",
            "          0.1036, -0.0396, -0.0996,  0.1097,  0.0862, -0.0753,  0.0558,  0.0537,\n",
            "          0.0033,  0.0795, -0.0011, -0.0810,  0.0519,  0.1310,  0.0950,  0.0302,\n",
            "          0.1034, -0.1138,  0.0254,  0.0404,  0.0871,  0.0836,  0.0955,  0.0043]],\n",
            "       device='cuda:0')\n",
            "tensor([0.0964], device='cuda:0')\n"
          ]
        }
      ]
    },
    {
      "cell_type": "markdown",
      "source": [
        "## Step 5: Checking model performance"
      ],
      "metadata": {
        "id": "8DVRll3_nN_k"
      }
    },
    {
      "cell_type": "markdown",
      "source": [
        "With our model fit we can now make predictions on both our training and testing sets."
      ],
      "metadata": {
        "id": "RgibWaMbnPiM"
      }
    },
    {
      "cell_type": "code",
      "source": [
        "plt.plot(history)\n",
        "# dplt.plot(history.history['val_loss'])"
      ],
      "metadata": {
        "colab": {
          "base_uri": "https://localhost:8080/",
          "height": 448
        },
        "id": "5NEOeAGUnS9W",
        "outputId": "352788ed-0a08-4ee7-ab8b-0c71846b5555"
      },
      "execution_count": null,
      "outputs": [
        {
          "output_type": "execute_result",
          "data": {
            "text/plain": [
              "[<matplotlib.lines.Line2D at 0x7a57b3693520>]"
            ]
          },
          "metadata": {},
          "execution_count": 17
        },
        {
          "output_type": "display_data",
          "data": {
            "text/plain": [
              "<Figure size 640x480 with 1 Axes>"
            ],
            "image/png": "[encoded data removed]"
          },
          "metadata": {}
        }
      ]
    },
    {
      "cell_type": "code",
      "source": [
        "X_test[0]"
      ],
      "metadata": {
        "colab": {
          "base_uri": "https://localhost:8080/"
        },
        "id": "uCi0lquqnp-t",
        "outputId": "5dc62766-add2-4f37-fcfa-11770d148d83"
      },
      "execution_count": null,
      "outputs": [
        {
          "output_type": "execute_result",
          "data": {
            "text/plain": [
              "array([[0.75733001, 0.74433354, 0.74433354, 0.73778332, 0.74246205,\n",
              "        0.74069453, 0.74474943]])"
            ]
          },
          "metadata": {},
          "execution_count": 18
        }
      ]
    },
    {
      "cell_type": "code",
      "source": [
        "# X_train_X_test = np.concatenate((X_train, X_test),axis=0)\n",
        "# hidden_state = None\n",
        "rnn.eval()\n",
        "# test_inputs = torch.tensor(X_test).float().cuda()\n",
        "test_predict, _ = rnn(X_test_cuda, hidden_state)\n",
        "test_predict_cpu = test_predict.cpu().detach().numpy()"
      ],
      "metadata": {
        "id": "6N2VWYr2oTMC"
      },
      "execution_count": null,
      "outputs": []
    },
    {
      "cell_type": "code",
      "source": [
        "test_predict_cpu.shape"
      ],
      "metadata": {
        "colab": {
          "base_uri": "https://localhost:8080/"
        },
        "id": "Xctz3zuAoVPG",
        "outputId": "69ba32c3-2461-466f-d9d4-a7d399c69019"
      },
      "execution_count": null,
      "outputs": [
        {
          "output_type": "execute_result",
          "data": {
            "text/plain": [
              "(251, 1, 1)"
            ]
          },
          "metadata": {},
          "execution_count": 20
        }
      ]
    },
    {
      "cell_type": "code",
      "source": [
        "plt.plot(sc.inverse_transform(y_test.reshape(-1,1)))\n",
        "plt.plot(sc.inverse_transform(test_predict_cpu.reshape(-1,1)))"
      ],
      "metadata": {
        "id": "vySZcJgEoXmQ",
        "outputId": "0697d340-b65c-4810-9013-6b69dfd5335c",
        "colab": {
          "base_uri": "https://localhost:8080/",
          "height": 451
        }
      },
      "execution_count": null,
      "outputs": [
        {
          "output_type": "execute_result",
          "data": {
            "text/plain": [
              "[<matplotlib.lines.Line2D at 0x7a57aa4eba90>]"
            ]
          },
          "metadata": {},
          "execution_count": 21
        },
        {
          "output_type": "display_data",
          "data": {
            "text/plain": [
              "<Figure size 640x480 with 1 Axes>"
            ],
            "image/png": "[encoded data removed]"
          },
          "metadata": {}
        }
      ]
    },
    {
      "cell_type": "code",
      "source": [
        "# plot original data\n",
        "plt.plot(sc.inverse_transform(y.reshape(-1,1)), color='k')\n",
        "\n",
        "# train_inputs = torch.tensor(X_train).float().cuda()\n",
        "train_pred, hidden_state = rnn(inputs_cuda, None)\n",
        "train_pred_cpu = train_pred.cpu().detach().numpy()\n",
        "\n",
        "# use hidden state from previous training data\n",
        "test_predict, _ = rnn(X_test_cuda, hidden_state)\n",
        "test_predict_cpu = test_predict.cpu().detach().numpy()\n",
        "\n",
        "# plt.plot(scl.inverse_transform(y_test.reshape(-1,1)))\n",
        "split_pt = int(X.shape[0] * 0.80) + 7 # window_size\n",
        "plt.plot(np.arange(7, split_pt, 1), sc.inverse_transform(train_pred_cpu.reshape(-1,1)), color='b')\n",
        "plt.plot(np.arange(split_pt, split_pt + len(test_predict_cpu), 1), sc.inverse_transform(test_predict_cpu.reshape(-1,1)), color='r')\n",
        "\n",
        "# pretty up graph\n",
        "plt.xlabel('day')\n",
        "plt.ylabel('price of MMM stock')\n",
        "plt.legend(['original series','training fit','testing fit'], loc='center left', bbox_to_anchor=(1, 0.5))\n",
        "plt.show()\n"
      ],
      "metadata": {
        "id": "vOTe4VuboYiQ",
        "outputId": "c8126fac-9a08-4036-8cbc-51b97c4a8a07",
        "colab": {
          "base_uri": "https://localhost:8080/",
          "height": 451
        }
      },
      "execution_count": null,
      "outputs": [
        {
          "output_type": "display_data",
          "data": {
            "text/plain": [
              "<Figure size 640x480 with 1 Axes>"
            ],
            "image/png": "[encoded data removed]"
          },
          "metadata": {}
        }
      ]
    }
  ]
}